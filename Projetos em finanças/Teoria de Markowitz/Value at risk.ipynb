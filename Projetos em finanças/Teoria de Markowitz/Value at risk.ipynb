{
 "cells": [
  {
   "cell_type": "code",
   "execution_count": 1,
   "id": "a00153a9",
   "metadata": {},
   "outputs": [],
   "source": [
    "import numpy as np\n",
    "import pandas as pd\n",
    "import matplotlib.pyplot as plt\n",
    "import statistics\n",
    "from scipy.stats import norm"
   ]
  },
  {
   "attachments": {},
   "cell_type": "markdown",
   "id": "bae8889b",
   "metadata": {},
   "source": [
    "# Value at Risk \n",
    "Aqui faremos o VAR, diário e quinzenal, da petrobras usando os valores de abertura da empresa de 10/2014 até 12/2020.\n",
    " \n",
    "Usaremos 2 métodos:  \n",
    "Método da série histórica, usa puramente a série histórica e não faz mais nenhuma suposição sobre os retornos.  \n",
    "Método da variância, usaremos a série histórica para pegarmos a média e a variância dos retornos, com isso construiremos uma normal, e iremos \n",
    "inferir o VAR supondo que os retornos se dão por essa distribuição.\n",
    "\n",
    "Dados retirados de https://www.kaggle.com/datasets/felsal/ibovespa-stocks"
   ]
  },
  {
   "attachments": {},
   "cell_type": "markdown",
   "id": "4ddcef56",
   "metadata": {},
   "source": [
    "## Método da série histórica"
   ]
  },
  {
   "cell_type": "code",
   "execution_count": 2,
   "id": "137c5c4d",
   "metadata": {},
   "outputs": [],
   "source": [
    "dados = pd.read_csv('b3.csv')"
   ]
  },
  {
   "cell_type": "code",
   "execution_count": 3,
   "id": "d9770e21",
   "metadata": {},
   "outputs": [],
   "source": [
    "petro = dados[dados['ticker'] == 'PETR4']\n",
    "petro = petro[4100:6400]  # Selecionando a faixa de tempo 10/2014 até 12/2020"
   ]
  },
  {
   "cell_type": "code",
   "execution_count": 4,
   "id": "15707a49",
   "metadata": {},
   "outputs": [
    {
     "data": {
      "text/html": [
       "<div>\n",
       "<style scoped>\n",
       "    .dataframe tbody tr th:only-of-type {\n",
       "        vertical-align: middle;\n",
       "    }\n",
       "\n",
       "    .dataframe tbody tr th {\n",
       "        vertical-align: top;\n",
       "    }\n",
       "\n",
       "    .dataframe thead th {\n",
       "        text-align: right;\n",
       "    }\n",
       "</style>\n",
       "<table border=\"1\" class=\"dataframe\">\n",
       "  <thead>\n",
       "    <tr style=\"text-align: right;\">\n",
       "      <th></th>\n",
       "      <th>datetime</th>\n",
       "      <th>ticker</th>\n",
       "      <th>open</th>\n",
       "      <th>close</th>\n",
       "      <th>high</th>\n",
       "      <th>low</th>\n",
       "      <th>volume</th>\n",
       "    </tr>\n",
       "  </thead>\n",
       "  <tbody>\n",
       "    <tr>\n",
       "      <th>1319937</th>\n",
       "      <td>2014-10-08</td>\n",
       "      <td>PETR4</td>\n",
       "      <td>21.80</td>\n",
       "      <td>20.85</td>\n",
       "      <td>21.85</td>\n",
       "      <td>20.01</td>\n",
       "      <td>2.170526e+09</td>\n",
       "    </tr>\n",
       "    <tr>\n",
       "      <th>1320246</th>\n",
       "      <td>2014-10-09</td>\n",
       "      <td>PETR4</td>\n",
       "      <td>21.29</td>\n",
       "      <td>21.20</td>\n",
       "      <td>21.90</td>\n",
       "      <td>21.20</td>\n",
       "      <td>1.772180e+09</td>\n",
       "    </tr>\n",
       "    <tr>\n",
       "      <th>1320554</th>\n",
       "      <td>2014-10-10</td>\n",
       "      <td>PETR4</td>\n",
       "      <td>20.90</td>\n",
       "      <td>20.02</td>\n",
       "      <td>21.14</td>\n",
       "      <td>20.02</td>\n",
       "      <td>1.334326e+09</td>\n",
       "    </tr>\n",
       "    <tr>\n",
       "      <th>1320861</th>\n",
       "      <td>2014-10-13</td>\n",
       "      <td>PETR4</td>\n",
       "      <td>21.36</td>\n",
       "      <td>22.13</td>\n",
       "      <td>22.42</td>\n",
       "      <td>21.11</td>\n",
       "      <td>1.861346e+09</td>\n",
       "    </tr>\n",
       "    <tr>\n",
       "      <th>1321173</th>\n",
       "      <td>2014-10-14</td>\n",
       "      <td>PETR4</td>\n",
       "      <td>21.82</td>\n",
       "      <td>21.65</td>\n",
       "      <td>22.53</td>\n",
       "      <td>21.40</td>\n",
       "      <td>1.771690e+09</td>\n",
       "    </tr>\n",
       "    <tr>\n",
       "      <th>...</th>\n",
       "      <td>...</td>\n",
       "      <td>...</td>\n",
       "      <td>...</td>\n",
       "      <td>...</td>\n",
       "      <td>...</td>\n",
       "      <td>...</td>\n",
       "      <td>...</td>\n",
       "    </tr>\n",
       "    <tr>\n",
       "      <th>1881969</th>\n",
       "      <td>2020-12-22</td>\n",
       "      <td>PETR4</td>\n",
       "      <td>27.20</td>\n",
       "      <td>27.28</td>\n",
       "      <td>27.47</td>\n",
       "      <td>27.05</td>\n",
       "      <td>1.268321e+09</td>\n",
       "    </tr>\n",
       "    <tr>\n",
       "      <th>1881970</th>\n",
       "      <td>2020-12-23</td>\n",
       "      <td>PETR4</td>\n",
       "      <td>27.43</td>\n",
       "      <td>27.95</td>\n",
       "      <td>28.25</td>\n",
       "      <td>27.35</td>\n",
       "      <td>1.368939e+09</td>\n",
       "    </tr>\n",
       "    <tr>\n",
       "      <th>1881971</th>\n",
       "      <td>2020-12-28</td>\n",
       "      <td>PETR4</td>\n",
       "      <td>28.36</td>\n",
       "      <td>28.18</td>\n",
       "      <td>28.52</td>\n",
       "      <td>28.18</td>\n",
       "      <td>1.027841e+09</td>\n",
       "    </tr>\n",
       "    <tr>\n",
       "      <th>1881972</th>\n",
       "      <td>2020-12-29</td>\n",
       "      <td>PETR4</td>\n",
       "      <td>28.38</td>\n",
       "      <td>28.27</td>\n",
       "      <td>28.43</td>\n",
       "      <td>27.99</td>\n",
       "      <td>8.433475e+08</td>\n",
       "    </tr>\n",
       "    <tr>\n",
       "      <th>1881973</th>\n",
       "      <td>2020-12-30</td>\n",
       "      <td>PETR4</td>\n",
       "      <td>28.35</td>\n",
       "      <td>28.34</td>\n",
       "      <td>28.49</td>\n",
       "      <td>28.20</td>\n",
       "      <td>1.047992e+09</td>\n",
       "    </tr>\n",
       "  </tbody>\n",
       "</table>\n",
       "<p>1540 rows × 7 columns</p>\n",
       "</div>"
      ],
      "text/plain": [
       "           datetime ticker   open  close   high    low        volume\n",
       "1319937  2014-10-08  PETR4  21.80  20.85  21.85  20.01  2.170526e+09\n",
       "1320246  2014-10-09  PETR4  21.29  21.20  21.90  21.20  1.772180e+09\n",
       "1320554  2014-10-10  PETR4  20.90  20.02  21.14  20.02  1.334326e+09\n",
       "1320861  2014-10-13  PETR4  21.36  22.13  22.42  21.11  1.861346e+09\n",
       "1321173  2014-10-14  PETR4  21.82  21.65  22.53  21.40  1.771690e+09\n",
       "...             ...    ...    ...    ...    ...    ...           ...\n",
       "1881969  2020-12-22  PETR4  27.20  27.28  27.47  27.05  1.268321e+09\n",
       "1881970  2020-12-23  PETR4  27.43  27.95  28.25  27.35  1.368939e+09\n",
       "1881971  2020-12-28  PETR4  28.36  28.18  28.52  28.18  1.027841e+09\n",
       "1881972  2020-12-29  PETR4  28.38  28.27  28.43  27.99  8.433475e+08\n",
       "1881973  2020-12-30  PETR4  28.35  28.34  28.49  28.20  1.047992e+09\n",
       "\n",
       "[1540 rows x 7 columns]"
      ]
     },
     "metadata": {},
     "output_type": "display_data"
    }
   ],
   "source": [
    "display(petro)"
   ]
  },
  {
   "cell_type": "markdown",
   "id": "302fef3a",
   "metadata": {},
   "source": [
    "O próximo passo é calcular a série histórica de retornos nesse período de tempo, para isso : "
   ]
  },
  {
   "cell_type": "code",
   "execution_count": 5,
   "id": "fe4b3516",
   "metadata": {},
   "outputs": [],
   "source": [
    "def retorno_diario(acao):\n",
    "    \"\"\"Dado um dataframe com as informações de uma ação, ele utiliza o valor de abertura para calcular a série de retornos diários.\n",
    "    dataframe -> array\"\"\"\n",
    "    \n",
    "    v_open = np.array(acao['open'])\n",
    "\n",
    "    ret = (v_open[1:] - v_open[:-1]) / v_open[:-1]\n",
    "\n",
    "    return ret"
   ]
  },
  {
   "cell_type": "code",
   "execution_count": 6,
   "id": "c5e2ccc1",
   "metadata": {},
   "outputs": [],
   "source": [
    "def retorno_Quinzenal(acao):\n",
    "    \"\"\"Dado um dataframe com as informações de uma ação, ele utiliza o valor de abertura para calcular a série de retornos quinzenais.\n",
    "    dataframe -> array\"\"\"\n",
    "    \n",
    "    v_open = np.array(acao['open'])\n",
    "    \n",
    "    v_open_15 = v_open[range(0, len(v_open), 15)]   # Cria um vetor com o valor de abertura de 15 em 15 dias.\n",
    "\n",
    "    ret = (v_open_15[1:] - v_open_15[:-1]) / v_open_15[:-1]\n",
    "\n",
    "    return ret"
   ]
  },
  {
   "cell_type": "code",
   "execution_count": 7,
   "id": "459c7aef",
   "metadata": {},
   "outputs": [],
   "source": [
    "retornos_diario = retorno_diario(petro)             # Série de retornos diários da petrobras\n",
    "retornos_quinzenal = retorno_Quinzenal(petro)       # Série de retornos quinzenais da petrobras\n",
    "retornos = [retornos_diario, retornos_quinzenal]    # Lista com ambos os retornos\n",
    "\n",
    "tempos = ['Diários', 'Quinzenais']\n",
    "valores = [(-0.035, -0.05), (-0.16, -0.22)]         # Valores os quais, o Var será com 90% e 95%, primeiro o diário, segundo o quinzenal"
   ]
  },
  {
   "cell_type": "code",
   "execution_count": 8,
   "id": "25288f47",
   "metadata": {},
   "outputs": [
    {
     "name": "stdout",
     "output_type": "stream",
     "text": [
      "\n",
      "Quantidade de retornos Diários total: 1539\n",
      "\n",
      "Quantidade de retornos Diários menores que -0.035% : 146\n",
      "Com 90.513% de chance, o maior valor a ser perdido será 0.035% do valor investido.\n",
      "\n",
      "Quantidade de retornos Diários menores que -0.05% : 81\n",
      "Com 94.737% de chance, o maior valor a ser perdido será 0.05% do valor investido.\n",
      "\n",
      "\n",
      "Quantidade de retornos Quinzenais total: 102\n",
      "\n",
      "Quantidade de retornos Quinzenais menores que -0.16% : 11\n",
      "Com 89.216% de chance, o maior valor a ser perdido será 0.16% do valor investido.\n",
      "\n",
      "Quantidade de retornos Quinzenais menores que -0.22% : 4\n",
      "Com 96.078% de chance, o maior valor a ser perdido será 0.22% do valor investido.\n",
      "\n"
     ]
    },
    {
     "data": {
      "image/png": "[encoded data removed]",
      "text/plain": [
       "<Figure size 1400x500 with 2 Axes>"
      ]
     },
     "metadata": {},
     "output_type": "display_data"
    }
   ],
   "source": [
    "fig, plots = plt.subplots(1, 2, figsize=(14, 5))\n",
    "\n",
    "for retorno, tempo, valor, ax in zip(retornos, tempos, valores, plots):    # Para não escrevermos o mesmo código 2 vezes, faço esse loop.\n",
    "    caixinha = 0\n",
    "    caixinha2 = 0\n",
    "\n",
    "    for i in retorno: # Para cada retorno da série histórica, verifica se está em cada uma das caixinhas\n",
    "        if i < valor[0]:    \n",
    "            caixinha += 1\n",
    "        \n",
    "        if  i < valor[1]:\n",
    "            caixinha2 += 1\n",
    "\n",
    "    print(f'\\nQuantidade de retornos {tempo} total: {len(retorno)}\\n')\n",
    "\n",
    "    ax.hist(retorno, bins='auto')\n",
    "    ax.set_title(f'Retornos {tempo}')\n",
    "    ax.set_ylabel('Quantidade')\n",
    "    ax.set_xlabel('retorno por % do valor investido')\n",
    "    ax.axvline(valor[0], color='orange', label=valor[0])\n",
    "    ax.axvline(valor[1], color='red', label=valor[1])\n",
    "    ax.legend()\n",
    "\n",
    "\n",
    "    print(f'Quantidade de retornos {tempo} menores que {valor[0]}% : {caixinha}')      \n",
    "    print(f'Com {(1 - caixinha/len(retorno))*100 :.3f}% de chance, o maior valor a ser perdido será {abs(valor[0])}% do valor investido.')\n",
    "\n",
    "    print(f'\\nQuantidade de retornos {tempo} menores que {valor[1]}% : {caixinha2}')\n",
    "    print(f'Com {(1 - caixinha2/len(retorno))*100 :.3f}% de chance, o maior valor a ser perdido será {abs(valor[1])}% do valor investido.\\n')\n",
    "\n",
    "# A expressão usada é a seguinte:\n",
    "# O VAR quinzenal com 90% é de N reais"
   ]
  },
  {
   "attachments": {},
   "cell_type": "markdown",
   "id": "768b6d82",
   "metadata": {},
   "source": [
    "Aqui podemos atestar que os nossos resultados seguem a teoria.  \n",
    "Pois, em uma intuição informal, o VAR é o maior valor possível que perderá, dado uma certa porcentagem.  \n",
    "Ou seja, se colocarmos essa possível perda muito grande fica cada vez mais complicado termos uma perda que seja maior do que essa.  \n",
    "E nos nossos testes, aumentando o maior valor possível aumenta-se a chance.  \n",
    "Assim como faz sentido o VAR quinzenal ser maior que o diário, pois o investidor fica 'vulnerável' por mais tempo."
   ]
  },
  {
   "attachments": {},
   "cell_type": "markdown",
   "id": "b90ae34d",
   "metadata": {},
   "source": [
    "## Método da variância e o uso da curva normal"
   ]
  },
  {
   "cell_type": "code",
   "execution_count": 9,
   "id": "3858f02b",
   "metadata": {},
   "outputs": [],
   "source": [
    "def retorno_normal_diario(acao):\n",
    "    \"\"\"Dado um dataframe com as informações de uma ação, ele utiliza o valor de abertura para\n",
    "    retornar o array com os retornos diário, o retorno diário médio, a variância, e o desvio padrão dos retornos.\n",
    "    dataframe -> (array, float, float, float)\"\"\"\n",
    "    \n",
    "    v_open = np.array(acao['open']) # Pegando os valores de aberturas diários\n",
    "    \n",
    "    ret = (v_open[1:] - v_open[:-1]) / v_open[:-1]  # Criando o array com os retornos diários\n",
    "    \n",
    "    media = np.mean(ret) # Retorno médio\n",
    "    var = statistics.variance(ret) # Variancia AMOSTRAL!\n",
    "    sd = var**(1/2)\n",
    "\n",
    "    return ret, media, var, sd"
   ]
  },
  {
   "cell_type": "code",
   "execution_count": 10,
   "id": "af0bf502",
   "metadata": {},
   "outputs": [],
   "source": [
    "def retorno_normal_quinzenal(acao):\n",
    "    \"\"\"Dado um dataframe com as informações de uma ação, ele utiliza o valor de abertura para\n",
    "    retornar o retorno diário médio, a variância, e o desvio padrão dos retornos.\n",
    "    dataframe -> (array, float, float, float)\"\"\"\n",
    "    \n",
    "    v_open = np.array(acao['open'])\n",
    "    \n",
    "    v_open_15 = v_open[range(0, len(v_open), 15)]   # Criando um array dos valores de aberturas de 15 em 15 dias.\n",
    "\n",
    "    ret = (v_open_15[1:] - v_open_15[:-1]) / v_open_15[:-1] # Criando o array com os retornos quinzenais\n",
    "    \n",
    "    media = np.mean(ret) # Retorno médio\n",
    "    var = statistics.variance(ret) # Variancia AMOSTRAL!\n",
    "    sd = var**(1/2)\n",
    "\n",
    "    return ret, media, var, sd"
   ]
  },
  {
   "cell_type": "code",
   "execution_count": 11,
   "id": "6cd937b3",
   "metadata": {},
   "outputs": [
    {
     "name": "stdout",
     "output_type": "stream",
     "text": [
      "Média 0.0008173892084351311, variância 0.0012942038834824069, desvio padrão 0.03597504528812169\n"
     ]
    },
    {
     "data": {
      "image/png": "[encoded data removed]",
      "text/plain": [
       "<Figure size 640x480 with 1 Axes>"
      ]
     },
     "metadata": {},
     "output_type": "display_data"
    }
   ],
   "source": [
    "ret, mi, sigma, sd = retorno_normal_diario(petro)\n",
    "\n",
    "print(f'Média {mi}, variância {sigma}, desvio padrão {sd}')\n",
    "\n",
    "intervalo = np.arange(mi- 4*sd, mi + 4*sd, 0.01)\n",
    "  \n",
    "plt.plot(intervalo, norm.pdf(intervalo, mi, sd), label='Normal')\n",
    "plt.axvline(mi, color='orange', label='Média')\n",
    "\n",
    "plt.title('Curva normal, média e variância vindas do histórico')\n",
    "plt.legend()\n",
    "plt.show()"
   ]
  },
  {
   "cell_type": "code",
   "execution_count": 12,
   "id": "5adfcab0",
   "metadata": {},
   "outputs": [
    {
     "name": "stdout",
     "output_type": "stream",
     "text": [
      "Supondo, que os nossos retornos sigam essa distribuição, temos que:\n",
      "com 90% o VaR (percentual) é de 0.04527% do valor investido.\n",
      "\n",
      "Com 95% o VaR (percentual) é de 0.05836% do valor investido.\n"
     ]
    }
   ],
   "source": [
    "print(f\"Supondo, que os nossos retornos sigam essa distribuição, temos que:\\n\"\n",
    "      f\"com 90% o VaR (percentual) é de {abs(mi - 1.281*sd) :.4}% do valor investido.\")\n",
    "\n",
    "print(f\"\\nCom 95% o VaR (percentual) é de {abs(mi - 1.645*sd) :.4}% do valor investido.\")"
   ]
  }
 ],
 "metadata": {
  "kernelspec": {
   "display_name": "Python 3 (ipykernel)",
   "language": "python",
   "name": "python3"
  },
  "language_info": {
   "codemirror_mode": {
    "name": "ipython",
    "version": 3
   },
   "file_extension": ".py",
   "mimetype": "text/x-python",
   "name": "python",
   "nbconvert_exporter": "python",
   "pygments_lexer": "ipython3",
   "version": "3.11.1"
  }
 },
 "nbformat": 4,
 "nbformat_minor": 5
}
