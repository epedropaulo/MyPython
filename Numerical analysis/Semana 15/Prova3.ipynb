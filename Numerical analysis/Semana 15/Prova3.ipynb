{
 "cells": [
  {
   "cell_type": "markdown",
   "metadata": {},
   "source": [
    "![CC-BY-SA](https://mirrors.creativecommons.org/presskit/buttons/88x31/svg/by-sa.svg)\n",
    "\n",
    "\n",
    "This notebook was created by [Bernardo Freitas Paulo da Costa](http://www.im.ufrj.br/bernardofpc),\n",
    "and is licensed under Creative Commons BY-SA."
   ]
  },
  {
   "cell_type": "markdown",
   "metadata": {},
   "source": [
    "Antes de enviar este Teste, verifique que tudo está funcionando como esperado.\n",
    "Por exemplo, **rode o código inteiro, do zero**.\n",
    "Para isso, vá no menu, escolha _Kernel_, depois _Restart & Run All_.\n",
    "\n",
    "Verifique, também, que você respondeu todas as questões:\n",
    "* as questões de código têm `YOUR CODE HERE` (e você pode apagar o `raise NotImplemented` ao incluir sua resposta)\n",
    "* as questões discursivas têm \"YOUR ANSWER HERE\"."
   ]
  },
  {
   "cell_type": "markdown",
   "metadata": {},
   "source": [
    "---"
   ]
  },
  {
   "cell_type": "code",
   "execution_count": 1,
   "metadata": {},
   "outputs": [],
   "source": [
    "import numpy as np\n",
    "import matplotlib.pyplot as plt"
   ]
  },
  {
   "cell_type": "markdown",
   "metadata": {},
   "source": [
    "# Parte 1: Projetores e Refletores"
   ]
  },
  {
   "cell_type": "markdown",
   "metadata": {},
   "source": [
    "## Questão 1: Projeção ortogonal\n",
    "\n",
    "Escreva uma função `proj(v)` que retorna **uma função**\n",
    "que calcula a projeção ortogonal de um vetor qualquer $u$  em $v$."
   ]
  },
  {
   "cell_type": "code",
   "execution_count": 6,
   "metadata": {
    "deletable": false,
    "nbgrader": {
     "cell_type": "code",
     "checksum": "a927f4c6d13f9ffc1389618f8c947036",
     "grade": false,
     "grade_id": "cell-923bb846ded32913",
     "locked": false,
     "schema_version": 3,
     "solution": true,
     "task": false
    }
   },
   "outputs": [],
   "source": [
    "def proj(v):\n",
    "    vv = np.asarray(v)\n",
    "    def aux(u):\n",
    "        u = np.asarray(u)\n",
    "        numerador = u.T@vv\n",
    "        denominador = vv.T@vv\n",
    "        \n",
    "        coeficiente = numerador/denominador\n",
    "        return coeficiente*vv\n",
    "    return aux"
   ]
  },
  {
   "cell_type": "code",
   "execution_count": 7,
   "metadata": {
    "deletable": false,
    "editable": false,
    "nbgrader": {
     "cell_type": "code",
     "checksum": "f814a606fc0a04318ce21cba336cfa2c",
     "grade": true,
     "grade_id": "cell-7c5f82e15593a689",
     "locked": true,
     "points": 1,
     "schema_version": 3,
     "solution": false,
     "task": false
    }
   },
   "outputs": [],
   "source": [
    "f2 = proj([0,1])\n",
    "assert np.allclose(f2([0,2]), [0,2])\n",
    "assert np.allclose(f2([1,0]), [0,0])"
   ]
  },
  {
   "cell_type": "code",
   "execution_count": 8,
   "metadata": {
    "deletable": false,
    "editable": false,
    "nbgrader": {
     "cell_type": "code",
     "checksum": "61f7308bd6c93d5263d57f1bca030849",
     "grade": true,
     "grade_id": "cell-b4495ff1baf43936",
     "locked": true,
     "points": 2,
     "schema_version": 3,
     "solution": false,
     "task": false
    }
   },
   "outputs": [],
   "source": [
    "f3 = proj([0,1,2])\n",
    "assert np.allclose(f3([0,1,1]), [0, 0.6, 1.2])\n",
    "assert np.allclose(f3([2,1,0]), [0, 0.2, 0.4])"
   ]
  },
  {
   "cell_type": "code",
   "execution_count": 9,
   "metadata": {
    "deletable": false,
    "editable": false,
    "nbgrader": {
     "cell_type": "code",
     "checksum": "367680ea3c1d25c9314da21749765f46",
     "grade": true,
     "grade_id": "cell-c5454b4c058650b1",
     "locked": true,
     "points": 1,
     "schema_version": 3,
     "solution": false,
     "task": false
    }
   },
   "outputs": [],
   "source": [
    "fbig = proj([1,1,-2,3,-1,2])\n",
    "assert np.allclose(4*fbig([1,1,1,1,0,1]), [1,1,-2,3,-1,2])"
   ]
  },
  {
   "cell_type": "markdown",
   "metadata": {},
   "source": [
    "## Questão 2: Matriz da projeção\n",
    "\n",
    "Escreva uma função `matr_proj(v)` que calcula a matriz de projeção no vetor $v$."
   ]
  },
  {
   "cell_type": "code",
   "execution_count": 34,
   "metadata": {
    "deletable": false,
    "nbgrader": {
     "cell_type": "code",
     "checksum": "1c4ddd5d3efa113e9cb9d0daecc821be",
     "grade": false,
     "grade_id": "cell-9392babacf493311",
     "locked": false,
     "schema_version": 3,
     "solution": true,
     "task": false
    }
   },
   "outputs": [],
   "source": [
    "def matr_proj(v):\n",
    "    # YOUR CODE HERE\n",
    "    n = len(v)\n",
    "    matriz = []\n",
    "    projv = proj(v)\n",
    "\n",
    "    for i in range(n):\n",
    "        ei = np.zeros(n)    # Crio a base canônica\n",
    "        ei[i] = 1\n",
    "        \n",
    "        ei_new = projv(ei)   # Aplico na base canônica\n",
    "        matriz.append(ei_new)\n",
    "    \n",
    "    return np.array(matriz)"
   ]
  },
  {
   "cell_type": "code",
   "execution_count": 35,
   "metadata": {
    "deletable": false,
    "editable": false,
    "nbgrader": {
     "cell_type": "code",
     "checksum": "2afa3845bdfb0854f72277ad17941584",
     "grade": true,
     "grade_id": "cell-ee8eb79b77e28971",
     "locked": true,
     "points": 2,
     "schema_version": 3,
     "solution": false,
     "task": false
    }
   },
   "outputs": [],
   "source": [
    "M2 = matr_proj([1,2])\n",
    "assert np.allclose(M2, [[0.2, 0.4], [0.4, 0.8]])"
   ]
  },
  {
   "cell_type": "code",
   "execution_count": 36,
   "metadata": {
    "deletable": false,
    "editable": false,
    "nbgrader": {
     "cell_type": "code",
     "checksum": "886830e584532d43590553e71ce6a209",
     "grade": true,
     "grade_id": "cell-daaf9d49d775c453",
     "locked": true,
     "points": 2,
     "schema_version": 3,
     "solution": false,
     "task": false
    }
   },
   "outputs": [],
   "source": [
    "M5 = matr_proj([1,2,0,-3,1])\n",
    "assert np.shape(M5) == (5,5)\n",
    "assert abs(M5[3,3] - 0.6) < 1e-15"
   ]
  },
  {
   "cell_type": "code",
   "execution_count": 37,
   "metadata": {
    "deletable": false,
    "editable": false,
    "nbgrader": {
     "cell_type": "code",
     "checksum": "b931a2abb2f8601867f5c489b2204d90",
     "grade": true,
     "grade_id": "cell-ca35206b552682dd",
     "locked": true,
     "points": 1,
     "schema_version": 3,
     "solution": false,
     "task": false
    }
   },
   "outputs": [],
   "source": [
    "v = [1,-2]\n",
    "u = [1,1]\n",
    "\n",
    "M = matr_proj(v)\n",
    "f = proj(v)\n",
    "\n",
    "assert np.allclose(M@u, f(u))"
   ]
  },
  {
   "cell_type": "markdown",
   "metadata": {},
   "source": [
    "Explique o assert acima"
   ]
  },
  {
   "attachments": {},
   "cell_type": "markdown",
   "metadata": {
    "deletable": false,
    "nbgrader": {
     "cell_type": "markdown",
     "checksum": "0573bed9cdcda1084b1802e7ccaa8a2e",
     "grade": true,
     "grade_id": "cell-7a7c24d916217af9",
     "locked": false,
     "points": 2,
     "schema_version": 3,
     "solution": true,
     "task": false
    }
   },
   "source": [
    "Ele se certifica de que, usar o produto escalar pra fazer a projeção e multiplicar a matriz projeção dão o mesmo resultado."
   ]
  },
  {
   "cell_type": "markdown",
   "metadata": {},
   "source": [
    "## Questão 3: Tempos\n",
    "\n",
    "Compare o tempo que a função de projeção leva com o tempo que a multiplicação pela matriz de projeção leva,\n",
    "em vetores de tamanho 80.\n",
    "\n",
    "Dica: use `%timeit`, o tempo deve estar na ordem de **micro**segundos"
   ]
  },
  {
   "cell_type": "code",
   "execution_count": 38,
   "metadata": {
    "deletable": false,
    "nbgrader": {
     "cell_type": "code",
     "checksum": "66eb83cda593d32b92c20f70628c0836",
     "grade": true,
     "grade_id": "cell-aceeee77766c6b8b",
     "locked": false,
     "points": 2,
     "schema_version": 3,
     "solution": true,
     "task": false
    }
   },
   "outputs": [
    {
     "name": "stdout",
     "output_type": "stream",
     "text": [
      "449 µs ± 7.83 µs per loop (mean ± std. dev. of 7 runs, 1,000 loops each)\n",
      "4.58 µs ± 105 ns per loop (mean ± std. dev. of 7 runs, 100,000 loops each)\n"
     ]
    }
   ],
   "source": [
    "v = np.random.rand(80)\n",
    "u = np.random.rand(80)\n",
    "# YOUR CODE HERE\n",
    "%timeit matr_proj(v)@u\n",
    "%timeit proj(v)(u)"
   ]
  },
  {
   "cell_type": "markdown",
   "metadata": {},
   "source": [
    "Faça o mesmo, em vetores de tamanho 400."
   ]
  },
  {
   "cell_type": "code",
   "execution_count": 39,
   "metadata": {
    "deletable": false,
    "nbgrader": {
     "cell_type": "code",
     "checksum": "ca24634b0fbbd954a7bd32c630613345",
     "grade": true,
     "grade_id": "cell-fd7fd642aae03fdd",
     "locked": false,
     "points": 1,
     "schema_version": 3,
     "solution": true,
     "task": false
    }
   },
   "outputs": [
    {
     "name": "stdout",
     "output_type": "stream",
     "text": [
      "3.33 ms ± 256 µs per loop (mean ± std. dev. of 7 runs, 100 loops each)\n",
      "5.06 µs ± 168 ns per loop (mean ± std. dev. of 7 runs, 100,000 loops each)\n"
     ]
    }
   ],
   "source": [
    "# YOUR CODE HERE\n",
    "v = np.random.rand(400)\n",
    "u = np.random.rand(400)\n",
    "# YOUR CODE HERE\n",
    "%timeit matr_proj(v)@u\n",
    "%timeit proj(v)(u)"
   ]
  },
  {
   "cell_type": "markdown",
   "metadata": {},
   "source": [
    "E de tamanho 2000..."
   ]
  },
  {
   "cell_type": "code",
   "execution_count": 41,
   "metadata": {
    "deletable": false,
    "nbgrader": {
     "cell_type": "code",
     "checksum": "c8dbf7c8f831e6d14e4b20e6699fa81a",
     "grade": true,
     "grade_id": "cell-545e5d7f4be7fef9",
     "locked": false,
     "points": 1,
     "schema_version": 3,
     "solution": true,
     "task": false
    }
   },
   "outputs": [
    {
     "name": "stdout",
     "output_type": "stream",
     "text": [
      "48 ms ± 2.53 ms per loop (mean ± std. dev. of 7 runs, 10 loops each)\n",
      "6.58 µs ± 229 ns per loop (mean ± std. dev. of 7 runs, 100,000 loops each)\n"
     ]
    }
   ],
   "source": [
    "# YOUR CODE HERE\n",
    "v = np.random.rand(2000)\n",
    "u = np.random.rand(2000)\n",
    "# YOUR CODE HERE\n",
    "%timeit matr_proj(v)@u\n",
    "%timeit proj(v)(u)"
   ]
  },
  {
   "cell_type": "markdown",
   "metadata": {},
   "source": [
    "Explique porque isso acontece."
   ]
  },
  {
   "attachments": {},
   "cell_type": "markdown",
   "metadata": {
    "deletable": false,
    "nbgrader": {
     "cell_type": "markdown",
     "checksum": "3a8d8a1639f90247832282309cfaf4f6",
     "grade": true,
     "grade_id": "cell-bbd7408d759f0f83",
     "locked": false,
     "points": 2,
     "schema_version": 3,
     "solution": true,
     "task": false
    }
   },
   "source": [
    "Isso se deve a como construí a função que cria a matriz. Ele cria a base canônica, aplica a transformação nela e dessa informação extrai a matriz, pra depois aplicá-la ao vetor.\n",
    "A projeção já trabalha apenas com a norma dos vetores e há a multiplicação pelo vetor."
   ]
  },
  {
   "cell_type": "markdown",
   "metadata": {},
   "source": [
    "## Questão 4: Projetores parciais\n",
    "\n",
    "Suponha agora que temos um vetor $u \\in R^{n+m}$,\n",
    "e vamos projetar apenas as $m$ últimas coordenadas na direção do vetor $v \\in R^m$\n",
    "(as $n$ primeiras coordenadas permanecem inalteradas).\n",
    "Generalize a sua função `proj(v)` para que a função retornada funcione para qualquer vetor $u$ de dimensão maior ou igual a $m$."
   ]
  },
  {
   "cell_type": "code",
   "execution_count": 42,
   "metadata": {
    "deletable": false,
    "nbgrader": {
     "cell_type": "code",
     "checksum": "5e8f880b5b9b2660b47b79469141a486",
     "grade": false,
     "grade_id": "cell-c2f353e01fe623c4",
     "locked": false,
     "schema_version": 3,
     "solution": true,
     "task": false
    }
   },
   "outputs": [],
   "source": [
    "def proj_gen(v):\n",
    "    m = len(v)\n",
    "    def aux(u):\n",
    "        assert len(u) >= m\n",
    "        # YOUR CODE HERE\n",
    "        uu = u[-m:] # Pegará as m últimas coordenadas\n",
    "\n",
    "        projecao = proj(v)  # Função que projeta em v\n",
    "\n",
    "        uu_new_m = projecao(uu) # Vetor uu projetado em v\n",
    "        \n",
    "        u[-m:] = uu_new_m   # Muda as M coordenadas que foram projetadas\n",
    "\n",
    "        return u\n",
    "\n",
    "    return aux"
   ]
  },
  {
   "cell_type": "code",
   "execution_count": 43,
   "metadata": {
    "deletable": false,
    "editable": false,
    "nbgrader": {
     "cell_type": "code",
     "checksum": "41e8f5dacf6706d2a34303aabaa56b1f",
     "grade": true,
     "grade_id": "cell-6cf4a0bdec853f70",
     "locked": true,
     "points": 1,
     "schema_version": 3,
     "solution": false,
     "task": false
    }
   },
   "outputs": [],
   "source": [
    "g2 = proj_gen([1,1])\n",
    "assert np.all(g2([-1,2.]) == [1/2, 1/2])"
   ]
  },
  {
   "cell_type": "code",
   "execution_count": 44,
   "metadata": {
    "deletable": false,
    "editable": false,
    "nbgrader": {
     "cell_type": "code",
     "checksum": "364baf552bcb79f39c980e00253d7eb5",
     "grade": true,
     "grade_id": "cell-18d142fd066c10b6",
     "locked": true,
     "points": 1,
     "schema_version": 3,
     "solution": false,
     "task": false
    }
   },
   "outputs": [],
   "source": [
    "g2 = proj_gen([1,1])\n",
    "assert np.all(g2([6,5,4,3,2,1.]) == [6. , 5. , 4. , 3. , 1.5, 1.5])"
   ]
  },
  {
   "cell_type": "code",
   "execution_count": 45,
   "metadata": {
    "deletable": false,
    "editable": false,
    "nbgrader": {
     "cell_type": "code",
     "checksum": "b7e5a2c5faa7049e0fc7e8396f65801b",
     "grade": true,
     "grade_id": "cell-7833e56994c906fb",
     "locked": true,
     "points": 1,
     "schema_version": 3,
     "solution": false,
     "task": false
    }
   },
   "outputs": [],
   "source": [
    "g2 = proj_gen([1,-3])\n",
    "assert np.allclose(g2([6,5,4,3,2,1.]), [ 6. ,  5. ,  4. ,  3. , -0.1,  0.3])"
   ]
  },
  {
   "cell_type": "markdown",
   "metadata": {},
   "source": [
    "Que outros testes você faria para verificar que a sua função `proj_gen` está funcionando como imaginado?\n",
    "\n",
    "Dê, na caixa abaixo, a justificativa para os testes,\n",
    "e nas duas caixas seguintes, dois exemplos de cada um."
   ]
  },
  {
   "attachments": {},
   "cell_type": "markdown",
   "metadata": {
    "deletable": false,
    "nbgrader": {
     "cell_type": "markdown",
     "checksum": "2ab2e329390c10c69bab78c651db4643",
     "grade": true,
     "grade_id": "cell-0177712a1b2ae519",
     "locked": false,
     "points": 2,
     "schema_version": 3,
     "solution": true,
     "task": false
    }
   },
   "source": [
    "Poderíamos verificar se essa projeção está batendo com as outras formas de projeção que fizemos."
   ]
  },
  {
   "cell_type": "code",
   "execution_count": 47,
   "metadata": {
    "deletable": false,
    "nbgrader": {
     "cell_type": "code",
     "checksum": "c89ff56c87686d24ac4675ee6f43572c",
     "grade": true,
     "grade_id": "cell-67502a09a665030e",
     "locked": false,
     "points": 1,
     "schema_version": 3,
     "solution": true,
     "task": false
    }
   },
   "outputs": [],
   "source": [
    "# Testes 1\n",
    "v = np.random.rand(80)\n",
    "u = np.random.rand(80)\n",
    "\n",
    "f = proj(v)\n",
    "f2 = proj_gen(v)\n",
    "\n",
    "assert np.allclose(f2(u), f(u))\n",
    "\n",
    "v2 = np.random.rand(100)\n",
    "u2 = np.random.rand(100)\n",
    "\n",
    "f = proj(v2)\n",
    "f2 = proj_gen(v2)\n",
    "\n",
    "assert np.allclose(f2(u2), f(u2))"
   ]
  },
  {
   "cell_type": "code",
   "execution_count": 46,
   "metadata": {
    "deletable": false,
    "nbgrader": {
     "cell_type": "code",
     "checksum": "242e6cebb319332743199d0a014f015c",
     "grade": true,
     "grade_id": "cell-8b74a28008d4ae2b",
     "locked": false,
     "points": 1,
     "schema_version": 3,
     "solution": true,
     "task": false
    }
   },
   "outputs": [],
   "source": [
    "# Testes 2\n",
    "v = np.random.rand(80)\n",
    "u = np.random.rand(80)\n",
    "\n",
    "M = matr_proj(v)\n",
    "f = proj_gen(v)\n",
    "\n",
    "assert np.allclose(M@u, f(u))\n",
    "\n",
    "v2 = np.random.rand(100)\n",
    "u2 = np.random.rand(100)\n",
    "\n",
    "M = matr_proj(v2)\n",
    "f = proj_gen(v2)\n",
    "\n",
    "assert np.allclose(M@u2, f(u2))\n"
   ]
  },
  {
   "cell_type": "markdown",
   "metadata": {},
   "source": [
    "## Questão 5: Reflexões\n",
    "\n",
    "Podemos construir uma reflexão $R_v$ a partir de uma projeção $P_v$ pela seguinte fórmula:\n",
    "$$\n",
    "  R_v(u) = u - 2(u - P_v(u)).\n",
    "$$"
   ]
  },
  {
   "cell_type": "markdown",
   "metadata": {},
   "source": [
    "Explique o significado do termo $u - P_v(u)$ na fórmula acima."
   ]
  },
  {
   "attachments": {},
   "cell_type": "markdown",
   "metadata": {
    "deletable": false,
    "nbgrader": {
     "cell_type": "markdown",
     "checksum": "a5b841dfeb660c2ff508c7b13e097f80",
     "grade": true,
     "grade_id": "cell-1f959cf7709080af",
     "locked": false,
     "points": 2,
     "schema_version": 3,
     "solution": true,
     "task": false
    }
   },
   "source": [
    "Para facilitar pensaremos no caso $R^3$, onde queremos refletir uma reta com relação a um plano.\n",
    "\n",
    "Temos a mesma distância entre: $u$ e $P_v(u)$, e $R_v(u)$ e $P_v(u)$.\n",
    "\n",
    "E nesse caso é fácil visualizar que se pegarmos essa distância e diminuímos ela duas vezes do nosso vetor original teremos a nossa reflexão."
   ]
  },
  {
   "cell_type": "markdown",
   "metadata": {},
   "source": [
    "Simplifique a fórmula (claro!) e implemente a função `refl(v)` que faz a reflexão \"segundo o vetor $v$\"."
   ]
  },
  {
   "cell_type": "code",
   "execution_count": 56,
   "metadata": {
    "deletable": false,
    "nbgrader": {
     "cell_type": "code",
     "checksum": "6422689ae47186b340bde69462060668",
     "grade": false,
     "grade_id": "cell-70c58bc6a6c6cd3c",
     "locked": false,
     "schema_version": 3,
     "solution": true,
     "task": false
    }
   },
   "outputs": [],
   "source": [
    "def refl(v):\n",
    "    vv = np.asarray(v)\n",
    "    def aux(u):\n",
    "        u = np.array(u)\n",
    "\n",
    "        projecao = np.array(proj(vv)(u))\n",
    "        reflexao = 2*projecao - u\n",
    "        \n",
    "        return reflexao\n",
    "    \n",
    "    return aux"
   ]
  },
  {
   "cell_type": "code",
   "execution_count": 57,
   "id": "e69051ca",
   "metadata": {},
   "outputs": [
    {
     "name": "stdout",
     "output_type": "stream",
     "text": [
      "[1. 3.]\n"
     ]
    }
   ],
   "source": [
    "r2 = refl([1,1])\n",
    "print(r2([3, 1]))"
   ]
  },
  {
   "cell_type": "code",
   "execution_count": 58,
   "metadata": {
    "deletable": false,
    "editable": false,
    "nbgrader": {
     "cell_type": "code",
     "checksum": "6a32f33afa2f05e477ebac1f1243b155",
     "grade": true,
     "grade_id": "cell-5cc3fd8dddd6d9bb",
     "locked": true,
     "points": 1,
     "schema_version": 3,
     "solution": false,
     "task": false
    }
   },
   "outputs": [],
   "source": [
    "r2 = refl([1,1])\n",
    "assert np.allclose(r2([3,1]), [1,3])"
   ]
  },
  {
   "cell_type": "code",
   "execution_count": 59,
   "id": "8d26423f",
   "metadata": {
    "deletable": false,
    "editable": false,
    "nbgrader": {
     "cell_type": "code",
     "checksum": "6317f02dcfff48f95f2b39d5712c5a90",
     "grade": true,
     "grade_id": "cell-7813c2f1678ec5af",
     "locked": true,
     "points": 1,
     "schema_version": 3,
     "solution": false,
     "task": false
    }
   },
   "outputs": [],
   "source": [
    "r4 = refl([1,3,2,1])\n",
    "assert np.allclose(r4([3,3,3,3]), [-0.2, 5.4, 2.6, -0.2])"
   ]
  },
  {
   "cell_type": "markdown",
   "metadata": {},
   "source": [
    "## Questão 6: Refletindo a reflexão\n",
    "\n",
    "Uma reflexão é uma **involução**: aplicada duas vezes, ela volta ao início.\n",
    "\n",
    "Mostre (algebricamente) que a fórmula que demos para a reflexão de fato produz uma involução.\n",
    "Ou seja, mostre que, dados $v$ e $u$ quaisquer, $R_v(R_v(u)) = u$."
   ]
  },
  {
   "attachments": {},
   "cell_type": "markdown",
   "metadata": {
    "deletable": false,
    "nbgrader": {
     "cell_type": "markdown",
     "checksum": "e31c1c078e5ee43023ce13d3cddce51d",
     "grade": true,
     "grade_id": "cell-39866ae20579c657",
     "locked": false,
     "points": 2,
     "schema_version": 3,
     "solution": true,
     "task": false
    }
   },
   "source": [
    "$R_v(u) = 2P_v(u) - u $ --> $ u = 2P_v(u) - R_v(u)$\n",
    "\n",
    "Jogando o $R_v$ dentro dele mesmo:\n",
    "\n",
    "$R_v(R_v(u)) = 2P_v(R_v(u)) - R_v(u)$\n",
    "\n",
    "Entretanto, é lógico que a projeção de um vetor e a projeção de sua reflexão, na mesma base, são iguais. Portanto:\n",
    "\n",
    "$R_v(R_v(u)) = 2P_v(u) - R_v(u)$\n",
    "\n",
    "Que é exatamente a relação que obtemos quando isolamos o $u$ na primeira equação, logo:\n",
    "\n",
    "$R_v(R_v(u)) = u$"
   ]
  },
  {
   "cell_type": "markdown",
   "metadata": {},
   "source": [
    "Use esta ideia para construir testes (aleatórios) para a sua função de reflexão."
   ]
  },
  {
   "cell_type": "code",
   "execution_count": 62,
   "metadata": {
    "deletable": false,
    "nbgrader": {
     "cell_type": "code",
     "checksum": "c3cdd6c22282e2b2d2b643035e7a9e16",
     "grade": true,
     "grade_id": "cell-bcce0db9283d8138",
     "locked": false,
     "points": 2,
     "schema_version": 3,
     "solution": true,
     "task": false
    }
   },
   "outputs": [],
   "source": [
    "# YOUR CODE HERE\n",
    "\n",
    "for i in range(1, 50):\n",
    "    v = np.random.rand(i*5)\n",
    "    u = np.random.rand(i*5)\n",
    "\n",
    "    r1 = refl(v)(u)\n",
    "    r2 = refl(v)(r1)\n",
    "\n",
    "    assert np.allclose(u, r2)"
   ]
  },
  {
   "cell_type": "markdown",
   "metadata": {},
   "source": [
    "# Parte 2: Integrais interpolatórias\n",
    "\n",
    "Vimos, na lista 3, que dados os pontos $x_i$ no intervalo $[-1,1]$,\n",
    "podemos criar uma \"regra de integração\" para uma função $f$ que é equivalente a:\n",
    "1. Calcular o polinômio interpolador de $f$ nos nós $x_i$\n",
    "2. Calcular a integral deste polinômio no intervalo $[-1,1]$."
   ]
  },
  {
   "cell_type": "markdown",
   "metadata": {},
   "source": [
    "## Questão 7: Pontos de Chebyshev\n",
    "\n",
    "Há duas famílias de pontos de Chebyshev:\n",
    "1. Interiores: da forma $\\cos\\left( \\frac{2k+1}{2n} \\pi \\right)$, para $k$ de $0$ a $n$ (exclusive)\n",
    "\n",
    "2. De bordo: da forma $\\cos\\left( \\frac{k}{n} \\pi \\right)$, para $k$ de $0$ a $n$ (inclusive)"
   ]
  },
  {
   "cell_type": "code",
   "execution_count": null,
   "metadata": {
    "deletable": false,
    "nbgrader": {
     "cell_type": "code",
     "checksum": "512a9b05ed6e680757cef168bc8492fb",
     "grade": false,
     "grade_id": "cell-df2b92ea394723d6",
     "locked": false,
     "schema_version": 3,
     "solution": true,
     "task": false
    }
   },
   "outputs": [],
   "source": [
    "def cheby1(n):\n",
    "    # YOUR CODE HERE\n",
    "    raise NotImplementedError()\n",
    "\n",
    "def cheby2(n):\n",
    "    # YOUR CODE HERE\n",
    "    raise NotImplementedError()"
   ]
  },
  {
   "cell_type": "code",
   "execution_count": null,
   "metadata": {
    "deletable": false,
    "editable": false,
    "nbgrader": {
     "cell_type": "code",
     "checksum": "1bb2f74644c57898763c19b6e7b27bc7",
     "grade": true,
     "grade_id": "cell-efd330570d34aef6",
     "locked": true,
     "points": 1,
     "schema_version": 3,
     "solution": false,
     "task": false
    }
   },
   "outputs": [],
   "source": [
    "assert len(cheby1(5)) == 5\n",
    "assert len(cheby2(5)) == 6"
   ]
  },
  {
   "cell_type": "code",
   "execution_count": null,
   "metadata": {
    "deletable": false,
    "editable": false,
    "nbgrader": {
     "cell_type": "code",
     "checksum": "ec8ebbab10d99268bd44aab13de64a6d",
     "grade": true,
     "grade_id": "cell-3ecf919acbecc8b3",
     "locked": true,
     "points": 1,
     "schema_version": 3,
     "solution": false,
     "task": false
    }
   },
   "outputs": [],
   "source": [
    "c5 = cheby1(15)\n",
    "assert np.all(c5[1:] < c5[:-1])\n",
    "\n",
    "c5 = cheby2(25)\n",
    "assert np.all(c5[1:] < c5[:-1])"
   ]
  },
  {
   "cell_type": "markdown",
   "metadata": {},
   "source": [
    "Faça um desenho destes pontos, e explique a nomenclatura."
   ]
  },
  {
   "cell_type": "code",
   "execution_count": null,
   "metadata": {
    "deletable": false,
    "nbgrader": {
     "cell_type": "code",
     "checksum": "0e5d9a2e8707f72569bb06348b2a6780",
     "grade": false,
     "grade_id": "cell-ff43b16e64da3292",
     "locked": false,
     "schema_version": 3,
     "solution": true,
     "task": false
    }
   },
   "outputs": [],
   "source": [
    "# YOUR CODE HERE\n",
    "raise NotImplementedError()\n",
    "\n",
    "ax = plt.gca()"
   ]
  },
  {
   "cell_type": "code",
   "execution_count": null,
   "metadata": {
    "deletable": false,
    "editable": false,
    "nbgrader": {
     "cell_type": "code",
     "checksum": "810edf94b28e24d50a50e4e975a5ca70",
     "grade": true,
     "grade_id": "cell-b3f2fabcda1efd33",
     "locked": true,
     "points": 1,
     "schema_version": 3,
     "solution": false,
     "task": false
    }
   },
   "outputs": [],
   "source": [
    "assert len(ax.legend().texts) == 2\n",
    "assert len(ax.get_title()) >= 10"
   ]
  },
  {
   "cell_type": "markdown",
   "metadata": {},
   "source": [
    "Explique aqui"
   ]
  },
  {
   "cell_type": "markdown",
   "metadata": {
    "deletable": false,
    "nbgrader": {
     "cell_type": "markdown",
     "checksum": "579de94dc1180e95bfbe5a2777be9807",
     "grade": true,
     "grade_id": "cell-e9de80ad3b063813",
     "locked": false,
     "points": 2,
     "schema_version": 3,
     "solution": true,
     "task": false
    }
   },
   "source": [
    "YOUR ANSWER HERE"
   ]
  },
  {
   "cell_type": "code",
   "execution_count": null,
   "metadata": {
    "deletable": false,
    "editable": false,
    "nbgrader": {
     "cell_type": "code",
     "checksum": "b0d2023540774eaf6eab11d28870229e",
     "grade": false,
     "grade_id": "cell-d0c9c2c78b87aa72",
     "locked": true,
     "schema_version": 3,
     "solution": false,
     "task": false
    }
   },
   "outputs": [],
   "source": [
    "ax = None"
   ]
  },
  {
   "cell_type": "markdown",
   "metadata": {},
   "source": [
    "## Questão 8: Integrando polinômios\n",
    "\n",
    "Escreva a função que, para um polinômio $P$, dado por seus coeficientes em ordem crescente,\n",
    "calcula a integral de $P$ no intervalo $[-1,1]$."
   ]
  },
  {
   "cell_type": "code",
   "execution_count": 83,
   "metadata": {
    "deletable": false,
    "nbgrader": {
     "cell_type": "code",
     "checksum": "7d843059bb6a7ca911b8b3bab66b7b50",
     "grade": false,
     "grade_id": "cell-007fb0309edaf766",
     "locked": false,
     "schema_version": 3,
     "solution": true,
     "task": false
    }
   },
   "outputs": [
    {
     "data": {
      "text/plain": [
       "4.0"
      ]
     },
     "execution_count": 83,
     "metadata": {},
     "output_type": "execute_result"
    }
   ],
   "source": [
    "def base_int(p):\n",
    "    # YOUR CODE HERE\n",
    "    valor = 0\n",
    "    for grau, coef in enumerate(p):\n",
    "        valor_cima = coef/(grau+1)\n",
    "        valor_baixo = (coef/(grau+1))*(-1)**(grau+1)\n",
    "        valor += valor_cima - valor_baixo\n",
    "    return valor\n",
    "base_int([1, 2, 3])"
   ]
  },
  {
   "cell_type": "code",
   "execution_count": 84,
   "metadata": {
    "deletable": false,
    "editable": false,
    "nbgrader": {
     "cell_type": "code",
     "checksum": "3273a72217ccae8c45f688b258f2fbd8",
     "grade": true,
     "grade_id": "cell-582995aaa41e817f",
     "locked": true,
     "points": 1,
     "schema_version": 3,
     "solution": false,
     "task": false
    }
   },
   "outputs": [],
   "source": [
    "assert base_int([1,2,3]) == 4"
   ]
  },
  {
   "cell_type": "code",
   "execution_count": 85,
   "metadata": {
    "deletable": false,
    "editable": false,
    "nbgrader": {
     "cell_type": "code",
     "checksum": "2561565cd3f49c71ab10b0a8472dbca1",
     "grade": true,
     "grade_id": "cell-f074ce24df68da95",
     "locked": true,
     "points": 1,
     "schema_version": 3,
     "solution": false,
     "task": false
    }
   },
   "outputs": [],
   "source": [
    "assert np.isclose(base_int([5,4,3,2,1]), 12.4)"
   ]
  },
  {
   "cell_type": "markdown",
   "metadata": {},
   "source": [
    "## Questão 9: Integração interpolatória\n",
    "\n",
    "Escreva uma função que recebe um conjunto $n$ de pontos $x_i$ do intervalo $[-1,1]$,\n",
    "e calcula pesos $w_i$ tais que\n",
    "\n",
    "$$ \\int_{-1}^1 P(x) \\, dx = \\sum_{i=1}^n w_i P(x_i) $$\n",
    "\n",
    "para todos os polinômios $P$ de grau menor do que $n$."
   ]
  },
  {
   "cell_type": "code",
   "execution_count": null,
   "metadata": {
    "deletable": false,
    "nbgrader": {
     "cell_type": "code",
     "checksum": "8e574a7cf67d0afaf2c8682fdb587283",
     "grade": false,
     "grade_id": "cell-fe56e1c6bb2076a1",
     "locked": false,
     "schema_version": 3,
     "solution": true,
     "task": false
    }
   },
   "outputs": [],
   "source": [
    "def pesos(xs):\n",
    "    xs = np.asarray(xs)\n",
    "    # YOUR CODE HERE\n",
    "    raise NotImplementedError()"
   ]
  },
  {
   "cell_type": "code",
   "execution_count": null,
   "metadata": {
    "deletable": false,
    "editable": false,
    "nbgrader": {
     "cell_type": "code",
     "checksum": "be6c43c61701f848ccdebdb2a096e325",
     "grade": true,
     "grade_id": "cell-60a4c4249638d7b9",
     "locked": true,
     "points": 1,
     "schema_version": 3,
     "solution": false,
     "task": false
    }
   },
   "outputs": [],
   "source": [
    "assert np.allclose(pesos([-1, 1]), [1, 1])"
   ]
  },
  {
   "cell_type": "code",
   "execution_count": null,
   "metadata": {
    "deletable": false,
    "editable": false,
    "nbgrader": {
     "cell_type": "code",
     "checksum": "03b74e7e6aa5620cb67b172b2840dc90",
     "grade": true,
     "grade_id": "cell-547ea592a0905047",
     "locked": true,
     "points": 1,
     "schema_version": 3,
     "solution": false,
     "task": false
    }
   },
   "outputs": [],
   "source": [
    "assert np.allclose(pesos([-1, 0, 1]), [1/3, 4/3, 1/3])"
   ]
  },
  {
   "cell_type": "markdown",
   "metadata": {},
   "source": [
    "O que estes dois primeiros testes verificam?"
   ]
  },
  {
   "cell_type": "markdown",
   "metadata": {
    "deletable": false,
    "nbgrader": {
     "cell_type": "markdown",
     "checksum": "77b768ad64a7644efe8f3b2943e472f2",
     "grade": true,
     "grade_id": "cell-e34d20d7d99b7a01",
     "locked": false,
     "points": 1,
     "schema_version": 3,
     "solution": true,
     "task": false
    }
   },
   "source": [
    "YOUR ANSWER HERE"
   ]
  },
  {
   "cell_type": "code",
   "execution_count": null,
   "metadata": {
    "deletable": false,
    "editable": false,
    "nbgrader": {
     "cell_type": "code",
     "checksum": "9388943bb1d954854a9b50bd94c3da08",
     "grade": true,
     "grade_id": "cell-77c8235dd3c11971",
     "locked": true,
     "points": 1,
     "schema_version": 3,
     "solution": false,
     "task": false
    }
   },
   "outputs": [],
   "source": [
    "w4 = pesos(cheby1(4))\n",
    "assert np.allclose(w4, [0.26429774, 0.73570226, 0.73570226, 0.26429774])"
   ]
  },
  {
   "cell_type": "markdown",
   "metadata": {},
   "source": [
    "## Questão 10: Integrando funções\n",
    "\n",
    "Vamos usar os mesmos pesos para integrar funções que não são polinômios."
   ]
  },
  {
   "cell_type": "code",
   "execution_count": null,
   "metadata": {
    "deletable": false,
    "editable": false,
    "nbgrader": {
     "cell_type": "code",
     "checksum": "c6d22db487cc7667bb7605adbcd268de",
     "grade": true,
     "grade_id": "cell-cf6cee2e0eeb41e9",
     "locked": true,
     "points": 1,
     "schema_version": 3,
     "solution": false,
     "task": false
    }
   },
   "outputs": [],
   "source": [
    "xs = cheby1(4)\n",
    "w4 = pesos(xs)\n",
    "\n",
    "assert 2e-4 <= np.dot(w4, np.cos(xs)) - (np.sin(1) - np.sin(-1)) <= 2e-3\n",
    "assert 2e-4 <= np.dot(w4, np.exp(xs)) - (np.exp(1) - np.exp(-1)) <= 2e-3"
   ]
  },
  {
   "cell_type": "markdown",
   "metadata": {},
   "source": [
    "O que estes testes mostram?"
   ]
  },
  {
   "cell_type": "markdown",
   "metadata": {
    "deletable": false,
    "nbgrader": {
     "cell_type": "markdown",
     "checksum": "bd913d401b0d52b335261f4bc3e775b9",
     "grade": true,
     "grade_id": "cell-0ca9baada089e7e4",
     "locked": false,
     "points": 1,
     "schema_version": 3,
     "solution": true,
     "task": false
    }
   },
   "source": [
    "YOUR ANSWER HERE"
   ]
  },
  {
   "cell_type": "code",
   "execution_count": null,
   "metadata": {
    "deletable": false,
    "editable": false,
    "nbgrader": {
     "cell_type": "code",
     "checksum": "a88777a2b016cdd203ae90a0fdc46551",
     "grade": true,
     "grade_id": "cell-a73bf1cdc1eec899",
     "locked": true,
     "points": 1,
     "schema_version": 3,
     "solution": false,
     "task": false
    }
   },
   "outputs": [],
   "source": [
    "xs = cheby2(10)\n",
    "w10 = pesos(xs)\n",
    "\n",
    "assert np.abs(np.dot(w10, np.cos(xs)) - (np.sin(1) - np.sin(-1))) < 1e-12\n",
    "assert np.abs(np.dot(w10, np.exp(xs)) - (np.exp(1) - np.exp(-1))) < 1e-12"
   ]
  },
  {
   "cell_type": "markdown",
   "metadata": {},
   "source": [
    "O que os estes testes mostram, em comparação com os anteriores?\n",
    "Isso é esperado?"
   ]
  },
  {
   "cell_type": "markdown",
   "metadata": {
    "deletable": false,
    "nbgrader": {
     "cell_type": "markdown",
     "checksum": "c8dc71109f2419de7c5f66e20fc06486",
     "grade": true,
     "grade_id": "cell-a69a1092b0836c7d",
     "locked": false,
     "points": 2,
     "schema_version": 3,
     "solution": true,
     "task": false
    }
   },
   "source": [
    "YOUR ANSWER HERE"
   ]
  },
  {
   "cell_type": "markdown",
   "metadata": {},
   "source": [
    "## Questão 11: Evolução da precisão\n",
    "\n",
    "Faça um gráfico do erro de integração da função $e^{2x}$ no intervalo $[-1, 1]$\n",
    "em função do número de pontos de Chebyshev utilizados.\n",
    "\n",
    "Deve haver duas curvas: uma para os pontos de tipo 1, outra para os pontos de tipo 2."
   ]
  },
  {
   "cell_type": "code",
   "execution_count": null,
   "metadata": {
    "deletable": false,
    "nbgrader": {
     "cell_type": "code",
     "checksum": "99db5955da401b4ca10a3b7d0a934e3f",
     "grade": true,
     "grade_id": "cell-440689db152d8fc1",
     "locked": false,
     "points": 2,
     "schema_version": 3,
     "solution": true,
     "task": false
    }
   },
   "outputs": [],
   "source": [
    "# YOUR CODE HERE\n",
    "raise NotImplementedError()\n",
    "\n",
    "ax = plt.gca()"
   ]
  },
  {
   "cell_type": "code",
   "execution_count": null,
   "metadata": {
    "deletable": false,
    "editable": false,
    "nbgrader": {
     "cell_type": "code",
     "checksum": "e622c3eb8158d79fbaeb1c5d8186fac3",
     "grade": true,
     "grade_id": "cell-afceb523f517ff3b",
     "locked": true,
     "points": 1,
     "schema_version": 3,
     "solution": false,
     "task": false
    }
   },
   "outputs": [],
   "source": [
    "assert len(ax.lines) == 2\n",
    "assert len(ax.legend().texts) == 2"
   ]
  },
  {
   "cell_type": "code",
   "execution_count": null,
   "metadata": {
    "deletable": false,
    "editable": false,
    "nbgrader": {
     "cell_type": "code",
     "checksum": "80af701764947ec568ef5b7094b5aea3",
     "grade": true,
     "grade_id": "cell-c18866a7b661cde3",
     "locked": true,
     "points": 1,
     "schema_version": 3,
     "solution": false,
     "task": false
    }
   },
   "outputs": [],
   "source": [
    "assert len(ax.get_title()) >= 10\n",
    "assert len(ax.get_xlabel()) >= 5"
   ]
  },
  {
   "cell_type": "markdown",
   "metadata": {},
   "source": [
    "O que você percebe quanto à velocidade com que os erros tendem a zero?"
   ]
  },
  {
   "cell_type": "markdown",
   "metadata": {
    "deletable": false,
    "nbgrader": {
     "cell_type": "markdown",
     "checksum": "6a4f48a0c607e60f00d618c8ec187120",
     "grade": true,
     "grade_id": "cell-aa3ec382472f6555",
     "locked": false,
     "points": 1,
     "schema_version": 3,
     "solution": true,
     "task": false
    }
   },
   "source": [
    "YOUR ANSWER HERE"
   ]
  },
  {
   "cell_type": "markdown",
   "metadata": {},
   "source": [
    "## Questão 12: Integradores\n",
    "\n",
    "Escreva a função `make_integrator` que recebe `xs`, os pontos $x_i$ no intervalo $[-1,1]$,\n",
    "e retorna uma função `int_interp(f, a, b, n)` que\n",
    "- Recebe uma função $f$, um intervalo $[a,b]$ e um número de subdivisões $n$\n",
    "- Divide o intervalo em $n$ subintervalos de mesmo tamanho\n",
    "- Calcula a integral de $f$ em cada um destes subintervalos usando pontos correspondentes (por translação e homotetia) aos pontos $x_i$\n",
    "- E retorna a soma como uma aproximação da integral de $f$ no intervalo $[a,b]$."
   ]
  },
  {
   "cell_type": "code",
   "execution_count": null,
   "metadata": {
    "deletable": false,
    "nbgrader": {
     "cell_type": "code",
     "checksum": "d74d32f99342fc2344c845f679f911fb",
     "grade": false,
     "grade_id": "cell-f5bc035273e90cc1",
     "locked": false,
     "schema_version": 3,
     "solution": true,
     "task": false
    }
   },
   "outputs": [],
   "source": [
    "def make_integrator(xs):\n",
    "    xs = np.asarray(xs, dtype=float)\n",
    "    ws = pesos(xs)\n",
    "    def int_interp(f, a, b, n):\n",
    "        # YOUR CODE HERE\n",
    "        raise NotImplementedError()\n",
    "\n",
    "    return int_interp"
   ]
  },
  {
   "cell_type": "code",
   "execution_count": null,
   "metadata": {
    "deletable": false,
    "editable": false,
    "nbgrader": {
     "cell_type": "code",
     "checksum": "0e423a111f313017bf508d92ebf82710",
     "grade": true,
     "grade_id": "cell-7758c534233a04c7",
     "locked": true,
     "points": 1,
     "schema_version": 3,
     "solution": false,
     "task": false
    }
   },
   "outputs": [],
   "source": [
    "f2 = make_integrator([1/2, -1/2])\n",
    "assert 1e-4 < np.abs(f2(np.exp, 2, 5, 200) - (np.exp(5) - np.exp(2))) < 1e-3"
   ]
  },
  {
   "cell_type": "code",
   "execution_count": null,
   "metadata": {
    "deletable": false,
    "editable": false,
    "nbgrader": {
     "cell_type": "code",
     "checksum": "741d8385274ce5ff26c8fb7da2e2b507",
     "grade": true,
     "grade_id": "cell-4cb4ab992ed1a1a2",
     "locked": true,
     "points": 1,
     "schema_version": 3,
     "solution": false,
     "task": false
    }
   },
   "outputs": [],
   "source": [
    "f5 = make_integrator([0,1/2,-1/2,1,-1])\n",
    "assert 5e-14 < np.abs(f5(np.exp, 2, 5, 80) - (np.exp(5) - np.exp(2))) < 5e-13"
   ]
  },
  {
   "cell_type": "markdown",
   "metadata": {},
   "source": [
    "Comente os dois testes acima, e explique porque eles são uma comparação \"justa\" dos métodos."
   ]
  },
  {
   "cell_type": "markdown",
   "metadata": {
    "deletable": false,
    "nbgrader": {
     "cell_type": "markdown",
     "checksum": "0947491c4bb37cba8554ec5008a4ec40",
     "grade": true,
     "grade_id": "cell-8bb198e113d3e02d",
     "locked": false,
     "points": 2,
     "schema_version": 3,
     "solution": true,
     "task": false
    }
   },
   "source": [
    "YOUR ANSWER HERE"
   ]
  },
  {
   "cell_type": "markdown",
   "metadata": {},
   "source": [
    "Calcule os erros de integração da função $e^{2x}$ no intervalo $[-1,4]$,\n",
    "para o método que usa 10 pontos de Chebyshev,\n",
    "em função do número de subintervalos."
   ]
  },
  {
   "cell_type": "code",
   "execution_count": null,
   "metadata": {
    "deletable": false,
    "nbgrader": {
     "cell_type": "code",
     "checksum": "20930e255fabe1014617c1ba1b78f85a",
     "grade": true,
     "grade_id": "cell-9b46129551024d94",
     "locked": false,
     "points": 1,
     "schema_version": 3,
     "solution": true,
     "task": false
    }
   },
   "outputs": [],
   "source": [
    "fcheby = make_integrator(cheby1(10))\n",
    "# YOUR CODE HERE\n",
    "raise NotImplementedError()\n",
    "\n",
    "ax = plt.gca()"
   ]
  },
  {
   "cell_type": "code",
   "execution_count": null,
   "metadata": {
    "deletable": false,
    "editable": false,
    "nbgrader": {
     "cell_type": "code",
     "checksum": "1f1c5d94a7cd6cb044f03582175019ee",
     "grade": true,
     "grade_id": "cell-1dbd59cc850a3a80",
     "locked": true,
     "points": 1,
     "schema_version": 3,
     "solution": false,
     "task": false
    }
   },
   "outputs": [],
   "source": [
    "assert len(ax.lines) == 1\n",
    "\n",
    "assert len(ax.get_title()) >= 10\n",
    "assert len(ax.get_xlabel()) >= 5"
   ]
  },
  {
   "cell_type": "markdown",
   "metadata": {},
   "source": [
    "Qual a velocidade de convergência deste método?"
   ]
  },
  {
   "cell_type": "markdown",
   "metadata": {
    "deletable": false,
    "nbgrader": {
     "cell_type": "markdown",
     "checksum": "55dcfb6a29deb94d8623e2e7fe641a05",
     "grade": true,
     "grade_id": "cell-ceb1836b149d5372",
     "locked": false,
     "points": 1,
     "schema_version": 3,
     "solution": true,
     "task": false
    }
   },
   "source": [
    "YOUR ANSWER HERE"
   ]
  }
 ],
 "metadata": {
  "kernelspec": {
   "display_name": "Python 3",
   "language": "python",
   "name": "python3"
  },
  "language_info": {
   "codemirror_mode": {
    "name": "ipython",
    "version": 3
   },
   "file_extension": ".py",
   "mimetype": "text/x-python",
   "name": "python",
   "nbconvert_exporter": "python",
   "pygments_lexer": "ipython3",
   "version": "3.10.4 (tags/v3.10.4:9d38120, Mar 23 2022, 23:13:41) [MSC v.1929 64 bit (AMD64)]"
  },
  "vscode": {
   "interpreter": {
    "hash": "333c8bcc83d56984523ee2c86aa0724e8c64f66b3f19b52fa61ba19ee3d8b9eb"
   }
  }
 },
 "nbformat": 4,
 "nbformat_minor": 5
}
