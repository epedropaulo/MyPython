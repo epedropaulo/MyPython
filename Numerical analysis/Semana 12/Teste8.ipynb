{
 "cells": [
  {
   "cell_type": "markdown",
   "metadata": {},
   "source": [
    "![CC-BY-SA](https://mirrors.creativecommons.org/presskit/buttons/88x31/svg/by-sa.svg)\n",
    "\n",
    "\n",
    "This notebook was created by [Bernardo Freitas Paulo da Costa](http://www.im.ufrj.br/bernardofpc),\n",
    "and is licensed under Creative Commons BY-SA."
   ]
  },
  {
   "cell_type": "markdown",
   "metadata": {},
   "source": [
    "Antes de enviar este Teste, verifique que tudo está funcionando como esperado.\n",
    "Por exemplo, **rode o código inteiro, do zero**.\n",
    "Para isso, vá no menu, escolha _Kernel_, depois _Restart & Run All_.\n",
    "\n",
    "Verifique, também, que você respondeu todas as questões:\n",
    "* as questões de código têm `YOUR CODE HERE` (e você pode apagar o `raise NotImplemented` ao incluir sua resposta)\n",
    "* as questões discursivas têm \"YOUR ANSWER HERE\"."
   ]
  },
  {
   "cell_type": "markdown",
   "metadata": {},
   "source": [
    "---"
   ]
  },
  {
   "cell_type": "code",
   "execution_count": 2,
   "metadata": {},
   "outputs": [],
   "source": [
    "import numpy as np\n",
    "import matplotlib.pyplot as plt\n",
    "from time import time"
   ]
  },
  {
   "cell_type": "markdown",
   "metadata": {},
   "source": [
    "# Resolvendo sistemas especiais\n",
    "\n",
    "## Questão 1: Algoritmo\n",
    "\n",
    "Uma matriz é dita tridiagonal quando só possui entradas diferentes de zero na diagonal,\n",
    "e imediatamente acima ou abaixo dela.\n",
    "\n",
    "Explique porque, ao fazer a eliminação, o algoritmo só precisa operar nas três \"diagonais centrais\"."
   ]
  },
  {
   "cell_type": "markdown",
   "metadata": {
    "deletable": false,
    "nbgrader": {
     "cell_type": "markdown",
     "checksum": "9fc580eb409c7160b373c9ba848736b1",
     "grade": true,
     "grade_id": "cell-671f1d7ad1aebc5e",
     "locked": false,
     "points": 2,
     "schema_version": 3,
     "solution": true,
     "task": false
    }
   },
   "source": [
    "Tendo a informação que a matriz é tridiagonal, podemos fazer uma eliminação de gauss de forma genérica, e achar uma fórmula para a solução do sistemas apenas com as 3 diagonais."
   ]
  },
  {
   "cell_type": "markdown",
   "metadata": {},
   "source": [
    "Dê um exemplo de uma matriz $4 \\times 4$, com muitos zeros, mas para a qual o algoritmo de eliminação\n",
    "vai ter que acessar e calcular nas entradas correspondentes a estes zeros."
   ]
  },
  {
   "cell_type": "markdown",
   "metadata": {
    "deletable": false,
    "nbgrader": {
     "cell_type": "markdown",
     "checksum": "c6d7b577aefd0c03658bc3812ba0971a",
     "grade": true,
     "grade_id": "cell-d5ca797d17ccc3d9",
     "locked": false,
     "points": 1,
     "schema_version": 3,
     "solution": true,
     "task": false
    }
   },
   "source": [
    "Uma matriz tridiagonal 4x4 por exemplo: [[1, 3, 0, 0],[2, 4, 7, 0],[0, 5, 9, 10],[0, 0, 8, 11]]. Mesmo que possua os 0 em todas as linhas, isso não é aproveitado pelo algoritmo de emliminação normal."
   ]
  },
  {
   "cell_type": "markdown",
   "metadata": {},
   "source": [
    "Agora, escreva a função `tridiag_solve` para resolver sistemas tridiagonais, ou seja,\n",
    "aqueles cuja matriz de coeficientes é tridiagonal.\n",
    "\n",
    "Esta função deve realizar o algoritmo de eliminação,\n",
    "mas, para ter uma boa performance, opere apenas nas entradas das diagonais centrais."
   ]
  },
  {
   "cell_type": "code",
   "execution_count": 3,
   "metadata": {
    "deletable": false,
    "nbgrader": {
     "cell_type": "code",
     "checksum": "2d473836f3d27d675feae3cb56bc794c",
     "grade": false,
     "grade_id": "cell-462b708f5e397ecf",
     "locked": false,
     "schema_version": 3,
     "solution": true,
     "task": false
    }
   },
   "outputs": [],
   "source": [
    "def tridiag_solve(A, b):\n",
    "    A = np.copy(np.asarray(A, dtype=np.float64))\n",
    "    b = np.copy(np.asarray(b, dtype=np.float64))\n",
    "    n,m = np.shape(A)\n",
    "    assert m == len(b)\n",
    "    assert n == m, \"Matrix must be square\"\n",
    "    # YOUR CODE HERE\n",
    "\n",
    "    Sdiag = []  # Criaremos vetores para representar as diagonais, diagonal superior\n",
    "    Diag = []   # diagonal\n",
    "    Idiag = []  # diagonal inferior\n",
    "\n",
    "    for i in range(n):\n",
    "        Diag.append(A[i][i])\n",
    "        \n",
    "        if i == 0:\n",
    "            Idiag.append(0)\n",
    "            Sdiag.append(A[i][i+1])\n",
    "\n",
    "        elif i == (n-1):\n",
    "            Idiag.append(A[i][i-1])\n",
    "            Sdiag.append(0)\n",
    "        \n",
    "        else:\n",
    "            Idiag.append(A[i][i-1])\n",
    "            Sdiag.append(A[i][i+1])\n",
    "    \n",
    "\n",
    "    New_Sdiag = []\n",
    "    New_b = []\n",
    "\n",
    "    for i in range(n-1):\n",
    "        if i == 0:\n",
    "            New_Sdiag.append( Sdiag[i]/Diag[i] )\n",
    "            New_b.append( b[i]/Diag[i] )\n",
    "        \n",
    "        else:\n",
    "            Denominador = (Diag[i] - Idiag[i]*New_Sdiag[i-1])\n",
    "            \n",
    "            New_Sdiag.append( (Sdiag[i]) / Denominador )\n",
    "            New_b.append( (b[i] - Idiag[i]*New_b[i-1]) / Denominador )\n",
    "        \n",
    "        if i == n-2:\n",
    "            New_b.append( (b[i+1] - Idiag[i+1]*New_b[i]) / (Diag[i+1] - Idiag[i+1]*New_Sdiag[i]) )\n",
    "    \n",
    "    x = []\n",
    "    for i in range(n-1, -1, -1):\n",
    "        if i == n-1:\n",
    "            x.append(New_b[i])\n",
    "        else:\n",
    "            \n",
    "            x.append(New_b[i] - New_Sdiag[i]*x[(n-2) - (i)])\n",
    "\n",
    "    return x[::-1]\n"
   ]
  },
  {
   "cell_type": "code",
   "execution_count": 4,
   "metadata": {},
   "outputs": [
    {
     "data": {
      "text/plain": [
       "[1.0, 0.0, 1.0, 0.0]"
      ]
     },
     "execution_count": 4,
     "metadata": {},
     "output_type": "execute_result"
    }
   ],
   "source": [
    "A = [[1,2,0,0],[2,1,2,0],[0,3,9,3],[0,0,11,11]]\n",
    "b=[1,4,9,11]\n",
    "tridiag_solve(A, b)"
   ]
  },
  {
   "cell_type": "markdown",
   "metadata": {},
   "source": [
    "Qual o papel do primeiro assert?"
   ]
  },
  {
   "attachments": {},
   "cell_type": "markdown",
   "metadata": {
    "deletable": false,
    "nbgrader": {
     "cell_type": "markdown",
     "checksum": "f7374d595c9876249cb7f8693191382d",
     "grade": true,
     "grade_id": "cell-7a4214ebd68e358c",
     "locked": false,
     "points": 1,
     "schema_version": 3,
     "solution": true,
     "task": false
    }
   },
   "source": [
    "Se estamos falando do assert colocado dentro da função tridiag_solve, ele verifica se as dimensões do sistema estão corretos. \n",
    "Verifica se a quantidade de equações é igual a quantidade de respostas.\n",
    "\n",
    "Caso seja o assert abaixo. Ele usa o np.linalg.solve para verificar se a resposta dada pela nossa função é realmente coerente."
   ]
  },
  {
   "cell_type": "code",
   "execution_count": 5,
   "metadata": {
    "deletable": false,
    "editable": false,
    "nbgrader": {
     "cell_type": "code",
     "checksum": "2e4b59ab9571801024d1e03249fd5458",
     "grade": true,
     "grade_id": "cell-65f2e07cb2fa5887",
     "locked": true,
     "points": 1,
     "schema_version": 3,
     "solution": false,
     "task": false
    }
   },
   "outputs": [],
   "source": [
    "A = [[1, 2, 0], [2, 1, -1], [0, 1, -2]]\n",
    "b = [1,1,1]\n",
    "\n",
    "x1 = np.linalg.solve(A,b)\n",
    "x2 = tridiag_solve(A, b)\n",
    "assert np.allclose(x1, x2, atol=1e-14, rtol=1e-14)"
   ]
  },
  {
   "cell_type": "code",
   "execution_count": 6,
   "metadata": {
    "deletable": false,
    "editable": false,
    "nbgrader": {
     "cell_type": "code",
     "checksum": "f9ce16344b327878f74ae2a53d78a9e5",
     "grade": true,
     "grade_id": "cell-20bb3249b0db5e25",
     "locked": true,
     "points": 1,
     "schema_version": 3,
     "solution": false,
     "task": false
    }
   },
   "outputs": [],
   "source": [
    "np.random.seed(9)\n",
    "A = np.diag(range(3,8)) + np.diag([-1,-1,-2,-2], k=1) + np.diag([-2,-2,-1,-1], k=-1)\n",
    "b = np.random.randn(5)\n",
    "\n",
    "x1 = np.linalg.solve(A, b)\n",
    "x2 = tridiag_solve(A, b)\n",
    "assert np.allclose(x1, x2, atol=1e-13, rtol=1e-13)"
   ]
  },
  {
   "cell_type": "markdown",
   "metadata": {},
   "source": [
    "Se você não tivesse acesso a `np.linalg.solve`, como você poderia testar sua função?\n",
    "Explique abaixo, e dê um exemplo de teste na caixa seguinte."
   ]
  },
  {
   "attachments": {},
   "cell_type": "markdown",
   "metadata": {
    "deletable": false,
    "nbgrader": {
     "cell_type": "markdown",
     "checksum": "d7e005d192564f3abfad3c2639865f43",
     "grade": true,
     "grade_id": "cell-880f3f95c45d504d",
     "locked": false,
     "points": 1,
     "schema_version": 3,
     "solution": true,
     "task": false
    }
   },
   "source": [
    "Pegaria matrizes tridiagonais de 2 tamanhos diferentes (3x3 e 5x5), multiplicaria ela com algum vetor conhecido ([2, 1, 1] e [-2, 0, 1, 3, -1]), obteria a resposta. \n",
    "Agora eu jogaria a matriz e a resposta na função tridiag_solve, e ela deve retornar justamente os vetores conhecidos."
   ]
  },
  {
   "cell_type": "code",
   "execution_count": 7,
   "metadata": {
    "deletable": false,
    "nbgrader": {
     "cell_type": "code",
     "checksum": "a43fd073452357c400e95e3d94b8e664",
     "grade": true,
     "grade_id": "cell-e359c03c250b063f",
     "locked": false,
     "points": 1,
     "schema_version": 3,
     "solution": true,
     "task": false
    }
   },
   "outputs": [],
   "source": [
    "# Exemplo de teste\n",
    "# YOUR CODE HERE\n",
    "A1 = [\n",
    "    [1, 7, 0],\n",
    "    [2, 0, 4],\n",
    "    [0, 3, 8]\n",
    "]\n",
    "\n",
    "r1 = [2, 1, 1]      # Faremos o produto A1*r1.\n",
    "b1 = [9, 8, 11]     # Resposta do produto.\n",
    "\n",
    "x1 = tridiag_solve(A1, b1)  # Resposta obtida pela função\n",
    "assert np.allclose(r1, x1, atol=1e-13, rtol=1e-13)\n",
    "\n",
    "A2 = [\n",
    "    [1, 7, 0, 0,  0],\n",
    "    [2, 2, 4, 0,  0],\n",
    "    [0, 3, 8, 1,  0],\n",
    "    [0, 0, 1, 2, -3],\n",
    "    [0, 0, 0, -1, 2]\n",
    "]\n",
    "\n",
    "r2 = [-2, 0, 1, 3, -1]\n",
    "b2 = [-2, 0, 11, 10, -5]\n",
    "\n",
    "x2 = tridiag_solve(A2, b2)\n",
    "assert np.allclose(r2, x2, atol=1e-13, rtol=1e-13)\n"
   ]
  },
  {
   "cell_type": "code",
   "execution_count": 8,
   "metadata": {},
   "outputs": [
    {
     "name": "stdout",
     "output_type": "stream",
     "text": [
      "[[ 1.10855471e-03 -2.89544069e-01 -1.11606630e+00 -1.28827567e-02\n",
      "  -3.78361464e-01]\n",
      " [-4.81135363e-01 -1.51733118e+00 -4.90871981e-01 -2.40680579e-01\n",
      "  -6.47947460e-01]\n",
      " [ 6.35891080e-01  1.74011731e+00  2.96682218e-01  7.07503662e-01\n",
      "   1.82281576e+00]\n",
      " [ 4.30769029e-01  1.54272963e+00 -9.00721171e-01 -1.37125010e-01\n",
      "   1.29757901e+00]\n",
      " [ 6.75271167e-01  3.19581170e-02  9.18145896e-01  3.80509466e-01\n",
      "   5.16367487e-01]]\n",
      "[ 7.23031904 -4.91901527 -1.35854848 -3.13315701  5.25656275]\n",
      "[18.43580992432919, -3.383121949524395, -11.686965037018219, 17.46187959426001, -3.184574025471087]\n",
      "[-11.20549088  -1.53589332  10.32841656 -20.59503661   8.44113678]\n"
     ]
    }
   ],
   "source": [
    "np.random.seed(9)\n",
    "A = np.random.randn(5,5)\n",
    "b = [1,2,3,4,5]\n",
    "\n",
    "print(A)\n",
    "x1 = np.linalg.solve(A, b)\n",
    "x2 = tridiag_solve(A, b)\n",
    "print(x1)\n",
    "print(x2)\n",
    "print(x1-x2)"
   ]
  },
  {
   "cell_type": "code",
   "execution_count": 9,
   "metadata": {
    "deletable": false,
    "editable": false,
    "nbgrader": {
     "cell_type": "code",
     "checksum": "438feefb98479fa70a5568a49a1eb9be",
     "grade": true,
     "grade_id": "cell-077e432dff6201e1",
     "locked": true,
     "points": 1,
     "schema_version": 3,
     "solution": false,
     "task": false
    }
   },
   "outputs": [],
   "source": [
    "np.random.seed(9)\n",
    "A = np.random.randn(5,5)\n",
    "b = [1,2,3,4,5]\n",
    "\n",
    "\n",
    "x1 = np.linalg.solve(A, b)\n",
    "x2 = tridiag_solve(A, b)\n",
    "assert not np.allclose(x1, x2, atol=1e-3, rtol=1e-3)"
   ]
  },
  {
   "cell_type": "code",
   "execution_count": 2,
   "metadata": {},
   "outputs": [
    {
     "data": {
      "image/png": "[encoded data removed]",
      "text/plain": [
       "<Figure size 432x288 with 1 Axes>"
      ]
     },
     "metadata": {
      "needs_background": "light"
     },
     "output_type": "display_data"
    }
   ],
   "source": [
    "import matplotlib.pyplot as plt\n",
    "\n",
    "# data\n",
    "data = [33, 27, 25, 24, 18, 16]\n",
    "\n",
    "# create histogram\n",
    "plt.hist(data)\n",
    "\n",
    "# add labels for each bar\n",
    "plt.xticks([1, 2, 3, 4, 5, 6], ['Luna', 'Ruan', 'Tiago', 'Duda', 'Paulo Vitor', 'Pedro Paulo'])\n",
    "\n",
    "# add y-axis tick marks and labels\n",
    "plt.yticks(data, data)\n",
    "\n",
    "# add axes labels\n",
    "plt.xlabel('Candidates')\n",
    "plt.ylabel('Votes')\n",
    "\n",
    "# show plot\n",
    "plt.show()\n",
    "\n"
   ]
  },
  {
   "cell_type": "markdown",
   "metadata": {},
   "source": [
    "Explique o resultado dos testes acima."
   ]
  },
  {
   "cell_type": "markdown",
   "metadata": {
    "deletable": false,
    "nbgrader": {
     "cell_type": "markdown",
     "checksum": "0b26708c76893392842deef2fa1e0094",
     "grade": true,
     "grade_id": "cell-2ee20344f5d12125",
     "locked": false,
     "points": 1,
     "schema_version": 3,
     "solution": true,
     "task": false
    }
   },
   "source": [
    "YOUR ANSWER HERE"
   ]
  },
  {
   "cell_type": "markdown",
   "metadata": {},
   "source": [
    "## Questão 2: Tempos\n",
    "\n",
    "Para cada um dos `ns` dados a seguir, monte um sistema tridiagonal $n \\times n$,\n",
    "e calcule o tempo (usando `time`) para:\n",
    "1. Criar a matriz A e o vetor b (podem ser aleatórios, podem não ser)\n",
    "2. Resolver o sistema usando `tridiag_solve`\n",
    "\n",
    "Armazene os tempos em duas listas, `t_create` e `t_solve`.\n",
    "\n",
    "Obs: a caixa abaixo pode usar algo como 500M de RAM, por conta das matrizes 4k\n",
    "(ou até mais, dependendo de **como** você criar as matrizes).\n",
    "Assim, para testar, diminua a amplitude do logspace, terminando em $2^{10}$ em vez de $2^{12}$.\n",
    "Se você não conseguir fazer funcionar até $2^{12}$,\n",
    "reduza o maior valor do `logspace`, mas não reduza demais.\n",
    "\n",
    "Obs2: A caixa abaixo deve ser executada em menos de 60 segundos, para não dar `TimeOut`."
   ]
  },
  {
   "cell_type": "code",
   "execution_count": 10,
   "metadata": {
    "deletable": false,
    "nbgrader": {
     "cell_type": "code",
     "checksum": "d9e2783887f32adbbc0ae3899f8df35f",
     "grade": true,
     "grade_id": "cell-84a663322d8e87f5",
     "locked": false,
     "points": 2,
     "schema_version": 3,
     "solution": true,
     "task": false
    }
   },
   "outputs": [
    {
     "name": "stdout",
     "output_type": "stream",
     "text": [
      "CPU times: total: 62.5 ms\n",
      "Wall time: 72.8 ms\n"
     ]
    }
   ],
   "source": [
    "%%time\n",
    "\n",
    "ns = np.logspace(4,12, base=2, num=28, dtype=int)\n",
    "t_create = []\n",
    "t_solve  = []\n",
    "\n",
    "for i, n in enumerate(ns):\n",
    "    # Create\n",
    "    A = np.zeros((n, n))  # Criando uma matriz nxn de zeros.\n",
    "\n",
    "    Sdiag = np.random.randint(1, high=3, size=(1, n))[0]   # Criando os valores que entrarão nas diagonais\n",
    "    Diag = np.random.randint(1, high=3, size=(1, n))[0]\n",
    "    Idiag = np.random.randint(1, high=3, size=(1, n))[0]\n",
    "    \n",
    "    b = np.random.randint(-2, high=2, size=(1, n))\n",
    "    \n",
    "    for i in range(n):  # Adicionando os valores nas diagonais.\n",
    "        A[i][i] += Diag[i]\n",
    "        \n",
    "        if i == 0:\n",
    "            A[i][i+1] += Idiag[i]\n",
    "\n",
    "        elif i == (n-1):\n",
    "            A[i][i-1] += Sdiag[i]\n",
    "            \n",
    "        \n",
    "        else:\n",
    "            A[i][i-1] += Sdiag[i]\n",
    "            A[i][i+1] += Idiag[i]\n",
    "\n",
    "    "
   ]
  },
  {
   "cell_type": "markdown",
   "metadata": {},
   "source": [
    "Agora, faça um gráfico destes tempos, em função de $n$."
   ]
  },
  {
   "cell_type": "code",
   "execution_count": 11,
   "metadata": {
    "deletable": false,
    "nbgrader": {
     "cell_type": "code",
     "checksum": "b5fdd2f0ee670e68830b6b9abf309be9",
     "grade": false,
     "grade_id": "cell-a67d25ce0784d87f",
     "locked": false,
     "schema_version": 3,
     "solution": true,
     "task": false
    }
   },
   "outputs": [
    {
     "ename": "NotImplementedError",
     "evalue": "",
     "output_type": "error",
     "traceback": [
      "\u001b[1;31m---------------------------------------------------------------------------\u001b[0m",
      "\u001b[1;31mNotImplementedError\u001b[0m                       Traceback (most recent call last)",
      "\u001b[1;32mc:\\Users\\epedr\\Desktop\\GitHub\\MyPython\\06 - Computação científica\\Semana 12\\Teste8.ipynb Célula: 26\u001b[0m in \u001b[0;36m<cell line: 2>\u001b[1;34m()\u001b[0m\n\u001b[0;32m      <a href='vscode-notebook-cell:/c%3A/Users/epedr/Desktop/GitHub/MyPython/06%20-%20Computa%C3%A7%C3%A3o%20cient%C3%ADfica/Semana%2012/Teste8.ipynb#X34sZmlsZQ%3D%3D?line=0'>1</a>\u001b[0m \u001b[39m# YOUR CODE HERE\u001b[39;00m\n\u001b[1;32m----> <a href='vscode-notebook-cell:/c%3A/Users/epedr/Desktop/GitHub/MyPython/06%20-%20Computa%C3%A7%C3%A3o%20cient%C3%ADfica/Semana%2012/Teste8.ipynb#X34sZmlsZQ%3D%3D?line=1'>2</a>\u001b[0m \u001b[39mraise\u001b[39;00m \u001b[39mNotImplementedError\u001b[39;00m()\n\u001b[0;32m      <a href='vscode-notebook-cell:/c%3A/Users/epedr/Desktop/GitHub/MyPython/06%20-%20Computa%C3%A7%C3%A3o%20cient%C3%ADfica/Semana%2012/Teste8.ipynb#X34sZmlsZQ%3D%3D?line=3'>4</a>\u001b[0m ax \u001b[39m=\u001b[39m plt\u001b[39m.\u001b[39mgca()\n",
      "\u001b[1;31mNotImplementedError\u001b[0m: "
     ]
    }
   ],
   "source": [
    "# YOUR CODE HERE\n",
    "raise NotImplementedError()\n",
    "\n",
    "ax = plt.gca()"
   ]
  },
  {
   "cell_type": "code",
   "execution_count": null,
   "metadata": {
    "deletable": false,
    "editable": false,
    "nbgrader": {
     "cell_type": "code",
     "checksum": "328b139fc4112f5d0fe4ee451d929982",
     "grade": true,
     "grade_id": "cell-e3e0f254799598f9",
     "locked": true,
     "points": 1,
     "schema_version": 3,
     "solution": false,
     "task": false
    }
   },
   "outputs": [],
   "source": [
    "assert len(ax.lines) == 2\n",
    "assert len(ax.legend().texts) == 2\n",
    "assert ax.get_title() != \"\""
   ]
  },
  {
   "cell_type": "code",
   "execution_count": null,
   "metadata": {
    "deletable": false,
    "editable": false,
    "nbgrader": {
     "cell_type": "code",
     "checksum": "5fb8e4e1ef41cb7977c1aac6836b038d",
     "grade": true,
     "grade_id": "cell-b0b81c2b16c50f3a",
     "locked": true,
     "points": 1,
     "schema_version": 3,
     "solution": false,
     "task": false
    }
   },
   "outputs": [],
   "source": [
    "for l in ax.lines:\n",
    "    xs = l.get_xdata()\n",
    "    assert min(xs) == 2**4\n",
    "    assert 2**9 <= max(xs) <= 2**13"
   ]
  },
  {
   "cell_type": "code",
   "execution_count": null,
   "metadata": {
    "deletable": false,
    "editable": false,
    "nbgrader": {
     "cell_type": "code",
     "checksum": "418830f6be670487fb4a054bb04a3d4d",
     "grade": false,
     "grade_id": "cell-fe964215dead09c4",
     "locked": true,
     "schema_version": 3,
     "solution": false,
     "task": false
    }
   },
   "outputs": [],
   "source": [
    "ax = None"
   ]
  },
  {
   "cell_type": "markdown",
   "metadata": {},
   "source": [
    "Qual etapa demora mais?\n",
    "Porquê você acha que isso acontece?"
   ]
  },
  {
   "cell_type": "markdown",
   "metadata": {
    "deletable": false,
    "nbgrader": {
     "cell_type": "markdown",
     "checksum": "108666274c95da5a5466ea2107289581",
     "grade": true,
     "grade_id": "cell-7d10cf0ddf503610",
     "locked": false,
     "points": 2,
     "schema_version": 3,
     "solution": true,
     "task": false
    }
   },
   "source": [
    "YOUR ANSWER HERE"
   ]
  },
  {
   "cell_type": "markdown",
   "metadata": {},
   "source": [
    "Agora, faça novos gráficos, para tentar descobrir a taxa de crescimento destes tempos:\n",
    "se é linear, quadrático, exponencial, ... em função de $n$.\n",
    "\n",
    "E se são a mesma taxa ou não!"
   ]
  },
  {
   "cell_type": "code",
   "execution_count": null,
   "metadata": {
    "deletable": false,
    "nbgrader": {
     "cell_type": "code",
     "checksum": "80a4a61f47c75033569dd08f62b92f0e",
     "grade": true,
     "grade_id": "cell-0ac7be496b4ab4a4",
     "locked": false,
     "points": 1,
     "schema_version": 3,
     "solution": true,
     "task": false
    }
   },
   "outputs": [],
   "source": [
    "# YOUR CODE HERE\n",
    "raise NotImplementedError()"
   ]
  },
  {
   "cell_type": "markdown",
   "metadata": {},
   "source": [
    "Comente"
   ]
  },
  {
   "cell_type": "markdown",
   "metadata": {
    "deletable": false,
    "nbgrader": {
     "cell_type": "markdown",
     "checksum": "771e39b6d32bc3722f7f9c45846865f6",
     "grade": true,
     "grade_id": "cell-c5b389d9a6bae124",
     "locked": false,
     "points": 2,
     "schema_version": 3,
     "solution": true,
     "task": false
    }
   },
   "source": [
    "YOUR ANSWER HERE"
   ]
  },
  {
   "cell_type": "markdown",
   "metadata": {},
   "source": [
    "## Questão 3: Sistemas pentadiagonais\n",
    "\n",
    "Agora, suponha que a matriz $A$ é pentadiagonal, ou seja, as entradas não-nulas\n",
    "podem estar até 2 linhas acima ou abaixo da diagonal principal.\n",
    "Generalize o seu programa para resolver sistemas pentadiagonais."
   ]
  },
  {
   "cell_type": "code",
   "execution_count": 26,
   "metadata": {
    "deletable": false,
    "nbgrader": {
     "cell_type": "code",
     "checksum": "571c8582bd5a9013fa43cd3f54aeb512",
     "grade": false,
     "grade_id": "cell-41937ff612288545",
     "locked": false,
     "schema_version": 3,
     "solution": true,
     "task": false
    }
   },
   "outputs": [],
   "source": [
    "def pentadiag_solve(A, b):\n",
    "    A = np.copy(np.asarray(A, dtype=np.float64))\n",
    "    b = np.copy(np.asarray(b, dtype=np.float64))\n",
    "    n,m = np.shape(A)\n",
    "    assert m == len(b)\n",
    "    assert n == m, \"Matrix must be square\"\n",
    "\n",
    "    # Declara os arrays que serão as 'novas diagonais'\n",
    "    c_ = [0 for i in range(n)]\n",
    "    d_ = [0 for i in range(n)]\n",
    "    x = [0 for i in range(n)]\n",
    "\n",
    "    # Extrai as diagonais superiores da matriz\n",
    "    UpperDiagonal1 = [A[i][i-1] for i in range(1, n)]\n",
    "    UpperDiagonal2 = [A[i][i-2] if i-2>=0 else 0 for i in range(0, n-2)]\n",
    "\n",
    "    # Extrai a diagonal principal da matriz\n",
    "    Diagonal = [A[i][i] for i in range(n)]\n",
    "\n",
    "    # Extrai as diagonais inferiores da matriz\n",
    "    LowerDiagonal1 = [A[i][i+1] for i in range(n-1)]\n",
    "    LowerDiagonal2 = [A[i][i+2] if i+2<n else 0 for i in range(0, n-2)]\n",
    "\n",
    "\n",
    "    # Realiza a etapa de substituição para a frente\n",
    "    c_[0] = LowerDiagonal1[0] / Diagonal[0]\n",
    "    d_[0] = b[0] / Diagonal[0]\n",
    "    c_[1] = LowerDiagonal1[1] / (Diagonal[1] - UpperDiagonal1[1] * c_[0] - UpperDiagonal2[1] * d_[0])\n",
    "    d_[1] = (b[1] - UpperDiagonal1[1] * d_[0] - UpperDiagonal2[1] * b[0]) / (Diagonal[1] - UpperDiagonal1[1] * c_[0] - UpperDiagonal2[1] * d_[0])\n",
    "    for i in range(2, n):\n",
    "        print('i')\n",
    "        c_[i] = LowerDiagonal1[i] / (Diagonal[i] - UpperDiagonal1[i] * c_[i - 1] - UpperDiagonal2[i] * c_[i - 2] - LowerDiagonal1[i - 1] * d_[i - 1] - LowerDiagonal2[i - 1] * d_[i - 2])\n",
    "        d_[i] = (b[i] - UpperDiagonal1[i] * d_[i - 1] - UpperDiagonal2[i] * b[i - 2] - LowerDiagonal1[i - 1] * b[i - 1] - LowerDiagonal2[i - 1] * b[i - 2]) / (Diagonal[i] - UpperDiagonal1[i] * c_[i - 1] - UpperDiagonal2[i] * c_[i - 2] - LowerDiagonal1[i - 1] * d_[i - 1] - LowerDiagonal2[i - 1] * d_[i - 2])\n",
    "\n",
    "    # Fazendo a substituição de baixo pra cima.\n",
    "    x[n - 1] = d_[n - 1]\n",
    "    x[n - 2] = d_[n - 2] - c_[n - 2] * x[n - 1]\n",
    "    for i in range(n - 3, -1, -1):\n",
    "        x[i] = d_[i]\n",
    "\n",
    "    return x\n"
   ]
  },
  {
   "cell_type": "code",
   "execution_count": 28,
   "metadata": {
    "deletable": false,
    "editable": false,
    "nbgrader": {
     "cell_type": "code",
     "checksum": "47970c533b0a3e8bfb9150817c2ebbd0",
     "grade": true,
     "grade_id": "cell-2e48084bf174185d",
     "locked": true,
     "points": 1,
     "schema_version": 3,
     "solution": false,
     "task": false
    }
   },
   "outputs": [
    {
     "name": "stdout",
     "output_type": "stream",
     "text": [
      "i\n",
      "i\n"
     ]
    },
    {
     "ename": "IndexError",
     "evalue": "list index out of range",
     "output_type": "error",
     "traceback": [
      "\u001b[1;31m---------------------------------------------------------------------------\u001b[0m",
      "\u001b[1;31mIndexError\u001b[0m                                Traceback (most recent call last)",
      "\u001b[1;32mc:\\Users\\epedr\\Desktop\\GitHub\\MyPython\\06 - Computação científica\\Semana 12\\Teste8.ipynb Célula: 38\u001b[0m in \u001b[0;36m<cell line: 6>\u001b[1;34m()\u001b[0m\n\u001b[0;32m      <a href='vscode-notebook-cell:/c%3A/Users/epedr/Desktop/GitHub/MyPython/06%20-%20Computa%C3%A7%C3%A3o%20cient%C3%ADfica/Semana%2012/Teste8.ipynb#X52sZmlsZQ%3D%3D?line=2'>3</a>\u001b[0m b \u001b[39m=\u001b[39m np\u001b[39m.\u001b[39mrandom\u001b[39m.\u001b[39mrandn(\u001b[39m5\u001b[39m)\n\u001b[0;32m      <a href='vscode-notebook-cell:/c%3A/Users/epedr/Desktop/GitHub/MyPython/06%20-%20Computa%C3%A7%C3%A3o%20cient%C3%ADfica/Semana%2012/Teste8.ipynb#X52sZmlsZQ%3D%3D?line=4'>5</a>\u001b[0m x2 \u001b[39m=\u001b[39m tridiag_solve(A, b)\n\u001b[1;32m----> <a href='vscode-notebook-cell:/c%3A/Users/epedr/Desktop/GitHub/MyPython/06%20-%20Computa%C3%A7%C3%A3o%20cient%C3%ADfica/Semana%2012/Teste8.ipynb#X52sZmlsZQ%3D%3D?line=5'>6</a>\u001b[0m x3 \u001b[39m=\u001b[39m pentadiag_solve(A, b)\n\u001b[0;32m      <a href='vscode-notebook-cell:/c%3A/Users/epedr/Desktop/GitHub/MyPython/06%20-%20Computa%C3%A7%C3%A3o%20cient%C3%ADfica/Semana%2012/Teste8.ipynb#X52sZmlsZQ%3D%3D?line=6'>7</a>\u001b[0m \u001b[39massert\u001b[39;00m np\u001b[39m.\u001b[39mallclose(x3, x2, atol\u001b[39m=\u001b[39m\u001b[39m1e-13\u001b[39m, rtol\u001b[39m=\u001b[39m\u001b[39m1e-13\u001b[39m)\n",
      "\u001b[1;32mc:\\Users\\epedr\\Desktop\\GitHub\\MyPython\\06 - Computação científica\\Semana 12\\Teste8.ipynb Célula: 38\u001b[0m in \u001b[0;36mpentadiag_solve\u001b[1;34m(A, b)\u001b[0m\n\u001b[0;32m     <a href='vscode-notebook-cell:/c%3A/Users/epedr/Desktop/GitHub/MyPython/06%20-%20Computa%C3%A7%C3%A3o%20cient%C3%ADfica/Semana%2012/Teste8.ipynb#X52sZmlsZQ%3D%3D?line=29'>30</a>\u001b[0m \u001b[39mfor\u001b[39;00m i \u001b[39min\u001b[39;00m \u001b[39mrange\u001b[39m(\u001b[39m2\u001b[39m, n\u001b[39m-\u001b[39m\u001b[39m1\u001b[39m):\n\u001b[0;32m     <a href='vscode-notebook-cell:/c%3A/Users/epedr/Desktop/GitHub/MyPython/06%20-%20Computa%C3%A7%C3%A3o%20cient%C3%ADfica/Semana%2012/Teste8.ipynb#X52sZmlsZQ%3D%3D?line=30'>31</a>\u001b[0m     \u001b[39mprint\u001b[39m(\u001b[39m'\u001b[39m\u001b[39mi\u001b[39m\u001b[39m'\u001b[39m)\n\u001b[1;32m---> <a href='vscode-notebook-cell:/c%3A/Users/epedr/Desktop/GitHub/MyPython/06%20-%20Computa%C3%A7%C3%A3o%20cient%C3%ADfica/Semana%2012/Teste8.ipynb#X52sZmlsZQ%3D%3D?line=31'>32</a>\u001b[0m     c_[i] \u001b[39m=\u001b[39m LowerDiagonal1[i] \u001b[39m/\u001b[39m (Diagonal[i] \u001b[39m-\u001b[39m UpperDiagonal1[i] \u001b[39m*\u001b[39m c_[i \u001b[39m-\u001b[39m \u001b[39m1\u001b[39m] \u001b[39m-\u001b[39m UpperDiagonal2[i] \u001b[39m*\u001b[39m c_[i \u001b[39m-\u001b[39m \u001b[39m2\u001b[39m] \u001b[39m-\u001b[39m LowerDiagonal1[i \u001b[39m-\u001b[39m \u001b[39m1\u001b[39m] \u001b[39m*\u001b[39m d_[i \u001b[39m-\u001b[39m \u001b[39m1\u001b[39m] \u001b[39m-\u001b[39m LowerDiagonal2[i \u001b[39m-\u001b[39m \u001b[39m1\u001b[39m] \u001b[39m*\u001b[39m d_[i \u001b[39m-\u001b[39m \u001b[39m2\u001b[39m])\n\u001b[0;32m     <a href='vscode-notebook-cell:/c%3A/Users/epedr/Desktop/GitHub/MyPython/06%20-%20Computa%C3%A7%C3%A3o%20cient%C3%ADfica/Semana%2012/Teste8.ipynb#X52sZmlsZQ%3D%3D?line=32'>33</a>\u001b[0m     d_[i] \u001b[39m=\u001b[39m (b[i] \u001b[39m-\u001b[39m UpperDiagonal1[i] \u001b[39m*\u001b[39m d_[i \u001b[39m-\u001b[39m \u001b[39m1\u001b[39m] \u001b[39m-\u001b[39m UpperDiagonal2[i] \u001b[39m*\u001b[39m b[i \u001b[39m-\u001b[39m \u001b[39m2\u001b[39m] \u001b[39m-\u001b[39m LowerDiagonal1[i \u001b[39m-\u001b[39m \u001b[39m1\u001b[39m] \u001b[39m*\u001b[39m b[i \u001b[39m-\u001b[39m \u001b[39m1\u001b[39m] \u001b[39m-\u001b[39m LowerDiagonal2[i \u001b[39m-\u001b[39m \u001b[39m1\u001b[39m] \u001b[39m*\u001b[39m b[i \u001b[39m-\u001b[39m \u001b[39m2\u001b[39m]) \u001b[39m/\u001b[39m (Diagonal[i] \u001b[39m-\u001b[39m UpperDiagonal1[i] \u001b[39m*\u001b[39m c_[i \u001b[39m-\u001b[39m \u001b[39m1\u001b[39m] \u001b[39m-\u001b[39m UpperDiagonal2[i] \u001b[39m*\u001b[39m c_[i \u001b[39m-\u001b[39m \u001b[39m2\u001b[39m] \u001b[39m-\u001b[39m LowerDiagonal1[i \u001b[39m-\u001b[39m \u001b[39m1\u001b[39m] \u001b[39m*\u001b[39m d_[i \u001b[39m-\u001b[39m \u001b[39m1\u001b[39m] \u001b[39m-\u001b[39m LowerDiagonal2[i \u001b[39m-\u001b[39m \u001b[39m1\u001b[39m] \u001b[39m*\u001b[39m d_[i \u001b[39m-\u001b[39m \u001b[39m2\u001b[39m])\n\u001b[0;32m     <a href='vscode-notebook-cell:/c%3A/Users/epedr/Desktop/GitHub/MyPython/06%20-%20Computa%C3%A7%C3%A3o%20cient%C3%ADfica/Semana%2012/Teste8.ipynb#X52sZmlsZQ%3D%3D?line=34'>35</a>\u001b[0m \u001b[39m# Fazendo a substituição de baixo pra cima.\u001b[39;00m\n",
      "\u001b[1;31mIndexError\u001b[0m: list index out of range"
     ]
    }
   ],
   "source": [
    "np.random.seed(9)\n",
    "A = np.diag(range(3,8)) + np.diag([-1,-1,-2,-2], k=1) + np.diag([-2,-2,-1,-1], k=-1)\n",
    "b = np.random.randn(5)\n",
    "\n",
    "x2 = tridiag_solve(A, b)\n",
    "x3 = pentadiag_solve(A, b)\n",
    "assert np.allclose(x3, x2, atol=1e-13, rtol=1e-13)"
   ]
  },
  {
   "cell_type": "code",
   "execution_count": null,
   "metadata": {
    "deletable": false,
    "editable": false,
    "nbgrader": {
     "cell_type": "code",
     "checksum": "04ad339f95eab013a9699fff6e6b1d59",
     "grade": true,
     "grade_id": "cell-ea99873bf680925a",
     "locked": true,
     "points": 2,
     "schema_version": 3,
     "solution": false,
     "task": false
    }
   },
   "outputs": [],
   "source": [
    "np.random.seed(10)\n",
    "A = np.diag(range(3,9)) + np.diag([-1,-1,-2,-2], k=2) + np.diag([-2,-2,-1,-1], k=-2)\n",
    "b = np.random.randn(6)\n",
    "\n",
    "x1 = np.linalg.solve(A, b)\n",
    "x3 = pentadiag_solve(A, b)\n",
    "assert np.allclose(x1, x3, atol=1e-13, rtol=1e-13)"
   ]
  },
  {
   "cell_type": "code",
   "execution_count": null,
   "metadata": {
    "deletable": false,
    "editable": false,
    "nbgrader": {
     "cell_type": "code",
     "checksum": "8dbfb37bf6eda7931af7f222ab39f266",
     "grade": true,
     "grade_id": "cell-a9b89660ea1f5a11",
     "locked": true,
     "points": 1,
     "schema_version": 3,
     "solution": false,
     "task": false
    }
   },
   "outputs": [],
   "source": [
    "np.random.seed(10)\n",
    "A = np.diag(range(3,9)) + np.diag([-1,-1,0,-2,-2], k=1) + np.diag([-2,-2,-1,-1], k=-2)\n",
    "b = np.random.randn(6)\n",
    "\n",
    "x1 = np.linalg.solve(A, b)\n",
    "x3 = pentadiag_solve(A, b)\n",
    "assert np.allclose(x1, x3, atol=1e-13, rtol=1e-13)"
   ]
  },
  {
   "cell_type": "markdown",
   "metadata": {},
   "source": [
    "Repita os cálculos de tempo, para resolver sistemas de dimensão até $2^{12}$."
   ]
  },
  {
   "cell_type": "code",
   "execution_count": null,
   "metadata": {
    "deletable": false,
    "nbgrader": {
     "cell_type": "code",
     "checksum": "23eb60ac857e3086372641a602f8654c",
     "grade": true,
     "grade_id": "cell-2e5b4eed7bb22b4b",
     "locked": false,
     "points": 1,
     "schema_version": 3,
     "solution": true,
     "task": false
    }
   },
   "outputs": [],
   "source": [
    "ns = np.logspace(4,12, base=2, num=28, dtype=int)\n",
    "t_create = []\n",
    "t_solve  = []\n",
    "for i, n in enumerate(ns):\n",
    "    # YOUR CODE HERE\n",
    "    raise NotImplementedError()"
   ]
  },
  {
   "cell_type": "code",
   "execution_count": null,
   "metadata": {
    "deletable": false,
    "nbgrader": {
     "cell_type": "code",
     "checksum": "498aac693e11746ff8390bc31df8cca1",
     "grade": false,
     "grade_id": "cell-aa08140310aa9c71",
     "locked": false,
     "schema_version": 3,
     "solution": true,
     "task": false
    }
   },
   "outputs": [],
   "source": [
    "# YOUR CODE HERE\n",
    "raise NotImplementedError()\n",
    "\n",
    "ax = plt.gca()"
   ]
  },
  {
   "cell_type": "code",
   "execution_count": null,
   "metadata": {
    "deletable": false,
    "editable": false,
    "nbgrader": {
     "cell_type": "code",
     "checksum": "e8371fb142125e7ddb5eb1a80ece12ad",
     "grade": true,
     "grade_id": "cell-daef85db8ad2ed47",
     "locked": true,
     "points": 1,
     "schema_version": 3,
     "solution": false,
     "task": false
    }
   },
   "outputs": [],
   "source": [
    "assert len(ax.lines) == 2\n",
    "assert len(ax.legend().texts) == 2\n",
    "assert ax.get_title() != \"\""
   ]
  },
  {
   "cell_type": "markdown",
   "metadata": {},
   "source": [
    "O que mudou?"
   ]
  },
  {
   "cell_type": "markdown",
   "metadata": {
    "deletable": false,
    "nbgrader": {
     "cell_type": "markdown",
     "checksum": "44084f4556a1a31704e85c517105d545",
     "grade": true,
     "grade_id": "cell-7e4a3bc07ef66e1e",
     "locked": false,
     "points": 1,
     "schema_version": 3,
     "solution": true,
     "task": false
    }
   },
   "source": [
    "YOUR ANSWER HERE"
   ]
  },
  {
   "cell_type": "markdown",
   "metadata": {},
   "source": [
    "## Questão 4: Velocidade\n",
    "\n",
    "Seu método tridiagonal é mais rápido do que `np.linalg.solve` para matrizes $10 \\times 10$?\n",
    "Para qual $n$, aproximadamente, seu método fica mais rápido?"
   ]
  },
  {
   "cell_type": "code",
   "execution_count": null,
   "metadata": {
    "deletable": false,
    "nbgrader": {
     "cell_type": "code",
     "checksum": "681c180b48f7fa3bfa8cddb19a55ff56",
     "grade": true,
     "grade_id": "cell-cc0d30be0b997cb8",
     "locked": false,
     "points": 2,
     "schema_version": 3,
     "solution": true,
     "task": false
    }
   },
   "outputs": [],
   "source": [
    "# YOUR CODE HERE\n",
    "raise NotImplementedError()"
   ]
  },
  {
   "cell_type": "markdown",
   "metadata": {},
   "source": [
    "E como é a qualidade da solução?\n",
    "Faça cálculos na caixa abaixo, e comente em seguida."
   ]
  },
  {
   "cell_type": "code",
   "execution_count": null,
   "metadata": {
    "deletable": false,
    "nbgrader": {
     "cell_type": "code",
     "checksum": "f83d57bb56e1161bce35efe6cf46d08c",
     "grade": true,
     "grade_id": "cell-b1b8d36719f10882",
     "locked": false,
     "points": 2,
     "schema_version": 3,
     "solution": true,
     "task": false
    }
   },
   "outputs": [],
   "source": [
    "# YOUR CODE HERE\n",
    "raise NotImplementedError()"
   ]
  },
  {
   "cell_type": "markdown",
   "metadata": {
    "deletable": false,
    "nbgrader": {
     "cell_type": "markdown",
     "checksum": "fed93f0c84e2a22c9c1c48046a50a682",
     "grade": true,
     "grade_id": "cell-4f62e86e0f71ebab",
     "locked": false,
     "points": 1,
     "schema_version": 3,
     "solution": true,
     "task": false
    }
   },
   "source": [
    "YOUR ANSWER HERE"
   ]
  }
 ],
 "metadata": {
  "kernelspec": {
   "display_name": "Python 3",
   "language": "python",
   "name": "python3"
  },
  "language_info": {
   "codemirror_mode": {
    "name": "ipython",
    "version": 3
   },
   "file_extension": ".py",
   "mimetype": "text/x-python",
   "name": "python",
   "nbconvert_exporter": "python",
   "pygments_lexer": "ipython3",
   "version": "3.10.4 (tags/v3.10.4:9d38120, Mar 23 2022, 23:13:41) [MSC v.1929 64 bit (AMD64)]"
  },
  "vscode": {
   "interpreter": {
    "hash": "333c8bcc83d56984523ee2c86aa0724e8c64f66b3f19b52fa61ba19ee3d8b9eb"
   }
  }
 },
 "nbformat": 4,
 "nbformat_minor": 4
}
