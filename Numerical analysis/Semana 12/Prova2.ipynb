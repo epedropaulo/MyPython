{
 "cells": [
  {
   "cell_type": "markdown",
   "metadata": {},
   "source": [
    "![CC-BY-SA](https://mirrors.creativecommons.org/presskit/buttons/88x31/svg/by-sa.svg)\n",
    "\n",
    "\n",
    "This notebook was created by [Bernardo Freitas Paulo da Costa](http://www.im.ufrj.br/bernardofpc),\n",
    "and is licensed under Creative Commons BY-SA."
   ]
  },
  {
   "cell_type": "markdown",
   "metadata": {},
   "source": [
    "Antes de enviar este Teste, verifique que tudo está funcionando como esperado.\n",
    "Por exemplo, **rode o código inteiro, do zero**.\n",
    "Para isso, vá no menu, escolha _Kernel_, depois _Restart & Run All_.\n",
    "\n",
    "Verifique, também, que você respondeu todas as questões:\n",
    "* as questões de código têm `YOUR CODE HERE` (e você pode apagar o `raise NotImplemented` ao incluir sua resposta)\n",
    "* as questões discursivas têm \"YOUR ANSWER HERE\"."
   ]
  },
  {
   "cell_type": "markdown",
   "metadata": {},
   "source": [
    "---"
   ]
  },
  {
   "cell_type": "code",
   "execution_count": 1,
   "id": "61164515",
   "metadata": {},
   "outputs": [],
   "source": [
    "import numpy as np\n",
    "import matplotlib.pyplot as plt"
   ]
  },
  {
   "cell_type": "markdown",
   "id": "406a548a",
   "metadata": {},
   "source": [
    "# Parte 1: Interpolação, Regressão e Derivadas\n",
    "\n",
    "Vimos que, ao usar interpolação polinomial com pontos igualmente espaçados,\n",
    "a função fica bem melhor aproximada no centro do intervalo do que nas extremidades.\n",
    "Nesta parte, veremos como estas técnicas poderiam ser usadas para aproximar as derivadas de uma função."
   ]
  },
  {
   "cell_type": "markdown",
   "id": "e70939d4",
   "metadata": {},
   "source": [
    "## Questão 1: Funções básicas"
   ]
  },
  {
   "cell_type": "code",
   "execution_count": 2,
   "id": "072f3bfd",
   "metadata": {
    "deletable": false,
    "nbgrader": {
     "cell_type": "code",
     "checksum": "d42c61b9d6c5862e183c3621b50c2a29",
     "grade": false,
     "grade_id": "cell-566b8544aff904b5",
     "locked": false,
     "schema_version": 3,
     "solution": true,
     "task": false
    }
   },
   "outputs": [],
   "source": [
    "def interp(xs, ys):\n",
    "    \"Retorna os coeficientes do polinomio interpolador para os pontos  (xs, ys).\"\n",
    "    assert(len(xs) == len(ys))\n",
    "    \n",
    "    Vandermonde = []\n",
    "    \n",
    "    for x in xs:\n",
    "        vetor = []\n",
    "        for i in range(len(xs)):\n",
    "            vetor.append(x**i)\n",
    "        Vandermonde.append(vetor)\n",
    "\n",
    "    return np.linalg.solve(Vandermonde,ys)"
   ]
  },
  {
   "cell_type": "code",
   "execution_count": 44,
   "id": "2c07dfda",
   "metadata": {},
   "outputs": [
    {
     "data": {
      "text/plain": [
       "array([ 0.        ,  0.63333333,  0.625     , -0.575     ,  0.125     ,\n",
       "       -0.00833333])"
      ]
     },
     "execution_count": 44,
     "metadata": {},
     "output_type": "execute_result"
    }
   ],
   "source": [
    "interp(np.array([0.0, 1.0, 2.0, 3.0,  4.0,  5.0]), np.array([0.0, 0.8, 0.9, 0.1, -0.8, -1.0]))"
   ]
  },
  {
   "cell_type": "code",
   "execution_count": 3,
   "id": "d0551d37",
   "metadata": {
    "deletable": false,
    "nbgrader": {
     "cell_type": "code",
     "checksum": "62b9879d695be9d3c283a1093dc50f83",
     "grade": false,
     "grade_id": "cell-855e9b9885fc24e8",
     "locked": false,
     "schema_version": 3,
     "solution": true,
     "task": false
    }
   },
   "outputs": [],
   "source": [
    "def regress(xs, ys, d):\n",
    "    \"Retorna os coeficientes do polinomio de grau  d  que aproxima, em mínimos quadrados, os pontos  (xs, ys).\"\n",
    "    \n",
    "    # Retorna a matriz do sistema linear\n",
    "    Matriz_resposta = []\n",
    "\n",
    "    for xs in xs:\n",
    "        linha = []\n",
    "        for i in range(d+1):\n",
    "           linha.append(xs**i)\n",
    "        Matriz_resposta.append(linha)\n",
    "    \n",
    "    Matriz_resposta = np.array(Matriz_resposta)\n",
    "\n",
    "    # Calcula os parâmetros para os dados (t_i, y_i), resolvendo o sistema linear\n",
    "    M = Matriz_resposta\n",
    "    ProdDireito = (M.T @ (M))\n",
    "    ProdEsquerdo = M.T @ ys\n",
    "\n",
    "    return np.linalg.solve(ProdDireito, ProdEsquerdo)"
   ]
  },
  {
   "cell_type": "code",
   "execution_count": 9,
   "id": "513c5500",
   "metadata": {
    "deletable": false,
    "nbgrader": {
     "cell_type": "code",
     "checksum": "bcb0e57dd3892aaa1b979fd33741057e",
     "grade": false,
     "grade_id": "cell-b8e281de75f73d47",
     "locked": false,
     "schema_version": 3,
     "solution": true,
     "task": false
    }
   },
   "outputs": [],
   "source": [
    "def polyval(coefs, t):\n",
    "    \"Calcula o valor do polinômio com coeficietes  coefs  (dados em ordem crescente) nos pontos t.\"    \n",
    "    \"\"\" Método de Horner. Dados os coeficientes em ordem inversa, [a_n, ... a_1, a_0],\n",
    "        retorna uma função que calcula o polinômio correspondente. \"\"\"\n",
    "    coefs = coefs[::-1]\n",
    "    t = np.array(t)\n",
    "    valor = coefs[0]\n",
    "\n",
    "    for a in coefs[1:]:\n",
    "        valor = valor*t + a\n",
    "    \n",
    "    return valor\n",
    "    "
   ]
  },
  {
   "cell_type": "code",
   "execution_count": 10,
   "id": "104a49fc",
   "metadata": {
    "deletable": false,
    "editable": false,
    "nbgrader": {
     "cell_type": "code",
     "checksum": "db0681c72be6d4af8484e4e8fe9ce04f",
     "grade": true,
     "grade_id": "cell-4e69d2d450f7af2a",
     "locked": true,
     "points": 1,
     "schema_version": 3,
     "solution": false,
     "task": false
    }
   },
   "outputs": [],
   "source": [
    "assert np.allclose(polyval([1,2], [0,1,2,3]), [1,3,5,7])"
   ]
  },
  {
   "cell_type": "code",
   "execution_count": 11,
   "id": "60eceef5",
   "metadata": {
    "deletable": false,
    "editable": false,
    "nbgrader": {
     "cell_type": "code",
     "checksum": "5c5426cf5d3e50e9e75c0216e076ba49",
     "grade": true,
     "grade_id": "cell-7121181d665e82cd",
     "locked": true,
     "points": 1,
     "schema_version": 3,
     "solution": false,
     "task": false
    }
   },
   "outputs": [],
   "source": [
    "assert np.allclose(polyval([1,0,1,2], [0,1,-1,1/2,3]), [1, 4, 0, 3/2, 64])"
   ]
  },
  {
   "cell_type": "code",
   "execution_count": 21,
   "id": "3502869c",
   "metadata": {
    "deletable": false,
    "nbgrader": {
     "cell_type": "code",
     "checksum": "7452cc90f4c40875bb6526a1bc3a68cd",
     "grade": false,
     "grade_id": "cell-55cbdc3fb66c8801",
     "locked": false,
     "schema_version": 3,
     "solution": true,
     "task": false
    }
   },
   "outputs": [],
   "source": [
    "def derivada(coefs):\n",
    "    \"Retorna a lista dos coeficientes do polinômio que é a derivada do polinômio dados pelos coeficientes coefs.\"\n",
    "    Dcoefs = []\n",
    "    \n",
    "    for coef, i in enumerate(coefs):\n",
    "        Dcoefs.append(coef*(i))\n",
    "\n",
    "    return Dcoefs[1:]"
   ]
  },
  {
   "cell_type": "code",
   "execution_count": 23,
   "id": "8913bd44",
   "metadata": {
    "deletable": false,
    "editable": false,
    "nbgrader": {
     "cell_type": "code",
     "checksum": "4e3dacad01c4be8d25344ad6b4e1ab9d",
     "grade": true,
     "grade_id": "cell-ee3ddf220ea61d8b",
     "locked": true,
     "points": 1,
     "schema_version": 3,
     "solution": false,
     "task": false
    }
   },
   "outputs": [
    {
     "name": "stdout",
     "output_type": "stream",
     "text": [
      "[0, 2, 6, 12, 20]\n"
     ]
    }
   ],
   "source": [
    "assert np.allclose(derivada([1,2,3,4,5]), [2,6,12,20])"
   ]
  },
  {
   "cell_type": "markdown",
   "id": "a0905a5e",
   "metadata": {},
   "source": [
    "## Questão 2: Erros de interpolação\n",
    "\n",
    "Usando pontos igualmente espaçados,\n",
    "podemos calular um polinômio $p_d$ de grau $d$ que interpola uma função $f$.\n",
    "Ao derivar este polinômio, obtemos uma aproximação da derivada $f'$.\n",
    "\n",
    "Vamos estudar como este método funciona para a função seno."
   ]
  },
  {
   "cell_type": "markdown",
   "id": "1d03d929",
   "metadata": {},
   "source": [
    "Faça, lado a lado (usando `subplots`),\n",
    "o gráfico do erro cometido pelo polinômio de interpolação de grau 2 para a função seno no intervalo [0,3],\n",
    "e o erro resultante de usar a derivada deste polinômio para aproximar a derivada."
   ]
  },
  {
   "cell_type": "code",
   "execution_count": 40,
   "id": "936717ed",
   "metadata": {
    "deletable": false,
    "nbgrader": {
     "cell_type": "code",
     "checksum": "1351cb0704408487325f5d81bf009617",
     "grade": true,
     "grade_id": "cell-2a7d42db9637df01",
     "locked": false,
     "points": 1,
     "schema_version": 3,
     "solution": true,
     "task": false
    }
   },
   "outputs": [
    {
     "name": "stderr",
     "output_type": "stream",
     "text": [
      "No artists with labels found to put in legend.  Note that artists whose label start with an underscore are ignored when legend() is called with no argument.\n"
     ]
    },
    {
     "name": "stdout",
     "output_type": "stream",
     "text": [
      "[0.0, 1.2829533127854502, -0.8239422067325519]\n"
     ]
    },
    {
     "data": {
      "image/png": "[encoded data removed]",
      "text/plain": [
       "<Figure size 936x288 with 2 Axes>"
      ]
     },
     "metadata": {
      "needs_background": "light"
     },
     "output_type": "display_data"
    }
   ],
   "source": [
    "fig, (ax1, ax2) = plt.subplots(ncols=2, figsize=(13,4))\n",
    "\n",
    "# YOUR CODE HERE\n",
    "xs = np.linspace(0, 3, 3)\n",
    "ys = np.sin(xs)\n",
    "\n",
    "CoefsInterpola = interp(xs, ys)\n",
    "CoefsInterpolaDerivado = derivada(CoefsInterpola)\n",
    "\n",
    "ts = np.arange(0, 3.01, 0.01)\n",
    "\n",
    "ValorSen = np.sin(ts)\n",
    "ValorInter = polyval(CoefsInterpola,ts)\n",
    "ax1.semilogy(ts, abs(ValorSen - ValorInter))\n",
    "ax1.set_title('Erro da interpolação')\n",
    "ax1.set_ylim(10e-6)\n",
    "\n",
    "ValorCos = np.cos(ts)\n",
    "ValorInterDer = polyval(CoefsInterpolaDerivado,ts)\n",
    "ax2.semilogy(ts, abs(ValorCos - ValorInterDer))\n",
    "ax2.set_title('Erro da derivada aproximada pela interpolação')\n",
    "\n",
    "plt.legend()\n",
    "\n",
    "fig = plt.gcf()"
   ]
  },
  {
   "cell_type": "code",
   "execution_count": 28,
   "id": "9916dab0",
   "metadata": {
    "deletable": false,
    "editable": false,
    "nbgrader": {
     "cell_type": "code",
     "checksum": "76f75de6010d08146093a192611505ab",
     "grade": true,
     "grade_id": "cell-21255229689d00e2",
     "locked": true,
     "points": 1,
     "schema_version": 3,
     "solution": false,
     "task": false
    }
   },
   "outputs": [],
   "source": [
    "for ax in fig.axes:\n",
    "    assert len(ax.get_title()) >= 10"
   ]
  },
  {
   "cell_type": "markdown",
   "id": "f02e8a0a",
   "metadata": {},
   "source": [
    "Quem tem mais erro: a aproximação da função ou da derivada?\n",
    "(Talvez você tenha que ajustar `ylim` para ver melhor o gráfico)"
   ]
  },
  {
   "attachments": {},
   "cell_type": "markdown",
   "id": "5437484e",
   "metadata": {
    "deletable": false,
    "nbgrader": {
     "cell_type": "markdown",
     "checksum": "a730dabdc8cb145d8616c9a606a2922b",
     "grade": true,
     "grade_id": "cell-f401dc89c460fd8a",
     "locked": false,
     "points": 2,
     "schema_version": 3,
     "solution": true,
     "task": false
    }
   },
   "source": [
    "Ao que parece, no geral, a grandeza dos erros são parecidos, mas a derivada possui um pouco mais de erro, nos pontos de fronteira o erro da derivada aumenta consideravelmente. E nos pontos de interpolação o erro da derivada não vai a 0, como se esperaria."
   ]
  },
  {
   "cell_type": "markdown",
   "id": "8cb4b63f",
   "metadata": {},
   "source": [
    "## Questão 3: mais graus!\n",
    "\n",
    "Faça também para os graus 4, 6 e 8."
   ]
  },
  {
   "cell_type": "code",
   "execution_count": 59,
   "id": "479b8bac",
   "metadata": {
    "deletable": false,
    "nbgrader": {
     "cell_type": "code",
     "checksum": "c57de3529c4dc28e8fbe78b07a2e146e",
     "grade": true,
     "grade_id": "cell-973f3ee1fa20a0c4",
     "locked": false,
     "points": 1,
     "schema_version": 3,
     "solution": true,
     "task": false
    }
   },
   "outputs": [
    {
     "name": "stdout",
     "output_type": "stream",
     "text": [
      "[0.0, 0.9816280099334677, 0.11914348049932144, -0.7115361575265178, 0.1513044806790705]\n",
      "[0.0, 1.000537287822975, -0.005749091910100448, -0.48194642711250146, -0.0259818757724975, 0.06126911383254238, -0.007807811075469773]\n",
      "[0.0, 0.9999909123199723, 0.00013954125911396097, -0.5006524253489959, 0.001470998522485648, 0.039787252212427564, 0.0014527481311664816, -0.0020754824075094637, 0.00018884205656110136]\n"
     ]
    },
    {
     "data": {
      "image/png": "[encoded data removed]",
      "text/plain": [
       "<Figure size 936x288 with 2 Axes>"
      ]
     },
     "metadata": {
      "needs_background": "light"
     },
     "output_type": "display_data"
    }
   ],
   "source": [
    "# YOUR CODE HERE\n",
    "fig, (ax1, ax2) = plt.subplots(ncols=2, figsize=(13,4))\n",
    "\n",
    "# YOUR CODE HERE\n",
    "grau = [4, 6, 8]\n",
    "for i in grau:\n",
    "    xs = np.linspace(0, 3, i+1)\n",
    "    ys = np.sin(xs)\n",
    "\n",
    "    CoefsInterpola = interp(xs, ys)\n",
    "    CoefsInterpolaDerivado = derivada(CoefsInterpola)\n",
    "\n",
    "    ts = np.arange(0, 3.01, 0.01)\n",
    "\n",
    "    ValorSen = np.sin(ts)\n",
    "    ValorInter = polyval(CoefsInterpola,ts)\n",
    "    ax1.semilogy(ts, abs(ValorSen - ValorInter), label=f'Erro grau {i}')\n",
    "    ax1.set_title('Erro da interpolação')\n",
    "    ax1.legend()\n",
    "    ax1.set_ylim(10e-13)\n",
    "\n",
    "    ValorCos = np.cos(ts)\n",
    "    ValorInterDer = polyval(CoefsInterpolaDerivado,ts)\n",
    "    ax2.semilogy(ts, abs(ValorCos - ValorInterDer), label=f'Erro grau Der {i}')\n",
    "    ax2.set_title('Erro da derivada aproximada pela interpolação')\n",
    "    ax2.legend()\n",
    "    \n",
    "\n",
    "fig = plt.gcf()"
   ]
  },
  {
   "cell_type": "code",
   "execution_count": 45,
   "id": "9a3c8ddf",
   "metadata": {
    "deletable": false,
    "editable": false,
    "nbgrader": {
     "cell_type": "code",
     "checksum": "e7f2ac7c865b38d7e76afeff258b86db",
     "grade": true,
     "grade_id": "cell-048290a33ef62c01",
     "locked": true,
     "points": 1,
     "schema_version": 3,
     "solution": false,
     "task": false
    }
   },
   "outputs": [],
   "source": [
    "assert len(fig.axes) == 2\n",
    "for ax in fig.axes:\n",
    "    assert len(ax.lines) == 3"
   ]
  },
  {
   "cell_type": "code",
   "execution_count": 49,
   "id": "df7ca903",
   "metadata": {
    "deletable": false,
    "editable": false,
    "nbgrader": {
     "cell_type": "code",
     "checksum": "8ab96874c5cded487203758df01214a9",
     "grade": true,
     "grade_id": "cell-32fc335cf5a0b8f2",
     "locked": true,
     "points": 1,
     "schema_version": 3,
     "solution": false,
     "task": false
    }
   },
   "outputs": [],
   "source": [
    "for ax in fig.axes:\n",
    "    assert len(ax.get_title()) >= 10\n",
    "    assert len(ax.get_legend().texts) == 3"
   ]
  },
  {
   "cell_type": "code",
   "execution_count": 50,
   "id": "318f43db",
   "metadata": {
    "deletable": false,
    "editable": false,
    "nbgrader": {
     "cell_type": "code",
     "checksum": "a6d1dd07a93f7412c9c59cd03327cdb7",
     "grade": false,
     "grade_id": "cell-38a6b7f425f016ee",
     "locked": true,
     "schema_version": 3,
     "solution": false,
     "task": false
    }
   },
   "outputs": [],
   "source": [
    "fig = None"
   ]
  },
  {
   "cell_type": "markdown",
   "id": "2d7b567f",
   "metadata": {},
   "source": [
    "O erro é maior para aproximar a função ou a derivada?  De quanto?"
   ]
  },
  {
   "attachments": {},
   "cell_type": "markdown",
   "id": "53d71f22",
   "metadata": {
    "deletable": false,
    "nbgrader": {
     "cell_type": "markdown",
     "checksum": "58c2aeb545ed4fbcde375616433f6cb8",
     "grade": true,
     "grade_id": "cell-72ee9a599552cad7",
     "locked": false,
     "points": 2,
     "schema_version": 3,
     "solution": true,
     "task": false
    }
   },
   "source": [
    "Os erros da derivada são claramente um pouco maior, principalmente quando vai se aproximando da fronteira do intervalo. Interessante tbm que o erro da derivada apresenta ser mais estável do que o erro da função"
   ]
  },
  {
   "cell_type": "markdown",
   "id": "fe35ea5b",
   "metadata": {},
   "source": [
    "O erro da aproximação da derivada é maior no centro ou nas extremidades?  Isso é esperado?"
   ]
  },
  {
   "attachments": {},
   "cell_type": "markdown",
   "id": "c208ffc9",
   "metadata": {
    "deletable": false,
    "nbgrader": {
     "cell_type": "markdown",
     "checksum": "3a5ec11888398edbd4042e5fae709ddc",
     "grade": true,
     "grade_id": "cell-4d9249c0cb22a125",
     "locked": false,
     "points": 2,
     "schema_version": 3,
     "solution": true,
     "task": false
    }
   },
   "source": [
    "É maior nas extremidades. Isso era esperado tendo em vista que o polinômio interpolador também piora indo pras extremidades. \n",
    "O ponto interessante são os pontos onde foi feita a interpolação, que claramente no polinomio em si o erro é 0, mas na sua derivada o erro segue o padrão normalmente, e quando se trata das extremidades interpoladas ele piora absurdamente."
   ]
  },
  {
   "cell_type": "markdown",
   "id": "c2671e65",
   "metadata": {},
   "source": [
    "### Outros graus\n",
    "\n",
    "Faça agora com graus 3, 5, 7 e 9."
   ]
  },
  {
   "cell_type": "code",
   "execution_count": 62,
   "id": "7632b7fe",
   "metadata": {
    "deletable": false,
    "nbgrader": {
     "cell_type": "code",
     "checksum": "2c8b4547efb6a038de8ff5969cadcda0",
     "grade": false,
     "grade_id": "cell-58e684613a16bef2",
     "locked": false,
     "schema_version": 3,
     "solution": true,
     "task": false
    }
   },
   "outputs": [
    {
     "name": "stdout",
     "output_type": "stream",
     "text": [
      "[0.0, 1.207506816871789, -0.7112852247966226, -0.031179658996744297]\n",
      "[0.0, 0.9884512210934401, 0.08639977087362438, -0.6713420446760261, 0.1331448514449943, 0.0027337970405624887]\n",
      "[0.0, 1.0003056171638536, -0.0036725182761735463, -0.4872340298080889, -0.020060717293552396, 0.05798033181555994, -0.006919238216792322, -9.31137651227067e-05]\n",
      "[0.0, 0.9999952352974163, 8.059530265049907e-05, -0.500412077504623, 0.0010088047083378468, 0.040276994977967426, 0.001150141349018722, -0.0019668905668514354, 0.00016787754385025225, 1.6827320420686056e-06]\n"
     ]
    },
    {
     "data": {
      "image/png": "[encoded data removed]",
      "text/plain": [
       "<Figure size 936x288 with 2 Axes>"
      ]
     },
     "metadata": {
      "needs_background": "light"
     },
     "output_type": "display_data"
    }
   ],
   "source": [
    "# YOUR CODE HERE\n",
    "# YOUR CODE HERE\n",
    "fig, (ax1, ax2) = plt.subplots(ncols=2, figsize=(13,4))\n",
    "\n",
    "# YOUR CODE HERE\n",
    "grau = [3, 5, 7, 9]\n",
    "for i in grau:\n",
    "    xs = np.linspace(0, 3, i+1)\n",
    "    ys = np.sin(xs)\n",
    "\n",
    "    CoefsInterpola = interp(xs, ys)\n",
    "    CoefsInterpolaDerivado = derivada(CoefsInterpola)\n",
    "\n",
    "    ts = np.arange(0, 3.01, 0.01)\n",
    "\n",
    "    ValorSen = np.sin(ts)\n",
    "    ValorInter = polyval(CoefsInterpola,ts)\n",
    "    ax1.semilogy(ts, abs(ValorSen - ValorInter), label=f'Erro grau {i}')\n",
    "    ax1.set_title('Erro da interpolação')\n",
    "    ax1.legend()\n",
    "    ax1.set_ylim(10e-11)\n",
    "\n",
    "    ValorCos = np.cos(ts)\n",
    "    ValorInterDer = polyval(CoefsInterpolaDerivado,ts)\n",
    "    ax2.semilogy(ts, abs(ValorCos - ValorInterDer), label=f'Erro grau Der {i}')\n",
    "    ax2.set_title('Erro da derivada aproximada pela interpolação')\n",
    "    ax2.legend()\n",
    "    \n",
    "\n",
    "fig = plt.gcf()"
   ]
  },
  {
   "cell_type": "code",
   "execution_count": 63,
   "id": "be0cdd41",
   "metadata": {
    "deletable": false,
    "editable": false,
    "nbgrader": {
     "cell_type": "code",
     "checksum": "93582a4d8f642c148dd84afb80e8d5e3",
     "grade": true,
     "grade_id": "cell-3c290c4cf6af9f75",
     "locked": true,
     "points": 1,
     "schema_version": 3,
     "solution": false,
     "task": false
    }
   },
   "outputs": [],
   "source": [
    "assert len(fig.axes) == 2\n",
    "for ax in fig.axes:\n",
    "    assert len(ax.lines) == 4"
   ]
  },
  {
   "cell_type": "code",
   "execution_count": 64,
   "id": "7cb0269c",
   "metadata": {
    "deletable": false,
    "editable": false,
    "nbgrader": {
     "cell_type": "code",
     "checksum": "138359e7e005cca2172be6b78196d5d8",
     "grade": false,
     "grade_id": "cell-2ec1425ae5aa30c2",
     "locked": true,
     "schema_version": 3,
     "solution": false,
     "task": false
    }
   },
   "outputs": [],
   "source": [
    "fig = None"
   ]
  },
  {
   "cell_type": "markdown",
   "id": "37db5ccc",
   "metadata": {},
   "source": [
    "Comente as diferenças e similaridades com o caso anterior.\n",
    "O que você acha que aconteceu?"
   ]
  },
  {
   "attachments": {},
   "cell_type": "markdown",
   "id": "9d3b2ac8",
   "metadata": {
    "deletable": false,
    "nbgrader": {
     "cell_type": "markdown",
     "checksum": "2e309a87e562f0df63e7afe103a0bd9e",
     "grade": true,
     "grade_id": "cell-11769646a4ec04ff",
     "locked": false,
     "points": 2,
     "schema_version": 3,
     "solution": true,
     "task": false
    }
   },
   "source": [
    "A primeira diferença notável é a periodicidade perfeita dos polinômios de grau ímpar, e isso claramente se deve ao fato da função seno ser uma função par, e quando pegamos uma quantidade pares de pontos pra descreve-lâ ajuda a entender a função, diferente de quando pegamos uma quantidade ímpar de pontos. \n",
    "(Perceba que os polinômios de graus pares precisam de uma quantidade ímpar de pontos para interpolar o polinômio, enquanto os polinômios impares usam uma quantidade par.)\n",
    "\n"
   ]
  },
  {
   "cell_type": "markdown",
   "id": "dd49699b",
   "metadata": {},
   "source": [
    "## Questão 4: Erros de regressão\n",
    "\n",
    "Calcule a função seno em 31 pontos igualmente espaçados no intervalo $[0,3]$,\n",
    "e use-os para ajustar os polinômios de regressão de graus 2, 4, 6 e 8."
   ]
  },
  {
   "cell_type": "code",
   "execution_count": 77,
   "id": "dd7227e0",
   "metadata": {
    "deletable": false,
    "nbgrader": {
     "cell_type": "code",
     "checksum": "4b5539e57d18b343480b842c9fa42d7d",
     "grade": true,
     "grade_id": "cell-5fc98e5ce71ab4d8",
     "locked": false,
     "points": 1,
     "schema_version": 3,
     "solution": true,
     "task": false
    }
   },
   "outputs": [
    {
     "data": {
      "image/png": "[encoded data removed]",
      "text/plain": [
       "<Figure size 936x288 with 2 Axes>"
      ]
     },
     "metadata": {
      "needs_background": "light"
     },
     "output_type": "display_data"
    }
   ],
   "source": [
    "\n",
    "# YOUR CODE HERE\n",
    "fig, (ax1, ax2) = plt.subplots(ncols=2, figsize=(13,4))\n",
    "\n",
    "grau = [2, 4, 6, 8]\n",
    "for i in grau:\n",
    "    xs = np.linspace(0, 3, 31)\n",
    "    ys = np.sin(xs)\n",
    "\n",
    "    CoefsInterpola = regress(xs, ys, i)\n",
    "\n",
    "    ts = np.arange(0, 3.01, 0.01)\n",
    "\n",
    "    ValorSen = np.sin(ts)\n",
    "    ValorInter = polyval(CoefsInterpola,ts)\n",
    "    ax1.semilogy(ts, abs(ValorSen - ValorInter), label=f'Erro grau {i}')\n",
    "    ax1.set_title('Erro da regressão')\n",
    "    ax1.legend()\n",
    "\n",
    "    ValorCos = np.cos(ts)\n",
    "    ValorInterDer = polyval(CoefsInterpolaDerivado,ts)\n",
    "    ax2.semilogy(ts, abs(ValorCos - ValorInterDer), label=f'Erro grau Der {i}', lw=32/i)\n",
    "    ax2.set_title('Erro da derivada aproximada pela regressão')\n",
    "    ax2.legend()\n",
    "    \n",
    "\n",
    "fig = plt.gcf()"
   ]
  },
  {
   "cell_type": "code",
   "execution_count": null,
   "id": "c211034c",
   "metadata": {
    "deletable": false,
    "editable": false,
    "nbgrader": {
     "cell_type": "code",
     "checksum": "81c5b76a727494cdefb5f7e999f46e48",
     "grade": true,
     "grade_id": "cell-f435f72f7f31ebab",
     "locked": true,
     "points": 1,
     "schema_version": 3,
     "solution": false,
     "task": false
    }
   },
   "outputs": [],
   "source": [
    "assert len(fig.axes) == 2\n",
    "for ax in fig.axes:\n",
    "    assert len(ax.lines) == 4"
   ]
  },
  {
   "cell_type": "markdown",
   "id": "96eb4c82",
   "metadata": {},
   "source": [
    "Compare os erros de ajuste da função (seno), entre este método e o uso dos polinômios interpoladores."
   ]
  },
  {
   "attachments": {},
   "cell_type": "markdown",
   "id": "aa74bbb0",
   "metadata": {
    "deletable": false,
    "nbgrader": {
     "cell_type": "markdown",
     "checksum": "3602216aee71f209651c0e40154ce1a9",
     "grade": true,
     "grade_id": "cell-1137e73231f08f5c",
     "locked": false,
     "points": 2,
     "schema_version": 3,
     "solution": true,
     "task": false
    }
   },
   "source": [
    "O erro da função em si é bem alto comparado com a interpolação de mesmo grau. A parte interessante também é notar que na grande parte do erro ele mantêm um valor constante, isso se deve ao fato de que a proposta da regressão é justamente minimizar o erro em todos os pontos."
   ]
  },
  {
   "cell_type": "markdown",
   "id": "5216b053",
   "metadata": {},
   "source": [
    "Compare os erros de ajuste das derivadas."
   ]
  },
  {
   "attachments": {},
   "cell_type": "markdown",
   "id": "d4e5f220",
   "metadata": {
    "deletable": false,
    "nbgrader": {
     "cell_type": "markdown",
     "checksum": "10399a438e8ba4d40a2084cc3f639270",
     "grade": true,
     "grade_id": "cell-e19b218aaa08e0e6",
     "locked": false,
     "points": 2,
     "schema_version": 3,
     "solution": true,
     "task": false
    }
   },
   "source": [
    "O erro da derivada é bem interessante tendo em vista que ele é bem baixo, e também que ele independe do grau do polinômio de regressão. O que é uma total surpresa."
   ]
  },
  {
   "cell_type": "markdown",
   "id": "cb9318ed",
   "metadata": {},
   "source": [
    "## Questão 5: Derivadas centrais\n",
    "\n",
    "Qual seria o tamanho do passo necessário para calcular uma aproximação da derivada usando a derivada central,\n",
    "de forma a obter um erro comparável com ajuste do polinômio de grau 2? E de grau 4?\n",
    "\n",
    "Faça os cálculos abaixo, indicando **como você chegou nestes valores**."
   ]
  },
  {
   "cell_type": "code",
   "execution_count": null,
   "id": "fcd9a633",
   "metadata": {
    "deletable": false,
    "nbgrader": {
     "cell_type": "code",
     "checksum": "ab457d5064ea6b1d2bd721f89bf3ffd2",
     "grade": true,
     "grade_id": "cell-fb05d08928079d51",
     "locked": false,
     "points": 2,
     "schema_version": 3,
     "solution": true,
     "task": false
    }
   },
   "outputs": [],
   "source": [
    "# YOUR CODE HERE\n",
    "raise NotImplementedError()"
   ]
  },
  {
   "cell_type": "markdown",
   "metadata": {},
   "source": [
    "Agora, faça o ajuste dos polinômios de grau 12, 14 e 16, por interpolação, no intervalo $[0,3]$."
   ]
  },
  {
   "cell_type": "code",
   "execution_count": null,
   "metadata": {
    "deletable": false,
    "nbgrader": {
     "cell_type": "code",
     "checksum": "b053a8a5550392f7107a997278fc2be0",
     "grade": true,
     "grade_id": "cell-ea9316fd28a3dd09",
     "locked": false,
     "points": 1,
     "schema_version": 3,
     "solution": true,
     "task": false
    }
   },
   "outputs": [],
   "source": [
    "# YOUR CODE HERE\n",
    "raise NotImplementedError()"
   ]
  },
  {
   "cell_type": "markdown",
   "metadata": {},
   "source": [
    "Qual a magnitude do erro que você obtém para a derivada, no intervalo $[0,3]$?"
   ]
  },
  {
   "cell_type": "markdown",
   "metadata": {
    "deletable": false,
    "nbgrader": {
     "cell_type": "markdown",
     "checksum": "7fa7290bb2cd6c3ea9561fefdfa83745",
     "grade": true,
     "grade_id": "cell-ef3ce90130b9cc69",
     "locked": false,
     "points": 2,
     "schema_version": 3,
     "solution": true,
     "task": false
    }
   },
   "source": [
    "YOUR ANSWER HERE"
   ]
  },
  {
   "cell_type": "markdown",
   "metadata": {},
   "source": [
    "Qual seria o passo no método das derivadas centrais para obter esse erro?"
   ]
  },
  {
   "cell_type": "code",
   "execution_count": null,
   "metadata": {
    "deletable": false,
    "nbgrader": {
     "cell_type": "code",
     "checksum": "058e245c01f5255cebff02f72986110d",
     "grade": true,
     "grade_id": "cell-f6760b5dc99933a0",
     "locked": false,
     "points": 1,
     "schema_version": 3,
     "solution": true,
     "task": false
    }
   },
   "outputs": [],
   "source": [
    "# YOUR CODE HERE\n",
    "raise NotImplementedError()"
   ]
  },
  {
   "cell_type": "markdown",
   "metadata": {},
   "source": [
    "Comente"
   ]
  },
  {
   "cell_type": "markdown",
   "metadata": {
    "deletable": false,
    "nbgrader": {
     "cell_type": "markdown",
     "checksum": "b302dc747ec43865d2d5b1224736f566",
     "grade": true,
     "grade_id": "cell-a01f3874f40c7c92",
     "locked": false,
     "points": 2,
     "schema_version": 3,
     "solution": true,
     "task": false
    }
   },
   "source": [
    "YOUR ANSWER HERE"
   ]
  },
  {
   "cell_type": "markdown",
   "metadata": {},
   "source": [
    "# Parte 2: Interpolação com derivadas\n",
    "\n",
    "Suponha que, além dos valores $y_i = f(x_i)$, também possuímos $z_i = f'(x_i)$.\n",
    "Deveríamos ser capazes de calcular melhores polinômios interpoladores!"
   ]
  },
  {
   "cell_type": "markdown",
   "metadata": {},
   "source": [
    "## Questão 6: Equações\n",
    "\n",
    "Suponha que são dados apenas 2 pontos.\n",
    "- Quais equações os coeficientes do polinômio devem satisfazer?\n",
    "- Qual o grau deste polinômio?\n",
    "- A matriz deste sistema é inversível?"
   ]
  },
  {
   "cell_type": "markdown",
   "metadata": {
    "deletable": false,
    "nbgrader": {
     "cell_type": "markdown",
     "checksum": "7ea093afdd193319e16b2bfab75db64d",
     "grade": true,
     "grade_id": "cell-934f5617695c4d35",
     "locked": false,
     "points": 4,
     "schema_version": 3,
     "solution": true,
     "task": false
    }
   },
   "source": [
    "YOUR ANSWER HERE"
   ]
  },
  {
   "cell_type": "markdown",
   "metadata": {},
   "source": [
    "No caso geral, quais são as novas equações que os coeficientes $p_i$ devem satisfazer?"
   ]
  },
  {
   "cell_type": "markdown",
   "metadata": {
    "deletable": false,
    "nbgrader": {
     "cell_type": "markdown",
     "checksum": "0d213ddfa659c2528822d60105e9ea5c",
     "grade": true,
     "grade_id": "cell-d01ad641148d355c",
     "locked": false,
     "points": 2,
     "schema_version": 3,
     "solution": true,
     "task": false
    }
   },
   "source": [
    "YOUR ANSWER HERE"
   ]
  },
  {
   "cell_type": "markdown",
   "metadata": {},
   "source": [
    "Escreva a função `matrix_der(xs,d)` que calcula a matriz que multiplica estes coeficientes,\n",
    "(nas novas equações)\n",
    "em função dos pontos `xs` onde sabemos as derivadas e do grau `d` que o polinômio terá.\n",
    "\n",
    "(Essa função é análoga à função que constrói a matriz para a interpolação e regressão)"
   ]
  },
  {
   "cell_type": "code",
   "execution_count": null,
   "metadata": {
    "deletable": false,
    "nbgrader": {
     "cell_type": "code",
     "checksum": "a119266096c4b5e72bb05fd9770e0792",
     "grade": false,
     "grade_id": "cell-58b77f52d20dd378",
     "locked": false,
     "schema_version": 3,
     "solution": true,
     "task": false
    }
   },
   "outputs": [],
   "source": [
    "def matrix_der(xs, d):\n",
    "    xs = np.asarray(xs, dtype=float)\n",
    "    # YOUR CODE HERE\n",
    "    raise NotImplementedError()"
   ]
  },
  {
   "cell_type": "code",
   "execution_count": null,
   "metadata": {
    "deletable": false,
    "editable": false,
    "nbgrader": {
     "cell_type": "code",
     "checksum": "25a2e00a395c135526417c109811a9a6",
     "grade": true,
     "grade_id": "cell-d7fe8f37c5a1619b",
     "locked": true,
     "points": 1,
     "schema_version": 3,
     "solution": false,
     "task": false
    }
   },
   "outputs": [],
   "source": [
    "M1 = matrix_der([1,2,3], 3)\n",
    "ans = [[ 0.,  1.,  2.,  3.],\n",
    "       [ 0.,  1.,  4., 12.],\n",
    "       [ 0.,  1.,  6., 27.]]\n",
    "assert np.allclose(M1, ans)"
   ]
  },
  {
   "cell_type": "code",
   "execution_count": null,
   "metadata": {
    "deletable": false,
    "editable": false,
    "nbgrader": {
     "cell_type": "code",
     "checksum": "60c21c7fc44f50214a312681dca682c1",
     "grade": true,
     "grade_id": "cell-3b71e23c69074122",
     "locked": true,
     "points": 1,
     "schema_version": 3,
     "solution": false,
     "task": false
    }
   },
   "outputs": [],
   "source": [
    "M1 = matrix_der([1,2,3,4,5], 3)\n",
    "assert np.shape(M1) == (5,4)"
   ]
  },
  {
   "cell_type": "code",
   "execution_count": null,
   "metadata": {
    "deletable": false,
    "editable": false,
    "nbgrader": {
     "cell_type": "code",
     "checksum": "0211b079654dff8cba0c7dafa0f26cd3",
     "grade": true,
     "grade_id": "cell-edb9c7dd2d9bda51",
     "locked": true,
     "points": 1,
     "schema_version": 3,
     "solution": false,
     "task": false
    }
   },
   "outputs": [],
   "source": [
    "M1 = matrix_der([1,2,3,4,5], 8)\n",
    "assert np.shape(M1) == (5,9)"
   ]
  },
  {
   "cell_type": "markdown",
   "metadata": {},
   "source": [
    "## Questão 7: Resolvendo o sistema\n",
    "\n",
    "Para construir matrizes e vetores em \"blocos\", você pode usar `np.hstack`, `np.vstack` e/ou `np.block`."
   ]
  },
  {
   "cell_type": "code",
   "execution_count": null,
   "metadata": {
    "deletable": false,
    "nbgrader": {
     "cell_type": "code",
     "checksum": "98f45958385826d5cd98ce746be9f5a5",
     "grade": false,
     "grade_id": "cell-1d00ebde4e7590b3",
     "locked": false,
     "schema_version": 3,
     "solution": true,
     "task": false
    }
   },
   "outputs": [],
   "source": [
    "def interp1(xs, ys, zs):\n",
    "    \"Retorna os coeficientes do polinomio interpolador para os pontos  (xs, ys), com respectivas derivadas zs.\"\n",
    "    # YOUR CODE HERE\n",
    "    raise NotImplementedError()"
   ]
  },
  {
   "cell_type": "code",
   "execution_count": null,
   "metadata": {
    "deletable": false,
    "editable": false,
    "nbgrader": {
     "cell_type": "code",
     "checksum": "3befe4dd0fd295dc4e2998b9b4616927",
     "grade": true,
     "grade_id": "cell-b0a59f2a58a41945",
     "locked": true,
     "points": 1,
     "schema_version": 3,
     "solution": false,
     "task": false
    }
   },
   "outputs": [],
   "source": [
    "coefs = interp1([0], [1], [1])\n",
    "assert np.allclose(coefs, [1,1])"
   ]
  },
  {
   "cell_type": "code",
   "execution_count": null,
   "metadata": {
    "deletable": false,
    "editable": false,
    "nbgrader": {
     "cell_type": "code",
     "checksum": "5d06ffdc5b3bed8c5c88a55387cd1f7d",
     "grade": true,
     "grade_id": "cell-40b33dd22778f59b",
     "locked": true,
     "points": 1,
     "schema_version": 3,
     "solution": false,
     "task": false
    }
   },
   "outputs": [],
   "source": [
    "coefs = interp1([1], [1], [1])\n",
    "assert np.allclose(coefs, [0,1])"
   ]
  },
  {
   "cell_type": "markdown",
   "metadata": {},
   "source": [
    "Explique a resposta dos dois `assert`s acima (analiticamente)"
   ]
  },
  {
   "cell_type": "markdown",
   "metadata": {
    "deletable": false,
    "nbgrader": {
     "cell_type": "markdown",
     "checksum": "612521d4eb519230d94337ca6f8d0c90",
     "grade": true,
     "grade_id": "cell-4a4775d38cbae6b0",
     "locked": false,
     "points": 2,
     "schema_version": 3,
     "solution": true,
     "task": false
    }
   },
   "source": [
    "YOUR ANSWER HERE"
   ]
  },
  {
   "cell_type": "code",
   "execution_count": null,
   "metadata": {
    "deletable": false,
    "editable": false,
    "nbgrader": {
     "cell_type": "code",
     "checksum": "defc3c775b1afe5873c39a1584df4344",
     "grade": true,
     "grade_id": "cell-a82a7970fb329e55",
     "locked": true,
     "points": 1,
     "schema_version": 3,
     "solution": false,
     "task": false
    }
   },
   "outputs": [],
   "source": [
    "coefs = interp1([0,1], [1,1], [1,1])\n",
    "assert np.allclose(coefs, [1,1,-3,2])"
   ]
  },
  {
   "cell_type": "code",
   "execution_count": null,
   "metadata": {
    "deletable": false,
    "editable": false,
    "nbgrader": {
     "cell_type": "code",
     "checksum": "cfa2df466be6aab08dc5e2de2e8d7179",
     "grade": true,
     "grade_id": "cell-c5b7935b4e99250c",
     "locked": true,
     "points": 1,
     "schema_version": 3,
     "solution": false,
     "task": false
    }
   },
   "outputs": [],
   "source": [
    "xs = np.array([0,1.0])\n",
    "ys = np.array([1,3.0])\n",
    "zs = np.array([1,1.0])\n",
    "coefs = interp1(xs, ys, zs)\n",
    "assert np.allclose(coefs, [1,1,3,-2])"
   ]
  },
  {
   "cell_type": "markdown",
   "metadata": {},
   "source": [
    "Explique porque os coeficientes de grau 0 e 1 são os mesmos de só fazer a interpolação no zero."
   ]
  },
  {
   "cell_type": "markdown",
   "metadata": {
    "deletable": false,
    "nbgrader": {
     "cell_type": "markdown",
     "checksum": "a39c2d80f59c12f8322c1ece7254c324",
     "grade": true,
     "grade_id": "cell-9765128c90047cf1",
     "locked": false,
     "points": 2,
     "schema_version": 3,
     "solution": true,
     "task": false
    }
   },
   "source": [
    "YOUR ANSWER HERE"
   ]
  },
  {
   "cell_type": "markdown",
   "metadata": {},
   "source": [
    "## Questão 8: Erro\n",
    "\n",
    "O erro decai conforme aumentamos o número de pontos?\n",
    "Teste para as funções $f(x) = \\cos(x)$ e $g(x) = e^x$ no intervalo $[-1, 2]$."
   ]
  },
  {
   "cell_type": "code",
   "execution_count": null,
   "metadata": {
    "deletable": false,
    "nbgrader": {
     "cell_type": "code",
     "checksum": "b11ce4bc711aa561af8fb164b4b54385",
     "grade": true,
     "grade_id": "cell-8b434e2818e22439",
     "locked": false,
     "points": 1,
     "schema_version": 3,
     "solution": true,
     "task": false
    }
   },
   "outputs": [],
   "source": [
    "# Gráficos de erro para o cosseno\n",
    "# YOUR CODE HERE\n",
    "raise NotImplementedError()\n",
    "\n",
    "ax = plt.gca()"
   ]
  },
  {
   "cell_type": "code",
   "execution_count": null,
   "metadata": {
    "deletable": false,
    "editable": false,
    "nbgrader": {
     "cell_type": "code",
     "checksum": "c571668d13041e46d80bf92ce19e1f46",
     "grade": true,
     "grade_id": "cell-b2862b82616b2e3d",
     "locked": true,
     "points": 1,
     "schema_version": 3,
     "solution": false,
     "task": false
    }
   },
   "outputs": [],
   "source": [
    "assert len(ax.get_title()) >= 10\n",
    "assert len(ax.lines) >= 5"
   ]
  },
  {
   "cell_type": "code",
   "execution_count": null,
   "metadata": {
    "deletable": false,
    "editable": false,
    "nbgrader": {
     "cell_type": "code",
     "checksum": "178cb17dca4784ec71b9f52b5268e0de",
     "grade": false,
     "grade_id": "cell-591eb3fcfd3565d6",
     "locked": true,
     "schema_version": 3,
     "solution": false,
     "task": false
    }
   },
   "outputs": [],
   "source": [
    "ax = None"
   ]
  },
  {
   "cell_type": "code",
   "execution_count": null,
   "metadata": {
    "deletable": false,
    "nbgrader": {
     "cell_type": "code",
     "checksum": "9f0a92c2f0aa62c0091f78bdae2c676d",
     "grade": false,
     "grade_id": "cell-9e6c28507fd0599a",
     "locked": false,
     "schema_version": 3,
     "solution": true,
     "task": false
    }
   },
   "outputs": [],
   "source": [
    "# Gráficos de erro para a função exponencial\n",
    "# YOUR CODE HERE\n",
    "raise NotImplementedError()\n",
    "\n",
    "ax = plt.gca()"
   ]
  },
  {
   "cell_type": "code",
   "execution_count": null,
   "metadata": {
    "deletable": false,
    "editable": false,
    "nbgrader": {
     "cell_type": "code",
     "checksum": "14fd7291fb1ae6aebd0af537cecab269",
     "grade": true,
     "grade_id": "cell-3f36983cc18ba65b",
     "locked": true,
     "points": 1,
     "schema_version": 3,
     "solution": false,
     "task": false
    }
   },
   "outputs": [],
   "source": [
    "assert len(ax.get_title()) >= 10\n",
    "assert len(ax.lines) >= 5"
   ]
  },
  {
   "cell_type": "markdown",
   "metadata": {},
   "source": [
    "## Questão 9: Comparando\n",
    "\n",
    "Há duas formas de obter um polinômio de grau 9 para interpolar a função cosseno:\n",
    "- calcular a função em 10 pontos igualmente espaçados;\n",
    "- calcular a função e sua derivada em 5 pontos igualmente espaçados.\n",
    "\n",
    "Faça um gráfico dos erros, no interalo $[-1,2]$, para cada um destes polinômios."
   ]
  },
  {
   "cell_type": "code",
   "execution_count": null,
   "metadata": {
    "deletable": false,
    "nbgrader": {
     "cell_type": "code",
     "checksum": "20cefbcdef5c6feea4473c038c1ae498",
     "grade": true,
     "grade_id": "cell-1c405a0879f9c946",
     "locked": false,
     "points": 2,
     "schema_version": 3,
     "solution": true,
     "task": false
    }
   },
   "outputs": [],
   "source": [
    "# YOUR CODE HERE\n",
    "raise NotImplementedError()"
   ]
  },
  {
   "cell_type": "markdown",
   "metadata": {},
   "source": [
    "Para termos uma medida quantitativa,\n",
    "calcule a soma dos valores absolutos dos erros,\n",
    "para vários pontos ao longo do intervalo $[-1,2]$"
   ]
  },
  {
   "cell_type": "code",
   "execution_count": null,
   "metadata": {
    "deletable": false,
    "nbgrader": {
     "cell_type": "code",
     "checksum": "699388985b9a7ce6ed3720f8f5d4172f",
     "grade": true,
     "grade_id": "cell-43d865f7677874aa",
     "locked": false,
     "points": 1,
     "schema_version": 3,
     "solution": true,
     "task": false
    }
   },
   "outputs": [],
   "source": [
    "# YOUR CODE HERE\n",
    "raise NotImplementedError()"
   ]
  },
  {
   "cell_type": "markdown",
   "metadata": {},
   "source": [
    "Faça o mesmo estudo para polinômios de grau 7, 11 e 15."
   ]
  },
  {
   "cell_type": "code",
   "execution_count": null,
   "metadata": {
    "deletable": false,
    "nbgrader": {
     "cell_type": "code",
     "checksum": "b1a8ca4746a50539c012ab0fc2f46514",
     "grade": true,
     "grade_id": "cell-0c46b1bc59ecc8aa",
     "locked": false,
     "points": 3,
     "schema_version": 3,
     "solution": true,
     "task": false
    }
   },
   "outputs": [],
   "source": [
    "# YOUR CODE HERE\n",
    "raise NotImplementedError()"
   ]
  },
  {
   "cell_type": "markdown",
   "metadata": {},
   "source": [
    "O que você observa?"
   ]
  },
  {
   "cell_type": "code",
   "execution_count": null,
   "metadata": {
    "deletable": false,
    "nbgrader": {
     "cell_type": "code",
     "checksum": "0ee63faf47ca6905683ec107236e219f",
     "grade": true,
     "grade_id": "cell-f6b609417d4f4b45",
     "locked": false,
     "points": 2,
     "schema_version": 3,
     "solution": true,
     "task": false
    }
   },
   "outputs": [],
   "source": [
    "# YOUR CODE HERE\n",
    "raise NotImplementedError()"
   ]
  },
  {
   "cell_type": "markdown",
   "metadata": {},
   "source": [
    "Refaça para a função exponencial, com vários graus."
   ]
  },
  {
   "cell_type": "code",
   "execution_count": null,
   "metadata": {
    "deletable": false,
    "nbgrader": {
     "cell_type": "code",
     "checksum": "d8c587fdc42cbfd9ab8c6f38059d6fe3",
     "grade": true,
     "grade_id": "cell-e49db1b0c6791936",
     "locked": false,
     "points": 1,
     "schema_version": 3,
     "solution": true,
     "task": false
    }
   },
   "outputs": [],
   "source": [
    "# YOUR CODE HERE\n",
    "raise NotImplementedError()"
   ]
  },
  {
   "cell_type": "markdown",
   "metadata": {},
   "source": [
    "O que você viu no caso do cosseno se mantém aqui?\n",
    "Porque você acha que isso aconteceu?"
   ]
  },
  {
   "cell_type": "code",
   "execution_count": null,
   "metadata": {
    "deletable": false,
    "nbgrader": {
     "cell_type": "code",
     "checksum": "8820611a6e61a7d29daee4355c1e2351",
     "grade": true,
     "grade_id": "cell-9e8630881d65646f",
     "locked": false,
     "points": 2,
     "schema_version": 3,
     "solution": true,
     "task": false
    }
   },
   "outputs": [],
   "source": [
    "# YOUR CODE HERE\n",
    "raise NotImplementedError()"
   ]
  }
 ],
 "metadata": {
  "kernelspec": {
   "display_name": "Python 3",
   "language": "python",
   "name": "python3"
  },
  "language_info": {
   "codemirror_mode": {
    "name": "ipython",
    "version": 3
   },
   "file_extension": ".py",
   "mimetype": "text/x-python",
   "name": "python",
   "nbconvert_exporter": "python",
   "pygments_lexer": "ipython3",
   "version": "3.10.4"
  },
  "vscode": {
   "interpreter": {
    "hash": "333c8bcc83d56984523ee2c86aa0724e8c64f66b3f19b52fa61ba19ee3d8b9eb"
   }
  }
 },
 "nbformat": 4,
 "nbformat_minor": 5
}
