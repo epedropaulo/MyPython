{
 "cells": [
  {
   "attachments": {},
   "cell_type": "markdown",
   "metadata": {},
   "source": [
    "Nome: Pedro Paulo Dantas Silva Martins\n",
    "\n",
    "Lista 2, respostas."
   ]
  },
  {
   "attachments": {},
   "cell_type": "markdown",
   "metadata": {},
   "source": [
    "**1 - (Kernels em todo canto)**\n",
    "\n",
    "a) Sabemos que o $\\beta_0$ captura justamente o deslocamento dos nossos dados, caso os dados não fossem deslocados (com relação a origem), o nosso $\\beta_0$ seria 0.<br>\n",
    "E o ato de tirarmos a média de todos os dados, é justamente o processo que centraliza os dados com relação a origem. Logo quando fazemos isso o $\\beta_0 = 0$."
   ]
  },
  {
   "attachments": {},
   "cell_type": "markdown",
   "metadata": {},
   "source": [
    "b) $\\hat{\\beta} = argmin_{\\tilde{\\beta}} \\sum_{i=1}^n (y_i - \\sum_{j=1}^p x_{ij} \\tilde{\\beta_j})^2 + \\lambda \\sum_{j=1}^p \\tilde{\\beta_j}^2$<br>\n",
    "É possível perceber que nesse caso não há uso de matrizes e vetores. A conta é feita pelas entradas. Transformarei para a forma vetorial e matricial.\n",
    "\n",
    "\n",
    "$\\hat{\\beta} = argmin_{\\tilde{\\beta}} (Y - X \\tilde{\\beta})^T (Y - X \\tilde{\\beta}) + \\lambda I \\tilde{\\beta}^T \\tilde{\\beta}$ Sabemos que o problema é convexo. Logo, se derivarmos em relação ao $\\tilde{\\beta}$ e igualarmos a 0 será o ponto de mínimo global, e portanto acharemos o nosso $\\hat{\\beta}$\n",
    "\n",
    "$-2X^T (Y - X \\hat{\\beta}) + 2\\lambda I \\hat{\\beta} = 0$ &harr; $-X^T Y + X^T X \\hat{\\beta} + \\lambda I \\hat{\\beta} = 0$ &harr; $(X^T X + \\lambda I\n",
    "\\hat{\\beta} = X^T Y$ &harr; $\\hat{\\beta} = (X^T X + \\lambda I)^{-1} X^T Y$\n",
    "\n",
    "É possível perceber que realmente quando $\\lambda = 0$ temos que o nosso $\\hat{\\beta}$ é igual ao de uma regressão linear."
   ]
  },
  {
   "attachments": {},
   "cell_type": "markdown",
   "metadata": {},
   "source": [
    "c) $\\hat{\\beta} = (X^T X + \\lambda I)^{-1} X^T Y$ Usando a fórmula sugerida pelo enunciado temos:<br>\n",
    "$\\hat{\\beta} = (\\frac{1}{\\lambda} I - \\frac{1}{\\lambda} I X^T (I + X \\frac{1}{\\lambda} I X^T)^{-1}X \\frac{1}{\\lambda} I) X^T Y$<br>\n",
    "$\\hat{\\beta} = \\frac{1}{\\lambda}IX^TY - \\frac{1}{\\lambda} I X^T(I + X\\frac{1}{\\lambda}I X^T)^{-1} X \\frac{1}{\\lambda} I X^T Y$ (Obs.: Perceba que $\\frac{1}{\\lambda} I X^T = X^T \\frac{1}{\\lambda} I$. Logo botamos o $X^T$ em evidência.)<br>\n",
    "$\\hat{\\beta} = X^T(\\frac{1}{\\lambda} I Y - \\frac{1}{\\lambda} I (I + X \\frac{1}{\\lambda} I X^T)^{-1} X \\frac{1}{\\lambda} I X^T Y)$; Se definirmos nosso $\\alpha = \\frac{1}{\\lambda} I Y - \\frac{1}{\\lambda} I (I + X \\frac{1}{\\lambda} I X^T)^{-1} X \\frac{1}{\\lambda} I X^T Y$<br>\n",
    "$\\hat{\\beta} = X^T \\alpha$ &harr; $\\hat{\\beta} = \\sum_{i=1}^{n} \\alpha_i x_i$"
   ]
  },
  {
   "attachments": {},
   "cell_type": "markdown",
   "metadata": {},
   "source": [
    "d) Sabemos que uma previsão é feita $y_* = \\beta x_*$ ($\\beta_0 = 0$). Portanto a previsão seria:<br>\n",
    "$y_* = \\sum_{i=1}^{n} \\alpha_i x_i x_*$"
   ]
  },
  {
   "attachments": {},
   "cell_type": "markdown",
   "metadata": {},
   "source": [
    "e) Já constatamos que $f(x) = \\sum_{i=1}^{n} \\alpha_i x_i x$\n",
    "\n",
    "É importante ressaltar a dimensão das coisas. $x_i \\in \\mathcal{R}^P$ são as observações anteriores sendo uma linha da Matriz principal. $x$ é um vetor com os parâmetros da nova observação. Portanto, é fácil ver que:<br>\n",
    "$f(x) = \\sum_{i=1}^{n} \\alpha_i \\langle x_i', x \\rangle$\n",
    "\n",
    "Agora podemos substituir esse produto interno por alguma outra função que respeite certas propriedades, e chamamos essa função de kernel $\\mathbf{K}(.,.)$.\n",
    "\n",
    "Logo podemos reescrever a $f(x)$ para um kernel qualquer:<br>\n",
    "$f(x) = \\sum_{i=1}^{n} \\alpha_i \\mathbf{K}(x_i',x)$"
   ]
  },
  {
   "attachments": {},
   "cell_type": "markdown",
   "metadata": {},
   "source": [
    "f) Realmente a fórmula para o coeficiente que achamos é a mesma para o SVM. Porém, lembrando das condições KKT para SVM, para todo ponto que não seja ponto de suporte o nosso $\\alpha$ do ponto será $0$.\n",
    "\n",
    "Logo uma diferença essencial é justamente a esparsidade do nosso $\\alpha$, há muitos $0$ no SVM."
   ]
  },
  {
   "cell_type": "code",
   "execution_count": 1,
   "metadata": {},
   "outputs": [],
   "source": [
    "# G)\n",
    "# Código pronto\n",
    "\n",
    "import numpy as np\n",
    "import pandas as pd\n",
    "from sklearn.model_selection import train_test_split , KFold\n",
    "from sklearn.linear_model import Ridge , LinearRegression\n",
    "from sklearn.kernel_ridge import KernelRidge\n",
    "from sklearn.pipeline import make_pipeline\n",
    "from sklearn import preprocessing\n",
    "from tqdm import tqdm\n",
    "\n",
    "\n",
    "number_of_folds = 10\n",
    "data = pd.read_csv(\"./bodyfat.csv\")\n",
    "X = data.drop(columns =[\"BodyFat\",\"Density\"])\n",
    "y = data[\"BodyFat\"]\n",
    "X_train , X_test , y_train , y_test = train_test_split(X, y, test_size =0.2, random_state =0)"
   ]
  },
  {
   "cell_type": "code",
   "execution_count": 2,
   "metadata": {},
   "outputs": [],
   "source": [
    "# Fazendo a normalização dos dados.\n",
    "scaler = preprocessing.StandardScaler().fit(X_train)\n",
    "X_train = scaler.transform(X_train)\n",
    "X_test = scaler.transform(X_test)"
   ]
  },
  {
   "cell_type": "code",
   "execution_count": 3,
   "metadata": {},
   "outputs": [
    {
     "name": "stdout",
     "output_type": "stream",
     "text": [
      "15.910489104854406\n"
     ]
    }
   ],
   "source": [
    "# (i) MSE da regressão linear nos dados de teste:\n",
    "lr = LinearRegression().fit(X_train, y_train)\n",
    "y_hat_lr = lr.predict(X_test)\n",
    "\n",
    "def MSE(y_hat, y=y_test):\n",
    "    tamanho = y_hat.shape[0]\n",
    "    MSE = np.sum((y_hat - y)**2)/tamanho\n",
    "    return MSE\n",
    "\n",
    "lr_MSE = MSE(y_hat_lr)\n",
    "print(lr_MSE)"
   ]
  },
  {
   "cell_type": "code",
   "execution_count": 4,
   "metadata": {},
   "outputs": [
    {
     "name": "stderr",
     "output_type": "stream",
     "text": [
      "100%|██████████| 100/100 [00:01<00:00, 52.30it/s]"
     ]
    },
    {
     "name": "stdout",
     "output_type": "stream",
     "text": [
      "15.872514115940753\n"
     ]
    },
    {
     "name": "stderr",
     "output_type": "stream",
     "text": [
      "\n"
     ]
    }
   ],
   "source": [
    "# (ii) MSE do ridge nos dados de teste:\n",
    "from sklearn.preprocessing import StandardScaler\n",
    "\n",
    "alphas = 10**np.linspace(3,-2,100)\n",
    "ridge_cv_mse = []\n",
    "\n",
    "for alpha in tqdm(alphas):\n",
    "    cv_MSE = []\n",
    "    folds = KFold(n_splits=number_of_folds, shuffle=True, random_state=2023).split(X_train , y_train)\n",
    "    y_vector = np.array(y_train)\n",
    "    for train_idx , val_idx in folds:\n",
    "        ridge_pipeline = make_pipeline(StandardScaler(), Ridge(alpha=alpha))\n",
    "        ridge_pipeline[1].fit(X_train[train_idx], y_vector[train_idx]) # treine seu modelo nos folds de treino\n",
    "        y_hat = ridge_pipeline[1].predict(X_train[val_idx]) # faça suas previsões no fold de validação\n",
    "        cv_MSE.append(MSE(y_hat, y_vector[val_idx])) # salve o MSE encontrado no fold de validação\n",
    "\n",
    "    ridge_cv_mse.append(np.mean(cv_MSE))\n",
    "\n",
    "index_min = ridge_cv_mse.index(min(ridge_cv_mse))\n",
    "optimal_alpha = alphas[index_min] # encontre o melhor valor de alpha\n",
    "ridge_pipeline = make_pipeline(StandardScaler(), Ridge(alpha=optimal_alpha))\n",
    "ridge_pipeline[1].fit(X_train, y_train) # treine seu modelo em todo o conjunto de treino\n",
    "\n",
    "y_hat_ridge = ridge_pipeline[1].predict(X_test)\n",
    "ridge_MSE = MSE(y_hat_ridge)\n",
    "print(ridge_MSE)"
   ]
  },
  {
   "cell_type": "code",
   "execution_count": 5,
   "metadata": {},
   "outputs": [
    {
     "name": "stderr",
     "output_type": "stream",
     "text": [
      "100%|██████████| 400/400 [00:13<00:00, 30.27it/s]\n"
     ]
    },
    {
     "name": "stdout",
     "output_type": "stream",
     "text": [
      "14.663798962219209\n",
      "('rbf', 0.001, 0.01)\n"
     ]
    }
   ],
   "source": [
    "# (iii) e (IV) Obtendo os optimal hyperparams para a kernel ridge e também calculando seu MSE\n",
    "\n",
    "kernels = [\"linear\", \"polynomial\", \"rbf\", \"laplacian\"]\n",
    "gammas = [10**-3]\n",
    "alphas = 10**np.linspace(3, -2, 100)\n",
    "hyperparams = [( kernel , gamma , alpha) for kernel in kernels for gamma in gammas for alpha in alphas]\n",
    "Kernelridge_cv_mse = []\n",
    "\n",
    "for hyperparam in tqdm(hyperparams):\n",
    "    kernel = hyperparam[0]\n",
    "    gamma = hyperparam[1]\n",
    "    alpha = hyperparam[2]\n",
    "\n",
    "    cv_MSE = []\n",
    "    folds = KFold(n_splits=number_of_folds, shuffle=True, random_state=2023).split(X_train , y_train)\n",
    "    y_vector = np.array(y_train)\n",
    "    for train_idx , val_idx in folds:\n",
    "        Kernelridge_pipeline = make_pipeline(StandardScaler(), KernelRidge(alpha=alpha, kernel=kernel, gamma=gamma))\n",
    "        Kernelridge_pipeline[1].fit(X_train[train_idx], y_vector[train_idx]) # treine seu modelo nos folds de treino\n",
    "        y_hat = Kernelridge_pipeline[1].predict(X_train[val_idx]) # faça suas previsões no fold de validação\n",
    "        cv_MSE.append(MSE(y_hat, y_vector[val_idx])) # salve o MSE encontrado no fold de validação\n",
    "\n",
    "    Kernelridge_cv_mse.append(np.mean(cv_MSE))\n",
    "\n",
    "index_min = Kernelridge_cv_mse.index(min(Kernelridge_cv_mse))\n",
    "optimal_hyperparam = hyperparams[index_min] # encontre o melhor valor de alpha\n",
    "optimal_kernel = optimal_hyperparam[0]\n",
    "optimal_gamma = optimal_hyperparam[1]\n",
    "optimal_alpha = optimal_hyperparam[2]\n",
    "\n",
    "Kernelridge_pipeline = make_pipeline(StandardScaler(), KernelRidge(alpha=optimal_alpha, kernel=optimal_kernel, gamma=optimal_gamma))\n",
    "Kernelridge_pipeline[1].fit(X_train, y_train) # treine seu modelo em todo o conjunto de treino\n",
    "\n",
    "y_hat_Kernelridge = Kernelridge_pipeline[1].predict(X_test)\n",
    "Kernelridge_MSE = MSE(y_hat_Kernelridge)\n",
    "print(Kernelridge_MSE)\n",
    "print(optimal_hyperparam)"
   ]
  }
 ],
 "metadata": {
  "kernelspec": {
   "display_name": "Python 3",
   "language": "python",
   "name": "python3"
  },
  "language_info": {
   "codemirror_mode": {
    "name": "ipython",
    "version": 3
   },
   "file_extension": ".py",
   "mimetype": "text/x-python",
   "name": "python",
   "nbconvert_exporter": "python",
   "pygments_lexer": "ipython3",
   "version": "3.11.1"
  },
  "orig_nbformat": 4,
  "vscode": {
   "interpreter": {
    "hash": "9d6b32d6802feadfc7b2884ae209e4f61f5356a9fc8071acad924e2215544356"
   }
  }
 },
 "nbformat": 4,
 "nbformat_minor": 2
}
