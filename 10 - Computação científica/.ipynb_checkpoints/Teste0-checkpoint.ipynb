{
 "cells": [
  {
   "cell_type": "markdown",
   "metadata": {
    "deletable": false,
    "editable": false,
    "nbgrader": {
     "cell_type": "markdown",
     "checksum": "b4f7750809392f73bfc4ec79fa333a18",
     "grade": false,
     "grade_id": "cell-bb6dcf392808a471",
     "locked": true,
     "schema_version": 3,
     "solution": false
    }
   },
   "source": [
    "# Teste 0\n",
    "\n",
    "Este teste servirá como \"teste\" da plataforma de testes e provas para o curso de Computação Científica I.\n",
    "Assim, você poderá ter uma ideia de como serão corrigidas\n",
    "- as listas de exercícios\n",
    "- as provas"
   ]
  },
  {
   "cell_type": "markdown",
   "metadata": {
    "deletable": false,
    "editable": false,
    "nbgrader": {
     "cell_type": "markdown",
     "checksum": "dfe2f76c4c261ade26ba6462207f6edd",
     "grade": false,
     "grade_id": "cell-174c760a712d7675",
     "locked": true,
     "schema_version": 3,
     "solution": false
    }
   },
   "source": [
    "## Questão 1\n",
    "\n",
    "Escreva uma função `cubes` que retorna a lista de todos os cubos da lista passada em argumento."
   ]
  },
  {
   "cell_type": "code",
   "execution_count": null,
   "metadata": {
    "deletable": false,
    "nbgrader": {
     "cell_type": "code",
     "checksum": "5a33d8afac0d0ceeec54754e65dbdb37",
     "grade": false,
     "grade_id": "cell-f0b9d04bcf0176e9",
     "locked": false,
     "schema_version": 3,
     "solution": true
    }
   },
   "outputs": [],
   "source": [
    "# YOUR CODE HERE\n",
    "raise NotImplementedError()"
   ]
  },
  {
   "cell_type": "code",
   "execution_count": null,
   "metadata": {},
   "outputs": [],
   "source": [
    "# Teste aqui a sua função antes de passar para a parte dos \"asserts\" abaixo.\n",
    "cubes([1,2,5]) # Deveria produzir a lista [1, 8, 125]"
   ]
  },
  {
   "cell_type": "markdown",
   "metadata": {
    "deletable": false,
    "editable": false,
    "nbgrader": {
     "cell_type": "markdown",
     "checksum": "9fe904e10d8e9bee49892c8bf3b00265",
     "grade": false,
     "grade_id": "cell-a37f25224785dddf",
     "locked": true,
     "schema_version": 3,
     "solution": false
    }
   },
   "source": [
    "A caixa a seguir contém testes que serão efetuados sobre a sua função.\n",
    "- Se algum teste falhar, você verá uma mensagem com `Assertion Error`.\n",
    "- Senão, você verá a mensagem \"Tudo ok\". (por causa do \"print\"; em geral, será apenas vazio como nas seguintes)\n",
    "\n",
    "Não apague: é ela que conta os pontos da questão!"
   ]
  },
  {
   "cell_type": "code",
   "execution_count": null,
   "metadata": {
    "deletable": false,
    "editable": false,
    "nbgrader": {
     "cell_type": "code",
     "checksum": "4258675cd22debffe6f475173800b84d",
     "grade": true,
     "grade_id": "cubes_test",
     "locked": true,
     "points": 3,
     "schema_version": 3,
     "solution": false
    }
   },
   "outputs": [],
   "source": [
    "assert(cubes([0]) == [0])\n",
    "assert(cubes([1,2,5]) == [1, 8, 125])\n",
    "assert(cubes([3, -10, 11]) == [27, -1000, 1331])\n",
    "\n",
    "print(\"Tudo ok\")"
   ]
  },
  {
   "cell_type": "markdown",
   "metadata": {
    "deletable": false,
    "editable": false,
    "nbgrader": {
     "cell_type": "markdown",
     "checksum": "0d23501eaa661621cf668a16678ef78b",
     "grade": false,
     "grade_id": "cell-eb071293961f4e15",
     "locked": true,
     "schema_version": 3,
     "solution": false
    }
   },
   "source": [
    "**Observação**:\n",
    "Você pode criar novas caixas no notebook, em especial para testar suas funções.\n",
    "Isso é útil, em particular, porque as caixas de `assert` não devem ser alteradas\n",
    "(e o notebook protege para não alterar)."
   ]
  },
  {
   "cell_type": "code",
   "execution_count": null,
   "metadata": {
    "deletable": false,
    "editable": false,
    "nbgrader": {
     "cell_type": "code",
     "checksum": "dabe87849b64ea1ea3a8476494c92510",
     "grade": true,
     "grade_id": "cell-dab4951ec2dfe199",
     "locked": true,
     "points": 1,
     "schema_version": 3,
     "solution": false,
     "task": false
    }
   },
   "outputs": [],
   "source": [
    "# Mais um teste :-)\n",
    "assert(cubes([]) == [])"
   ]
  },
  {
   "cell_type": "markdown",
   "metadata": {
    "deletable": false,
    "editable": false,
    "nbgrader": {
     "cell_type": "markdown",
     "checksum": "d41deb2e9ccabf5abe45fbe2d7641c38",
     "grade": false,
     "grade_id": "cell-a54a87b529897009",
     "locked": true,
     "schema_version": 3,
     "solution": false
    }
   },
   "source": [
    "## Questão 2\n",
    "\n",
    "Escreva uma função que calcula o máximo das diferenças consecutivas entre os elementos de uma lista.\n",
    "Em \"fórmulas\":\n",
    "\n",
    "$$ g(l) = \\max_{i} (l_i - l_{i-1}). $$"
   ]
  },
  {
   "cell_type": "code",
   "execution_count": null,
   "metadata": {
    "deletable": false,
    "nbgrader": {
     "cell_type": "code",
     "checksum": "e4e3090333ce0f4e4dd26a0c7958f29d",
     "grade": false,
     "grade_id": "cell-ffb7646c93c15d6d",
     "locked": false,
     "schema_version": 3,
     "solution": true
    }
   },
   "outputs": [],
   "source": [
    "# YOUR CODE HERE\n",
    "raise NotImplementedError()"
   ]
  },
  {
   "cell_type": "code",
   "execution_count": null,
   "metadata": {
    "deletable": false,
    "editable": false,
    "nbgrader": {
     "cell_type": "code",
     "checksum": "0918af72c8fea58352d2c7ae61c94487",
     "grade": true,
     "grade_id": "cell-a459c206ee62e94b",
     "locked": true,
     "points": 3,
     "schema_version": 3,
     "solution": false
    }
   },
   "outputs": [],
   "source": [
    "assert g([0,1,2,3,4,5,6]) == 1\n",
    "assert g([0,2,3,-1,0]) == 2\n",
    "assert g([6,5,4,3,2,1,0]) == -1"
   ]
  },
  {
   "cell_type": "markdown",
   "metadata": {
    "deletable": false,
    "editable": false,
    "nbgrader": {
     "cell_type": "markdown",
     "checksum": "30bb60f51d8cfbb396c6bccab08fdb6f",
     "grade": false,
     "grade_id": "cell-74a334af8b1896d8",
     "locked": true,
     "schema_version": 3,
     "solution": false
    }
   },
   "source": [
    "A caixa a seguir também contém testes, mas agora eles estão \"escondidos\".\n",
    "\n",
    "Vale lembrar, mais uma vez, a mesma observação de antes: mantenha esta caixa: ela contém os pontos referentes aos testes, mesmo que você não os possa ver."
   ]
  },
  {
   "cell_type": "code",
   "execution_count": null,
   "metadata": {
    "deletable": false,
    "editable": false,
    "nbgrader": {
     "cell_type": "code",
     "checksum": "1faeee336e5b9ccbee936d73981b7645",
     "grade": true,
     "grade_id": "cell-558c38603d84d3ca",
     "locked": true,
     "points": 2,
     "schema_version": 3,
     "solution": false
    }
   },
   "outputs": [],
   "source": [
    "# Caixa com testes - não apague"
   ]
  },
  {
   "cell_type": "markdown",
   "metadata": {
    "deletable": false,
    "editable": false,
    "nbgrader": {
     "cell_type": "markdown",
     "checksum": "19aee9a8bafe2b7d730c9d033ae5b003",
     "grade": false,
     "grade_id": "cell-bfd90c3889f3817e",
     "locked": true,
     "schema_version": 3,
     "solution": false
    }
   },
   "source": [
    "### Observação\n",
    "\n",
    "Para ter certeza que este notebook será corrigido corretamente, o melhor é rodar tudo \"de uma vez só, do zero\".\n",
    "Para simular isto, use o menu: `Kernel -> Restart & Run All`."
   ]
  }
 ],
 "metadata": {
  "hide_input": false,
  "kernelspec": {
   "display_name": "Python 3 (ipykernel)",
   "language": "python",
   "name": "python3"
  },
  "language_info": {
   "codemirror_mode": {
    "name": "ipython",
    "version": 3
   },
   "file_extension": ".py",
   "mimetype": "text/x-python",
   "name": "python",
   "nbconvert_exporter": "python",
   "pygments_lexer": "ipython3",
   "version": "3.9.12"
  },
  "toc": {
   "base_numbering": 1,
   "nav_menu": {},
   "number_sections": true,
   "sideBar": true,
   "skip_h1_title": false,
   "title_cell": "Table of Contents",
   "title_sidebar": "Contents",
   "toc_cell": true,
   "toc_position": {},
   "toc_section_display": true,
   "toc_window_display": true
  }
 },
 "nbformat": 4,
 "nbformat_minor": 1
}
