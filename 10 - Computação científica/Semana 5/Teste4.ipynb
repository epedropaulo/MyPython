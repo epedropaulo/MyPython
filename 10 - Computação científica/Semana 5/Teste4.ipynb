{
 "cells": [
  {
   "cell_type": "markdown",
   "metadata": {},
   "source": [
    "![CC-BY-SA](https://mirrors.creativecommons.org/presskit/buttons/88x31/svg/by-sa.svg)\n",
    "\n",
    "\n",
    "This notebook was created by [Bernardo Freitas Paulo da Costa](http://www.im.ufrj.br/bernardofpc),\n",
    "and is licensed under Creative Commons BY-SA."
   ]
  },
  {
   "cell_type": "markdown",
   "metadata": {},
   "source": [
    "Antes de enviar este Teste, verifique que tudo está funcionando como esperado.\n",
    "Por exemplo, **rode o código inteiro, do zero**.\n",
    "Para isso, vá no menu, escolha _Kernel_, depois _Restart & Run All_.\n",
    "\n",
    "Verifique, também, que você respondeu todas as questões:\n",
    "* as questões de código têm `YOUR CODE HERE` (e você pode apagar o `raise NotImplemented` ao incluir sua resposta)\n",
    "* as questões discursivas têm \"YOUR ANSWER HERE\"."
   ]
  },
  {
   "cell_type": "markdown",
   "metadata": {},
   "source": [
    "---"
   ]
  },
  {
   "cell_type": "markdown",
   "metadata": {},
   "source": [
    "Ideias e funções: Luan Lima \\& Bernardo Costa"
   ]
  },
  {
   "cell_type": "code",
   "execution_count": 75,
   "metadata": {
    "deletable": false,
    "editable": false,
    "nbgrader": {
     "cell_type": "code",
     "checksum": "fad3c375e7e9bea49e1af8a31ba4ae42",
     "grade": false,
     "grade_id": "cell-65e15f0c80a778ad",
     "locked": true,
     "schema_version": 3,
     "solution": false,
     "task": false
    }
   },
   "outputs": [],
   "source": [
    "import numpy as np\n",
    "import matplotlib.pyplot as plt"
   ]
  },
  {
   "cell_type": "markdown",
   "metadata": {
    "deletable": false,
    "editable": false,
    "nbgrader": {
     "cell_type": "markdown",
     "checksum": "f0356207f3ddab37b3a572f7ea4b12e9",
     "grade": false,
     "grade_id": "cell-a29e7d7add82d4c0",
     "locked": true,
     "schema_version": 3,
     "solution": false,
     "task": false
    }
   },
   "source": [
    "# Calculando o mínimo de uma função\n",
    "\n",
    "Encontrar o mínimo de uma função derivável é (quase) equivalente a resolver a equação $f'(x) = 0$.\n",
    "\n",
    "Vamos explorar algumas destas ideias."
   ]
  },
  {
   "cell_type": "markdown",
   "metadata": {
    "deletable": false,
    "editable": false,
    "nbgrader": {
     "cell_type": "markdown",
     "checksum": "9309a02cac44696888270aa5581d5d95",
     "grade": false,
     "grade_id": "cell-4c63876feb475715",
     "locked": true,
     "schema_version": 3,
     "solution": false,
     "task": false
    }
   },
   "source": [
    "# 1: Funções básicas\n",
    "\n",
    "## Métodos de bisseção e Newton"
   ]
  },
  {
   "cell_type": "code",
   "execution_count": 76,
   "metadata": {
    "deletable": false,
    "nbgrader": {
     "cell_type": "code",
     "checksum": "983d4641c507ccd0050884e47f850772",
     "grade": false,
     "grade_id": "cell-b115a314a5fec568",
     "locked": false,
     "schema_version": 3,
     "solution": true,
     "task": false
    }
   },
   "outputs": [],
   "source": [
    "def bissecao_pts(f, a, b, xtol=1e-8, ytol=1e-8):\n",
    "    \"\"\"\n",
    "    Encontra uma raiz de  f  pelo algoritmo da bissecao, retornando\n",
    "    todos os pontos pelos quais o algoritmo passa.\n",
    "    \n",
    "    O algoritmo termina quando o tamanho do intervalo ficar menor do que  xtol,\n",
    "    ou quando o valor absoluto da função ficar abaixo de  ytol.\n",
    "    \"\"\"\n",
    "    pontos = [a, b]\n",
    "    while True:\n",
    "        z = (a + b)/2\n",
    "        pontos.append(z)\n",
    "        \n",
    "        if abs(b - a) < xtol or abs(f(z)) < ytol:\n",
    "            return pontos\n",
    "        \n",
    "        if f(a)*f(z) < 0:\n",
    "            b = z\n",
    "        else:\n",
    "            a = z\n"
   ]
  },
  {
   "cell_type": "code",
   "execution_count": 77,
   "metadata": {
    "deletable": false,
    "nbgrader": {
     "cell_type": "code",
     "checksum": "8f0d8b640d66fe72f5ba51c2876db16a",
     "grade": false,
     "grade_id": "cell-0b468dfa529cf20c",
     "locked": false,
     "schema_version": 3,
     "solution": true,
     "task": false
    }
   },
   "outputs": [],
   "source": [
    "def newton_pts(f, df, x, xtol=1e-8, ytol=1e-8, maxiter=100):\n",
    "    \"\"\"\n",
    "    Método de Newton para encontrar uma raiz de  f  a partir do valor inicial  x.\n",
    "    Retorna todos os pontos pelos quais o algoritmo passa.\n",
    "    \n",
    "    O algoritmo termina quando o tamanho do passo é menor do que  xtol,\n",
    "    quando o valor absoluto da função ficar abaixo de  ytol,\n",
    "    ou após  maxiter  iterações.\n",
    "    \"\"\"\n",
    "    pontos = [x]\n",
    "    for i in range(maxiter):\n",
    "        passo = f(x)/df(x)\n",
    "        xnext = x - passo\n",
    "        pontos.append(xnext)\n",
    "        \n",
    "        if abs(passo) < xtol or abs(f(xnext)) < ytol:\n",
    "            return pontos\n",
    "        x = xnext\n",
    "    \n",
    "    return pontos\n"
   ]
  },
  {
   "cell_type": "markdown",
   "metadata": {
    "deletable": false,
    "editable": false,
    "nbgrader": {
     "cell_type": "markdown",
     "checksum": "b82b9658092e18bbe8a8e0d707ecd858",
     "grade": false,
     "grade_id": "cell-6ff29452853ee3a2",
     "locked": true,
     "schema_version": 3,
     "solution": false,
     "task": false
    }
   },
   "source": [
    "## Derivadas numéricas\n",
    "\n",
    "Dê, abaixo, as funções para calcular a primeira e a segunda derivadas numéricas."
   ]
  },
  {
   "cell_type": "code",
   "execution_count": 78,
   "metadata": {
    "deletable": false,
    "nbgrader": {
     "cell_type": "code",
     "checksum": "017080c36145ceee19aa97e75720bd2e",
     "grade": false,
     "grade_id": "cell-1daa58322d288c07",
     "locked": false,
     "schema_version": 3,
     "solution": true,
     "task": false
    }
   },
   "outputs": [],
   "source": [
    "def df_central(f, x, h=1e-5):\n",
    "    \"\"\"Derivada central de  f  em  x, com passo  h.\"\"\"\n",
    "    return (f(x+h) - f(x-h)) / (2*h)\n",
    "\n",
    "\n",
    "def ddf_central(f, x, h=1e-4):\n",
    "    \"\"\"Aproximação da segunda derivada de  f  em  x, usando a derivada central iterada com passo  h.\"\"\"\n",
    "    #numerador = f(x+2*h) - 2*f(x+h) + f(x)\n",
    "    #return numerador / (h**2)\n",
    "    return (df_central(f, x+h) - df_central(f, x-h))/(2*h)"
   ]
  },
  {
   "cell_type": "markdown",
   "metadata": {
    "deletable": false,
    "editable": false,
    "nbgrader": {
     "cell_type": "markdown",
     "checksum": "5b715c646555740b82fd514ffc215c78",
     "grade": false,
     "grade_id": "cell-c16d8a91f6447f9a",
     "locked": true,
     "schema_version": 3,
     "solution": false,
     "task": false
    }
   },
   "source": [
    "## Erro de aproximação da derivada central iterada\n",
    "\n",
    "Varie $h$ no intervalo $[2^{-27}, 2^0]$,\n",
    "e faça um gráfico do erro da derivada central iterada para derivada segunda,\n",
    "para a exponencial em $x = 0$."
   ]
  },
  {
   "cell_type": "code",
   "execution_count": 79,
   "metadata": {
    "deletable": false,
    "nbgrader": {
     "cell_type": "code",
     "checksum": "48465f1971e3970e495c481aa5edce90",
     "grade": false,
     "grade_id": "cell-f9ef9935a20af648",
     "locked": false,
     "schema_version": 3,
     "solution": true,
     "task": false
    }
   },
   "outputs": [
    {
     "data": {
      "image/png": "[encoded data removed]",
      "text/plain": [
       "<Figure size 432x288 with 1 Axes>"
      ]
     },
     "metadata": {
      "needs_background": "light"
     },
     "output_type": "display_data"
    }
   ],
   "source": [
    "def exp(x):\n",
    "    return np.exp(x)\n",
    "\n",
    "hs = np.logspace(-27,0,base=2, num=100)\n",
    "ddf = ddf_central(exp, 0 , hs)\n",
    "\n",
    "erro = ddf - 1\n",
    "\n",
    "plt.semilogy(abs(erro))\n",
    "plt.title('Erro da derivada')\n",
    "plt.xlabel('Número de iterações')\n",
    "\n",
    "ax = plt.gca()"
   ]
  },
  {
   "cell_type": "code",
   "execution_count": 80,
   "metadata": {
    "deletable": false,
    "editable": false,
    "nbgrader": {
     "cell_type": "code",
     "checksum": "154370ba9a12a78ee3a98b8b0a15fd7a",
     "grade": true,
     "grade_id": "cell-b05755409653a3ae",
     "locked": true,
     "points": 1,
     "schema_version": 3,
     "solution": false,
     "task": false
    }
   },
   "outputs": [],
   "source": [
    "assert len(ax.lines) == 1\n",
    "assert len(ax.title.get_text()) > 10\n",
    "assert ax.get_xlabel() != \"\""
   ]
  },
  {
   "cell_type": "markdown",
   "metadata": {
    "deletable": false,
    "editable": false,
    "nbgrader": {
     "cell_type": "markdown",
     "checksum": "8c2ddf6025a35030d3fc553bebbbeb32",
     "grade": false,
     "grade_id": "cell-ae0793549d9e71a6",
     "locked": true,
     "schema_version": 3,
     "solution": false,
     "task": false
    }
   },
   "source": [
    "Como esse gráfico muda se escolhermos outros pontos no intervalo $[-2,2]$?\n",
    "- Use erros relativos; e\n",
    "- faça várias curvas no mesmo gráfico."
   ]
  },
  {
   "cell_type": "code",
   "execution_count": 81,
   "metadata": {
    "deletable": false,
    "nbgrader": {
     "cell_type": "code",
     "checksum": "dd15fe897c27a33df3d529a16533c1d9",
     "grade": false,
     "grade_id": "cell-cd0d59a4500b0609",
     "locked": false,
     "schema_version": 3,
     "solution": true,
     "task": false
    }
   },
   "outputs": [
    {
     "data": {
      "image/png": "[encoded data removed]",
      "text/plain": [
       "<Figure size 432x288 with 1 Axes>"
      ]
     },
     "metadata": {
      "needs_background": "light"
     },
     "output_type": "display_data"
    }
   ],
   "source": [
    "hs = np.logspace(-27,0,base=2, num=100)\n",
    "\n",
    "for i in np.arange(-2, 2.1, 0.5):\n",
    "\n",
    "    ddf2 = ddf_central(exp, i , hs)\n",
    "    plt.semilogy(abs(ddf2 - exp(i))/exp(i))\n",
    "\n",
    "\n",
    "plt.xlabel(\"Número de iterações\")\n",
    "plt.title(\"Comparações de erros para diferentes intervalos\")\n",
    "\n",
    "ax = plt.gca()"
   ]
  },
  {
   "cell_type": "code",
   "execution_count": 82,
   "metadata": {
    "deletable": false,
    "editable": false,
    "nbgrader": {
     "cell_type": "code",
     "checksum": "8213755f994983b4f309248498704b3c",
     "grade": true,
     "grade_id": "cell-9c6df51d67a4e19a",
     "locked": true,
     "points": 2,
     "schema_version": 3,
     "solution": false,
     "task": false
    }
   },
   "outputs": [],
   "source": [
    "assert len(ax.lines) >= 8\n",
    "assert len(ax.title.get_text()) > 10\n",
    "assert ax.get_xlabel() != \"\""
   ]
  },
  {
   "cell_type": "markdown",
   "metadata": {
    "deletable": false,
    "editable": false,
    "nbgrader": {
     "cell_type": "markdown",
     "checksum": "b34daa4b20059e25e7944c7c5527338e",
     "grade": false,
     "grade_id": "cell-f384f93ee7b42f89",
     "locked": true,
     "schema_version": 3,
     "solution": false,
     "task": false
    }
   },
   "source": [
    "Comente."
   ]
  },
  {
   "cell_type": "markdown",
   "metadata": {
    "deletable": false,
    "nbgrader": {
     "cell_type": "markdown",
     "checksum": "541195bc2b2a521df317d40a8c12fb7c",
     "grade": true,
     "grade_id": "cell-729164762fe133a2",
     "locked": false,
     "points": 2,
     "schema_version": 3,
     "solution": true,
     "task": false
    }
   },
   "source": [
    "É possível perceber que o gráfico bate com o pensamento computacional, um h menor não é necessariamente melhor. Ele aparece ao quadrado no denominador, aumentando em muito o erro da segunda derivada, logo devemos encontrar um h mais próximo de 0 e que minimize o erro. E é perceptível pelo gráfico que até um certo h existe uma linearidade na diminuição do erro relativo, e depois desse certo h os erros são propagados de forma catastrófica."
   ]
  },
  {
   "cell_type": "markdown",
   "metadata": {
    "deletable": false,
    "editable": false,
    "nbgrader": {
     "cell_type": "markdown",
     "checksum": "94e002dee6039be77bd85c9094adc79a",
     "grade": false,
     "grade_id": "cell-f73db6f03ad40c68",
     "locked": true,
     "schema_version": 3,
     "solution": false,
     "task": false
    }
   },
   "source": [
    "# 2: Um problema modelo\n",
    "\n",
    "Vamos minimizar a função $f(x) = e^x - 2x$."
   ]
  },
  {
   "cell_type": "code",
   "execution_count": 83,
   "metadata": {
    "deletable": false,
    "editable": false,
    "nbgrader": {
     "cell_type": "code",
     "checksum": "258a73b0040029bcbb6ba512bb1a0901",
     "grade": false,
     "grade_id": "cell-50e439bd375c6d83",
     "locked": true,
     "schema_version": 3,
     "solution": false,
     "task": false
    }
   },
   "outputs": [],
   "source": [
    "def f(x):\n",
    "    return np.exp(x) - 2*x"
   ]
  },
  {
   "cell_type": "markdown",
   "metadata": {
    "deletable": false,
    "editable": false,
    "nbgrader": {
     "cell_type": "markdown",
     "checksum": "4eb888fa284466b2ceb633d7457dad99",
     "grade": false,
     "grade_id": "cell-e3d3efb25ad5cc63",
     "locked": true,
     "schema_version": 3,
     "solution": false,
     "task": false
    }
   },
   "source": [
    "## Preparando a bisseção\n",
    "\n",
    "Escreva 3 funções:\n",
    "- a derivada analítica $g_1(x) = f'(x)$\n",
    "- a derivada central $g_2(x)$ com passo `h = 1e-3`\n",
    "- a derivada central $g_2(x)$ com passo `h = 1e-5`"
   ]
  },
  {
   "cell_type": "code",
   "execution_count": 84,
   "metadata": {
    "deletable": false,
    "nbgrader": {
     "cell_type": "code",
     "checksum": "db10c8b675effc6aed57ab25fda764a1",
     "grade": false,
     "grade_id": "cell-24a45d23c8e14f1d",
     "locked": false,
     "schema_version": 3,
     "solution": true,
     "task": false
    }
   },
   "outputs": [],
   "source": [
    "def g1(x):\n",
    "    return np.exp(x) - 2\n",
    "\n",
    "def g2(x):\n",
    "    h = 1e-3\n",
    "    return (f(x+h) - f(x-h))/(2*h)\n",
    "\n",
    "def g3(x):\n",
    "    h = 1e-5\n",
    "    return (f(x+h) - f(x-h))/(2*h)"
   ]
  },
  {
   "cell_type": "code",
   "execution_count": 85,
   "metadata": {
    "deletable": false,
    "editable": false,
    "nbgrader": {
     "cell_type": "code",
     "checksum": "9bad8fc87cb31dbed9ebd102c3914d35",
     "grade": true,
     "grade_id": "cell-29fc4f72f2ac4d50",
     "locked": true,
     "points": 2,
     "schema_version": 3,
     "solution": false,
     "task": false
    }
   },
   "outputs": [],
   "source": [
    "np.random.seed(41)\n",
    "for x in np.random.rand(10):\n",
    "    assert np.isclose(g1(x), g2(x)), x\n",
    "    assert np.isclose(g1(x), g3(x)), x"
   ]
  },
  {
   "cell_type": "markdown",
   "metadata": {
    "deletable": false,
    "editable": false,
    "nbgrader": {
     "cell_type": "markdown",
     "checksum": "b08068b8f965d045973eee6f5c1df9b2",
     "grade": false,
     "grade_id": "cell-829fb63ccb4c0cca",
     "locked": true,
     "schema_version": 3,
     "solution": false,
     "task": false
    }
   },
   "source": [
    "Faça o gráfico de $f(x)$ e determine um intervalo para fazer bisseção para encontrar um zero da derivada."
   ]
  },
  {
   "cell_type": "code",
   "execution_count": 86,
   "metadata": {
    "deletable": false,
    "nbgrader": {
     "cell_type": "code",
     "checksum": "5edb59d346550a5328f3a7631ee43ccc",
     "grade": false,
     "grade_id": "cell-a58ac0f52b122daf",
     "locked": false,
     "schema_version": 3,
     "solution": true,
     "task": false
    }
   },
   "outputs": [
    {
     "data": {
      "image/png": "[encoded data removed]",
      "text/plain": [
       "<Figure size 432x288 with 1 Axes>"
      ]
     },
     "metadata": {
      "needs_background": "light"
     },
     "output_type": "display_data"
    }
   ],
   "source": [
    "xs = np.linspace(-1, 2, 250)\n",
    "plt.semilogy(xs, f(xs))\n",
    "plt.title(\"Gráfico da $e^x-2x$\")\n",
    "ax = plt.gca()"
   ]
  },
  {
   "cell_type": "code",
   "execution_count": 87,
   "metadata": {
    "deletable": false,
    "editable": false,
    "nbgrader": {
     "cell_type": "code",
     "checksum": "ea476aa7ebd6797fcd4bbde18628c64d",
     "grade": true,
     "grade_id": "cell-0cb823848a9c5e2a",
     "locked": true,
     "points": 1,
     "schema_version": 3,
     "solution": false,
     "task": false
    }
   },
   "outputs": [],
   "source": [
    "assert len(ax.lines) == 1\n",
    "assert ax.title.get_text() != \"\""
   ]
  },
  {
   "cell_type": "markdown",
   "metadata": {
    "deletable": false,
    "editable": false,
    "nbgrader": {
     "cell_type": "markdown",
     "checksum": "24d0428ef62235734304e2dc752bc3dd",
     "grade": false,
     "grade_id": "cell-cad1aa84b713fa03",
     "locked": true,
     "schema_version": 3,
     "solution": false,
     "task": false
    }
   },
   "source": [
    "Qual intervalo você escolheria?\n",
    "Porquê?"
   ]
  },
  {
   "cell_type": "markdown",
   "metadata": {
    "deletable": false,
    "nbgrader": {
     "cell_type": "markdown",
     "checksum": "c5facd8e4669f216c60015a4fccac44a",
     "grade": true,
     "grade_id": "cell-747a80c3022bd503",
     "locked": false,
     "points": 1,
     "schema_version": 3,
     "solution": true,
     "task": false
    }
   },
   "source": [
    "Claramente, o intervalo [0.5, 1.0] possui um X onde f'(x) = 0. Isto porque é onde a função possui um ponto de mínimo, ao menos local."
   ]
  },
  {
   "cell_type": "markdown",
   "metadata": {
    "deletable": false,
    "editable": false,
    "nbgrader": {
     "cell_type": "markdown",
     "checksum": "1e82977f797c04ea5e49000032bb19ba",
     "grade": false,
     "grade_id": "cell-e16fe2100c91ac0b",
     "locked": true,
     "schema_version": 3,
     "solution": false,
     "task": false
    }
   },
   "source": [
    "## Gráficos da bisseção\n",
    "\n",
    "Aplique o método da bisseção usando $g_1$, $g_2$ e $g_3$ para encontrar uma raiz de $f$.\n",
    "\n",
    "Faça um gráfico mostrando como evolui (ao longo das iterações)\n",
    "a distância do ponto considerado até a raiz ($\\log(2)$),\n",
    "para cada um dos métodos."
   ]
  },
  {
   "cell_type": "code",
   "execution_count": 88,
   "metadata": {
    "deletable": false,
    "nbgrader": {
     "cell_type": "code",
     "checksum": "536e45660e994de7d3936c6ea48fa178",
     "grade": false,
     "grade_id": "cell-5898a28e8d84011e",
     "locked": false,
     "schema_version": 3,
     "solution": true,
     "task": false
    }
   },
   "outputs": [
    {
     "data": {
      "image/png": "[encoded data removed]",
      "text/plain": [
       "<Figure size 432x288 with 1 Axes>"
      ]
     },
     "metadata": {
      "needs_background": "light"
     },
     "output_type": "display_data"
    }
   ],
   "source": [
    "# YOUR CODE HERE\n",
    "raiz = np.log(2)\n",
    "raizg1 = bissecao_pts(g1, 0.5, 1)\n",
    "raizg2 = bissecao_pts(g2, 0.5, 1)\n",
    "raizg3 = bissecao_pts(g3, 0.5, 1)\n",
    "\n",
    "plt.semilogy(abs(raiz - raizg1), linewidth=6, label='Erro do analitico')\n",
    "plt.semilogy(abs(raiz - raizg2), color='black', label='Erro da derivada h=1e-3')\n",
    "plt.semilogy(abs(raiz - raizg3), label='Erro da derivada h=1e-5')\n",
    "plt.legend()\n",
    "plt.title('Erros.')\n",
    "plt.xlabel('Número de iterações')\n",
    "ax = plt.gca()"
   ]
  },
  {
   "cell_type": "code",
   "execution_count": 89,
   "metadata": {
    "deletable": false,
    "editable": false,
    "nbgrader": {
     "cell_type": "code",
     "checksum": "371a5eb6691e3a545842396edccb0a4b",
     "grade": true,
     "grade_id": "cell-6c548be9ea138bca",
     "locked": true,
     "points": 2,
     "schema_version": 3,
     "solution": false,
     "task": false
    }
   },
   "outputs": [],
   "source": [
    "assert len(ax.lines) == 3\n",
    "assert len(ax.legend().texts) == 3\n",
    "assert ax.title.get_text() != \"\"\n",
    "assert ax.get_xlabel() != \"\""
   ]
  },
  {
   "cell_type": "markdown",
   "metadata": {
    "deletable": false,
    "editable": false,
    "nbgrader": {
     "cell_type": "markdown",
     "checksum": "7ceaa67e3078c8fd2ffda661a9a0df13",
     "grade": false,
     "grade_id": "cell-25c5ce8287aa00a4",
     "locked": true,
     "schema_version": 3,
     "solution": false,
     "task": false
    }
   },
   "source": [
    "O que você vê no gráfico acima?\n",
    "Como você explica?"
   ]
  },
  {
   "cell_type": "markdown",
   "metadata": {
    "deletable": false,
    "nbgrader": {
     "cell_type": "markdown",
     "checksum": "08a80b4de713a17fe757e076d555bd09",
     "grade": true,
     "grade_id": "cell-b7f111b2be544b98",
     "locked": false,
     "points": 2,
     "schema_version": 3,
     "solution": true,
     "task": false
    }
   },
   "source": [
    "Pensar que a distância deveria sempre diminuir é um erro comum. Mas como já debatemos, esses 'zigzags' se deve ao método da bisseção. Interessante observar que a derivada com maior tolerância converge mais devagar, e pior que as outras só apenas a partir de uma certa iteração, antes disso todas elas se confundem."
   ]
  },
  {
   "cell_type": "markdown",
   "metadata": {
    "deletable": false,
    "editable": false,
    "nbgrader": {
     "cell_type": "markdown",
     "checksum": "8dbccd2631fc56a8ad603f9008b64063",
     "grade": false,
     "grade_id": "cell-23da70c6d88da324",
     "locked": true,
     "schema_version": 3,
     "solution": false,
     "task": false
    }
   },
   "source": [
    "## Newton\n",
    "\n",
    "Para usar o método de Newton, será necessário usarmos mais uma derivada numérica.\n",
    "\n",
    "Implemente\n",
    "- $h_1(x)$, a segunda derivada analítica, e\n",
    "- $h_2(x)$ a derivada numérica (que pode ser obtida a partir de `ddf_central`)."
   ]
  },
  {
   "cell_type": "code",
   "execution_count": 90,
   "metadata": {
    "deletable": false,
    "nbgrader": {
     "cell_type": "code",
     "checksum": "5404878115634b009970291c4afae16f",
     "grade": false,
     "grade_id": "cell-6f3276844ea70932",
     "locked": false,
     "schema_version": 3,
     "solution": true,
     "task": false
    }
   },
   "outputs": [],
   "source": [
    "def h1(x):\n",
    "    return np.exp(x)\n",
    "\n",
    "def h2(x):\n",
    "    return ddf_central(f, x, h=1e-5)"
   ]
  },
  {
   "cell_type": "code",
   "execution_count": 91,
   "metadata": {
    "deletable": false,
    "editable": false,
    "nbgrader": {
     "cell_type": "code",
     "checksum": "c0f24f081daebbfce878d085bf74e172",
     "grade": true,
     "grade_id": "cell-c10da51972d62af4",
     "locked": true,
     "points": 1,
     "schema_version": 3,
     "solution": false,
     "task": false
    }
   },
   "outputs": [],
   "source": [
    "np.random.seed(41)\n",
    "for x in np.random.randn(10):\n",
    "    assert np.isclose(h1(x), h2(x)), x"
   ]
  },
  {
   "cell_type": "markdown",
   "metadata": {
    "deletable": false,
    "editable": false,
    "nbgrader": {
     "cell_type": "markdown",
     "checksum": "16d6f04597392e72afb177d7a4aed7c7",
     "grade": false,
     "grade_id": "cell-2e22f9380c6d0178",
     "locked": true,
     "schema_version": 3,
     "solution": false,
     "task": false
    }
   },
   "source": [
    "Agora, aplique o método de Newton (com tolerâncias padrão):\n",
    "- com ambas as derivadas analíticas\n",
    "- com a primeira derivada analítica, e a segunda numérica\n",
    "- com ambas as derivadas numéricas (use a \"melhor\" derivada central que você puder).\n",
    "\n",
    "Faça, como no caso da bisseção, o gráfico da distância até a mínimo da função."
   ]
  },
  {
   "cell_type": "code",
   "execution_count": 92,
   "metadata": {
    "deletable": false,
    "nbgrader": {
     "cell_type": "code",
     "checksum": "55cf4c6fc14a5618fa060ef44894ccbd",
     "grade": false,
     "grade_id": "cell-1d13bf7169526341",
     "locked": false,
     "schema_version": 3,
     "solution": true,
     "task": false
    }
   },
   "outputs": [
    {
     "data": {
      "image/png": "[encoded data removed]",
      "text/plain": [
       "<Figure size 432x288 with 1 Axes>"
      ]
     },
     "metadata": {
      "needs_background": "light"
     },
     "output_type": "display_data"
    }
   ],
   "source": [
    "# DÚVIDA NO ENUNCIADO, O MÍNIMO DA FUNÇÃO É ALCANÇADO NO MIN, MAS O NEWTON DA O NP.LOG(2), O X DO MÍNIMO\n",
    "min = f(np.log(2))\n",
    "newton_analitico1 = newton_pts(g1, h1, 2)\n",
    "newton_analitico2 = newton_pts(g1, h2, 2)\n",
    "newton_analitico3 = newton_pts(g3, h2, 2)\n",
    "\n",
    "plt.semilogy(abs(np.log(2) - newton_analitico1), lw=11, label='Erro analítico')\n",
    "plt.semilogy(abs(np.log(2) - newton_analitico2), lw=6, c='black', label='Erro analitico e numerico')\n",
    "plt.semilogy(abs(np.log(2) - newton_analitico3), label='Erro numerico')\n",
    "plt.legend()\n",
    "plt.title('Erros')\n",
    "plt.xlabel('Iterações')\n",
    "ax = plt.gca()"
   ]
  },
  {
   "cell_type": "code",
   "execution_count": 93,
   "metadata": {
    "deletable": false,
    "editable": false,
    "nbgrader": {
     "cell_type": "code",
     "checksum": "ace81e81269c29557de33862e75e13c8",
     "grade": true,
     "grade_id": "cell-66860f1fda7d0769",
     "locked": true,
     "points": 1,
     "schema_version": 3,
     "solution": false,
     "task": false
    }
   },
   "outputs": [],
   "source": [
    "assert len(ax.lines) == 3\n",
    "assert len(ax.legend().texts) == 3\n",
    "assert ax.title.get_text() != \"\"\n",
    "assert ax.get_xlabel() != \"\""
   ]
  },
  {
   "cell_type": "markdown",
   "metadata": {
    "deletable": false,
    "editable": false,
    "nbgrader": {
     "cell_type": "markdown",
     "checksum": "c7f395843dd76b9406656cd4a989c80b",
     "grade": false,
     "grade_id": "cell-80622fba5962c988",
     "locked": true,
     "schema_version": 3,
     "solution": false,
     "task": false
    }
   },
   "source": [
    "Agora, reduza ambas as tolerâncias do método para `1e-15`, e refaça os gráficos."
   ]
  },
  {
   "cell_type": "code",
   "execution_count": 94,
   "metadata": {
    "deletable": false,
    "nbgrader": {
     "cell_type": "code",
     "checksum": "3735d31827898e3337581fa6db3ea1c6",
     "grade": true,
     "grade_id": "cell-99d9571ec5ff0bb4",
     "locked": false,
     "points": 1,
     "schema_version": 3,
     "solution": true,
     "task": false
    }
   },
   "outputs": [
    {
     "data": {
      "image/png": "[encoded data removed]",
      "text/plain": [
       "<Figure size 432x288 with 1 Axes>"
      ]
     },
     "metadata": {
      "needs_background": "light"
     },
     "output_type": "display_data"
    }
   ],
   "source": [
    "# DÚVIDA NO ENUNCIADO, O MÍNIMO DA FUNÇÃO É ALCANÇADO NO MIN, MAS O NEWTON DA O NP.LOG(2), O X DO MÍNIMO\n",
    "min = f(np.log(2))\n",
    "newton_analitico1 = newton_pts(g1, h1, 2, xtol=1e-15, ytol=1e-15)\n",
    "newton_analitico2 = newton_pts(g1, h2, 2, xtol=1e-15, ytol=1e-15)\n",
    "newton_analitico3 = newton_pts(g3, h2, 2, xtol=1e-15, ytol=1e-15)\n",
    "\n",
    "plt.semilogy(abs(np.log(2) - newton_analitico1), lw=8, label='Erro analítico')\n",
    "plt.semilogy(abs(np.log(2) - newton_analitico2), lw=4, c='black', label='Erro analitico e numerico')\n",
    "plt.semilogy(abs(np.log(2) - newton_analitico3), lw=2, label='Erro numerico')\n",
    "plt.legend()\n",
    "plt.title('Erros')\n",
    "plt.xlabel('Iterações')\n",
    "ax = plt.gca()"
   ]
  },
  {
   "cell_type": "markdown",
   "metadata": {
    "deletable": false,
    "editable": false,
    "nbgrader": {
     "cell_type": "markdown",
     "checksum": "74ca5df8fcfd3e57d63283c23c0136c9",
     "grade": false,
     "grade_id": "cell-01eb8bb00f1f5bdb",
     "locked": true,
     "schema_version": 3,
     "solution": false,
     "task": false
    }
   },
   "source": [
    "Deveria haver (pelo menos) duas diferenças entre este gráfico e o anterior.\n",
    "\n",
    "- Quais você observa?\n",
    "- Como você as explica?"
   ]
  },
  {
   "cell_type": "markdown",
   "metadata": {
    "deletable": false,
    "nbgrader": {
     "cell_type": "markdown",
     "checksum": "0933d483ff8f446d9225d3095a6ff333",
     "grade": true,
     "grade_id": "cell-7f4f22e525bf8a98",
     "locked": false,
     "points": 3,
     "schema_version": 3,
     "solution": true,
     "task": false
    }
   },
   "source": [
    "Há alguma coisas interessantes para ser observadas: \n",
    "Com a mudança na escala da precisão, óbvio que a raiz fica mais precisa. \n",
    "As funções convergem como o esperado, quanto 'mais' analítico melhor fica a convergência. Até certa iteração, o gráfico das 3 se confundem, havendo uma diferença apenas nas últimas casas decimais da raiz achada por cada função, ou seja os erros das derivadas numéricas não são bons quando se tratam de números pequenos."
   ]
  },
  {
   "cell_type": "markdown",
   "metadata": {
    "deletable": false,
    "editable": false,
    "nbgrader": {
     "cell_type": "markdown",
     "checksum": "e47055e0ef025c7e55b8dafd6a99cc15",
     "grade": false,
     "grade_id": "cell-fa08d17ea63fb838",
     "locked": true,
     "schema_version": 3,
     "solution": false,
     "task": false
    }
   },
   "source": [
    "# 3: O mesmo problema, mais complicado\n",
    "\n",
    "Queremos achar o mínimo da função $$ f(x) = e^{x^2-2x+1}-2^{x^3-6x+12} $$\n",
    "no intervalo $[-2,2]$.\n",
    "\n",
    "Defina $f$, e faça um gráfico para encontrar um intervalo para bisseção e um ponto inicial para Newton."
   ]
  },
  {
   "cell_type": "code",
   "execution_count": 112,
   "metadata": {
    "deletable": false,
    "nbgrader": {
     "cell_type": "code",
     "checksum": "0ced7e6818e714424989f7e7986e33bf",
     "grade": false,
     "grade_id": "cell-f50afc7c95af2a39",
     "locked": false,
     "schema_version": 3,
     "solution": true,
     "task": false
    }
   },
   "outputs": [
    {
     "data": {
      "image/png": "[encoded data removed]",
      "text/plain": [
       "<Figure size 432x288 with 1 Axes>"
      ]
     },
     "metadata": {
      "needs_background": "light"
     },
     "output_type": "display_data"
    }
   ],
   "source": [
    "def f(x):    \n",
    "    expoente1 = x**2 - 2*x + 1\n",
    "    expoente2 = x**3 - 6*x + 12\n",
    "    return exp(expoente1) - 2**(expoente2)\n",
    "\n",
    "xs = np.arange(-2, 2, 0.001)\n",
    "plt.plot(xs, f(xs), label='$f(x)$')\n",
    "plt.xlabel('Xs')\n",
    "plt.title('F(x)')\n",
    "plt.legend()\n",
    "ax = plt.gca()"
   ]
  },
  {
   "cell_type": "code",
   "execution_count": 110,
   "metadata": {
    "deletable": false,
    "editable": false,
    "nbgrader": {
     "cell_type": "code",
     "checksum": "105d40e42611bec68d496ad107025730",
     "grade": true,
     "grade_id": "cell-b3efe4063d0789aa",
     "locked": true,
     "points": 2,
     "schema_version": 3,
     "solution": false,
     "task": false
    }
   },
   "outputs": [],
   "source": [
    "assert len(ax.lines) == 1\n",
    "assert ax.title.get_text() != \"\"\n",
    "\n",
    "yvals = ax.lines[0].get_ydata()\n",
    "assert np.min(yvals) <= -20000\n",
    "assert np.all(yvals <= 0)"
   ]
  },
  {
   "cell_type": "markdown",
   "metadata": {},
   "source": [
    "Defina a derivada (analítica) de f:"
   ]
  },
  {
   "cell_type": "code",
   "execution_count": 113,
   "metadata": {
    "deletable": false,
    "nbgrader": {
     "cell_type": "code",
     "checksum": "c7cea27bf68d2db6ea06033b0f2c5fdb",
     "grade": false,
     "grade_id": "cell-8aebf73d70947e5a",
     "locked": false,
     "schema_version": 3,
     "solution": true,
     "task": false
    }
   },
   "outputs": [],
   "source": [
    "def g1(x):\n",
    "    expoente1 = x**2 - 2*x + 1\n",
    "    expoente2 = x**3 - 6*x + 12\n",
    "    dexp1 = 2*x - 2\n",
    "    dexp2 = 3*x**2 - 6\n",
    "    return exp(expoente1) * dexp1 - (2**expoente2) * np.log(2) * dexp2"
   ]
  },
  {
   "cell_type": "code",
   "execution_count": 114,
   "metadata": {
    "deletable": false,
    "editable": false,
    "nbgrader": {
     "cell_type": "code",
     "checksum": "3215aeb46a7cce0e218a4794a812692d",
     "grade": true,
     "grade_id": "cell-59d6e23f17f20c90",
     "locked": true,
     "points": 1,
     "schema_version": 3,
     "solution": false,
     "task": false
    }
   },
   "outputs": [],
   "source": [
    "np.random.seed(2022)\n",
    "for x in np.random.randn(10):\n",
    "    assert np.isclose(g1(x), df_central(f, x), rtol=1e-8)"
   ]
  },
  {
   "cell_type": "markdown",
   "metadata": {
    "deletable": false,
    "editable": false,
    "nbgrader": {
     "cell_type": "markdown",
     "checksum": "d5e0e2f2cb67874b7c299b07e5d77063",
     "grade": false,
     "grade_id": "cell-3cf7c7f8b9c917bf",
     "locked": true,
     "schema_version": 3,
     "solution": false,
     "task": false
    }
   },
   "source": [
    "Calcule a raiz exata (a menos da precisão) do computador,\n",
    "aplicando o método da bisseção à derivada analítica de $f$."
   ]
  },
  {
   "cell_type": "code",
   "execution_count": 125,
   "metadata": {
    "deletable": false,
    "nbgrader": {
     "cell_type": "code",
     "checksum": "e4fd836bf1d99117207c8d2785fd8336",
     "grade": true,
     "grade_id": "cell-24d5013349e7f661",
     "locked": false,
     "points": 1,
     "schema_version": 3,
     "solution": true,
     "task": false
    }
   },
   "outputs": [],
   "source": [
    "def bis(f, a, b):\n",
    "    pontos = [a, b]\n",
    "\n",
    "    while True:\n",
    "        z = (a + b)/2\n",
    "        \n",
    "        pontos.append(z)\n",
    "\n",
    "        if z == a or z == b:\n",
    "            return pontos\n",
    "        \n",
    "        if f(a)*f(z) < 0:\n",
    "            b = z\n",
    "        else:\n",
    "            a = z\n",
    "\n",
    "df0 = np.array(bis(g1, -1.5, -1))"
   ]
  },
  {
   "cell_type": "markdown",
   "metadata": {
    "deletable": false,
    "editable": false,
    "nbgrader": {
     "cell_type": "markdown",
     "checksum": "b74703f8033db78b8d42c36ceaa81e61",
     "grade": false,
     "grade_id": "cell-40c7aaafebc60a39",
     "locked": true,
     "schema_version": 3,
     "solution": false,
     "task": false
    }
   },
   "source": [
    "Calcule o valor de $f$ nos pontos obtidos.\n",
    "Em qual/quais deles ocorreu o mínimo?"
   ]
  },
  {
   "cell_type": "markdown",
   "metadata": {},
   "source": [
    "A partir da iteração 23 todos os pontos acham o valor mínimo da função"
   ]
  },
  {
   "cell_type": "code",
   "execution_count": 126,
   "metadata": {
    "deletable": false,
    "nbgrader": {
     "cell_type": "code",
     "checksum": "e7a8bce40f0ae85e789f796c790d3c34",
     "grade": true,
     "grade_id": "cell-c6e8bb7029f4e79b",
     "locked": false,
     "points": 1,
     "schema_version": 3,
     "solution": true,
     "task": false
    }
   },
   "outputs": [
    {
     "data": {
      "text/plain": [
       "array([-201622.6444832 , -131017.40184997, -191327.43213335,\n",
       "       -205448.07103413, -205941.9419976 , -206288.00613774,\n",
       "       -206265.11269191, -206313.9068241 , -206310.26558092,\n",
       "       -206314.41713842, -206314.74515613, -206314.72688663,\n",
       "       -206314.77246306, -206314.76792087, -206314.77246967,\n",
       "       -206314.77303578, -206314.77289508, -206314.77300102,\n",
       "       -206314.7730273 , -206314.77303376, -206314.77303533,\n",
       "       -206314.77303569, -206314.77303577, -206314.77303579,\n",
       "       -206314.77303579, -206314.77303579, -206314.77303579,\n",
       "       -206314.77303579, -206314.77303579, -206314.77303579,\n",
       "       -206314.77303579, -206314.77303579, -206314.77303579,\n",
       "       -206314.77303579, -206314.77303579, -206314.77303579,\n",
       "       -206314.77303579, -206314.77303579, -206314.77303579,\n",
       "       -206314.77303579, -206314.77303579, -206314.77303579,\n",
       "       -206314.77303579, -206314.77303579, -206314.77303579,\n",
       "       -206314.77303579, -206314.77303579, -206314.77303579,\n",
       "       -206314.77303579, -206314.77303579, -206314.77303579,\n",
       "       -206314.77303579, -206314.77303579, -206314.77303579])"
      ]
     },
     "execution_count": 126,
     "metadata": {},
     "output_type": "execute_result"
    }
   ],
   "source": [
    "f(df0)"
   ]
  },
  {
   "cell_type": "markdown",
   "metadata": {
    "deletable": false,
    "editable": false,
    "nbgrader": {
     "cell_type": "markdown",
     "checksum": "e65ad2e99a7a5b85c2a7fe0fa22a03de",
     "grade": false,
     "grade_id": "cell-5beca6356c3e27a2",
     "locked": true,
     "schema_version": 3,
     "solution": false,
     "task": false
    }
   },
   "source": [
    "Qual a distância deste ponto ao último ponto produzido pela bisseção?"
   ]
  },
  {
   "cell_type": "code",
   "execution_count": null,
   "metadata": {
    "deletable": false,
    "nbgrader": {
     "cell_type": "code",
     "checksum": "99d42db2387a4fe1e27e36ff4cbcce2b",
     "grade": true,
     "grade_id": "cell-6345a587885e746f",
     "locked": false,
     "points": 1,
     "schema_version": 3,
     "solution": true,
     "task": false
    }
   },
   "outputs": [],
   "source": [
    "# YOUR CODE HERE\n",
    "raise NotImplementedError()"
   ]
  },
  {
   "cell_type": "markdown",
   "metadata": {},
   "source": [
    "O que você acha que aconteceu?"
   ]
  },
  {
   "cell_type": "markdown",
   "metadata": {
    "deletable": false,
    "nbgrader": {
     "cell_type": "markdown",
     "checksum": "706b32e13c05be2f46c1415f51e35cd7",
     "grade": true,
     "grade_id": "cell-bba16521dc57afe7",
     "locked": false,
     "points": 1,
     "schema_version": 3,
     "solution": true,
     "task": false
    }
   },
   "source": [
    "YOUR ANSWER HERE"
   ]
  },
  {
   "cell_type": "markdown",
   "metadata": {
    "deletable": false,
    "editable": false,
    "nbgrader": {
     "cell_type": "markdown",
     "checksum": "c908ed0939326673dbee1ea51699735f",
     "grade": false,
     "grade_id": "cell-ac38132ef810a31c",
     "locked": true,
     "schema_version": 3,
     "solution": false,
     "task": false
    }
   },
   "source": [
    "Agora, compare o erro com o método da bisseção e o de Newton, usando as derivadas numéricas.\n",
    "\n",
    "Como sugerem as contas acima, aqui há vários problemas de precisão numérica.\n",
    "Assim, tente botar tolerâncias pequenas, mas não pequenas demais para seus métodos."
   ]
  },
  {
   "cell_type": "code",
   "execution_count": null,
   "metadata": {
    "deletable": false,
    "nbgrader": {
     "cell_type": "code",
     "checksum": "4c3846bfa271f16cca943fb12f6d528c",
     "grade": true,
     "grade_id": "cell-e6a2e19935b8f52c",
     "locked": false,
     "points": 2,
     "schema_version": 3,
     "solution": true,
     "task": false
    }
   },
   "outputs": [],
   "source": [
    "# YOUR CODE HERE\n",
    "raise NotImplementedError()\n",
    "\n",
    "plt.grid()\n",
    "ax = plt.gca()"
   ]
  },
  {
   "cell_type": "code",
   "execution_count": null,
   "metadata": {
    "deletable": false,
    "editable": false,
    "nbgrader": {
     "cell_type": "code",
     "checksum": "bf0b848a44031ab90a329c968eb7d4e9",
     "grade": true,
     "grade_id": "cell-eb0e50722f1f5f16",
     "locked": true,
     "points": 1,
     "schema_version": 3,
     "solution": false,
     "task": false
    }
   },
   "outputs": [],
   "source": [
    "assert len(ax.lines) == 2\n",
    "assert len(ax.get_legend().texts) == 2"
   ]
  },
  {
   "cell_type": "code",
   "execution_count": null,
   "metadata": {
    "deletable": false,
    "editable": false,
    "nbgrader": {
     "cell_type": "code",
     "checksum": "88b261371c737a1bae2470a0eeed9743",
     "grade": true,
     "grade_id": "cell-510e88d4691fd982",
     "locked": true,
     "points": 1,
     "schema_version": 3,
     "solution": false,
     "task": false
    }
   },
   "outputs": [],
   "source": [
    "for l in ax.lines:\n",
    "    ys = l.get_ydata()\n",
    "    assert min(abs(ys)) < 1e-8"
   ]
  }
 ],
 "metadata": {
  "kernelspec": {
   "display_name": "Python 3.10.4 64-bit",
   "language": "python",
   "name": "python3"
  },
  "language_info": {
   "codemirror_mode": {
    "name": "ipython",
    "version": 3
   },
   "file_extension": ".py",
   "mimetype": "text/x-python",
   "name": "python",
   "nbconvert_exporter": "python",
   "pygments_lexer": "ipython3",
   "version": "3.10.4"
  },
  "vscode": {
   "interpreter": {
    "hash": "fee127bbb05d422205529e3b2442aa2f6a8a60c2a6406f0c7b9a160de6ca12b0"
   }
  }
 },
 "nbformat": 4,
 "nbformat_minor": 4
}
