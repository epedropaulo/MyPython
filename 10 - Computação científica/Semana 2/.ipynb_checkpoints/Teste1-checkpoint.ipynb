{
 "cells": [
  {
   "cell_type": "markdown",
   "id": "7efced1a",
   "metadata": {},
   "source": [
    "![CC-BY-SA](https://mirrors.creativecommons.org/presskit/buttons/88x31/svg/by-sa.svg)\n",
    "\n",
    "\n",
    "This notebook was created by [Bernardo Freitas Paulo da Costa](http://www.im.ufrj.br/bernardofpc),\n",
    "and is licensed under Creative Commons BY-SA."
   ]
  },
  {
   "cell_type": "markdown",
   "id": "e02c0a4a",
   "metadata": {},
   "source": [
    "Antes de enviar este Teste, verifique que tudo está funcionando como esperado.\n",
    "Por exemplo, **rode o código inteiro, do zero**.\n",
    "Para isso, vá no menu, escolha _Kernel_, depois _Restart & Run All_.\n",
    "\n",
    "Verifique, também, que você respondeu todas as questões:\n",
    "* as questões de código têm `YOUR CODE HERE` (e você pode apagar o `raise NotImplemented` ao incluir sua resposta)\n",
    "* as questões discursivas têm \"YOUR ANSWER HERE\"."
   ]
  },
  {
   "cell_type": "markdown",
   "id": "ad1d4f02",
   "metadata": {},
   "source": [
    "---"
   ]
  },
  {
   "cell_type": "markdown",
   "id": "c234d028",
   "metadata": {
    "deletable": false,
    "editable": false,
    "nbgrader": {
     "cell_type": "markdown",
     "checksum": "8f849b4f1737478e700677772d47e037",
     "grade": false,
     "grade_id": "cell-7311388107ab9640",
     "locked": true,
     "schema_version": 3,
     "solution": false,
     "task": false
    }
   },
   "source": [
    "# Teste 1: Bisseção"
   ]
  },
  {
   "cell_type": "code",
   "execution_count": null,
   "id": "b00967c7",
   "metadata": {
    "deletable": false,
    "editable": false,
    "nbgrader": {
     "cell_type": "code",
     "checksum": "9ccaea791daf1455aaf1d145c363e6fb",
     "grade": false,
     "grade_id": "cell-7d4885e97f2b0f93",
     "locked": true,
     "schema_version": 3,
     "solution": false,
     "task": false
    }
   },
   "outputs": [],
   "source": [
    "import numpy as np"
   ]
  },
  {
   "cell_type": "markdown",
   "id": "981f14b8",
   "metadata": {
    "deletable": false,
    "editable": false,
    "nbgrader": {
     "cell_type": "markdown",
     "checksum": "ae3f44a2789a974483f35811fbc7a072",
     "grade": false,
     "grade_id": "cell-e80f5f7fdbca5f7b",
     "locked": true,
     "schema_version": 3,
     "solution": false,
     "task": false
    }
   },
   "source": [
    "## Questão 1: Número de iterações da bisseção, e de chamadas à função `f`\n",
    "\n",
    "Generalize o algoritmo da bisseção para retornar, nesta ordem:\n",
    "- a (aproximação da) raiz,\n",
    "- o número de bisseções (divisões por 2 do intervalo) feitas,\n",
    "- o número de vezes que você chamou a função `f`.\n",
    "\n",
    "Use como critério de parada a tolerância `tol`,\n",
    "ou seja, o algoritmo termina quando:\n",
    "- seja possível garantir que o erro (absoluto) da resposta (\"em $x$\") seja menor do que `tol`."
   ]
  },
  {
   "cell_type": "code",
   "execution_count": null,
   "id": "c67551b6",
   "metadata": {
    "deletable": false,
    "nbgrader": {
     "cell_type": "code",
     "checksum": "08590cfbfd9d06ef43ee6791583edf2f",
     "grade": false,
     "grade_id": "cell-bfd2f7379cc308c4",
     "locked": false,
     "schema_version": 3,
     "solution": true,
     "task": false
    }
   },
   "outputs": [],
   "source": [
    "def bissecao(f, a, b, tol=1e-8):\n",
    "    # YOUR CODE HERE\n",
    "    raise NotImplementedError()"
   ]
  },
  {
   "cell_type": "markdown",
   "id": "98f6d8f3",
   "metadata": {
    "deletable": false,
    "editable": false,
    "nbgrader": {
     "cell_type": "markdown",
     "checksum": "dae9d721c3f55be0ce912d842567a02a",
     "grade": false,
     "grade_id": "cell-4a78fc2f55370ac4",
     "locked": true,
     "schema_version": 3,
     "solution": false,
     "task": false
    }
   },
   "source": [
    "### Testes simples"
   ]
  },
  {
   "cell_type": "code",
   "execution_count": null,
   "id": "2d04028e",
   "metadata": {
    "deletable": false,
    "editable": false,
    "nbgrader": {
     "cell_type": "code",
     "checksum": "41ffe3aab2d4ba0a50cd82cffb2901e8",
     "grade": false,
     "grade_id": "cell-13c78610067f97b1",
     "locked": true,
     "schema_version": 3,
     "solution": false,
     "task": false
    }
   },
   "outputs": [],
   "source": [
    "def p2(x): return x**2 - 2"
   ]
  },
  {
   "cell_type": "code",
   "execution_count": null,
   "id": "f97d1530",
   "metadata": {
    "deletable": false,
    "editable": false,
    "nbgrader": {
     "cell_type": "code",
     "checksum": "37cf9873a45b9dc3d53c61226efec01f",
     "grade": true,
     "grade_id": "cell-c62e828e23ba0c73",
     "locked": true,
     "points": 1,
     "schema_version": 3,
     "solution": false,
     "task": false
    }
   },
   "outputs": [],
   "source": [
    "raiz, niters, ncalls = bissecao(p2, 0, 2)\n",
    "assert abs(raiz - np.sqrt(2)) < 1e-8\n",
    "assert 26 <= niters <= 30"
   ]
  },
  {
   "cell_type": "code",
   "execution_count": null,
   "id": "ddbd6e2b",
   "metadata": {
    "deletable": false,
    "editable": false,
    "nbgrader": {
     "cell_type": "code",
     "checksum": "ddfb528dd7edf0aea8e054ac0877a013",
     "grade": true,
     "grade_id": "cell-3b33b89bcafe1954",
     "locked": true,
     "points": 1,
     "schema_version": 3,
     "solution": false,
     "task": false
    }
   },
   "outputs": [],
   "source": [
    "raiz, niters, ncalls = bissecao(p2, 0, 2, tol=1e-3)\n",
    "assert abs(raiz - np.sqrt(2)) < 1e-3\n",
    "assert 10 <= niters <= 15"
   ]
  },
  {
   "cell_type": "code",
   "execution_count": null,
   "id": "f6382ba3",
   "metadata": {
    "deletable": false,
    "editable": false,
    "nbgrader": {
     "cell_type": "code",
     "checksum": "e11717304550bc1ccf2a5aa50783d034",
     "grade": true,
     "grade_id": "cell-432c2ad26a7a7d7e",
     "locked": true,
     "points": 1,
     "schema_version": 3,
     "solution": false,
     "task": false
    }
   },
   "outputs": [],
   "source": [
    "raiz, niters, ncalls = bissecao(p2, 0, 2, tol=1e-3)\n",
    "assert abs(raiz - np.sqrt(2)) > 3e-4"
   ]
  },
  {
   "cell_type": "code",
   "execution_count": null,
   "id": "863328ca",
   "metadata": {
    "deletable": false,
    "editable": false,
    "nbgrader": {
     "cell_type": "code",
     "checksum": "86c59f785b01ec50066668b4976e9c7b",
     "grade": true,
     "grade_id": "cell-721772ed44e72acb",
     "locked": true,
     "points": 2,
     "schema_version": 3,
     "solution": false,
     "task": false
    }
   },
   "outputs": [],
   "source": [
    "# Testes escondidos aqui"
   ]
  },
  {
   "cell_type": "markdown",
   "id": "8bf16ae6",
   "metadata": {},
   "source": [
    "### Testes mais legais"
   ]
  },
  {
   "cell_type": "code",
   "execution_count": null,
   "id": "e0748802",
   "metadata": {
    "deletable": false,
    "editable": false,
    "nbgrader": {
     "cell_type": "code",
     "checksum": "61d3a2a1cd29f69647ab61bc56364697",
     "grade": true,
     "grade_id": "cell-8d7ce0c5727c5838",
     "locked": true,
     "points": 1,
     "schema_version": 3,
     "solution": false,
     "task": false
    }
   },
   "outputs": [],
   "source": [
    "pimeios, niters, ncalls = bissecao(np.cos, 0, 2)\n",
    "assert abs(pimeios - np.pi/2) <= 1e-8"
   ]
  },
  {
   "cell_type": "code",
   "execution_count": null,
   "id": "3b23e13c",
   "metadata": {
    "deletable": false,
    "editable": false,
    "nbgrader": {
     "cell_type": "code",
     "checksum": "940a3a4fd2451a2fc40d61830fbd99a7",
     "grade": true,
     "grade_id": "cell-ff05771e68d86f63",
     "locked": true,
     "points": 1,
     "schema_version": 3,
     "solution": false,
     "task": false
    }
   },
   "outputs": [],
   "source": [
    "menospimeios, niters, ncalls = bissecao(np.cos, -2, 0)\n",
    "assert abs(menospimeios + np.pi/2) <= 1e-8"
   ]
  },
  {
   "cell_type": "markdown",
   "id": "41c60563",
   "metadata": {},
   "source": [
    "## Questão 2: várias iterações da bisseção"
   ]
  },
  {
   "cell_type": "code",
   "execution_count": null,
   "id": "66a06f97",
   "metadata": {
    "deletable": false,
    "editable": false,
    "nbgrader": {
     "cell_type": "code",
     "checksum": "370547cd6261c11c0ecbfa15da840a79",
     "grade": false,
     "grade_id": "cell-5ea3f5878901130b",
     "locked": true,
     "schema_version": 3,
     "solution": false,
     "task": false
    }
   },
   "outputs": [],
   "source": [
    "print(f'{\"raiz\":^9} {\"niters\"} {\"ncalls\"}, {\"erro\":^11} {\"tol\":^10}')\n",
    "for p in range(10,20):\n",
    "    raiz, niters, ncalls = bissecao(p2, 0, 2, tol=2**(-p))\n",
    "    print(f\"{raiz:.7f} {niters:6d} {ncalls:6d}, {raiz-np.sqrt(2): .8f} {2**(-p):.8f}\")"
   ]
  },
  {
   "cell_type": "markdown",
   "id": "0b263b79",
   "metadata": {
    "deletable": false,
    "editable": false,
    "nbgrader": {
     "cell_type": "markdown",
     "checksum": "1e5ea423f366f7f433a6c298b5d0ecf6",
     "grade": false,
     "grade_id": "cell-65903cf4e8b6973a",
     "locked": true,
     "schema_version": 3,
     "solution": false,
     "task": false
    }
   },
   "source": [
    "O que você observa na tabela acima?  Explique."
   ]
  },
  {
   "cell_type": "markdown",
   "id": "2db701f7",
   "metadata": {
    "deletable": false,
    "nbgrader": {
     "cell_type": "markdown",
     "checksum": "5754f6d1d7d2f72c006b9b16e4213d7b",
     "grade": true,
     "grade_id": "cell-2f026a9298f20d3b",
     "locked": false,
     "points": 3,
     "schema_version": 3,
     "solution": true,
     "task": false
    }
   },
   "source": [
    "YOUR ANSWER HERE"
   ]
  },
  {
   "cell_type": "markdown",
   "id": "a7481f67",
   "metadata": {},
   "source": [
    "## Questão 3: Outros critérios de parada\n",
    "\n",
    "Modifique a sua bisseção para ter 2 critérios de parada:\n",
    "- quando o tamanho do intervalo ficar menor do que `tol`\n",
    "- quando o valor da função ficar menor do que `err`"
   ]
  },
  {
   "cell_type": "code",
   "execution_count": null,
   "id": "0d212729",
   "metadata": {
    "deletable": false,
    "nbgrader": {
     "cell_type": "code",
     "checksum": "20dffe6cb93f844b521b1fc42fb80ddd",
     "grade": false,
     "grade_id": "cell-89ea2904b3c908eb",
     "locked": false,
     "schema_version": 3,
     "solution": true,
     "task": false
    }
   },
   "outputs": [],
   "source": [
    "def bissecao(f, a, b, tol=1e-8, err=1e-8):\n",
    "    # YOUR CODE HERE\n",
    "    raise NotImplementedError()"
   ]
  },
  {
   "cell_type": "markdown",
   "id": "aae819ed",
   "metadata": {},
   "source": [
    "Pare e pense:\n",
    "\n",
    "uma solução iterativa pode ficar mais fácil de adaptar para vários critérios de parada\n",
    "se ela for escrita com `while True`."
   ]
  },
  {
   "cell_type": "markdown",
   "id": "fbedff68",
   "metadata": {},
   "source": [
    "### Testes"
   ]
  },
  {
   "cell_type": "code",
   "execution_count": null,
   "id": "b6af5518",
   "metadata": {
    "deletable": false,
    "editable": false,
    "nbgrader": {
     "cell_type": "code",
     "checksum": "abe1cfa3816d43ea8c6ead13fd358eba",
     "grade": true,
     "grade_id": "cell-e5dbbdc7bb04bd36",
     "locked": true,
     "points": 2,
     "schema_version": 3,
     "solution": false,
     "task": false
    }
   },
   "outputs": [],
   "source": [
    "raiz, niters, ncalls = bissecao(p2, 0, 2)\n",
    "assert abs(p2(raiz) - 2) > 1e-8\n",
    "assert abs(raiz - np.sqrt(2)) < 1e-8"
   ]
  },
  {
   "cell_type": "code",
   "execution_count": null,
   "id": "57394285",
   "metadata": {
    "deletable": false,
    "editable": false,
    "nbgrader": {
     "cell_type": "code",
     "checksum": "131aadb06a3ea7dc6960014e79fdf5d8",
     "grade": true,
     "grade_id": "cell-65495ebe135fbf41",
     "locked": true,
     "points": 1,
     "schema_version": 3,
     "solution": false,
     "task": false
    }
   },
   "outputs": [],
   "source": [
    "assert bissecao(np.cos, 0, 2) != bissecao(np.cos, 0, 2, err=0)"
   ]
  },
  {
   "cell_type": "code",
   "execution_count": null,
   "id": "345a74a6",
   "metadata": {
    "deletable": false,
    "editable": false,
    "nbgrader": {
     "cell_type": "code",
     "checksum": "d40e96e7085b0c98dfe5be5d6a179a41",
     "grade": true,
     "grade_id": "cell-9446992c617f02eb",
     "locked": true,
     "points": 1,
     "schema_version": 3,
     "solution": false,
     "task": false
    }
   },
   "outputs": [],
   "source": [
    "assert bissecao(np.cos, 0, 2) == bissecao(np.cos, 0, 2, tol=0)"
   ]
  },
  {
   "cell_type": "markdown",
   "id": "70f20297",
   "metadata": {},
   "source": [
    "O que os dois testes acima indicam sobre a bisseção para `np.cos`?"
   ]
  },
  {
   "cell_type": "markdown",
   "id": "c6e7c411",
   "metadata": {
    "deletable": false,
    "nbgrader": {
     "cell_type": "markdown",
     "checksum": "838fc2b7c6929a6e02a1be2b1191ac15",
     "grade": true,
     "grade_id": "cell-d8ce30660516f95d",
     "locked": false,
     "points": 2,
     "schema_version": 3,
     "solution": true,
     "task": false
    }
   },
   "source": [
    "YOUR ANSWER HERE"
   ]
  },
  {
   "cell_type": "markdown",
   "id": "9daf1b40",
   "metadata": {},
   "source": [
    "## Questão 4: Bisseção sem função\n",
    "\n",
    "Escreva uma função que divide o intervalo ao meio, fica com o esquerdo,\n",
    "e repete até o limite de precisão do computador.\n",
    "\n",
    "Ela deve retornar o último intervalo não-trivial (como uma tupla), e o número de divisões."
   ]
  },
  {
   "cell_type": "code",
   "execution_count": null,
   "id": "a6cae891",
   "metadata": {
    "deletable": false,
    "nbgrader": {
     "cell_type": "code",
     "checksum": "7e823c70d3c045fb42bc7cd539031d29",
     "grade": false,
     "grade_id": "cell-dbe61010623d813f",
     "locked": false,
     "schema_version": 3,
     "solution": true,
     "task": false
    }
   },
   "outputs": [],
   "source": [
    "def bisseção_esquerda(a,b):\n",
    "    # YOUR CODE HERE\n",
    "    raise NotImplementedError()"
   ]
  },
  {
   "cell_type": "code",
   "execution_count": null,
   "id": "df970d95",
   "metadata": {
    "deletable": false,
    "editable": false,
    "nbgrader": {
     "cell_type": "code",
     "checksum": "ff3cd000686bdf003b6da5940ef05c04",
     "grade": true,
     "grade_id": "cell-365cb4391a9f65a4",
     "locked": true,
     "points": 1,
     "schema_version": 3,
     "solution": false,
     "task": false
    }
   },
   "outputs": [],
   "source": [
    "(an, bn), ndivs = bisseção_esquerda(1,2)\n",
    "assert 2e-16 <= bn - an <= 4e-16\n",
    "assert ndivs == 52"
   ]
  },
  {
   "cell_type": "code",
   "execution_count": null,
   "id": "c6457e74",
   "metadata": {
    "deletable": false,
    "editable": false,
    "nbgrader": {
     "cell_type": "code",
     "checksum": "a1a66889fc01e00d5a3d187f2f31b879",
     "grade": true,
     "grade_id": "cell-179c89a09dfda258",
     "locked": true,
     "points": 1,
     "schema_version": 3,
     "solution": false,
     "task": false
    }
   },
   "outputs": [],
   "source": [
    "(an, bn), ndivs = bisseção_esquerda(bn,2)\n",
    "assert 2e-16 <= bn - an <= 4e-16\n",
    "assert ndivs == 51"
   ]
  },
  {
   "cell_type": "markdown",
   "id": "e84e975a",
   "metadata": {},
   "source": [
    "Use esta função para calcular o próximo número de ponto flutuante."
   ]
  },
  {
   "cell_type": "code",
   "execution_count": null,
   "id": "abd5d13a",
   "metadata": {
    "deletable": false,
    "nbgrader": {
     "cell_type": "code",
     "checksum": "3cefe6b1acc34c8cb4adbe74bc4dd468",
     "grade": false,
     "grade_id": "cell-ace3480d37572adb",
     "locked": false,
     "schema_version": 3,
     "solution": true,
     "task": false
    }
   },
   "outputs": [],
   "source": [
    "def próximo_float(x):\n",
    "    # YOUR CODE HERE\n",
    "    raise NotImplementedError()"
   ]
  },
  {
   "cell_type": "code",
   "execution_count": null,
   "id": "68ed4d69",
   "metadata": {},
   "outputs": [],
   "source": [
    "próximo_float(1)"
   ]
  },
  {
   "cell_type": "code",
   "execution_count": null,
   "id": "7710c747",
   "metadata": {
    "deletable": false,
    "editable": false,
    "nbgrader": {
     "cell_type": "code",
     "checksum": "4358f5c970a7e313f8833a8615a9023d",
     "grade": true,
     "grade_id": "cell-8f75b70a7dbab81a",
     "locked": true,
     "points": 1,
     "schema_version": 3,
     "solution": false,
     "task": false
    }
   },
   "outputs": [],
   "source": [
    "nextone = próximo_float(1)\n",
    "assert nextone > 1\n",
    "assert (1+nextone)/2 == 1"
   ]
  },
  {
   "cell_type": "code",
   "execution_count": null,
   "id": "1d531517",
   "metadata": {
    "deletable": false,
    "editable": false,
    "nbgrader": {
     "cell_type": "code",
     "checksum": "414a6cad139e2073e3d447b43489b06e",
     "grade": true,
     "grade_id": "cell-b39b0becc0922ad6",
     "locked": true,
     "points": 1,
     "schema_version": 3,
     "solution": false,
     "task": false
    }
   },
   "outputs": [],
   "source": [
    "nextzero = próximo_float(0)\n",
    "assert nextzero > 0\n",
    "assert nextzero/2 == 0"
   ]
  },
  {
   "cell_type": "code",
   "execution_count": null,
   "id": "ec306cc9",
   "metadata": {
    "deletable": false,
    "editable": false,
    "nbgrader": {
     "cell_type": "code",
     "checksum": "23b96e811fdef03137a30b924ce5fcc3",
     "grade": true,
     "grade_id": "cell-c902bc7ab832c0d0",
     "locked": true,
     "points": 1,
     "schema_version": 3,
     "solution": false,
     "task": false
    }
   },
   "outputs": [],
   "source": [
    "nextnext = próximo_float(próximo_float(1))\n",
    "assert nextnext > 1\n",
    "assert 1 < (nextnext+1)/2 < nextnext"
   ]
  },
  {
   "cell_type": "code",
   "execution_count": null,
   "id": "2b7f75f4",
   "metadata": {
    "deletable": false,
    "editable": false,
    "nbgrader": {
     "cell_type": "code",
     "checksum": "abe6957787edfbcc9c5420e7a93ee89e",
     "grade": true,
     "grade_id": "cell-96bd65cd68e38dc0",
     "locked": true,
     "points": 1,
     "schema_version": 3,
     "solution": false,
     "task": false
    }
   },
   "outputs": [],
   "source": [
    "maisum = próximo_float(-1.435)\n",
    "assert maisum > -1.435\n",
    "assert (maisum - 1.435)/2 == -1.435"
   ]
  },
  {
   "cell_type": "markdown",
   "id": "3289509f",
   "metadata": {},
   "source": [
    "## Questão 5: bisseção alternante\n",
    "\n",
    "Escreva uma função que escolhe o lado esquerdo, e depois o lado direito, e repete, até acabar."
   ]
  },
  {
   "cell_type": "code",
   "execution_count": null,
   "id": "c62cc24f",
   "metadata": {
    "deletable": false,
    "nbgrader": {
     "cell_type": "code",
     "checksum": "f64a99bfef138e7410f4d2f7e5f5b5ef",
     "grade": false,
     "grade_id": "cell-3a6605b0c2fff49d",
     "locked": false,
     "schema_version": 3,
     "solution": true,
     "task": false
    }
   },
   "outputs": [],
   "source": [
    "def bisseção_alt(a,b):\n",
    "    # YOUR CODE HERE\n",
    "    raise NotImplementedError()"
   ]
  },
  {
   "cell_type": "code",
   "execution_count": null,
   "id": "9b7e385b",
   "metadata": {
    "deletable": false,
    "editable": false,
    "nbgrader": {
     "cell_type": "code",
     "checksum": "5aad2f3822978085a18f295b19ddbce9",
     "grade": true,
     "grade_id": "cell-d1906fd95ebb85a3",
     "locked": true,
     "points": 1,
     "schema_version": 3,
     "solution": false,
     "task": false
    }
   },
   "outputs": [],
   "source": [
    "(a,b), ndivs = bisseção_alt(1,2)\n",
    "assert 1 < a < b < 2\n",
    "assert ndivs == 52"
   ]
  },
  {
   "cell_type": "code",
   "execution_count": null,
   "id": "a65090ac",
   "metadata": {
    "deletable": false,
    "editable": false,
    "nbgrader": {
     "cell_type": "code",
     "checksum": "6f204d8e3ff3b7605568c16564f36809",
     "grade": true,
     "grade_id": "cell-1433725a5fa659f7",
     "locked": true,
     "points": 1,
     "schema_version": 3,
     "solution": false,
     "task": false
    }
   },
   "outputs": [],
   "source": [
    "(a,b), ndivs = bisseção_alt(1,4)\n",
    "assert 1 < a < b < 4\n",
    "assert ndivs == 53\n",
    "assert (a+b)/2 == b"
   ]
  },
  {
   "cell_type": "code",
   "execution_count": null,
   "id": "4f6b927e",
   "metadata": {},
   "outputs": [],
   "source": [
    "for (a0,b0) in [(1,2), (1,4), (2,4), (1/3,3/5)]:\n",
    "    (a,b), ndivs = bisseção_alt(a0,b0)\n",
    "    print(f\"{a0:.5f} {b0:.5f} ---> {a:.17f} {b:.17f}\")"
   ]
  },
  {
   "cell_type": "markdown",
   "id": "332f3a39",
   "metadata": {
    "deletable": false,
    "editable": false,
    "nbgrader": {
     "cell_type": "markdown",
     "checksum": "9bd33ca14472265cfef3c3c7ffea4b3f",
     "grade": false,
     "grade_id": "cell-13ca80ae2ba10ed2",
     "locked": true,
     "schema_version": 3,
     "solution": false,
     "task": false
    }
   },
   "source": [
    "O que esta função parece calcular?  Explique."
   ]
  },
  {
   "cell_type": "markdown",
   "id": "9c5e307c",
   "metadata": {
    "deletable": false,
    "nbgrader": {
     "cell_type": "markdown",
     "checksum": "09ba199c01e0305628b3fa512b4f2fd6",
     "grade": true,
     "grade_id": "cell-4d30f5821b51b3d7",
     "locked": false,
     "points": 3,
     "schema_version": 3,
     "solution": true,
     "task": false
    }
   },
   "source": [
    "YOUR ANSWER HERE"
   ]
  },
  {
   "cell_type": "code",
   "execution_count": null,
   "id": "be8d6409",
   "metadata": {
    "deletable": false,
    "editable": false,
    "nbgrader": {
     "cell_type": "code",
     "checksum": "9f2338dc85e250be7fc036495e444641",
     "grade": true,
     "grade_id": "cell-36e18b27847e0f36",
     "locked": true,
     "points": 1,
     "schema_version": 3,
     "solution": false,
     "task": false
    }
   },
   "outputs": [],
   "source": [
    "(a,b), ndivs = bisseção_alt(-1,2)\n",
    "assert -1 < a < b < 2\n",
    "assert (a+b)/2 == b\n",
    "assert ndivs > 1000"
   ]
  },
  {
   "cell_type": "markdown",
   "id": "c625a667",
   "metadata": {
    "deletable": false,
    "editable": false,
    "nbgrader": {
     "cell_type": "markdown",
     "checksum": "de918f8c9f452df8c2459143bf1d1cb7",
     "grade": false,
     "grade_id": "cell-1d17ae29b0137a1d",
     "locked": true,
     "schema_version": 3,
     "solution": false,
     "task": false
    }
   },
   "source": [
    "Esta iteração levou mais de 1000 bisseções.  Explique o que aconteceu."
   ]
  },
  {
   "cell_type": "markdown",
   "id": "1baaf111",
   "metadata": {
    "deletable": false,
    "nbgrader": {
     "cell_type": "markdown",
     "checksum": "35d091b80cbf6bc6df2c4edea0832b59",
     "grade": true,
     "grade_id": "cell-203e11f457638867",
     "locked": false,
     "points": 2,
     "schema_version": 3,
     "solution": true,
     "task": false
    }
   },
   "source": [
    "YOUR ANSWER HERE"
   ]
  }
 ],
 "metadata": {
  "kernelspec": {
   "display_name": "Python 3 (ipykernel)",
   "language": "python",
   "name": "python3"
  },
  "language_info": {
   "codemirror_mode": {
    "name": "ipython",
    "version": 3
   },
   "file_extension": ".py",
   "mimetype": "text/x-python",
   "name": "python",
   "nbconvert_exporter": "python",
   "pygments_lexer": "ipython3",
   "version": "3.9.12"
  }
 },
 "nbformat": 4,
 "nbformat_minor": 5
}
