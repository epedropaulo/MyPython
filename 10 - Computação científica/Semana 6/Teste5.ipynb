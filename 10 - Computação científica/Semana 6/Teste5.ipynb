{
 "cells": [
  {
   "cell_type": "markdown",
   "metadata": {},
   "source": [
    "![CC-BY-SA](https://mirrors.creativecommons.org/presskit/buttons/88x31/svg/by-sa.svg)\n",
    "\n",
    "\n",
    "This notebook was created by [Bernardo Freitas Paulo da Costa](http://www.im.ufrj.br/bernardofpc),\n",
    "and is licensed under Creative Commons BY-SA."
   ]
  },
  {
   "cell_type": "markdown",
   "metadata": {},
   "source": [
    "Antes de enviar este Teste, verifique que tudo está funcionando como esperado.\n",
    "Por exemplo, **rode o código inteiro, do zero**.\n",
    "Para isso, vá no menu, escolha _Kernel_, depois _Restart & Run All_.\n",
    "\n",
    "Verifique, também, que você respondeu todas as questões:\n",
    "* as questões de código têm `YOUR CODE HERE` (e você pode apagar o `raise NotImplemented` ao incluir sua resposta)\n",
    "* as questões discursivas têm \"YOUR ANSWER HERE\"."
   ]
  },
  {
   "cell_type": "markdown",
   "metadata": {},
   "source": [
    "---"
   ]
  },
  {
   "cell_type": "markdown",
   "metadata": {},
   "source": [
    "# Equações diferenciais\n",
    "\n",
    "Uma equação diferencial ordinária (\"EDO\") é dada pelo sistema\n",
    "$$ \\left\\{\\begin{align}\n",
    "    f' & = F(t, f) \\\\\n",
    "f(t_0) & = f_0.\n",
    "\\end{align}\\right.$$\n",
    "Uma **solução** da EDO é:\n",
    "- uma função $g$; tal que\n",
    "- $g(t_0) = f_0$; e\n",
    "- $g'(t) = F(t, g(t))$.\n",
    "\n",
    "Por questões práticas, também é comum dar um **intervalo de solução**, ou seja,\n",
    "pedir que $g$ seja definida (pelo menos) num intervalo $[a,b]$ onde $t_0 \\in [a,b]$.\n",
    "Aqui, vamos usar $a = t_0$,\n",
    "pensando \"fisicamente\" que a equação diferencial modela\n",
    "a evolução de alguma quantidade $f$ que conhecemos agora ($t_0$)\n",
    "e que queremos saber o quanto restará num momento futuro ($t_f = b$).\n",
    "\n",
    "Por exemplo, se tomamos $F(t, f) = f$, a EDO pode ser escrita de forma compacta como $f' = f$,\n",
    "cuja solução é uma função exponencial $f(x) = Ae^x$.\n",
    "Note que **qualquer** valor de $A$ dá uma solução para a EDO $f' = f$,\n",
    "e é neste ponto que a segunda equação é importante:\n",
    "ao fixar $f(t_0) = f_0$, podemos determinar o valor de $A$."
   ]
  },
  {
   "cell_type": "markdown",
   "metadata": {},
   "source": [
    "# O método de Euler\n",
    "\n",
    "Continuando nesta linha, é razoável discretizar o problema da seguinte forma:\n",
    "\n",
    "1. Definimos uma sequência de pontos $a = t_0 < t_1 < t_2 < \\cdots < t_n = t_f = b$ no intervalo $[a,b]$.\n",
    "2. Como $f$ é derivável, temos a aproximação $f(t_{i+1}) \\sim f(t_i) + f'(t_i) \\cdot (t_{i+1} - t_i)$.\n",
    "3. A equação diferencial permide calcular $f'(t_i) = F(t_i, f(t_i))$.\n",
    "4. Isso define (recursivamente) uma sequência de aproximações para $f(t_j)$ pela fórmula\n",
    "$$ f _ {j+1} = f_j +  F(t_j, f_j) \\cdot (t _ {j+1} - t_j).$$\n",
    "\n",
    "A sequência mais simples de ser usada é, claro, a de $n+1$ pontos igualmente espaçados no intervalo $[a,b]$."
   ]
  },
  {
   "cell_type": "code",
   "execution_count": 1,
   "metadata": {
    "deletable": false,
    "editable": false,
    "nbgrader": {
     "cell_type": "code",
     "checksum": "53a06d2146f278f346b1cf5add9110a5",
     "grade": false,
     "grade_id": "pylab",
     "locked": true,
     "schema_version": 3,
     "solution": false
    }
   },
   "outputs": [],
   "source": [
    "import numpy as np\n",
    "import matplotlib.pyplot as plt"
   ]
  },
  {
   "cell_type": "markdown",
   "metadata": {},
   "source": [
    "## Questão 1: Implementação do método de Euler\n",
    "\n",
    "Escreva a função `euler` que dá uma aproximação numérica para a solução de uma EDO.\n",
    "Sua função receberá:\n",
    "- uma função $F$, a \"equação diferencial\";\n",
    "- um `float` $t_0$, o tempo inicial;\n",
    "- um `float` $t_f$, o tempo final;\n",
    "- um `float` $f_0$, a condição inicial;\n",
    "- o número $n$ de passos a serem tomados.\n",
    "\n",
    "Em ambos os casos, a função deve retornar uma **lista** com os valores de $f_j$,\n",
    "correspondentes às aproximações nos pontos $t_0$, $t_1$, $t_2$, até $t_f$."
   ]
  },
  {
   "cell_type": "code",
   "execution_count": 2,
   "metadata": {
    "deletable": false,
    "nbgrader": {
     "cell_type": "code",
     "checksum": "6297fe2086c8c89b012ed7614eaa0e2b",
     "grade": false,
     "grade_id": "euler_for",
     "locked": false,
     "schema_version": 3,
     "solution": true,
     "task": false
    }
   },
   "outputs": [],
   "source": [
    "def euler(F, t0, tf, f0, nsteps=100):\n",
    "        h = (tf - t0)/nsteps # Tamanho do intervalor = tj+1 - tj\n",
    "        pontos = [f0]        # Lista das aproximações\n",
    "        for i in range(nsteps):\n",
    "            fi = f0 + F(t0, f0)*h # Aproximação linear para o valor da função fi\n",
    "            pontos.append(fi)\n",
    "            f0 = fi\n",
    "            t0 += h\n",
    "        return pontos\n"
   ]
  },
  {
   "cell_type": "code",
   "execution_count": 3,
   "metadata": {
    "deletable": false,
    "editable": false,
    "nbgrader": {
     "cell_type": "code",
     "checksum": "1cabe769f68aaaad66a4ab3cfb984362",
     "grade": true,
     "grade_id": "euler_test1",
     "locked": true,
     "points": 2,
     "schema_version": 3,
     "solution": false
    }
   },
   "outputs": [],
   "source": [
    "def F1(t,ft):\n",
    "    return ft\n",
    "\n",
    "f_100 = euler(F1, 0, 1, 1)\n",
    "assert abs(f_100[-1] - 2.704813829421526) < 5e-15\n",
    "assert len(f_100) == 101"
   ]
  },
  {
   "cell_type": "code",
   "execution_count": 4,
   "metadata": {
    "deletable": false,
    "editable": false,
    "nbgrader": {
     "cell_type": "code",
     "checksum": "7a8536438924a694d301eb62fe90db78",
     "grade": true,
     "grade_id": "euler_test2",
     "locked": true,
     "points": 1,
     "schema_version": 3,
     "solution": false,
     "task": false
    }
   },
   "outputs": [],
   "source": [
    "f_100 = euler(F1, 1, 2, 1)\n",
    "assert abs(f_100[-1] - 2.704813829421526) < 5e-15\n",
    "assert len(f_100) == 101"
   ]
  },
  {
   "cell_type": "markdown",
   "metadata": {},
   "source": [
    "Explique porque os testes acima são iguais, apesar de o tempo inicial ser diferente."
   ]
  },
  {
   "cell_type": "markdown",
   "metadata": {
    "deletable": false,
    "nbgrader": {
     "cell_type": "markdown",
     "checksum": "634b6c5286f965ee77cfb95d8100ccc9",
     "grade": true,
     "grade_id": "euler_t0",
     "locked": false,
     "points": 1,
     "schema_version": 3,
     "solution": true,
     "task": false
    }
   },
   "source": [
    "Apesar do tempo inicial ser diferente, o tamanho do intervalo $(t_f - t_0)$ é o mesmo, e a condição inicial também $f_0$."
   ]
  },
  {
   "cell_type": "markdown",
   "metadata": {},
   "source": [
    "O método de Euler permite resolver equações diferenciais bastante (arbitrariamente!) complicadas:"
   ]
  },
  {
   "cell_type": "code",
   "execution_count": 5,
   "metadata": {
    "deletable": false,
    "editable": false,
    "nbgrader": {
     "cell_type": "code",
     "checksum": "20b2ab721adb1c902a0ab98ecdca8048",
     "grade": true,
     "grade_id": "euler_test_3",
     "locked": true,
     "points": 1,
     "schema_version": 3,
     "solution": false
    }
   },
   "outputs": [],
   "source": [
    "def F_dificil(t, ft):\n",
    "    return t*np.sin(ft) - t**2*np.cos(ft)\n",
    "\n",
    "f_dificil = euler(F_dificil, 0, 2, 1, nsteps=100)\n",
    "assert np.isclose(f_dificil[50], 1.3280458347260922, atol=5e-15, rtol=5e-15)\n",
    "assert np.isclose(f_dificil[-1], 3.553673725510754, atol=5e-15, rtol=5e-15)"
   ]
  },
  {
   "cell_type": "code",
   "execution_count": 6,
   "metadata": {
    "deletable": false,
    "editable": false,
    "nbgrader": {
     "cell_type": "code",
     "checksum": "e8a3416c0b65f098ab4d86d990c0c9a2",
     "grade": true,
     "grade_id": "euler_test4",
     "locked": true,
     "points": 1,
     "schema_version": 3,
     "solution": false,
     "task": false
    }
   },
   "outputs": [],
   "source": [
    "f_dificil = euler(F_dificil, 0, 2, 1, nsteps=1000)\n",
    "assert np.isclose(f_dificil[500], 1.337235075671101, atol=5e-15, rtol=5e-15)\n",
    "assert np.isclose(f_dificil[-1], 3.5844631141202097, atol=5e-15, rtol=5e-15)"
   ]
  },
  {
   "cell_type": "markdown",
   "metadata": {},
   "source": [
    "Como interpretar as diferenças e similaridades entre os dois testes acima?"
   ]
  },
  {
   "cell_type": "markdown",
   "metadata": {
    "deletable": false,
    "nbgrader": {
     "cell_type": "markdown",
     "checksum": "3acdf6a6886c076c336548fd537a4e5f",
     "grade": true,
     "grade_id": "euler_dificil",
     "locked": false,
     "points": 2,
     "schema_version": 3,
     "solution": true,
     "task": false
    }
   },
   "source": [
    "YOUR ANSWER HERE"
   ]
  },
  {
   "cell_type": "code",
   "execution_count": 7,
   "metadata": {
    "deletable": false,
    "editable": false,
    "nbgrader": {
     "cell_type": "code",
     "checksum": "1aeca1831196de0560a5379f97c2b8e3",
     "grade": true,
     "grade_id": "euler_test5",
     "locked": true,
     "points": 1,
     "schema_version": 3,
     "solution": false,
     "task": false
    }
   },
   "outputs": [],
   "source": [
    "f_dificil = euler(F_dificil, 1, 3, 1, nsteps=1000)\n",
    "assert len(f_dificil) == 1001\n",
    "assert np.isclose(f_dificil[-1], 4.373105943363224, atol=5e-15, rtol=5e-15)"
   ]
  },
  {
   "cell_type": "markdown",
   "metadata": {},
   "source": [
    "## Questão 2: Qualidade da aproximação\n",
    "\n",
    "Voltamos à equação $f'(t) = f(t)$, cuja solução é a exponencial.\n",
    "\n",
    "Faça um gráfico da solução numérica $f_{100}$ e da solução exata no intervalo $[0,1]$ no mesmo eixo.\n",
    "\n",
    "Faça (em outro eixo) o gráfico da **diferença** entre estas soluções."
   ]
  },
  {
   "cell_type": "code",
   "execution_count": 8,
   "metadata": {
    "deletable": false,
    "nbgrader": {
     "cell_type": "code",
     "checksum": "45b37045abd955aded42bce769964ed2",
     "grade": true,
     "grade_id": "euler_graph1",
     "locked": false,
     "points": 4,
     "schema_version": 3,
     "solution": true
    }
   },
   "outputs": [
    {
     "data": {
      "text/plain": [
       "Text(0.5, 1.0, 'Erro')"
      ]
     },
     "execution_count": 8,
     "metadata": {},
     "output_type": "execute_result"
    },
    {
     "data": {
      "image/png": "[encoded data removed]",
      "text/plain": [
       "<Figure size 432x288 with 2 Axes>"
      ]
     },
     "metadata": {
      "needs_background": "light"
     },
     "output_type": "display_data"
    }
   ],
   "source": [
    "fig, ax = plt.subplots(1, 2)\n",
    "xs = np.linspace(0, 1, 101)\n",
    "ax[0].plot(xs, f_100)\n",
    "ax[0].plot(xs, np.exp(xs))\n",
    "ax[0].set_title('Função exp e euler.')\n",
    "ax[1].semilogy(xs, abs(f_100 - np.exp(xs)))\n",
    "ax[1].set_title('Erro')\n"
   ]
  },
  {
   "cell_type": "markdown",
   "metadata": {},
   "source": [
    "## Questão 3: Medindo erros\n",
    "\n",
    "Mesmo que em muitos casos seja bastante razoável usar o \"erro final\" $g(t_n) - f_n$,\n",
    "onde $g$ é a solução exata e $f_n$ a aproximação,\n",
    "vamos nos concentrar no \"erro total\".\n",
    "E, para ficar relativamente simples, vamos usar a média dos valores absolutos das diferenças entre $g(t_j)$ e $f_j$.\n",
    "Usamos a média, e não a soma, porque ao variar o número de passos esta quantidade se mantém homogênea."
   ]
  },
  {
   "cell_type": "code",
   "execution_count": 9,
   "metadata": {
    "deletable": false,
    "editable": false,
    "nbgrader": {
     "cell_type": "code",
     "checksum": "0a2360179f4c22d6a7db6bd602ba009b",
     "grade": false,
     "grade_id": "def_erro",
     "locked": true,
     "schema_version": 3,
     "solution": false
    }
   },
   "outputs": [],
   "source": [
    "def erro(g, fs, ts):\n",
    "    \"\"\" Calcula o erro entre os valores de fs e g(ts). fs e ts devem ser vetores numpy. \"\"\"\n",
    "    return np.mean(abs(g(ts) - fs))"
   ]
  },
  {
   "cell_type": "markdown",
   "metadata": {},
   "source": [
    "Como o erro médio diminui ao aumentar o número de passos efetuados?\n",
    "Faça um gráfico."
   ]
  },
  {
   "cell_type": "code",
   "execution_count": 10,
   "metadata": {},
   "outputs": [
    {
     "data": {
      "image/png": "[encoded data removed]",
      "text/plain": [
       "<Figure size 432x288 with 1 Axes>"
      ]
     },
     "metadata": {
      "needs_background": "light"
     },
     "output_type": "display_data"
    }
   ],
   "source": [
    "\n",
    "steps = np.arange(1, 10151, 150)\n",
    "f_n = np.array([euler(F1, 1, 2, 1, i) for i in steps], dtype='object')\n",
    "erros = []\n",
    "\n",
    "for i in f_n:\n",
    "    quantidade = int(len(i))\n",
    "    pontos = np.linspace(0, 1, quantidade)\n",
    "    erro1 = erro(np.exp, i, pontos)\n",
    "    erros.append(erro1)\n",
    "\n",
    "plt.semilogy(steps, erros)\n",
    "plt.title('Erro do método de euler para $e^x$')\n",
    "plt.xlabel('Número de passos')\n",
    "\n",
    "ax = plt.gca()"
   ]
  },
  {
   "cell_type": "code",
   "execution_count": 11,
   "metadata": {
    "deletable": false,
    "editable": false,
    "nbgrader": {
     "cell_type": "code",
     "checksum": "5b80dfb11beba86bdc07d14a0570a39b",
     "grade": true,
     "grade_id": "graf_test1",
     "locked": true,
     "points": 1,
     "schema_version": 3,
     "solution": false,
     "task": false
    }
   },
   "outputs": [],
   "source": [
    "assert len(ax.lines) == 1\n",
    "assert len(ax.get_title()) > 10\n",
    "assert len(ax.get_xlabel()) > 10"
   ]
  },
  {
   "cell_type": "code",
   "execution_count": 12,
   "metadata": {
    "deletable": false,
    "editable": false,
    "nbgrader": {
     "cell_type": "code",
     "checksum": "8e99cdf71d3ce67ff18146bb5c797acc",
     "grade": true,
     "grade_id": "graf_test2",
     "locked": true,
     "points": 2,
     "schema_version": 3,
     "solution": false,
     "task": false
    }
   },
   "outputs": [],
   "source": [
    "l = ax.lines[0]\n",
    "xs = l.get_xdata()\n",
    "\n",
    "assert min(xs) < 100 < 10000 < max(xs)"
   ]
  },
  {
   "cell_type": "code",
   "execution_count": 13,
   "metadata": {
    "deletable": false,
    "editable": false,
    "nbgrader": {
     "cell_type": "code",
     "checksum": "df6b73c7975255989aa4f14128f9987e",
     "grade": false,
     "grade_id": "cell-ed75627924646ac5",
     "locked": true,
     "schema_version": 3,
     "solution": false,
     "task": false
    }
   },
   "outputs": [],
   "source": [
    "ax = None"
   ]
  },
  {
   "cell_type": "markdown",
   "metadata": {},
   "source": [
    "E comente o resultado."
   ]
  },
  {
   "cell_type": "markdown",
   "metadata": {
    "deletable": false,
    "nbgrader": {
     "cell_type": "markdown",
     "checksum": "9993a1f157f4dbfae0d8ff6f2068b968",
     "grade": true,
     "grade_id": "coment_erro",
     "locked": false,
     "points": 2,
     "schema_version": 3,
     "solution": true
    }
   },
   "source": [
    "YOUR ANSWER HERE"
   ]
  },
  {
   "cell_type": "markdown",
   "metadata": {},
   "source": [
    "## Questão 4: Sistemas de Equações\n",
    "\n",
    "O método de Euler é capaz de resolver (aproximar) **sistemas** de equações diferenciais.\n",
    "\n",
    "Talvez você tenha que modificar o código da sua função `euler` para que ele seja \"vetorial\":\n",
    "- a função pode receber um `np.array` com a condição inicial; e\n",
    "- a função `F` que for passada deve, também, retornar um `np.array`.\n",
    "\n",
    "Se for o caso, dê, abaixo, a nova função `euler`:"
   ]
  },
  {
   "cell_type": "markdown",
   "metadata": {},
   "source": [
    "A função anterior já consegue tratar vetores."
   ]
  },
  {
   "cell_type": "markdown",
   "metadata": {},
   "source": [
    "Por exemplo, o sistema\n",
    "$$ \\begin{align}\n",
    "f_1' & = f_2 \\\\\n",
    "f_2' & = -f_1\n",
    "\\end{align} $$\n",
    "que é equivalente à equação diferencial trigonométrica básica $y'' = -y$,\n",
    "pode ser simulado assim:"
   ]
  },
  {
   "cell_type": "code",
   "execution_count": 14,
   "metadata": {
    "deletable": false,
    "editable": false,
    "nbgrader": {
     "cell_type": "code",
     "checksum": "746d66b10505a1a0a8830f670490246f",
     "grade": true,
     "grade_id": "euler_2d",
     "locked": true,
     "points": 2,
     "schema_version": 3,
     "solution": false
    }
   },
   "outputs": [],
   "source": [
    "def F2(t, ft):\n",
    "    return np.array([ft[1],-ft[0]])\n",
    "\n",
    "ans = np.array([-1.0505597866729235, -0.0010851561020816455])\n",
    "v   = euler(F2, 0, np.pi, np.array([1,0]), nsteps=100)\n",
    "\n",
    "assert np.allclose(v[-1], ans, atol=1e-15, rtol=1e-15)"
   ]
  },
  {
   "cell_type": "markdown",
   "metadata": {},
   "source": [
    "Para usar as coordenadas da solução separadamente, ou seja, $f_1$ e $f_2$,\n",
    "temos que transpor `v`.\n",
    "(Note que os métodos constróem ao longo do tempo, e não por coordenadas)"
   ]
  },
  {
   "cell_type": "code",
   "execution_count": 15,
   "metadata": {},
   "outputs": [],
   "source": [
    "v = np.transpose(v)"
   ]
  },
  {
   "cell_type": "markdown",
   "metadata": {},
   "source": [
    "### 5. Mais gráficos\n",
    "\n",
    "Observe que a solução numérica no intervalo $[0, \\pi]$ realmente está próxima da solução analítica,\n",
    "fazendo um gráfico com:\n",
    "- a função que é solução da EDO,\n",
    "- a sua derivada;\n",
    "- a primeira coordenada da solução numérica;\n",
    "- a segunda coordenada.\n",
    "\n",
    "Note que, lendo a equação \"ao contrário\", temos $f_2 = f_1'$, ou seja,\n",
    "a segunda coordenada está aproximando a derivada da primeira."
   ]
  },
  {
   "cell_type": "code",
   "execution_count": 16,
   "metadata": {
    "deletable": false,
    "nbgrader": {
     "cell_type": "code",
     "checksum": "29b38a59b26af2708930d08b494aee31",
     "grade": true,
     "grade_id": "cos_sin_graf",
     "locked": false,
     "points": 0,
     "schema_version": 3,
     "solution": true
    }
   },
   "outputs": [
    {
     "data": {
      "image/png": "[encoded data removed]",
      "text/plain": [
       "<Figure size 432x288 with 1 Axes>"
      ]
     },
     "metadata": {
      "needs_background": "light"
     },
     "output_type": "display_data"
    }
   ],
   "source": [
    "# YOUR CODE HERE\n",
    "pontos = np.linspace(0, np.pi, 101)\n",
    "\n",
    "plt.plot(pontos, np.cos(pontos), label='$cos$ analítico')\n",
    "plt.plot(pontos, v[0], label='$cos$ numérico')\n",
    "\n",
    "plt.plot(pontos, -np.sin(pontos), label='$sin$ analítico')\n",
    "plt.plot(pontos, v[1], label='$sin$ numérico')\n",
    "\n",
    "plt.legend()\n",
    "ax = plt.gca()"
   ]
  },
  {
   "cell_type": "code",
   "execution_count": 17,
   "metadata": {
    "deletable": false,
    "editable": false,
    "nbgrader": {
     "cell_type": "code",
     "checksum": "c05714aa017c6e31e1a34b174e2c0474",
     "grade": true,
     "grade_id": "edo2_test1",
     "locked": true,
     "points": 1,
     "schema_version": 3,
     "solution": false,
     "task": false
    }
   },
   "outputs": [],
   "source": [
    "assert len(ax.lines) == 4\n",
    "assert len(ax.get_legend().texts) == 4"
   ]
  },
  {
   "cell_type": "code",
   "execution_count": 18,
   "metadata": {
    "deletable": false,
    "editable": false,
    "nbgrader": {
     "cell_type": "code",
     "checksum": "26a2a97f5991d778652427cb51d1b3db",
     "grade": true,
     "grade_id": "edo_test2",
     "locked": true,
     "points": 1,
     "schema_version": 3,
     "solution": false,
     "task": false
    }
   },
   "outputs": [],
   "source": [
    "for l in ax.lines:\n",
    "    xs = l.get_xdata()\n",
    "    assert np.isclose(0, min(xs))\n",
    "    assert np.isclose(np.pi, max(xs))"
   ]
  },
  {
   "cell_type": "markdown",
   "metadata": {},
   "source": [
    "## Questão 6: Erros multidimensionais\n",
    "\n",
    "Como se comporta o erro no caso do sistema acima, conforme o número de pontos aumenta?\n",
    "Faça um gráfico."
   ]
  },
  {
   "cell_type": "code",
   "execution_count": 19,
   "metadata": {
    "deletable": false,
    "nbgrader": {
     "cell_type": "code",
     "checksum": "af56a72189a27caac50d6ffdbdeabbd1",
     "grade": true,
     "grade_id": "erros_sin_cos",
     "locked": false,
     "points": 1,
     "schema_version": 3,
     "solution": true
    }
   },
   "outputs": [],
   "source": [
    "ax = plt.gca"
   ]
  },
  {
   "cell_type": "code",
   "execution_count": 20,
   "metadata": {
    "deletable": false,
    "editable": false,
    "nbgrader": {
     "cell_type": "code",
     "checksum": "a19154b3efa8a5f56a0186a4ea2be19f",
     "grade": true,
     "grade_id": "errgraf_test1",
     "locked": true,
     "points": 1,
     "schema_version": 3,
     "solution": false,
     "task": false
    }
   },
   "outputs": [
    {
     "ename": "AttributeError",
     "evalue": "'function' object has no attribute 'lines'",
     "output_type": "error",
     "traceback": [
      "\u001b[1;31m---------------------------------------------------------------------------\u001b[0m",
      "\u001b[1;31mAttributeError\u001b[0m                            Traceback (most recent call last)",
      "\u001b[1;32mc:\\Users\\epedr\\Desktop\\GitHub\\MyPython\\10 - Computação científica\\Semana 6\\Teste5.ipynb Célula: 42\u001b[0m in \u001b[0;36m<cell line: 1>\u001b[1;34m()\u001b[0m\n\u001b[1;32m----> <a href='vscode-notebook-cell:/c%3A/Users/epedr/Desktop/GitHub/MyPython/10%20-%20Computa%C3%A7%C3%A3o%20cient%C3%ADfica/Semana%206/Teste5.ipynb#X56sZmlsZQ%3D%3D?line=0'>1</a>\u001b[0m \u001b[39massert\u001b[39;00m \u001b[39mlen\u001b[39m(ax\u001b[39m.\u001b[39;49mlines) \u001b[39m==\u001b[39m \u001b[39m2\u001b[39m\n\u001b[0;32m      <a href='vscode-notebook-cell:/c%3A/Users/epedr/Desktop/GitHub/MyPython/10%20-%20Computa%C3%A7%C3%A3o%20cient%C3%ADfica/Semana%206/Teste5.ipynb#X56sZmlsZQ%3D%3D?line=1'>2</a>\u001b[0m \u001b[39massert\u001b[39;00m \u001b[39mlen\u001b[39m(ax\u001b[39m.\u001b[39mget_legend()\u001b[39m.\u001b[39mtexts) \u001b[39m==\u001b[39m \u001b[39m2\u001b[39m\n",
      "\u001b[1;31mAttributeError\u001b[0m: 'function' object has no attribute 'lines'"
     ]
    }
   ],
   "source": [
    "assert len(ax.lines) == 2\n",
    "assert len(ax.get_legend().texts) == 2"
   ]
  },
  {
   "cell_type": "markdown",
   "metadata": {},
   "source": [
    "Qual erro é mais importante: o da derivada ($f_2$) ou o da função original ($f_1$)?\n",
    "Você vê uma razão para isso?"
   ]
  },
  {
   "cell_type": "markdown",
   "metadata": {
    "deletable": false,
    "nbgrader": {
     "cell_type": "markdown",
     "checksum": "e62efd87efb679df512afdcafd3dd42f",
     "grade": true,
     "grade_id": "errs_comp1",
     "locked": false,
     "points": 1,
     "schema_version": 3,
     "solution": true,
     "task": false
    }
   },
   "source": [
    "YOUR ANSWER HERE"
   ]
  },
  {
   "cell_type": "markdown",
   "metadata": {},
   "source": [
    "O erro certamente depende do intervalo \"de integração\" da equação diferencial.\n",
    "Será que a importância relativa também depende?\n",
    "\n",
    "Escolha outro intervalo, e faça o gráfico dos erros em função de $n$ para a solução numérica."
   ]
  },
  {
   "cell_type": "code",
   "execution_count": null,
   "metadata": {
    "deletable": false,
    "nbgrader": {
     "cell_type": "code",
     "checksum": "59ee0c85e05d89331b226f4f6995904b",
     "grade": true,
     "grade_id": "graf_err_sin_cos_2",
     "locked": false,
     "points": 2,
     "schema_version": 3,
     "solution": true
    }
   },
   "outputs": [],
   "source": [
    "# YOUR CODE HERE\n",
    "raise NotImplementedError()"
   ]
  },
  {
   "cell_type": "markdown",
   "metadata": {},
   "source": [
    "Agora, escolha um valor de $n$, e faça o gráfico dos erros:\n",
    "- uma curva com o erro da primeira coordenada para a função cosseno;\n",
    "- outra com o erro da segunda coordenada para a derivada do cosseno."
   ]
  },
  {
   "cell_type": "code",
   "execution_count": null,
   "metadata": {
    "deletable": false,
    "nbgrader": {
     "cell_type": "code",
     "checksum": "e93360e96cb109523c4c09fb80271e6e",
     "grade": false,
     "grade_id": "graf_erro_cos",
     "locked": false,
     "schema_version": 3,
     "solution": true,
     "task": false
    }
   },
   "outputs": [],
   "source": [
    "# YOUR CODE HERE\n",
    "raise NotImplementedError()\n",
    "\n",
    "ax = plt.gca()"
   ]
  },
  {
   "cell_type": "code",
   "execution_count": null,
   "metadata": {
    "deletable": false,
    "editable": false,
    "nbgrader": {
     "cell_type": "code",
     "checksum": "ee5164eac860620aa9b66ce4b573dd4b",
     "grade": true,
     "grade_id": "test_graf_2err",
     "locked": true,
     "points": 2,
     "schema_version": 3,
     "solution": false,
     "task": false
    }
   },
   "outputs": [],
   "source": [
    "assert len(ax.lines) == 2\n",
    "assert len(ax.get_legend().texts) == 2\n",
    "assert len(ax.get_title()) >= 10"
   ]
  },
  {
   "cell_type": "markdown",
   "metadata": {},
   "source": [
    "E comente"
   ]
  },
  {
   "cell_type": "markdown",
   "metadata": {
    "deletable": false,
    "nbgrader": {
     "cell_type": "markdown",
     "checksum": "4f528489119619882c407f6e8fcc1157",
     "grade": true,
     "grade_id": "erros_diferentes",
     "locked": false,
     "points": 1,
     "schema_version": 3,
     "solution": true,
     "task": false
    }
   },
   "source": [
    "YOUR ANSWER HERE"
   ]
  },
  {
   "cell_type": "markdown",
   "metadata": {},
   "source": [
    "### Observação: Equações diferenciais e Integrais\n",
    "\n",
    "Calcular a integral $\\int_a^b h(t) dt$ é a mesma coisa que resolver a equação diferencial\n",
    "$$ \\begin{cases}\n",
    "  f'(t) & = h(t) \\\\\n",
    "  f(a)  & = 0,\n",
    "\\end{cases} $$\n",
    "pelo Teorema Fundamental do Cálculo.\n",
    "Portanto, é possível implementar o método do retângulo usando a função `euler`.\n",
    "\n",
    "Isso é verdade para vários métodos de integração: muitas vezes existe um método de Equações Diferenciais cujo caso particular é um método de integração quando a ED é \"trivial\"."
   ]
  }
 ],
 "metadata": {
  "kernelspec": {
   "display_name": "Python 3.10.4 64-bit",
   "language": "python",
   "name": "python3"
  },
  "language_info": {
   "codemirror_mode": {
    "name": "ipython",
    "version": 3
   },
   "file_extension": ".py",
   "mimetype": "text/x-python",
   "name": "python",
   "nbconvert_exporter": "python",
   "pygments_lexer": "ipython3",
   "version": "3.10.4"
  },
  "vscode": {
   "interpreter": {
    "hash": "333c8bcc83d56984523ee2c86aa0724e8c64f66b3f19b52fa61ba19ee3d8b9eb"
   }
  }
 },
 "nbformat": 4,
 "nbformat_minor": 1
}
