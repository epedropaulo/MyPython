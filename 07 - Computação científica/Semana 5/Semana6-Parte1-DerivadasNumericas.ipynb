{
 "cells": [
  {
   "cell_type": "markdown",
   "metadata": {},
   "source": [
    "![CC-BY-SA](https://mirrors.creativecommons.org/presskit/buttons/88x31/svg/by-sa.svg)\n",
    "This notebook was created by [Bernardo Freitas Paulo da Costa](http://www.im.ufrj.br/bernardofpc),\n",
    "and is licensed under Creative Commons BY-SA"
   ]
  },
  {
   "cell_type": "code",
   "execution_count": 2,
   "metadata": {},
   "outputs": [],
   "source": [
    "import numpy as np\n",
    "import matplotlib.pyplot as plt"
   ]
  },
  {
   "cell_type": "markdown",
   "metadata": {},
   "source": [
    "# Derivadas aproximadas\n",
    "\n",
    "Nem sempre é possível calcular a derivada de uma função.\n",
    "Às vezes, a função em questão não é dada de forma explícita.\n",
    "Por exemplo,\n",
    "$$f(x) = \\min_{|y| < x} \\Big( \\frac{\\cos(2x^2 - 3y)}{20x - y}  \\Big).$$\n",
    "\n",
    "Assim, teremos que _estimar_ a derivada de $f$, sem calculá-la explicitamente."
   ]
  },
  {
   "cell_type": "markdown",
   "metadata": {},
   "source": [
    "A idéia principal é que\n",
    "$$ f'(x) = \\lim_{h \\to 0} \\frac{f(x+h) - f(x)}{h}, $$\n",
    "ou seja, que a derivada é o limite do \"quociente fundamental\".\n",
    "Podemos usar o computador para estimar este limite:"
   ]
  },
  {
   "cell_type": "code",
   "execution_count": 3,
   "metadata": {},
   "outputs": [],
   "source": [
    "def df(f, x, h=1e-5):\n",
    "    return (f(x+h) - f(x))/h"
   ]
  },
  {
   "cell_type": "markdown",
   "metadata": {},
   "source": [
    "### Exercício: \"Esta função é vetorial\"?\n",
    "\n",
    "Ou seja, se passarmos um vetor `x` em argumento, vai dar certo?\n",
    "Em que condições?"
   ]
  },
  {
   "cell_type": "markdown",
   "metadata": {},
   "source": [
    "Desde que a nossa F seja uma função vetorial, não haverá problemas."
   ]
  },
  {
   "cell_type": "markdown",
   "metadata": {},
   "source": [
    "### Exercício\n",
    "\n",
    "Calcule a derivada do seno no intervalo $[0,7]$ por este método,\n",
    "e compare com o resultado teórico."
   ]
  },
  {
   "cell_type": "code",
   "execution_count": 4,
   "metadata": {},
   "outputs": [
    {
     "name": "stdout",
     "output_type": "stream",
     "text": [
      "[ 1.          0.99500367  0.98006558  0.95533501  0.92105905  0.87758016\n",
      "  0.82533279  0.76483897  0.69670312  0.62160605  0.5402981   0.45359167\n",
      "  0.36235309  0.26749401  0.16996222  0.07073221 -0.02920452 -0.12884945\n",
      " -0.22720696 -0.3232943  -0.41615138 -0.50485042 -0.58850516 -0.66627975\n",
      " -0.73739709 -0.80114661 -0.85689133 -0.90407428 -0.94222402 -0.97095936\n",
      " -0.9899932  -0.99913536 -0.99829448 -0.98747898 -0.96679691 -0.93645493\n",
      " -0.8967562  -0.84809738 -0.79096465 -0.72592887 -0.65363984 -0.57481986\n",
      " -0.49025646 -0.40079459 -0.30732811 -0.21079091 -0.11214756 -0.01238366\n",
      "  0.08750396  0.18651728  0.28366698  0.37798237  0.46852109  0.5543785\n",
      "  0.63469674  0.7086733   0.77556903  0.83471554  0.88552184  0.9274803\n",
      "  0.96017168  0.98326935  0.99654251  0.99985855  0.99318434  0.97658655\n",
      "  0.95023103  0.91438112  0.86939502  0.81572221]\n",
      "\n",
      " [ 1.          0.99500417  0.98006658  0.95533649  0.92106099  0.87758256\n",
      "  0.82533561  0.76484219  0.69670671  0.62160997  0.54030231  0.45359612\n",
      "  0.36235775  0.26749883  0.16996714  0.0707372  -0.02919952 -0.12884449\n",
      " -0.22720209 -0.32328957 -0.41614684 -0.5048461  -0.58850112 -0.66627602\n",
      " -0.73739372 -0.80114362 -0.85688875 -0.90407214 -0.94222234 -0.97095817\n",
      " -0.9899925  -0.99913515 -0.99829478 -0.98747977 -0.96679819 -0.93645669\n",
      " -0.89675842 -0.84810003 -0.79096771 -0.7259323  -0.65364362 -0.57482395\n",
      " -0.49026082 -0.40079917 -0.30733287 -0.2107958  -0.11215253 -0.01238866\n",
      "  0.08749898  0.18651237  0.28366219  0.37797774  0.46851667  0.55437434\n",
      "  0.63469288  0.70866977  0.77556588  0.83471278  0.88551952  0.92747843\n",
      "  0.96017029  0.98326844  0.9965421   0.99985864  0.99318492  0.97658763\n",
      "  0.95023259  0.91438315  0.86939749  0.8157251 ]\n"
     ]
    }
   ],
   "source": [
    "xs = np.arange(0, 7, 0.10)  # Analisando que a derivada é o cos, devemos analisar se é parecido.\n",
    "print(df(np.sin, xs))\n",
    "print('\\n',np.cos(xs))\n"
   ]
  },
  {
   "cell_type": "markdown",
   "metadata": {},
   "source": [
    "### Exercício\n",
    "\n",
    "Muitas vezes, a função que vamos usar é \"vetorial\", como por exemplo `sin`, `exp`.\n",
    "Mas às vezes não é tão simples escrever uma forma vetorial para uma função.\n",
    "Nestes casos, não podemos usar tão diretamente as funções acima para fazer gráficos,\n",
    "e em vez disso devemos construir as listas (ou, melhor, `array`s) nós mesmos.\n",
    "\n",
    "Vejamos um exemplo:\n",
    "\n",
    "Seja $y = f(t)$ a raiz de $t\\cos(x) = x$.\n",
    "Uma forma de calcular $f$ seria, por exemplo,\n",
    "usando o método da bisseção.\n",
    "Por exemplo:"
   ]
  },
  {
   "cell_type": "code",
   "execution_count": 5,
   "metadata": {},
   "outputs": [],
   "source": [
    "def bissection(f, a, b, tol=1e-8):\n",
    "    while True:\n",
    "        z = (a + b)/2\n",
    "        \n",
    "        if abs(f(z)) < tol:\n",
    "            return z\n",
    "        \n",
    "        if f(a)*f(z) < 0:\n",
    "            b = z\n",
    "        else:\n",
    "            a = z\n",
    "    "
   ]
  },
  {
   "cell_type": "code",
   "execution_count": 6,
   "metadata": {},
   "outputs": [],
   "source": [
    "def f(t):\n",
    "    \n",
    "    def g(x):\n",
    "        return t*np.cos(x) - x\n",
    "    \n",
    "    return bissection(g,-np.pi/2,np.pi/2, tol=1e-8)"
   ]
  },
  {
   "cell_type": "markdown",
   "metadata": {},
   "source": [
    "Agora, escreva uma função `fvect` que recebe um array do numpy e retorna o array correspondente a todas as $f(t)$\n",
    "para cada $t$ no array."
   ]
  },
  {
   "cell_type": "code",
   "execution_count": 7,
   "metadata": {},
   "outputs": [],
   "source": [
    "def fvect(array):\n",
    "    resposta = []\n",
    "    \n",
    "    for x in array:\n",
    "        resposta.append(f(x))\n",
    "    \n",
    "    return resposta"
   ]
  },
  {
   "cell_type": "markdown",
   "metadata": {},
   "source": [
    "E agora, veja o gráfico de f."
   ]
  },
  {
   "cell_type": "code",
   "execution_count": 8,
   "metadata": {},
   "outputs": [
    {
     "name": "stdout",
     "output_type": "stream",
     "text": [
      "[-3.0000000e+00 -2.9500000e+00 -2.9000000e+00 -2.8500000e+00\n",
      " -2.8000000e+00 -2.7500000e+00 -2.7000000e+00 -2.6500000e+00\n",
      " -2.6000000e+00 -2.5500000e+00 -2.5000000e+00 -2.4500000e+00\n",
      " -2.4000000e+00 -2.3500000e+00 -2.3000000e+00 -2.2500000e+00\n",
      " -2.2000000e+00 -2.1500000e+00 -2.1000000e+00 -2.0500000e+00\n",
      " -2.0000000e+00 -1.9500000e+00 -1.9000000e+00 -1.8500000e+00\n",
      " -1.8000000e+00 -1.7500000e+00 -1.7000000e+00 -1.6500000e+00\n",
      " -1.6000000e+00 -1.5500000e+00 -1.5000000e+00 -1.4500000e+00\n",
      " -1.4000000e+00 -1.3500000e+00 -1.3000000e+00 -1.2500000e+00\n",
      " -1.2000000e+00 -1.1500000e+00 -1.1000000e+00 -1.0500000e+00\n",
      " -1.0000000e+00 -9.5000000e-01 -9.0000000e-01 -8.5000000e-01\n",
      " -8.0000000e-01 -7.5000000e-01 -7.0000000e-01 -6.5000000e-01\n",
      " -6.0000000e-01 -5.5000000e-01 -5.0000000e-01 -4.5000000e-01\n",
      " -4.0000000e-01 -3.5000000e-01 -3.0000000e-01 -2.5000000e-01\n",
      " -2.0000000e-01 -1.5000000e-01 -1.0000000e-01 -5.0000000e-02\n",
      " -1.0658141e-14  5.0000000e-02  1.0000000e-01  1.5000000e-01\n",
      "  2.0000000e-01  2.5000000e-01  3.0000000e-01  3.5000000e-01\n",
      "  4.0000000e-01  4.5000000e-01  5.0000000e-01  5.5000000e-01\n",
      "  6.0000000e-01  6.5000000e-01  7.0000000e-01  7.5000000e-01\n",
      "  8.0000000e-01  8.5000000e-01  9.0000000e-01  9.5000000e-01\n",
      "  1.0000000e+00  1.0500000e+00  1.1000000e+00  1.1500000e+00\n",
      "  1.2000000e+00  1.2500000e+00  1.3000000e+00  1.3500000e+00\n",
      "  1.4000000e+00  1.4500000e+00  1.5000000e+00  1.5500000e+00\n",
      "  1.6000000e+00  1.6500000e+00  1.7000000e+00  1.7500000e+00\n",
      "  1.8000000e+00  1.8500000e+00  1.9000000e+00  1.9500000e+00\n",
      "  2.0000000e+00  2.0500000e+00  2.1000000e+00  2.1500000e+00\n",
      "  2.2000000e+00  2.2500000e+00  2.3000000e+00  2.3500000e+00\n",
      "  2.4000000e+00  2.4500000e+00  2.5000000e+00  2.5500000e+00\n",
      "  2.6000000e+00  2.6500000e+00  2.7000000e+00  2.7500000e+00\n",
      "  2.8000000e+00  2.8500000e+00  2.9000000e+00  2.9500000e+00] \n",
      " [-1.1701209475942225, -1.164869042431292, -1.1594764513625144, -1.153937439749019, -1.1482459569616297, -1.1423956012708327, -1.1363796315501178, -1.1301909146109308, -1.1238218900926373, -1.117264576314198, -1.1105105059057694, -1.1035507024020181, -1.096375645132082, -1.0889752282578717, -1.0813387022573404, -1.0734546446661244, -1.0653108898574775, -1.0568944880805602, -1.0481916176853618, -1.0391875441609866, -1.029866532360574, -1.0202117411711966, -1.0102051942554948, -0.9998276103531852, -0.9890583506160046, -0.9778752723159057, -0.9662546176632806, -0.9541708792185, -0.9415966360450857, -0.9285024074179045, -0.9148564772729976, -0.9006247128057396, -0.8857703655139797, -0.870253860537837, -0.8540326152578603, -0.8370607701181014, -0.8192890247792882, -0.8006644157552792, -0.7811301174562033, -0.7606253193033417, -0.7390851379540423, -0.7164405821916877, -0.6926187752892401, -0.6675432007794823, -0.6411342876222463, -0.613310358175331, -0.5839889623757883, -0.5530888673085127, -0.5205326319420609, -0.4862502585721751, -0.4501836166860582, -0.41229214249120816, -0.37255949811851535, -0.331001108576208, -0.2876720849141683, -0.24267467925446423, -0.19616427690380367, -0.14835239240975925, -0.09950534708282535, -0.049937668310044474, 0.0, 0.049937668310044474, 0.09950534708282535, 0.14835239240975925, 0.19616427690380367, 0.24267467925446423, 0.2876720849141683, 0.331001108576208, 0.37255949811851535, 0.41229214249120816, 0.4501836166860582, 0.4862502585721751, 0.5205326319420609, 0.5530888673085127, 0.5839889623757883, 0.613310358175331, 0.6411342876222463, 0.6675432007794823, 0.6926187752892401, 0.7164405821916877, 0.7390851379540423, 0.7606253193033417, 0.7811301174562033, 0.8006644157552792, 0.8192890247792882, 0.8370607701181014, 0.8540326152578603, 0.870253860537837, 0.8857703655139797, 0.9006247128057396, 0.9148564772729976, 0.9285024074179045, 0.9415966360450857, 0.9541708792185, 0.9662546176632806, 0.9778752723159057, 0.9890583506160046, 0.9998276103531852, 1.0102051942554948, 1.0202117411711966, 1.029866532360574, 1.0391875441609866, 1.0481916176853618, 1.0568944880805602, 1.0653108898574775, 1.0734546446661244, 1.0813387022573404, 1.0889752282578717, 1.096375645132082, 1.1035507024020181, 1.1105105059057694, 1.117264576314198, 1.1238218900926373, 1.1301909146109308, 1.1363796315501178, 1.1423956012708327, 1.1482459569616297, 1.153937439749019, 1.1594764513625144, 1.164869042431292]\n"
     ]
    },
    {
     "data": {
      "image/png": "[encoded data removed]",
      "text/plain": [
       "<Figure size 432x288 with 1 Axes>"
      ]
     },
     "metadata": {
      "needs_background": "light"
     },
     "output_type": "display_data"
    }
   ],
   "source": [
    "v = np.arange(-3,3,0.05)\n",
    "print(v, '\\n', fvect(v))\n",
    "plt.plot(v, fvect(v));\n",
    "plt.show()"
   ]
  },
  {
   "cell_type": "markdown",
   "metadata": {},
   "source": [
    "Com a ajuda da fvect, faça um gráfico da derivada de $f$."
   ]
  },
  {
   "cell_type": "code",
   "execution_count": null,
   "metadata": {},
   "outputs": [],
   "source": [
    "### Resposta aqui\n"
   ]
  },
  {
   "cell_type": "markdown",
   "metadata": {},
   "source": [
    "## Estimando o erro\n",
    "\n",
    "Uma atividade importante ao se construir um método numérico é calcular (ou ao menos estimar) o erro cometido.\n",
    "Em geral, estimativas de erros são feitas com mais do que as hipóteses mínimas para o método.\n",
    "Por exemplo, no caso do método de Newton, basta a função ser derivável para podermos usá-lo,\n",
    "mas para mostrar convergência quadrática, temos que supor que ela terá duas derivadas,\n",
    "e que o quociente $\\frac{f''(\\xi)}{2f'(x)}$ seja limitado no intervalo de convergência.\n",
    "\n",
    "Vamos, então, seguir este padrão: queremos calcular a primeira derivada,\n",
    "e para estimar o erro suporemos que a função é duas vezes derivável.\n",
    "Assim:\n",
    "$$ \\frac{f(x+h) - f(x)}{h} - f'(x) = \\frac{\\big(f(x) + h f'(x) + \\frac{h^2}{2} f''(\\xi) \\big) - f(x)}{h} - f'(x)\n",
    "   = \\frac{h f''(\\xi)}{2}.$$"
   ]
  },
  {
   "cell_type": "markdown",
   "metadata": {},
   "source": [
    "No caso de $f(x) = \\sin(x)$, o erro estará aproximadamente entre $h (-\\sin(x))/2$ e $h (-\\sin(x+h))/2$.\n",
    "Vejamos o quão próximo isto é de fato:"
   ]
  },
  {
   "cell_type": "code",
   "execution_count": null,
   "metadata": {},
   "outputs": [],
   "source": [
    "plt.title('Erro na estimativa do erro (\"erro do erro\")')\n",
    "plt.plot(xs, (dfx_approx - dfx) - (- 1e-5 * np.sin(xs) / 2))\n",
    "plt.show()"
   ]
  },
  {
   "cell_type": "markdown",
   "metadata": {},
   "source": [
    "O exemplo anterior mostra que, se desejamos aproximar a derivada de uma função \"bem-comportada\" pelo quociente fundamental,\n",
    "o erro será proporcional ao **passo** e à derivada segunda (que, em geral, não conhecemos!).\n",
    "Assim, para diminuir o erro, teremos que diminuir igualmente o passo.\n",
    "Mas isso pode resultar em erros de truncamento..."
   ]
  },
  {
   "cell_type": "code",
   "execution_count": null,
   "metadata": {},
   "outputs": [],
   "source": [
    "dfx_approx_2 = df(np.sin,xs, h=1e-10)\n",
    "\n",
    "_, [ax1, ax2] = plt.subplots(ncols=2, figsize=(15,4))\n",
    "ax1.set_title('Erro de aproximação')\n",
    "ax1.plot(xs, dfx_approx_2 - dfx)\n",
    "\n",
    "ax2.set_title('Erro na estimativa do erro')\n",
    "ax2.plot(xs, (dfx_approx_2 - dfx) - (- 1e-10 * np.sin(xs)/2))\n",
    "plt.show()"
   ]
  },
  {
   "cell_type": "markdown",
   "metadata": {},
   "source": [
    "### Exercício: vendo o truncamento\n",
    "\n",
    "Porque faz sentido, dados os gráficos acima,\n",
    "atribuir o erro de aproximação à precisão numérica do computador,\n",
    "e não à derivada segunda?"
   ]
  },
  {
   "cell_type": "markdown",
   "metadata": {},
   "source": [
    "Note que o erro de aproximação não está mais proporcional a $\\varepsilon$.\n",
    "Para resolver isso, precisamos de um método de cálculo cujo erro seja menor!"
   ]
  }
 ],
 "metadata": {
  "kernelspec": {
   "display_name": "Python 3 (ipykernel)",
   "language": "python",
   "name": "python3"
  },
  "language_info": {
   "codemirror_mode": {
    "name": "ipython",
    "version": 3
   },
   "file_extension": ".py",
   "mimetype": "text/x-python",
   "name": "python",
   "nbconvert_exporter": "python",
   "pygments_lexer": "ipython3",
   "version": "3.10.4"
  },
  "vscode": {
   "interpreter": {
    "hash": "333c8bcc83d56984523ee2c86aa0724e8c64f66b3f19b52fa61ba19ee3d8b9eb"
   }
  }
 },
 "nbformat": 4,
 "nbformat_minor": 1
}
