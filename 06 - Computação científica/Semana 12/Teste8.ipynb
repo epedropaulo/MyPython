{
 "cells": [
  {
   "cell_type": "markdown",
   "metadata": {},
   "source": [
    "![CC-BY-SA](https://mirrors.creativecommons.org/presskit/buttons/88x31/svg/by-sa.svg)\n",
    "\n",
    "\n",
    "This notebook was created by [Bernardo Freitas Paulo da Costa](http://www.im.ufrj.br/bernardofpc),\n",
    "and is licensed under Creative Commons BY-SA."
   ]
  },
  {
   "cell_type": "markdown",
   "metadata": {},
   "source": [
    "Antes de enviar este Teste, verifique que tudo está funcionando como esperado.\n",
    "Por exemplo, **rode o código inteiro, do zero**.\n",
    "Para isso, vá no menu, escolha _Kernel_, depois _Restart & Run All_.\n",
    "\n",
    "Verifique, também, que você respondeu todas as questões:\n",
    "* as questões de código têm `YOUR CODE HERE` (e você pode apagar o `raise NotImplemented` ao incluir sua resposta)\n",
    "* as questões discursivas têm \"YOUR ANSWER HERE\"."
   ]
  },
  {
   "cell_type": "markdown",
   "metadata": {},
   "source": [
    "---"
   ]
  },
  {
   "cell_type": "code",
   "execution_count": 2,
   "metadata": {},
   "outputs": [],
   "source": [
    "import numpy as np\n",
    "import matplotlib.pyplot as plt\n",
    "from time import time"
   ]
  },
  {
   "cell_type": "markdown",
   "metadata": {},
   "source": [
    "# Resolvendo sistemas especiais\n",
    "\n",
    "## Questão 1: Algoritmo\n",
    "\n",
    "Uma matriz é dita tridiagonal quando só possui entradas diferentes de zero na diagonal,\n",
    "e imediatamente acima ou abaixo dela.\n",
    "\n",
    "Explique porque, ao fazer a eliminação, o algoritmo só precisa operar nas três \"diagonais centrais\"."
   ]
  },
  {
   "cell_type": "markdown",
   "metadata": {
    "deletable": false,
    "nbgrader": {
     "cell_type": "markdown",
     "checksum": "9fc580eb409c7160b373c9ba848736b1",
     "grade": true,
     "grade_id": "cell-671f1d7ad1aebc5e",
     "locked": false,
     "points": 2,
     "schema_version": 3,
     "solution": true,
     "task": false
    }
   },
   "source": [
    "Tendo a informação que a matriz é tridiagonal, podemos fazer uma eliminação de gauss de forma genérica, e achar uma fórmula para a solução do sistemas apenas com as 3 diagonais."
   ]
  },
  {
   "cell_type": "markdown",
   "metadata": {},
   "source": [
    "Dê um exemplo de uma matriz $4 \\times 4$, com muitos zeros, mas para a qual o algoritmo de eliminação\n",
    "vai ter que acessar e calcular nas entradas correspondentes a estes zeros."
   ]
  },
  {
   "cell_type": "markdown",
   "metadata": {
    "deletable": false,
    "nbgrader": {
     "cell_type": "markdown",
     "checksum": "c6d7b577aefd0c03658bc3812ba0971a",
     "grade": true,
     "grade_id": "cell-d5ca797d17ccc3d9",
     "locked": false,
     "points": 1,
     "schema_version": 3,
     "solution": true,
     "task": false
    }
   },
   "source": [
    "Uma matriz tridiagonal 4x4 por exemplo: [[1, 3, 0, 0],[2, 4, 7, 0],[0, 5, 9, 10],[0, 0, 8, 11]]. Mesmo que possua os 0 em todas as linhas, isso não é aproveitado pelo algoritmo de emliminação normal."
   ]
  },
  {
   "cell_type": "markdown",
   "metadata": {},
   "source": [
    "Agora, escreva a função `tridiag_solve` para resolver sistemas tridiagonais, ou seja,\n",
    "aqueles cuja matriz de coeficientes é tridiagonal.\n",
    "\n",
    "Esta função deve realizar o algoritmo de eliminação,\n",
    "mas, para ter uma boa performance, opere apenas nas entradas das diagonais centrais."
   ]
  },
  {
   "cell_type": "code",
   "execution_count": 84,
   "metadata": {
    "deletable": false,
    "nbgrader": {
     "cell_type": "code",
     "checksum": "2d473836f3d27d675feae3cb56bc794c",
     "grade": false,
     "grade_id": "cell-462b708f5e397ecf",
     "locked": false,
     "schema_version": 3,
     "solution": true,
     "task": false
    }
   },
   "outputs": [],
   "source": [
    "def tridiag_solve(A, b):\n",
    "    A = np.copy(np.asarray(A, dtype=np.float64))\n",
    "    b = np.copy(np.asarray(b, dtype=np.float64))\n",
    "    n,m = np.shape(A)\n",
    "    assert m == len(b)\n",
    "    assert n == m, \"Matrix must be square\"\n",
    "    # YOUR CODE HERE\n",
    "    Sdiag = []  # Criaremos vetores para representar as diagonais, diagonal superior\n",
    "    Diag = []   # diagonal\n",
    "    Idiag = []  # diagonal inferior\n",
    "\n",
    "    for i in range(m):\n",
    "        Diag.append(A[i][i])\n",
    "        \n",
    "        if i == 0:\n",
    "            Idiag.append(0)\n",
    "        else:\n",
    "            Idiag.append(A[i-1][i])\n",
    "        \n",
    "        if i == (m-1):\n",
    "            Sdiag.append(0)\n",
    "        else:\n",
    "            Sdiag.append(A[i+1][i])\n",
    "\n",
    "    New_Sdiag = []\n",
    "    New_b = []\n",
    "\n",
    "\n",
    "    for i in range(n-1):\n",
    "        if i == 0:\n",
    "            New_Sdiag.append( Sdiag[i]/Diag[i] )\n",
    "            New_b.append( b[i]/Diag[i] )\n",
    "        \n",
    "        else:\n",
    "            New_Sdiag.append( (Sdiag[i]) / (Diag[i] - Idiag[i]*New_Sdiag[i-1]) )\n",
    "            New_b.append( (b[i] - Idiag[i]*New_b[i-1]) / (Diag[i] - Idiag[i]*New_Sdiag[i-1]) )\n",
    "        \n",
    "        if i == n-2:\n",
    "            New_b.append( (b[i+1] - Idiag[i+1]*New_b[i]) / (Diag[i+1] - Idiag[i+1]*New_Sdiag[i]) )\n",
    "    \n",
    "    x = []\n",
    "\n",
    "    for i in range(n-1, -1, -1):\n",
    "        print(x)\n",
    "        if i == n-1:\n",
    "            x.append(New_b[i])\n",
    "        else:\n",
    "            \n",
    "            x.append(New_b[i] - New_Sdiag[i]*x[(n-2) - (i)])\n",
    "\n",
    "    \"\"\"for i in range(n):\n",
    "        print(x)\n",
    "        if i == 0:\n",
    "            x.append(New_b[i])\n",
    "        else:\n",
    "            \n",
    "            x.append(New_b[i] - New_Sdiag[i]*x[i-1])\"\"\"\n",
    "\n",
    "    return x\n"
   ]
  },
  {
   "cell_type": "code",
   "execution_count": 85,
   "metadata": {},
   "outputs": [
    {
     "name": "stdout",
     "output_type": "stream",
     "text": [
      "[]\n",
      "[1.0227272727272727]\n",
      "[1.0227272727272727, -0.08333333333333326]\n",
      "[1.0227272727272727, -0.08333333333333326, -0.7499999999999999]\n"
     ]
    },
    {
     "data": {
      "text/plain": [
       "[1.0227272727272727, -0.08333333333333326, -0.7499999999999999, 2.5]"
      ]
     },
     "execution_count": 85,
     "metadata": {},
     "output_type": "execute_result"
    }
   ],
   "source": [
    "A = [[1,2,0,0],[2,1,2,0],[0,3,9,3],[0,0,11,11]]\n",
    "b=[1,4,9,11]\n",
    "tridiag_solve(A, b)"
   ]
  },
  {
   "cell_type": "markdown",
   "metadata": {},
   "source": [
    "Qual o papel do primeiro assert?"
   ]
  },
  {
   "cell_type": "markdown",
   "metadata": {
    "deletable": false,
    "nbgrader": {
     "cell_type": "markdown",
     "checksum": "f7374d595c9876249cb7f8693191382d",
     "grade": true,
     "grade_id": "cell-7a4214ebd68e358c",
     "locked": false,
     "points": 1,
     "schema_version": 3,
     "solution": true,
     "task": false
    }
   },
   "source": [
    "YOUR ANSWER HERE"
   ]
  },
  {
   "cell_type": "code",
   "execution_count": null,
   "metadata": {
    "deletable": false,
    "editable": false,
    "nbgrader": {
     "cell_type": "code",
     "checksum": "2e4b59ab9571801024d1e03249fd5458",
     "grade": true,
     "grade_id": "cell-65f2e07cb2fa5887",
     "locked": true,
     "points": 1,
     "schema_version": 3,
     "solution": false,
     "task": false
    }
   },
   "outputs": [],
   "source": [
    "A = [[1, 2, 0], [2, 1, -1], [0, 1, -2]]\n",
    "b = [1,1,1]\n",
    "\n",
    "x1 = np.linalg.solve(A,b)\n",
    "x2 = tridiag_solve(A, b)\n",
    "assert np.allclose(x1, x2, atol=1e-14, rtol=1e-14)"
   ]
  },
  {
   "cell_type": "code",
   "execution_count": null,
   "metadata": {
    "deletable": false,
    "editable": false,
    "nbgrader": {
     "cell_type": "code",
     "checksum": "f9ce16344b327878f74ae2a53d78a9e5",
     "grade": true,
     "grade_id": "cell-20bb3249b0db5e25",
     "locked": true,
     "points": 1,
     "schema_version": 3,
     "solution": false,
     "task": false
    }
   },
   "outputs": [],
   "source": [
    "np.random.seed(9)\n",
    "A = np.diag(range(3,8)) + np.diag([-1,-1,-2,-2], k=1) + np.diag([-2,-2,-1,-1], k=-1)\n",
    "b = np.random.randn(5)\n",
    "\n",
    "x1 = np.linalg.solve(A, b)\n",
    "x2 = tridiag_solve(A, b)\n",
    "assert np.allclose(x1, x2, atol=1e-13, rtol=1e-13)"
   ]
  },
  {
   "cell_type": "markdown",
   "metadata": {},
   "source": [
    "Se você não tivesse acesso a `np.linalg.solve`, como você poderia testar sua função?\n",
    "Explique abaixo, e dê um exemplo de teste na caixa seguinte."
   ]
  },
  {
   "cell_type": "markdown",
   "metadata": {
    "deletable": false,
    "nbgrader": {
     "cell_type": "markdown",
     "checksum": "d7e005d192564f3abfad3c2639865f43",
     "grade": true,
     "grade_id": "cell-880f3f95c45d504d",
     "locked": false,
     "points": 1,
     "schema_version": 3,
     "solution": true,
     "task": false
    }
   },
   "source": [
    "YOUR ANSWER HERE"
   ]
  },
  {
   "cell_type": "code",
   "execution_count": null,
   "metadata": {
    "deletable": false,
    "nbgrader": {
     "cell_type": "code",
     "checksum": "a43fd073452357c400e95e3d94b8e664",
     "grade": true,
     "grade_id": "cell-e359c03c250b063f",
     "locked": false,
     "points": 1,
     "schema_version": 3,
     "solution": true,
     "task": false
    }
   },
   "outputs": [],
   "source": [
    "# Exemplo de teste\n",
    "# YOUR CODE HERE\n",
    "raise NotImplementedError()"
   ]
  },
  {
   "cell_type": "code",
   "execution_count": null,
   "metadata": {
    "deletable": false,
    "editable": false,
    "nbgrader": {
     "cell_type": "code",
     "checksum": "438feefb98479fa70a5568a49a1eb9be",
     "grade": true,
     "grade_id": "cell-077e432dff6201e1",
     "locked": true,
     "points": 1,
     "schema_version": 3,
     "solution": false,
     "task": false
    }
   },
   "outputs": [],
   "source": [
    "np.random.seed(9)\n",
    "A = np.random.randn(5,5)\n",
    "b = [1,2,3,4,5]\n",
    "\n",
    "\n",
    "x1 = np.linalg.solve(A, b)\n",
    "x2 = tridiag_solve(A, b)\n",
    "assert not np.allclose(x1, x2, atol=1e-3, rtol=1e-3)"
   ]
  },
  {
   "cell_type": "markdown",
   "metadata": {},
   "source": [
    "Explique o resultado dos testes acima."
   ]
  },
  {
   "cell_type": "markdown",
   "metadata": {
    "deletable": false,
    "nbgrader": {
     "cell_type": "markdown",
     "checksum": "0b26708c76893392842deef2fa1e0094",
     "grade": true,
     "grade_id": "cell-2ee20344f5d12125",
     "locked": false,
     "points": 1,
     "schema_version": 3,
     "solution": true,
     "task": false
    }
   },
   "source": [
    "YOUR ANSWER HERE"
   ]
  },
  {
   "cell_type": "markdown",
   "metadata": {},
   "source": [
    "## Questão 2: Tempos\n",
    "\n",
    "Para cada um dos `ns` dados a seguir, monte um sistema tridiagonal $n \\times n$,\n",
    "e calcule o tempo (usando `time`) para:\n",
    "1. Criar a matriz A e o vetor b (podem ser aleatórios, podem não ser)\n",
    "2. Resolver o sistema usando `tridiag_solve`\n",
    "\n",
    "Armazene os tempos em duas listas, `t_create` e `t_solve`.\n",
    "\n",
    "Obs: a caixa abaixo pode usar algo como 500M de RAM, por conta das matrizes 4k\n",
    "(ou até mais, dependendo de **como** você criar as matrizes).\n",
    "Assim, para testar, diminua a amplitude do logspace, terminando em $2^{10}$ em vez de $2^{12}$.\n",
    "Se você não conseguir fazer funcionar até $2^{12}$,\n",
    "reduza o maior valor do `logspace`, mas não reduza demais.\n",
    "\n",
    "Obs2: A caixa abaixo deve ser executada em menos de 60 segundos, para não dar `TimeOut`."
   ]
  },
  {
   "cell_type": "code",
   "execution_count": null,
   "metadata": {
    "deletable": false,
    "nbgrader": {
     "cell_type": "code",
     "checksum": "d9e2783887f32adbbc0ae3899f8df35f",
     "grade": true,
     "grade_id": "cell-84a663322d8e87f5",
     "locked": false,
     "points": 2,
     "schema_version": 3,
     "solution": true,
     "task": false
    }
   },
   "outputs": [],
   "source": [
    "%%time\n",
    "\n",
    "ns = np.logspace(4,12, base=2, num=28, dtype=int)\n",
    "t_create = []\n",
    "t_solve  = []\n",
    "for i, n in enumerate(ns):\n",
    "    # YOUR CODE HERE\n",
    "    raise NotImplementedError()"
   ]
  },
  {
   "cell_type": "markdown",
   "metadata": {},
   "source": [
    "Agora, faça um gráfico destes tempos, em função de $n$."
   ]
  },
  {
   "cell_type": "code",
   "execution_count": null,
   "metadata": {
    "deletable": false,
    "nbgrader": {
     "cell_type": "code",
     "checksum": "b5fdd2f0ee670e68830b6b9abf309be9",
     "grade": false,
     "grade_id": "cell-a67d25ce0784d87f",
     "locked": false,
     "schema_version": 3,
     "solution": true,
     "task": false
    }
   },
   "outputs": [],
   "source": [
    "# YOUR CODE HERE\n",
    "raise NotImplementedError()\n",
    "\n",
    "ax = plt.gca()"
   ]
  },
  {
   "cell_type": "code",
   "execution_count": null,
   "metadata": {
    "deletable": false,
    "editable": false,
    "nbgrader": {
     "cell_type": "code",
     "checksum": "328b139fc4112f5d0fe4ee451d929982",
     "grade": true,
     "grade_id": "cell-e3e0f254799598f9",
     "locked": true,
     "points": 1,
     "schema_version": 3,
     "solution": false,
     "task": false
    }
   },
   "outputs": [],
   "source": [
    "assert len(ax.lines) == 2\n",
    "assert len(ax.legend().texts) == 2\n",
    "assert ax.get_title() != \"\""
   ]
  },
  {
   "cell_type": "code",
   "execution_count": null,
   "metadata": {
    "deletable": false,
    "editable": false,
    "nbgrader": {
     "cell_type": "code",
     "checksum": "5fb8e4e1ef41cb7977c1aac6836b038d",
     "grade": true,
     "grade_id": "cell-b0b81c2b16c50f3a",
     "locked": true,
     "points": 1,
     "schema_version": 3,
     "solution": false,
     "task": false
    }
   },
   "outputs": [],
   "source": [
    "for l in ax.lines:\n",
    "    xs = l.get_xdata()\n",
    "    assert min(xs) == 2**4\n",
    "    assert 2**9 <= max(xs) <= 2**13"
   ]
  },
  {
   "cell_type": "code",
   "execution_count": null,
   "metadata": {
    "deletable": false,
    "editable": false,
    "nbgrader": {
     "cell_type": "code",
     "checksum": "418830f6be670487fb4a054bb04a3d4d",
     "grade": false,
     "grade_id": "cell-fe964215dead09c4",
     "locked": true,
     "schema_version": 3,
     "solution": false,
     "task": false
    }
   },
   "outputs": [],
   "source": [
    "ax = None"
   ]
  },
  {
   "cell_type": "markdown",
   "metadata": {},
   "source": [
    "Qual etapa demora mais?\n",
    "Porquê você acha que isso acontece?"
   ]
  },
  {
   "cell_type": "markdown",
   "metadata": {
    "deletable": false,
    "nbgrader": {
     "cell_type": "markdown",
     "checksum": "108666274c95da5a5466ea2107289581",
     "grade": true,
     "grade_id": "cell-7d10cf0ddf503610",
     "locked": false,
     "points": 2,
     "schema_version": 3,
     "solution": true,
     "task": false
    }
   },
   "source": [
    "YOUR ANSWER HERE"
   ]
  },
  {
   "cell_type": "markdown",
   "metadata": {},
   "source": [
    "Agora, faça novos gráficos, para tentar descobrir a taxa de crescimento destes tempos:\n",
    "se é linear, quadrático, exponencial, ... em função de $n$.\n",
    "\n",
    "E se são a mesma taxa ou não!"
   ]
  },
  {
   "cell_type": "code",
   "execution_count": null,
   "metadata": {
    "deletable": false,
    "nbgrader": {
     "cell_type": "code",
     "checksum": "80a4a61f47c75033569dd08f62b92f0e",
     "grade": true,
     "grade_id": "cell-0ac7be496b4ab4a4",
     "locked": false,
     "points": 1,
     "schema_version": 3,
     "solution": true,
     "task": false
    }
   },
   "outputs": [],
   "source": [
    "# YOUR CODE HERE\n",
    "raise NotImplementedError()"
   ]
  },
  {
   "cell_type": "markdown",
   "metadata": {},
   "source": [
    "Comente"
   ]
  },
  {
   "cell_type": "markdown",
   "metadata": {
    "deletable": false,
    "nbgrader": {
     "cell_type": "markdown",
     "checksum": "771e39b6d32bc3722f7f9c45846865f6",
     "grade": true,
     "grade_id": "cell-c5b389d9a6bae124",
     "locked": false,
     "points": 2,
     "schema_version": 3,
     "solution": true,
     "task": false
    }
   },
   "source": [
    "YOUR ANSWER HERE"
   ]
  },
  {
   "cell_type": "markdown",
   "metadata": {},
   "source": [
    "## Questão 3: Sistemas pentadiagonais\n",
    "\n",
    "Agora, suponha que a matriz $A$ é pentadiagonal, ou seja, as entradas não-nulas\n",
    "podem estar até 2 linhas acima ou abaixo da diagonal principal.\n",
    "Generalize o seu programa para resolver sistemas pentadiagonais."
   ]
  },
  {
   "cell_type": "code",
   "execution_count": null,
   "metadata": {
    "deletable": false,
    "nbgrader": {
     "cell_type": "code",
     "checksum": "571c8582bd5a9013fa43cd3f54aeb512",
     "grade": false,
     "grade_id": "cell-41937ff612288545",
     "locked": false,
     "schema_version": 3,
     "solution": true,
     "task": false
    }
   },
   "outputs": [],
   "source": [
    "def pentadiag_solve(A, b):\n",
    "    A = np.copy(np.asarray(A, dtype=np.float64))\n",
    "    b = np.copy(np.asarray(b, dtype=np.float64))\n",
    "    n,m = np.shape(A)\n",
    "    assert m == len(b)\n",
    "    assert n == m, \"Matrix must be square\"\n",
    "    # YOUR CODE HERE\n",
    "    raise NotImplementedError()"
   ]
  },
  {
   "cell_type": "code",
   "execution_count": null,
   "metadata": {
    "deletable": false,
    "editable": false,
    "nbgrader": {
     "cell_type": "code",
     "checksum": "47970c533b0a3e8bfb9150817c2ebbd0",
     "grade": true,
     "grade_id": "cell-2e48084bf174185d",
     "locked": true,
     "points": 1,
     "schema_version": 3,
     "solution": false,
     "task": false
    }
   },
   "outputs": [],
   "source": [
    "np.random.seed(9)\n",
    "A = np.diag(range(3,8)) + np.diag([-1,-1,-2,-2], k=1) + np.diag([-2,-2,-1,-1], k=-1)\n",
    "b = np.random.randn(5)\n",
    "\n",
    "x2 = tridiag_solve(A, b)\n",
    "x3 = pentadiag_solve(A, b)\n",
    "assert np.allclose(x3, x2, atol=1e-13, rtol=1e-13)"
   ]
  },
  {
   "cell_type": "code",
   "execution_count": null,
   "metadata": {
    "deletable": false,
    "editable": false,
    "nbgrader": {
     "cell_type": "code",
     "checksum": "04ad339f95eab013a9699fff6e6b1d59",
     "grade": true,
     "grade_id": "cell-ea99873bf680925a",
     "locked": true,
     "points": 2,
     "schema_version": 3,
     "solution": false,
     "task": false
    }
   },
   "outputs": [],
   "source": [
    "np.random.seed(10)\n",
    "A = np.diag(range(3,9)) + np.diag([-1,-1,-2,-2], k=2) + np.diag([-2,-2,-1,-1], k=-2)\n",
    "b = np.random.randn(6)\n",
    "\n",
    "x1 = np.linalg.solve(A, b)\n",
    "x3 = pentadiag_solve(A, b)\n",
    "assert np.allclose(x1, x3, atol=1e-13, rtol=1e-13)"
   ]
  },
  {
   "cell_type": "code",
   "execution_count": null,
   "metadata": {
    "deletable": false,
    "editable": false,
    "nbgrader": {
     "cell_type": "code",
     "checksum": "8dbfb37bf6eda7931af7f222ab39f266",
     "grade": true,
     "grade_id": "cell-a9b89660ea1f5a11",
     "locked": true,
     "points": 1,
     "schema_version": 3,
     "solution": false,
     "task": false
    }
   },
   "outputs": [],
   "source": [
    "np.random.seed(10)\n",
    "A = np.diag(range(3,9)) + np.diag([-1,-1,0,-2,-2], k=1) + np.diag([-2,-2,-1,-1], k=-2)\n",
    "b = np.random.randn(6)\n",
    "\n",
    "x1 = np.linalg.solve(A, b)\n",
    "x3 = pentadiag_solve(A, b)\n",
    "assert np.allclose(x1, x3, atol=1e-13, rtol=1e-13)"
   ]
  },
  {
   "cell_type": "markdown",
   "metadata": {},
   "source": [
    "Repita os cálculos de tempo, para resolver sistemas de dimensão até $2^{12}$."
   ]
  },
  {
   "cell_type": "code",
   "execution_count": null,
   "metadata": {
    "deletable": false,
    "nbgrader": {
     "cell_type": "code",
     "checksum": "23eb60ac857e3086372641a602f8654c",
     "grade": true,
     "grade_id": "cell-2e5b4eed7bb22b4b",
     "locked": false,
     "points": 1,
     "schema_version": 3,
     "solution": true,
     "task": false
    }
   },
   "outputs": [],
   "source": [
    "ns = np.logspace(4,12, base=2, num=28, dtype=int)\n",
    "t_create = []\n",
    "t_solve  = []\n",
    "for i, n in enumerate(ns):\n",
    "    # YOUR CODE HERE\n",
    "    raise NotImplementedError()"
   ]
  },
  {
   "cell_type": "code",
   "execution_count": null,
   "metadata": {
    "deletable": false,
    "nbgrader": {
     "cell_type": "code",
     "checksum": "498aac693e11746ff8390bc31df8cca1",
     "grade": false,
     "grade_id": "cell-aa08140310aa9c71",
     "locked": false,
     "schema_version": 3,
     "solution": true,
     "task": false
    }
   },
   "outputs": [],
   "source": [
    "# YOUR CODE HERE\n",
    "raise NotImplementedError()\n",
    "\n",
    "ax = plt.gca()"
   ]
  },
  {
   "cell_type": "code",
   "execution_count": null,
   "metadata": {
    "deletable": false,
    "editable": false,
    "nbgrader": {
     "cell_type": "code",
     "checksum": "e8371fb142125e7ddb5eb1a80ece12ad",
     "grade": true,
     "grade_id": "cell-daef85db8ad2ed47",
     "locked": true,
     "points": 1,
     "schema_version": 3,
     "solution": false,
     "task": false
    }
   },
   "outputs": [],
   "source": [
    "assert len(ax.lines) == 2\n",
    "assert len(ax.legend().texts) == 2\n",
    "assert ax.get_title() != \"\""
   ]
  },
  {
   "cell_type": "markdown",
   "metadata": {},
   "source": [
    "O que mudou?"
   ]
  },
  {
   "cell_type": "markdown",
   "metadata": {
    "deletable": false,
    "nbgrader": {
     "cell_type": "markdown",
     "checksum": "44084f4556a1a31704e85c517105d545",
     "grade": true,
     "grade_id": "cell-7e4a3bc07ef66e1e",
     "locked": false,
     "points": 1,
     "schema_version": 3,
     "solution": true,
     "task": false
    }
   },
   "source": [
    "YOUR ANSWER HERE"
   ]
  },
  {
   "cell_type": "markdown",
   "metadata": {},
   "source": [
    "## Questão 4: Velocidade\n",
    "\n",
    "Seu método tridiagonal é mais rápido do que `np.linalg.solve` para matrizes $10 \\times 10$?\n",
    "Para qual $n$, aproximadamente, seu método fica mais rápido?"
   ]
  },
  {
   "cell_type": "code",
   "execution_count": null,
   "metadata": {
    "deletable": false,
    "nbgrader": {
     "cell_type": "code",
     "checksum": "681c180b48f7fa3bfa8cddb19a55ff56",
     "grade": true,
     "grade_id": "cell-cc0d30be0b997cb8",
     "locked": false,
     "points": 2,
     "schema_version": 3,
     "solution": true,
     "task": false
    }
   },
   "outputs": [],
   "source": [
    "# YOUR CODE HERE\n",
    "raise NotImplementedError()"
   ]
  },
  {
   "cell_type": "markdown",
   "metadata": {},
   "source": [
    "E como é a qualidade da solução?\n",
    "Faça cálculos na caixa abaixo, e comente em seguida."
   ]
  },
  {
   "cell_type": "code",
   "execution_count": null,
   "metadata": {
    "deletable": false,
    "nbgrader": {
     "cell_type": "code",
     "checksum": "f83d57bb56e1161bce35efe6cf46d08c",
     "grade": true,
     "grade_id": "cell-b1b8d36719f10882",
     "locked": false,
     "points": 2,
     "schema_version": 3,
     "solution": true,
     "task": false
    }
   },
   "outputs": [],
   "source": [
    "# YOUR CODE HERE\n",
    "raise NotImplementedError()"
   ]
  },
  {
   "cell_type": "markdown",
   "metadata": {
    "deletable": false,
    "nbgrader": {
     "cell_type": "markdown",
     "checksum": "fed93f0c84e2a22c9c1c48046a50a682",
     "grade": true,
     "grade_id": "cell-4f62e86e0f71ebab",
     "locked": false,
     "points": 1,
     "schema_version": 3,
     "solution": true,
     "task": false
    }
   },
   "source": [
    "YOUR ANSWER HERE"
   ]
  }
 ],
 "metadata": {
  "kernelspec": {
   "display_name": "Python 3",
   "language": "python",
   "name": "python3"
  },
  "language_info": {
   "codemirror_mode": {
    "name": "ipython",
    "version": 3
   },
   "file_extension": ".py",
   "mimetype": "text/x-python",
   "name": "python",
   "nbconvert_exporter": "python",
   "pygments_lexer": "ipython3",
   "version": "3.10.4"
  },
  "vscode": {
   "interpreter": {
    "hash": "333c8bcc83d56984523ee2c86aa0724e8c64f66b3f19b52fa61ba19ee3d8b9eb"
   }
  }
 },
 "nbformat": 4,
 "nbformat_minor": 4
}
