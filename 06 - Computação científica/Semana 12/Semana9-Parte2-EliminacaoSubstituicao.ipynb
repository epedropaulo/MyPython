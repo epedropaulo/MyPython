{
 "cells": [
  {
   "cell_type": "markdown",
   "metadata": {},
   "source": [
    "![CC-BY-SA](https://mirrors.creativecommons.org/presskit/buttons/88x31/svg/by-sa.svg)\n",
    "This notebook was created by [Bernardo Freitas Paulo da Costa](http://www.im.ufrj.br/bernardofpc),\n",
    "and is licensed under Creative Commons BY-SA"
   ]
  },
  {
   "cell_type": "markdown",
   "metadata": {},
   "source": [
    "# Implementando `numpy.linalg.solve()`\n",
    "\n",
    "Vamos implementar a nossa própria versão de \"solve\".\n",
    "A principal razão para fazê-lo é que a versão do `numpy` não é \"genérica\", ou seja,\n",
    "ela não funciona para uma matriz qualquer, mas apenas para matrizes de números.\n",
    "E poderíamos ter um sistema linear cujos coeficientes não fossem números.\n",
    "\n",
    "Por exemplo, imagine que queremos resolver o seguinte sistema:\n",
    "$$\\begin{align*}\n",
    "e^t x + e^{-t}y + \\ e^{3t} z & = 2 \\\\\n",
    "e^t x - e^{-t}y + 3e^{3t} z& = -1 \\\\\n",
    "e^t x + e^{-t}y + 9e^{3t} z& = 1\n",
    "\\end{align*}$$\n",
    "As variáveis $x$ e $y$ são **funções** de $t$,\n",
    "mas o mais importante é que este é um _sistema linear_ em $t$,\n",
    "logo podemos aplicar a mesma ideia da eliminação de Gauss!"
   ]
  },
  {
   "cell_type": "markdown",
   "metadata": {},
   "source": [
    "## Eliminação\n",
    "\n",
    "Para resolver um sistema linear, procedemos em duas etapas.\n",
    "A primeira é conhecida como \"eliminação de Gauss\", que vai eliminando sucessivamente os coeficientes."
   ]
  },
  {
   "cell_type": "code",
   "execution_count": 17,
   "metadata": {},
   "outputs": [],
   "source": [
    "import numpy as np"
   ]
  },
  {
   "cell_type": "code",
   "execution_count": 18,
   "metadata": {},
   "outputs": [],
   "source": [
    "def elim(A,b, debug=False):\n",
    "    \"\"\"Elimina as equações do sistema Ax = b, de cima para baixo.\n",
    "    Os dados de entrada são _alterados_ pela execução da função, para refletir o novo sistema.\"\"\"\n",
    "    A = np.array(A)\n",
    "    b = np.array(b)\n",
    "    m,n = np.shape(A)\n",
    "    ### Resposta aqui\n",
    "    if m < n:\n",
    "        menor = m\n",
    "    else:\n",
    "        menor = n\n",
    "    for i in range(menor):      # i Representa linhas\n",
    "        linha_i = A[i]\n",
    "        pivot = A[i][i]\n",
    "        \n",
    "        if debug:\n",
    "            print(i)\n",
    "            print('')\n",
    "            print(A)\n",
    "            print('')\n",
    "            print(b)\n",
    "            print('-=' * 50)\n",
    "        \n",
    "        for ii in range(i+1, m):  # ii Representa linhas\n",
    "            nova_linha = A[ii] - (linha_i / pivot) * A[ii][i]\n",
    "            novo_b = b[ii] - (b[i] / pivot) * A[ii][i]\n",
    "            \n",
    "            A[ii] = nova_linha\n",
    "            b[ii] = novo_b\n",
    "            \n",
    "    if debug:\n",
    "            print('end')\n",
    "            print(A)\n",
    "            print(b)\n",
    "    \n",
    "    return A, b"
   ]
  },
  {
   "cell_type": "code",
   "execution_count": 19,
   "metadata": {},
   "outputs": [
    {
     "data": {
      "text/plain": [
       "([[1, 2, 3], [4, 5, 6], [7, 8, 9]], (3, 3))"
      ]
     },
     "execution_count": 19,
     "metadata": {},
     "output_type": "execute_result"
    }
   ],
   "source": [
    "A = [[1,2,3],[4,5,6],[7,8,9]]\n",
    "A, np.shape(A)"
   ]
  },
  {
   "cell_type": "code",
   "execution_count": 20,
   "metadata": {},
   "outputs": [],
   "source": [
    "b = [1,3,3]"
   ]
  },
  {
   "cell_type": "code",
   "execution_count": 21,
   "metadata": {},
   "outputs": [
    {
     "name": "stdout",
     "output_type": "stream",
     "text": [
      "0\n",
      "\n",
      "[[1 2 3]\n",
      " [4 5 6]\n",
      " [7 8 9]]\n",
      "\n",
      "[1 3 3]\n",
      "-=-=-=-=-=-=-=-=-=-=-=-=-=-=-=-=-=-=-=-=-=-=-=-=-=-=-=-=-=-=-=-=-=-=-=-=-=-=-=-=-=-=-=-=-=-=-=-=-=-=\n",
      "1\n",
      "\n",
      "[[  1   2   3]\n",
      " [  0  -3  -6]\n",
      " [  0  -6 -12]]\n",
      "\n",
      "[ 1 -1 -4]\n",
      "-=-=-=-=-=-=-=-=-=-=-=-=-=-=-=-=-=-=-=-=-=-=-=-=-=-=-=-=-=-=-=-=-=-=-=-=-=-=-=-=-=-=-=-=-=-=-=-=-=-=\n",
      "2\n",
      "\n",
      "[[ 1  2  3]\n",
      " [ 0 -3 -6]\n",
      " [ 0  0  0]]\n",
      "\n",
      "[ 1 -1 -2]\n",
      "-=-=-=-=-=-=-=-=-=-=-=-=-=-=-=-=-=-=-=-=-=-=-=-=-=-=-=-=-=-=-=-=-=-=-=-=-=-=-=-=-=-=-=-=-=-=-=-=-=-=\n",
      "end\n",
      "[[ 1  2  3]\n",
      " [ 0 -3 -6]\n",
      " [ 0  0  0]]\n",
      "[ 1 -1 -2]\n"
     ]
    },
    {
     "data": {
      "text/plain": [
       "(array([[ 1,  2,  3],\n",
       "        [ 0, -3, -6],\n",
       "        [ 0,  0,  0]]),\n",
       " array([ 1, -1, -2]))"
      ]
     },
     "execution_count": 21,
     "metadata": {},
     "output_type": "execute_result"
    }
   ],
   "source": [
    "elim(A,b, debug=True)"
   ]
  },
  {
   "cell_type": "code",
   "execution_count": 22,
   "metadata": {},
   "outputs": [
    {
     "data": {
      "text/plain": [
       "([[1, 2, 3], [4, 5, 6], [7, 8, 9]], [1, 3, 3])"
      ]
     },
     "execution_count": 22,
     "metadata": {},
     "output_type": "execute_result"
    }
   ],
   "source": [
    "A, b"
   ]
  },
  {
   "cell_type": "code",
   "execution_count": 23,
   "metadata": {},
   "outputs": [
    {
     "data": {
      "text/plain": [
       "(array([[ 0.58069226,  0.0921862 ,  0.48330252,  0.2673167 ],\n",
       "        [ 0.        , -0.0591432 ,  0.45691793,  0.38978425],\n",
       "        [ 0.        ,  0.        ,  0.43042235,  0.20404421],\n",
       "        [ 0.        ,  0.        ,  0.        ,  0.7566553 ]]),\n",
       " array([ 0.46429261,  0.57101525,  0.81336474, -1.61798786]))"
      ]
     },
     "execution_count": 23,
     "metadata": {},
     "output_type": "execute_result"
    }
   ],
   "source": [
    "A = np.random.rand(4,4)\n",
    "b = np.random.rand(4)\n",
    "elim(A,b)"
   ]
  },
  {
   "cell_type": "code",
   "execution_count": 24,
   "metadata": {},
   "outputs": [
    {
     "data": {
      "text/plain": [
       "(array([[0.25372653, 0.63147022, 0.16196534, 0.5640237 ],\n",
       "        [0.        , 0.08156509, 0.69509056, 0.34606619],\n",
       "        [0.        , 0.        , 6.38730758, 2.02739384]]),\n",
       " array([0.48455533, 0.36586049, 2.61548381]))"
      ]
     },
     "execution_count": 24,
     "metadata": {},
     "output_type": "execute_result"
    }
   ],
   "source": [
    "A = np.random.rand(3,4)\n",
    "b = np.random.rand(3)\n",
    "elim(A,b)"
   ]
  },
  {
   "cell_type": "code",
   "execution_count": 25,
   "metadata": {},
   "outputs": [
    {
     "data": {
      "text/plain": [
       "(array([[ 0.64034934,  0.04896001,  0.97523265],\n",
       "        [ 0.        ,  0.85523479, -0.24963037],\n",
       "        [ 0.        ,  0.        , -0.46936672],\n",
       "        [ 0.        ,  0.        ,  0.        ]]),\n",
       " array([ 0.29897766, -0.18337138,  0.32241299,  0.09012435]))"
      ]
     },
     "execution_count": 25,
     "metadata": {},
     "output_type": "execute_result"
    }
   ],
   "source": [
    "A = np.random.rand(4,3)\n",
    "b = np.random.rand(4)\n",
    "elim(A,b)"
   ]
  },
  {
   "cell_type": "markdown",
   "metadata": {},
   "source": [
    "## Substituição\n",
    "\n",
    "A segunda etapa consiste em resolver \"de fato\" o sistema, de baixo para cima.\n",
    "Como encontramos as soluções e vamos substituindo os valores nas respectivas equações,\n",
    "este etapa se chama substituição."
   ]
  },
  {
   "cell_type": "code",
   "execution_count": 26,
   "metadata": {},
   "outputs": [],
   "source": [
    "def subst(A,b):\n",
    "    \"\"\"Substitui as equações do sistema Ax = b, de baixo para cima,\n",
    "    e retorna o vetor x das soluções, sem alterar A nem b.\"\"\"\n",
    "    m,n = np.shape(A)\n",
    "    # Verifique que a matriz A está correta\n",
    "    ### Resposta aqui\n",
    "    A = np.array(A)\n",
    "    b = np.array(b)\n",
    "    \n",
    "    for i in range(m-1, -1, -1):\n",
    "        pivot = A[i][i]\n",
    "        \n",
    "        for ii in range(i-1, -1, -1):\n",
    "            novo_b = b[ii] - (b[i]/pivot)*A[ii][i]\n",
    "            \n",
    "            A[ii][i] = 0\n",
    "            b[ii] = novo_b\n",
    "        \n",
    "        b[i] = b[i] / pivot\n",
    "        A[i][i] = 1\n",
    "        \n",
    "    return b"
   ]
  },
  {
   "cell_type": "code",
   "execution_count": 27,
   "metadata": {},
   "outputs": [
    {
     "name": "stdout",
     "output_type": "stream",
     "text": [
      "[1 2 3]\n"
     ]
    }
   ],
   "source": [
    "A = [\n",
    "    [4,0,0],\n",
    "    [0,5,0],\n",
    "    [0,0,6]\n",
    "]\n",
    "b = [4, 10, 18]\n",
    "\n",
    "A,b = elim(A,b)\n",
    "print(subst(A, b))"
   ]
  },
  {
   "cell_type": "markdown",
   "metadata": {},
   "source": [
    "### Exercício\n",
    "\n",
    "Um dos maiores problemas do nosso código de eliminação é que ele modifica a matriz.\n",
    "Isso é ruim para verificar se a solução encontrada pela substituição satisfaz a equação original.\n",
    "(Podemos verificar que satisfaz o sistema \"eliminado\", pois a substituição não modifica $A$ ou $b$).\n",
    "\n",
    "Corrija isso, e verifique que o procedimento duplo (eliminação + substituição)\n",
    "de fato encontra uma solução."
   ]
  },
  {
   "cell_type": "code",
   "execution_count": 28,
   "metadata": {},
   "outputs": [
    {
     "data": {
      "text/plain": [
       "array([ 0.00000000e+00,  1.11022302e-16, -2.22044605e-16,  1.11022302e-16])"
      ]
     },
     "execution_count": 28,
     "metadata": {},
     "output_type": "execute_result"
    }
   ],
   "source": [
    "A = np.random.rand(4,4)\n",
    "b = np.random.rand(4)\n",
    "U, b_ = elim(A,b)\n",
    "x = subst(U,b_)\n",
    "# deveria dar bem perto de zero!\n",
    "np.dot(A,x) - b"
   ]
  },
  {
   "cell_type": "code",
   "execution_count": 29,
   "metadata": {},
   "outputs": [],
   "source": [
    "def solve(A,b):\n",
    "    U,b_ = elim(A,b)\n",
    "    return subst(U,b_)"
   ]
  },
  {
   "cell_type": "code",
   "execution_count": 30,
   "metadata": {},
   "outputs": [
    {
     "data": {
      "text/plain": [
       "array([ 4.71844785e-16,  2.22044605e-16, -3.60822483e-16,  0.00000000e+00])"
      ]
     },
     "execution_count": 30,
     "metadata": {},
     "output_type": "execute_result"
    }
   ],
   "source": [
    "x1 = solve(A,b)\n",
    "x2 = np.linalg.solve(A,b)\n",
    "x1 - x2"
   ]
  },
  {
   "cell_type": "code",
   "execution_count": 31,
   "metadata": {},
   "outputs": [
    {
     "data": {
      "text/plain": [
       "(array([ 0.00000000e+00,  1.11022302e-16, -2.22044605e-16,  1.11022302e-16]),\n",
       " array([0., 0., 0., 0.]))"
      ]
     },
     "execution_count": 31,
     "metadata": {},
     "output_type": "execute_result"
    }
   ],
   "source": [
    "np.dot(A,x1) - b, np.dot(A,x2) - b"
   ]
  },
  {
   "cell_type": "markdown",
   "metadata": {},
   "source": [
    "# Aplicação: sistemas racionais"
   ]
  },
  {
   "cell_type": "code",
   "execution_count": 32,
   "metadata": {},
   "outputs": [],
   "source": [
    "from fractions import Fraction"
   ]
  },
  {
   "cell_type": "code",
   "execution_count": 33,
   "metadata": {},
   "outputs": [],
   "source": [
    "A = [[3,2,3],[4,7,6],[7,8,7]]\n",
    "b = [1,2,1]"
   ]
  },
  {
   "cell_type": "code",
   "execution_count": 34,
   "metadata": {},
   "outputs": [],
   "source": [
    "AF = [[Fraction(aij) for aij in ai] for ai in A]\n",
    "bF = [Fraction(bi) for bi in b]"
   ]
  },
  {
   "cell_type": "code",
   "execution_count": 35,
   "metadata": {},
   "outputs": [
    {
     "name": "stdout",
     "output_type": "stream",
     "text": [
      "0\n",
      "\n",
      "[[Fraction(3, 1) Fraction(2, 1) Fraction(3, 1)]\n",
      " [Fraction(4, 1) Fraction(7, 1) Fraction(6, 1)]\n",
      " [Fraction(7, 1) Fraction(8, 1) Fraction(7, 1)]]\n",
      "\n",
      "[Fraction(1, 1) Fraction(2, 1) Fraction(1, 1)]\n",
      "-=-=-=-=-=-=-=-=-=-=-=-=-=-=-=-=-=-=-=-=-=-=-=-=-=-=-=-=-=-=-=-=-=-=-=-=-=-=-=-=-=-=-=-=-=-=-=-=-=-=\n",
      "1\n",
      "\n",
      "[[Fraction(3, 1) Fraction(2, 1) Fraction(3, 1)]\n",
      " [Fraction(0, 1) Fraction(13, 3) Fraction(2, 1)]\n",
      " [Fraction(0, 1) Fraction(10, 3) Fraction(0, 1)]]\n",
      "\n",
      "[Fraction(1, 1) Fraction(2, 3) Fraction(-4, 3)]\n",
      "-=-=-=-=-=-=-=-=-=-=-=-=-=-=-=-=-=-=-=-=-=-=-=-=-=-=-=-=-=-=-=-=-=-=-=-=-=-=-=-=-=-=-=-=-=-=-=-=-=-=\n",
      "2\n",
      "\n",
      "[[Fraction(3, 1) Fraction(2, 1) Fraction(3, 1)]\n",
      " [Fraction(0, 1) Fraction(13, 3) Fraction(2, 1)]\n",
      " [Fraction(0, 1) Fraction(0, 1) Fraction(-20, 13)]]\n",
      "\n",
      "[Fraction(1, 1) Fraction(2, 3) Fraction(-24, 13)]\n",
      "-=-=-=-=-=-=-=-=-=-=-=-=-=-=-=-=-=-=-=-=-=-=-=-=-=-=-=-=-=-=-=-=-=-=-=-=-=-=-=-=-=-=-=-=-=-=-=-=-=-=\n",
      "end\n",
      "[[Fraction(3, 1) Fraction(2, 1) Fraction(3, 1)]\n",
      " [Fraction(0, 1) Fraction(13, 3) Fraction(2, 1)]\n",
      " [Fraction(0, 1) Fraction(0, 1) Fraction(-20, 13)]]\n",
      "[Fraction(1, 1) Fraction(2, 3) Fraction(-24, 13)]\n"
     ]
    },
    {
     "data": {
      "text/plain": [
       "(array([[Fraction(3, 1), Fraction(2, 1), Fraction(3, 1)],\n",
       "        [Fraction(0, 1), Fraction(13, 3), Fraction(2, 1)],\n",
       "        [Fraction(0, 1), Fraction(0, 1), Fraction(-20, 13)]], dtype=object),\n",
       " array([Fraction(1, 1), Fraction(2, 3), Fraction(-24, 13)], dtype=object))"
      ]
     },
     "execution_count": 35,
     "metadata": {},
     "output_type": "execute_result"
    }
   ],
   "source": [
    "elim(AF, bF, debug=True)"
   ]
  },
  {
   "cell_type": "code",
   "execution_count": 36,
   "metadata": {},
   "outputs": [
    {
     "name": "stdout",
     "output_type": "stream",
     "text": [
      "0\n",
      "\n",
      "[[Fraction(3, 1) Fraction(2, 1) Fraction(3, 1)]\n",
      " [Fraction(4, 1) Fraction(7, 1) Fraction(6, 1)]\n",
      " [Fraction(7, 1) Fraction(8, 1) Fraction(7, 1)]]\n",
      "\n",
      "[Fraction(1, 1) Fraction(2, 1) Fraction(1, 1)]\n",
      "-=-=-=-=-=-=-=-=-=-=-=-=-=-=-=-=-=-=-=-=-=-=-=-=-=-=-=-=-=-=-=-=-=-=-=-=-=-=-=-=-=-=-=-=-=-=-=-=-=-=\n",
      "1\n",
      "\n",
      "[[Fraction(3, 1) Fraction(2, 1) Fraction(3, 1)]\n",
      " [Fraction(0, 1) Fraction(13, 3) Fraction(2, 1)]\n",
      " [Fraction(0, 1) Fraction(10, 3) Fraction(0, 1)]]\n",
      "\n",
      "[Fraction(1, 1) Fraction(2, 3) Fraction(-4, 3)]\n",
      "-=-=-=-=-=-=-=-=-=-=-=-=-=-=-=-=-=-=-=-=-=-=-=-=-=-=-=-=-=-=-=-=-=-=-=-=-=-=-=-=-=-=-=-=-=-=-=-=-=-=\n",
      "2\n",
      "\n",
      "[[Fraction(3, 1) Fraction(2, 1) Fraction(3, 1)]\n",
      " [Fraction(0, 1) Fraction(13, 3) Fraction(2, 1)]\n",
      " [Fraction(0, 1) Fraction(0, 1) Fraction(-20, 13)]]\n",
      "\n",
      "[Fraction(1, 1) Fraction(2, 3) Fraction(-24, 13)]\n",
      "-=-=-=-=-=-=-=-=-=-=-=-=-=-=-=-=-=-=-=-=-=-=-=-=-=-=-=-=-=-=-=-=-=-=-=-=-=-=-=-=-=-=-=-=-=-=-=-=-=-=\n",
      "end\n",
      "[[Fraction(3, 1) Fraction(2, 1) Fraction(3, 1)]\n",
      " [Fraction(0, 1) Fraction(13, 3) Fraction(2, 1)]\n",
      " [Fraction(0, 1) Fraction(0, 1) Fraction(-20, 13)]]\n",
      "[Fraction(1, 1) Fraction(2, 3) Fraction(-24, 13)]\n"
     ]
    },
    {
     "data": {
      "text/plain": [
       "(array([[Fraction(3, 1), Fraction(2, 1), Fraction(3, 1)],\n",
       "        [Fraction(0, 1), Fraction(13, 3), Fraction(2, 1)],\n",
       "        [Fraction(0, 1), Fraction(0, 1), Fraction(-20, 13)]], dtype=object),\n",
       " array([Fraction(1, 1), Fraction(2, 3), Fraction(-24, 13)], dtype=object))"
      ]
     },
     "execution_count": 36,
     "metadata": {},
     "output_type": "execute_result"
    }
   ],
   "source": [
    "elim(AF, bF, debug=True)"
   ]
  },
  {
   "cell_type": "code",
   "execution_count": 37,
   "metadata": {},
   "outputs": [
    {
     "data": {
      "text/plain": [
       "array([Fraction(-3, 5), Fraction(-2, 5), Fraction(6, 5)], dtype=object)"
      ]
     },
     "execution_count": 37,
     "metadata": {},
     "output_type": "execute_result"
    }
   ],
   "source": [
    "solve(AF, bF)"
   ]
  },
  {
   "cell_type": "code",
   "execution_count": 38,
   "metadata": {},
   "outputs": [
    {
     "data": {
      "text/plain": [
       "array([-0.6, -0.4,  1.2])"
      ]
     },
     "execution_count": 38,
     "metadata": {},
     "output_type": "execute_result"
    }
   ],
   "source": [
    "np.linalg.solve(A,b)"
   ]
  },
  {
   "cell_type": "code",
   "execution_count": 39,
   "metadata": {},
   "outputs": [
    {
     "ename": "UFuncTypeError",
     "evalue": "Cannot cast ufunc 'solve1' input 0 from dtype('O') to dtype('float64') with casting rule 'same_kind'",
     "output_type": "error",
     "traceback": [
      "\u001b[1;31m---------------------------------------------------------------------------\u001b[0m",
      "\u001b[1;31mUFuncTypeError\u001b[0m                            Traceback (most recent call last)",
      "\u001b[1;32mc:\\Users\\epedr\\Desktop\\GitHub\\MyPython\\06 - Computação científica\\Semana 12\\Semana9-Parte2-EliminacaoSubstituicao.ipynb Célula: 29\u001b[0m in \u001b[0;36m<cell line: 1>\u001b[1;34m()\u001b[0m\n\u001b[1;32m----> <a href='vscode-notebook-cell:/c%3A/Users/epedr/Desktop/GitHub/MyPython/06%20-%20Computa%C3%A7%C3%A3o%20cient%C3%ADfica/Semana%2012/Semana9-Parte2-EliminacaoSubstituicao.ipynb#X41sZmlsZQ%3D%3D?line=0'>1</a>\u001b[0m np\u001b[39m.\u001b[39;49mlinalg\u001b[39m.\u001b[39;49msolve(AF,bF)\n",
      "File \u001b[1;32m<__array_function__ internals>:180\u001b[0m, in \u001b[0;36msolve\u001b[1;34m(*args, **kwargs)\u001b[0m\n",
      "File \u001b[1;32mc:\\Users\\epedr\\AppData\\Local\\Programs\\Python\\Python310\\lib\\site-packages\\numpy\\linalg\\linalg.py:393\u001b[0m, in \u001b[0;36msolve\u001b[1;34m(a, b)\u001b[0m\n\u001b[0;32m    391\u001b[0m signature \u001b[39m=\u001b[39m \u001b[39m'\u001b[39m\u001b[39mDD->D\u001b[39m\u001b[39m'\u001b[39m \u001b[39mif\u001b[39;00m isComplexType(t) \u001b[39melse\u001b[39;00m \u001b[39m'\u001b[39m\u001b[39mdd->d\u001b[39m\u001b[39m'\u001b[39m\n\u001b[0;32m    392\u001b[0m extobj \u001b[39m=\u001b[39m get_linalg_error_extobj(_raise_linalgerror_singular)\n\u001b[1;32m--> 393\u001b[0m r \u001b[39m=\u001b[39m gufunc(a, b, signature\u001b[39m=\u001b[39;49msignature, extobj\u001b[39m=\u001b[39;49mextobj)\n\u001b[0;32m    395\u001b[0m \u001b[39mreturn\u001b[39;00m wrap(r\u001b[39m.\u001b[39mastype(result_t, copy\u001b[39m=\u001b[39m\u001b[39mFalse\u001b[39;00m))\n",
      "\u001b[1;31mUFuncTypeError\u001b[0m: Cannot cast ufunc 'solve1' input 0 from dtype('O') to dtype('float64') with casting rule 'same_kind'"
     ]
    }
   ],
   "source": [
    "np.linalg.solve(AF,bF)"
   ]
  }
 ],
 "metadata": {
  "kernelspec": {
   "display_name": "Python 3",
   "language": "python",
   "name": "python3"
  },
  "language_info": {
   "codemirror_mode": {
    "name": "ipython",
    "version": 3
   },
   "file_extension": ".py",
   "mimetype": "text/x-python",
   "name": "python",
   "nbconvert_exporter": "python",
   "pygments_lexer": "ipython3",
   "version": "3.10.4"
  },
  "vscode": {
   "interpreter": {
    "hash": "333c8bcc83d56984523ee2c86aa0724e8c64f66b3f19b52fa61ba19ee3d8b9eb"
   }
  }
 },
 "nbformat": 4,
 "nbformat_minor": 2
}
