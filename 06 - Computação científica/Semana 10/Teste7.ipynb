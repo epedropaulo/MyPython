{
 "cells": [
  {
   "cell_type": "markdown",
   "metadata": {},
   "source": [
    "![CC-BY-SA](https://mirrors.creativecommons.org/presskit/buttons/88x31/svg/by-sa.svg)\n",
    "\n",
    "\n",
    "This notebook was created by [Bernardo Freitas Paulo da Costa](http://www.im.ufrj.br/bernardofpc),\n",
    "and is licensed under Creative Commons BY-SA."
   ]
  },
  {
   "cell_type": "markdown",
   "metadata": {},
   "source": [
    "Antes de enviar este Teste, verifique que tudo está funcionando como esperado.\n",
    "Por exemplo, **rode o código inteiro, do zero**.\n",
    "Para isso, vá no menu, escolha _Kernel_, depois _Restart & Run All_.\n",
    "\n",
    "Verifique, também, que você respondeu todas as questões:\n",
    "* as questões de código têm `YOUR CODE HERE` (e você pode apagar o `raise NotImplemented` ao incluir sua resposta)\n",
    "* as questões discursivas têm \"YOUR ANSWER HERE\"."
   ]
  },
  {
   "cell_type": "markdown",
   "metadata": {},
   "source": [
    "---"
   ]
  },
  {
   "cell_type": "code",
   "execution_count": null,
   "metadata": {
    "deletable": false,
    "editable": false,
    "nbgrader": {
     "cell_type": "code",
     "checksum": "6a03932fe8566c1dda472df61a127102",
     "grade": false,
     "grade_id": "cell-94078e99ec03a063",
     "locked": true,
     "schema_version": 3,
     "solution": false
    }
   },
   "outputs": [],
   "source": [
    "import numpy as np\n",
    "import matplotlib.pyplot as plt"
   ]
  },
  {
   "cell_type": "markdown",
   "metadata": {
    "deletable": false,
    "editable": false,
    "nbgrader": {
     "cell_type": "markdown",
     "checksum": "49511838f4f4cadedfd1bbf48580e7fe",
     "grade": false,
     "grade_id": "cell-9bd861fd908a2893",
     "locked": true,
     "schema_version": 3,
     "solution": false
    }
   },
   "source": [
    "# Regressão periódica\n",
    "\n",
    "## Dados\n",
    "\n",
    "Nesta primeira parte iremos ajustar uma curva aos dados de demanda elétrica fornecidos pelo ONS,\n",
    "para o período entre os dias *16.04.2018 - 16.05.2018*."
   ]
  },
  {
   "cell_type": "code",
   "execution_count": null,
   "metadata": {
    "deletable": false,
    "editable": false,
    "nbgrader": {
     "cell_type": "code",
     "checksum": "eb06ae47e0a347865a8daa946c3d4434",
     "grade": false,
     "grade_id": "cell-24e23a6d4fda7982",
     "locked": true,
     "schema_version": 3,
     "solution": false
    }
   },
   "outputs": [],
   "source": [
    "cch = np.load('Demanda_16.04.2018-16.05.2018.npz')\n",
    "ys = cch['Demanda']\n",
    "ts = np.arange(len(ys))\n",
    "\n",
    "plt.figure(figsize=(15,5))\n",
    "plt.plot(ts,ys)\n",
    "plt.title(\"Curva de carga horária\")\n",
    "plt.ylabel(\"MWh\")\n",
    "plt.xlabel(\"Intervalos de 1h a partir de 2018-04-16 00:00\");"
   ]
  },
  {
   "cell_type": "markdown",
   "metadata": {
    "deletable": false,
    "editable": false,
    "nbgrader": {
     "cell_type": "markdown",
     "checksum": "769e53b52fb981a37112643e4cee05f8",
     "grade": false,
     "grade_id": "cell-cc0f67e725c9575b",
     "locked": true,
     "schema_version": 3,
     "solution": false
    }
   },
   "source": [
    "Vamos pegar um intervalo com dias úteis."
   ]
  },
  {
   "cell_type": "code",
   "execution_count": null,
   "metadata": {
    "deletable": false,
    "editable": false,
    "nbgrader": {
     "cell_type": "code",
     "checksum": "c3c3d3796daf1eb6556a532945029bf4",
     "grade": false,
     "grade_id": "cell-a793c191a0b4f224",
     "locked": true,
     "schema_version": 3,
     "solution": false
    }
   },
   "outputs": [],
   "source": [
    "tmax = 120\n",
    "\n",
    "plt.plot(ts[:tmax],ys[:tmax])\n",
    "plt.title(\"Curva de carga horária\")\n",
    "plt.ylabel(\"MWh\")\n",
    "plt.xlabel(\"Intervalos de 1h a partir de 2018-04-16 00:00\");"
   ]
  },
  {
   "cell_type": "markdown",
   "metadata": {
    "deletable": false,
    "editable": false,
    "nbgrader": {
     "cell_type": "markdown",
     "checksum": "8365325c940b8b61863969317167d2e3",
     "grade": false,
     "grade_id": "cell-ed8a47ce87287e00",
     "locked": true,
     "schema_version": 3,
     "solution": false
    }
   },
   "source": [
    "# Parte 1: Ajuste simples\n",
    "\n",
    "## Questão 1: Matriz da regressão\n",
    "\n",
    "O que salta aos olhos é o comportamento aproximadamente periódico,\n",
    "logo uma primeira idéia é ajustar um modelo com funções também periódicas.\n",
    "\n",
    "Um ajuste simples é o seguinte:\n",
    "$$y(t) = c_0 + c_1\\sin\\left(\\frac{2\\pi t}{24}\\right) + c_2\\cos\\left(\\frac{2\\pi t}{24}\\right)$$"
   ]
  },
  {
   "cell_type": "markdown",
   "metadata": {},
   "source": [
    "Explique porque o denominador 24 faz sentido para estes dados que temos."
   ]
  },
  {
   "cell_type": "markdown",
   "metadata": {
    "deletable": false,
    "nbgrader": {
     "cell_type": "markdown",
     "checksum": "373836e0347656ca0b10f1d4456f42a3",
     "grade": true,
     "grade_id": "cell-1ff160f6f6414643",
     "locked": false,
     "points": 1,
     "schema_version": 3,
     "solution": true
    }
   },
   "source": [
    "YOUR ANSWER HERE"
   ]
  },
  {
   "cell_type": "markdown",
   "metadata": {
    "deletable": false,
    "editable": false,
    "nbgrader": {
     "cell_type": "markdown",
     "checksum": "e96ccfffd19f6e32a64052b558f6c33e",
     "grade": false,
     "grade_id": "cell-c90c57e3e26f249d",
     "locked": true,
     "schema_version": 3,
     "solution": false
    }
   },
   "source": [
    "Escreva a função `make_trig_matrix(ts,p)`, que monta a matriz de regressão $X$ tal que $Xc = y$ para o modelo proposto acima para `ts` e com período `p`.\n",
    "\n",
    "**Observações:**\n",
    "- A função constante está na base;\n",
    "- A ordem das colunas importa para os asserts (mas não para o ajuste, se você sabe o que faz).\n",
    "  Assim, as colunas devem vir na ordem das funções: constante, seno, cosseno."
   ]
  },
  {
   "cell_type": "code",
   "execution_count": null,
   "metadata": {
    "deletable": false,
    "nbgrader": {
     "cell_type": "code",
     "checksum": "58f8b79d28410d26fb92ba8d792d43fe",
     "grade": false,
     "grade_id": "cell-a46db828fddba423",
     "locked": false,
     "schema_version": 3,
     "solution": true
    }
   },
   "outputs": [],
   "source": [
    "def make_trig_matrix(ts,p):\n",
    "    \"\"\" Retorna a matriz de regressão para o modelo y(t) = c0 + c1*sin(2*pi*t/p) + c2*cos(2*pi*t/p). \"\"\"\n",
    "    # YOUR CODE HERE\n",
    "    raise NotImplementedError()"
   ]
  },
  {
   "cell_type": "code",
   "execution_count": null,
   "metadata": {
    "deletable": false,
    "editable": false,
    "nbgrader": {
     "cell_type": "code",
     "checksum": "b01b688af1ee8df889a0661fe8c3265a",
     "grade": true,
     "grade_id": "cell-9f2d672d19f0269e",
     "locked": true,
     "points": 1,
     "schema_version": 3,
     "solution": false
    }
   },
   "outputs": [],
   "source": [
    "tss = np.linspace(-2*np.pi,2*np.pi,51)\n",
    "X = make_trig_matrix(tss,np.pi)\n",
    "\n",
    "assert all([np.isclose(X[i][0],1) for i in range(10)])"
   ]
  },
  {
   "cell_type": "code",
   "execution_count": null,
   "metadata": {
    "deletable": false,
    "editable": false,
    "nbgrader": {
     "cell_type": "code",
     "checksum": "229a699e5d9ebf023ff29cd44eb3a02f",
     "grade": true,
     "grade_id": "cell-f609d0ed36084424",
     "locked": true,
     "points": 2,
     "schema_version": 3,
     "solution": false,
     "task": false
    }
   },
   "outputs": [],
   "source": [
    "# Testes de periodicidade\n",
    "\n",
    "assert np.allclose(X[0][1],X[-1][1])\n",
    "assert np.allclose(X[0][1],X[len(tss)//2][1])\n",
    "assert np.allclose(X[0][2],X[-1][2])\n",
    "assert np.allclose(X[0][2],X[len(tss)//2][2])"
   ]
  },
  {
   "cell_type": "markdown",
   "metadata": {
    "deletable": false,
    "editable": false,
    "nbgrader": {
     "cell_type": "markdown",
     "checksum": "c596980c33a170f3eb924a786e5efd9f",
     "grade": false,
     "grade_id": "cell-bac018a0f1b51cdd",
     "locked": true,
     "schema_version": 3,
     "solution": false
    }
   },
   "source": [
    "## Questão 2: Gráficos\n",
    "\n",
    "Faça o gráfico tanto dos dados como do ajuste do modelo,\n",
    "usando apenas as 120 primeiras observações, que correspondem aos primeiros cinco dias úteis."
   ]
  },
  {
   "cell_type": "code",
   "execution_count": null,
   "metadata": {
    "deletable": false,
    "nbgrader": {
     "cell_type": "code",
     "checksum": "7f2ebcb6d3b4ddabd060e471e5f29ede",
     "grade": false,
     "grade_id": "cell-ac3a21418fecbfda",
     "locked": false,
     "schema_version": 3,
     "solution": true
    }
   },
   "outputs": [],
   "source": [
    "# YOUR CODE HERE\n",
    "raise NotImplementedError()\n",
    "\n",
    "ax = plt.gca()\n",
    "plt.show()"
   ]
  },
  {
   "cell_type": "code",
   "execution_count": null,
   "metadata": {
    "deletable": false,
    "editable": false,
    "nbgrader": {
     "cell_type": "code",
     "checksum": "352ec76630808fadde403b9d4e60bb4f",
     "grade": true,
     "grade_id": "cell-009fef7da3f75e1f",
     "locked": true,
     "points": 2,
     "schema_version": 3,
     "solution": false
    }
   },
   "outputs": [],
   "source": [
    "assert ax.title.get_text() != \"\"\n",
    "assert len(ax.lines) == 2\n",
    "assert len(ax.legend().texts) == 2\n",
    "\n",
    "yss = [ax.lines[i].get_ydata() for i in range(2)]\n",
    "\n",
    "assert 73000 <= np.max(yss) <= 73800\n",
    "assert 49000 <= np.min(yss) <= 50000"
   ]
  },
  {
   "cell_type": "code",
   "execution_count": null,
   "metadata": {
    "deletable": false,
    "editable": false,
    "nbgrader": {
     "cell_type": "code",
     "checksum": "69791c7bd6049494e6213eedc947215b",
     "grade": false,
     "grade_id": "cell-7362c5146ad53f8c",
     "locked": true,
     "schema_version": 3,
     "solution": false,
     "task": false
    }
   },
   "outputs": [],
   "source": [
    "ax = None"
   ]
  },
  {
   "cell_type": "markdown",
   "metadata": {
    "deletable": false,
    "editable": false,
    "nbgrader": {
     "cell_type": "markdown",
     "checksum": "3cf0e910b029c6eabb4f3caae0c113f4",
     "grade": false,
     "grade_id": "cell-5322888db3447836",
     "locked": true,
     "schema_version": 3,
     "solution": false
    }
   },
   "source": [
    "Plote também o residual (erro de ajuste)!"
   ]
  },
  {
   "cell_type": "code",
   "execution_count": null,
   "metadata": {
    "deletable": false,
    "nbgrader": {
     "cell_type": "code",
     "checksum": "82f89186b206e8c7dc12b11e49c63dd6",
     "grade": false,
     "grade_id": "cell-2d246d7cd0dffdd7",
     "locked": false,
     "schema_version": 3,
     "solution": true
    }
   },
   "outputs": [],
   "source": [
    "# YOUR CODE HERE\n",
    "raise NotImplementedError()\n",
    "\n",
    "ax = plt.gca()\n",
    "plt.show()"
   ]
  },
  {
   "cell_type": "code",
   "execution_count": null,
   "metadata": {
    "deletable": false,
    "editable": false,
    "nbgrader": {
     "cell_type": "code",
     "checksum": "622decb4e3991d90da10e4af44732a64",
     "grade": true,
     "grade_id": "cell-70943487ee6edb3c",
     "locked": true,
     "points": 2,
     "schema_version": 3,
     "solution": false
    }
   },
   "outputs": [],
   "source": [
    "assert ax.title.get_text() != \"\"\n",
    "assert len(ax.lines) == 1\n"
   ]
  },
  {
   "cell_type": "code",
   "execution_count": null,
   "metadata": {
    "deletable": false,
    "editable": false,
    "nbgrader": {
     "cell_type": "code",
     "checksum": "fcbca0b8bb59f8b5c109d88001c95ed2",
     "grade": false,
     "grade_id": "cell-4c2e9a06697256b7",
     "locked": true,
     "schema_version": 3,
     "solution": false,
     "task": false
    }
   },
   "outputs": [],
   "source": [
    "ax = None"
   ]
  },
  {
   "cell_type": "markdown",
   "metadata": {
    "deletable": false,
    "editable": false,
    "nbgrader": {
     "cell_type": "markdown",
     "checksum": "4c2056a9dd5a2cba8a518f0ccc717484",
     "grade": false,
     "grade_id": "cell-f731f1054e6e57ab",
     "locked": true,
     "schema_version": 3,
     "solution": false
    }
   },
   "source": [
    "Esse gráfico reflete alguma tendência nos dados que difere do ajuste?\n",
    "Se sim qual função poderia ser acrescentada a base do modelo para tentar capturar essa tendência?"
   ]
  },
  {
   "cell_type": "markdown",
   "metadata": {
    "deletable": false,
    "nbgrader": {
     "cell_type": "markdown",
     "checksum": "6738adcd6f9d9fa85e577a621c33fa27",
     "grade": true,
     "grade_id": "cell-07fc4ad29c509557",
     "locked": false,
     "points": 2,
     "schema_version": 3,
     "solution": true
    }
   },
   "source": [
    "YOUR ANSWER HERE"
   ]
  },
  {
   "cell_type": "markdown",
   "metadata": {},
   "source": [
    "O que mais você percebe no gráfico de erros?"
   ]
  },
  {
   "cell_type": "markdown",
   "metadata": {
    "deletable": false,
    "nbgrader": {
     "cell_type": "markdown",
     "checksum": "7bf15ce2ca58689f60c5e030b907b34f",
     "grade": true,
     "grade_id": "cell-45ed8fa6dad52463",
     "locked": false,
     "points": 1,
     "schema_version": 3,
     "solution": true
    }
   },
   "source": [
    "YOUR ANSWER HERE"
   ]
  },
  {
   "cell_type": "markdown",
   "metadata": {
    "deletable": false,
    "editable": false,
    "nbgrader": {
     "cell_type": "markdown",
     "checksum": "0f77639edbd2dff23a09d49f2ac90886",
     "grade": false,
     "grade_id": "cell-11b5bb20b5594886",
     "locked": true,
     "schema_version": 3,
     "solution": false
    }
   },
   "source": [
    "## Questão 3: Uma base maior\n",
    "\n",
    "Agora, vamos tentar um ajuste com mais funções periódicas (também ditas _harmônicas_):\n",
    "$$y(t) = \\alpha_0 +  \\sum_{i=1}^k\\alpha_i \\sin\\left(\\frac{2\\pi it}{24}\\right) + \\sum_{i=1}^k\\beta_i \\cos\\left(\\frac{2\\pi it}{24}\\right).$$\n",
    "\n",
    "Para te auxiliar nessa tarefa escreva a função\n",
    "- `make_full_trig_matrix(ts,p,k)`: Semelhante a `make_trig_matrix`, mas retorna a matriz para o ajuste acima,\n",
    "  correspondente ao conjunto de harmônicos de $i=1$ até $i = k$."
   ]
  },
  {
   "cell_type": "code",
   "execution_count": null,
   "metadata": {
    "deletable": false,
    "nbgrader": {
     "cell_type": "code",
     "checksum": "45cf3d4628eb45de121d55fc8ff4f6a4",
     "grade": false,
     "grade_id": "cell-126e0ede6c80509a",
     "locked": false,
     "schema_version": 3,
     "solution": true
    }
   },
   "outputs": [],
   "source": [
    "def make_full_trig_matrix(ts,p,k):\n",
    "    # YOUR CODE HERE\n",
    "    raise NotImplementedError()"
   ]
  },
  {
   "cell_type": "code",
   "execution_count": null,
   "metadata": {
    "deletable": false,
    "editable": false,
    "nbgrader": {
     "cell_type": "code",
     "checksum": "ac3a66f08bea293511731804f359424a",
     "grade": true,
     "grade_id": "cell-2f5c864ca5ccb8c5",
     "locked": true,
     "points": 2,
     "schema_version": 3,
     "solution": false
    }
   },
   "outputs": [],
   "source": [
    "# Teste de sanidade\n",
    "tss = np.arange(0,100)\n",
    "\n",
    "X = make_full_trig_matrix(tss, 24, 1)\n",
    "Y = make_trig_matrix(tss, 24)\n",
    "\n",
    "for i in range(5):\n",
    "    for j in range(3):\n",
    "        assert np.isclose(X[i][j],Y[i][j])"
   ]
  },
  {
   "cell_type": "code",
   "execution_count": null,
   "metadata": {
    "deletable": false,
    "editable": false,
    "nbgrader": {
     "cell_type": "code",
     "checksum": "f2000a58d80a0b896dabdcaaba5c2e33",
     "grade": true,
     "grade_id": "cell-afc68507ca22634a",
     "locked": true,
     "points": 1,
     "schema_version": 3,
     "solution": false
    }
   },
   "outputs": [],
   "source": [
    "# Teste de dimensão\n",
    "tss = np.arange(0,100)\n",
    "\n",
    "X = make_full_trig_matrix(tss, 24, 3)\n",
    "assert np.shape(X) == (100,7)"
   ]
  },
  {
   "cell_type": "markdown",
   "metadata": {
    "deletable": false,
    "editable": false,
    "nbgrader": {
     "cell_type": "markdown",
     "checksum": "f820faf612cc41d2e7552b3cdf7b0d17",
     "grade": false,
     "grade_id": "cell-3315066329928d18",
     "locked": true,
     "schema_version": 3,
     "solution": false
    }
   },
   "source": [
    "## Questão 4: Gráficos de novo\n",
    "\n",
    "Faça o gráfico do ajuste para $k = 2$, novamente para os 5 primeiros dias úteis."
   ]
  },
  {
   "cell_type": "code",
   "execution_count": null,
   "metadata": {
    "deletable": false,
    "nbgrader": {
     "cell_type": "code",
     "checksum": "81578b64a5151fb232f5f2d39af07e62",
     "grade": false,
     "grade_id": "cell-3880482d179915d1",
     "locked": false,
     "schema_version": 3,
     "solution": true
    }
   },
   "outputs": [],
   "source": [
    "# YOUR CODE HERE\n",
    "raise NotImplementedError()\n",
    "\n",
    "ax = plt.gca()\n",
    "plt.show()"
   ]
  },
  {
   "cell_type": "code",
   "execution_count": null,
   "metadata": {
    "deletable": false,
    "editable": false,
    "nbgrader": {
     "cell_type": "code",
     "checksum": "a621cdade8e4c58cc09f3e91d4f50cc0",
     "grade": true,
     "grade_id": "cell-a06ed347faa66435",
     "locked": true,
     "points": 2,
     "schema_version": 3,
     "solution": false
    }
   },
   "outputs": [],
   "source": [
    "assert ax.title.get_text() != \"\"\n",
    "assert len(ax.lines) == 2\n",
    "assert len(ax.legend().texts) == 2\n",
    "\n",
    "for i in range(2):\n",
    "    yss = ax.lines[i].get_ydata()\n",
    "    assert 71000 <= np.max(yss) <= 73300\n",
    "    assert 49000 <= np.min(yss) <= 51300"
   ]
  },
  {
   "cell_type": "code",
   "execution_count": null,
   "metadata": {
    "deletable": false,
    "editable": false,
    "nbgrader": {
     "cell_type": "code",
     "checksum": "ea2fdbe3ff28883499c8fe62221843bd",
     "grade": false,
     "grade_id": "cell-7b0760a4cb097261",
     "locked": true,
     "schema_version": 3,
     "solution": false,
     "task": false
    }
   },
   "outputs": [],
   "source": [
    "ax = None"
   ]
  },
  {
   "cell_type": "markdown",
   "metadata": {
    "deletable": false,
    "editable": false,
    "nbgrader": {
     "cell_type": "markdown",
     "checksum": "f340fcce68dddeab141f833365d6b9b9",
     "grade": false,
     "grade_id": "cell-af57cd57a309c58b",
     "locked": true,
     "schema_version": 3,
     "solution": false
    }
   },
   "source": [
    "E não se esqueça do residual."
   ]
  },
  {
   "cell_type": "code",
   "execution_count": null,
   "metadata": {
    "deletable": false,
    "nbgrader": {
     "cell_type": "code",
     "checksum": "b14548a0cb624fad0c7ba4b7261788d4",
     "grade": false,
     "grade_id": "cell-8e3f9cb66f1ca4ab",
     "locked": false,
     "schema_version": 3,
     "solution": true
    }
   },
   "outputs": [],
   "source": [
    "# YOUR CODE HERE\n",
    "raise NotImplementedError()\n",
    "\n",
    "ax = plt.gca()\n",
    "plt.show()"
   ]
  },
  {
   "cell_type": "code",
   "execution_count": null,
   "metadata": {
    "deletable": false,
    "editable": false,
    "nbgrader": {
     "cell_type": "code",
     "checksum": "93717d054efda09436d4b6fe43e68070",
     "grade": true,
     "grade_id": "cell-7955ff98c82afd98",
     "locked": true,
     "points": 1,
     "schema_version": 3,
     "solution": false
    }
   },
   "outputs": [],
   "source": [
    "assert ax.title.get_text() != \"\"\n",
    "assert len(ax.lines) == 1\n"
   ]
  },
  {
   "cell_type": "code",
   "execution_count": null,
   "metadata": {
    "deletable": false,
    "editable": false,
    "nbgrader": {
     "cell_type": "code",
     "checksum": "1bfb3fc3f11f46b5ee768fab749293a1",
     "grade": false,
     "grade_id": "cell-0afa7cdd194223c5",
     "locked": true,
     "schema_version": 3,
     "solution": false,
     "task": false
    }
   },
   "outputs": [],
   "source": [
    "ax = None"
   ]
  },
  {
   "cell_type": "markdown",
   "metadata": {},
   "source": [
    "Agora, faça o gráfico do erro para $k = 5$, $6$ e $10$, lado a lado.\n",
    "\n",
    "**Dica:** Faça uma função `graph_err(k, tmax)` que faz o gráfico do erro do ajuste em função de `k` e `tmax`,\n",
    "e use `subplot(1,3,j)` para selecionar o $j$-ésimo eixo.\n",
    "(como é inspirada do MATLAB, essa função conta a partir de 1, não zero como padrão em python)."
   ]
  },
  {
   "cell_type": "code",
   "execution_count": null,
   "metadata": {
    "deletable": false,
    "nbgrader": {
     "cell_type": "code",
     "checksum": "4b5c41b64196d3b24def03d6c67ca9bf",
     "grade": true,
     "grade_id": "cell-1129a6a77b1ea8ce",
     "locked": false,
     "points": 2,
     "schema_version": 3,
     "solution": true
    }
   },
   "outputs": [],
   "source": [
    "fig, axs = plt.subplots(ncols=3, figsize=(18,4))\n",
    "\n",
    "# YOUR CODE HERE\n",
    "raise NotImplementedError()\n",
    "\n",
    "plt.show()"
   ]
  },
  {
   "cell_type": "markdown",
   "metadata": {},
   "source": [
    "O que você muda e o que não muda ao aumentar $k$?"
   ]
  },
  {
   "cell_type": "markdown",
   "metadata": {
    "deletable": false,
    "nbgrader": {
     "cell_type": "markdown",
     "checksum": "44f4aa154affce1a84427aaab85f5eb5",
     "grade": true,
     "grade_id": "cell-0e2470c89a85b56d",
     "locked": false,
     "points": 2,
     "schema_version": 3,
     "solution": true
    }
   },
   "source": [
    "YOUR ANSWER HERE"
   ]
  },
  {
   "cell_type": "markdown",
   "metadata": {
    "deletable": false,
    "editable": false,
    "nbgrader": {
     "cell_type": "markdown",
     "checksum": "b192c97c9262a4bcbc88763ca36978e9",
     "grade": false,
     "grade_id": "cell-090e29cb52e84bdb",
     "locked": true,
     "schema_version": 3,
     "solution": false
    }
   },
   "source": [
    "# Parte 2: Ajuste misto\n",
    "\n",
    "## Questão 5: Polinômios e funções trigonométricas\n",
    "\n",
    "Vamos adicionar polinômios à base, e comparar o erro de regressão obtido com uma base um pouco maior.\n",
    "\n",
    "Comece implementando a função `make_poly_matrix(ts, d_max)`,\n",
    "que retorna a matriz de ajuste polinomial de grau até $d_\\max$.\n",
    "\n",
    "Para não duplicar a coluna de 1's na matriz do modelo completo,\n",
    "a função `make_poly_matrix` não retorna a coluna correspondente às funções constantes,\n",
    "mas apenas aos polinômios $X$, $X^2$, ..., $X^{d_\\max}$."
   ]
  },
  {
   "cell_type": "code",
   "execution_count": null,
   "metadata": {
    "deletable": false,
    "nbgrader": {
     "cell_type": "code",
     "checksum": "d93370b39cfddd3387630e8e5dd0846d",
     "grade": false,
     "grade_id": "cell-ec8fe8f07c2424db",
     "locked": false,
     "schema_version": 3,
     "solution": true
    }
   },
   "outputs": [],
   "source": [
    "def make_poly_matrix(ts, dmax):\n",
    "    assert dmax >= 1\n",
    "    # YOUR CODE HERE\n",
    "    raise NotImplementedError()"
   ]
  },
  {
   "cell_type": "code",
   "execution_count": null,
   "metadata": {
    "deletable": false,
    "editable": false,
    "nbgrader": {
     "cell_type": "code",
     "checksum": "5e5292b692eccb82c55e92b6fb0dfb3d",
     "grade": true,
     "grade_id": "cell-bd996f7715ed7887",
     "locked": true,
     "points": 2,
     "schema_version": 3,
     "solution": false
    }
   },
   "outputs": [],
   "source": [
    "tss = np.arange(1,5)\n",
    "\n",
    "X = make_poly_matrix(tss,3)\n",
    "\n",
    "assert np.allclose(X[0],[1,1,1])\n",
    "assert np.allclose(X[1],[2,4,8])\n",
    "assert np.allclose(X[2],[3,9,27])\n",
    "assert np.allclose(X[3],[4,16,64])"
   ]
  },
  {
   "cell_type": "markdown",
   "metadata": {},
   "source": [
    "Agora, faça uma função que retorna a matriz do ajuste misto"
   ]
  },
  {
   "cell_type": "code",
   "execution_count": null,
   "metadata": {
    "deletable": false,
    "nbgrader": {
     "cell_type": "code",
     "checksum": "569124929ee9b737ea5562b71df792a0",
     "grade": false,
     "grade_id": "cell-354b03c14e91f0dc",
     "locked": false,
     "schema_version": 3,
     "solution": true
    }
   },
   "outputs": [],
   "source": [
    "def make_trig_poly(ts, p, k, dmax):\n",
    "    if dmax == 0:\n",
    "        return make_full_trig_matrix(ts, p, k)\n",
    "    else:\n",
    "        # YOUR CODE HERE\n",
    "        raise NotImplementedError()"
   ]
  },
  {
   "cell_type": "markdown",
   "metadata": {},
   "source": [
    "## Questão 6: Mais gráficos ainda\n",
    "\n",
    "Trace, num mesmo eixo, os erros correspondentes aos seguintes ajustes:\n",
    "- Trigonométrico original, com apenas 1 harmônico\n",
    "- Trigonométrico com 6 harmônicos\n",
    "- Misto com 1 harmônico e um polinômio de grau 1\n",
    "- Misto com 6 harmônicos e polinômio de grau 1\n",
    "- Misto com 1 harmônico e polinômios de grau até 5\n",
    "- Misto com 6 harmônicos e polinômios de grau até 5"
   ]
  },
  {
   "cell_type": "code",
   "execution_count": null,
   "metadata": {
    "deletable": false,
    "nbgrader": {
     "cell_type": "code",
     "checksum": "d5cc17ca4889b153baba27e58b041726",
     "grade": false,
     "grade_id": "cell-9555d040a56e5596",
     "locked": false,
     "schema_version": 3,
     "solution": true
    }
   },
   "outputs": [],
   "source": [
    "def graph_err(ts, ys, p, k, dmax):\n",
    "    \"\"\"Função auxiliar para gráfico de erros\"\"\"\n",
    "    # YOUR CODE HERE\n",
    "    raise NotImplementedError()"
   ]
  },
  {
   "cell_type": "code",
   "execution_count": null,
   "metadata": {
    "deletable": false,
    "editable": false,
    "nbgrader": {
     "cell_type": "code",
     "checksum": "11cd191cba4ee4196e757b1814fbb5ac",
     "grade": false,
     "grade_id": "cell-070ac50e16e991d",
     "locked": true,
     "schema_version": 3,
     "solution": false
    }
   },
   "outputs": [],
   "source": [
    "plt.figure(figsize=(15,5))\n",
    "\n",
    "subts = ts[:120]\n",
    "subys = ys[:120]\n",
    "\n",
    "graph_err(subts, subys, 24, 1, 0)\n",
    "graph_err(subts, subys, 24, 6, 0)\n",
    "graph_err(subts, subys, 24, 1, 1)\n",
    "graph_err(subts, subys, 24, 6, 1)\n",
    "graph_err(subts, subys, 24, 1, 5)\n",
    "graph_err(subts, subys, 24, 6, 5)\n",
    "\n",
    "plt.axhline(color='black', linestyle='--', linewidth=1)\n",
    "ax = plt.gca()\n",
    "plt.show()"
   ]
  },
  {
   "cell_type": "code",
   "execution_count": null,
   "metadata": {
    "deletable": false,
    "editable": false,
    "nbgrader": {
     "cell_type": "code",
     "checksum": "ee5a12a3fcca410f79e8adc8eb272cef",
     "grade": true,
     "grade_id": "cell-053dd1cf5f0db60b",
     "locked": true,
     "points": 2,
     "schema_version": 3,
     "solution": false
    }
   },
   "outputs": [],
   "source": [
    "assert ax.title.get_text() != \"\"\n",
    "assert len(ax.lines) == 7\n",
    "assert len(ax.legend().texts) == 6"
   ]
  },
  {
   "cell_type": "markdown",
   "metadata": {
    "deletable": false,
    "editable": false,
    "nbgrader": {
     "cell_type": "markdown",
     "checksum": "fa4e31409a3fd5c9cfe6a064941ccf99",
     "grade": false,
     "grade_id": "cell-624cb6f834d2e269",
     "locked": true,
     "schema_version": 3,
     "solution": false
    }
   },
   "source": [
    "O que você observou? Que melhora é obtida com o acréscimo dos polinômios da base?"
   ]
  },
  {
   "cell_type": "markdown",
   "metadata": {
    "deletable": false,
    "nbgrader": {
     "cell_type": "markdown",
     "checksum": "972d0de7e81e41e7ac5d04be425cf8a5",
     "grade": true,
     "grade_id": "cell-5f8f1cd0f637fda7",
     "locked": false,
     "points": 2,
     "schema_version": 3,
     "solution": true
    }
   },
   "source": [
    "YOUR ANSWER HERE"
   ]
  },
  {
   "cell_type": "markdown",
   "metadata": {},
   "source": [
    "Faça agora dois gráficos de erro, para separar em dois grupos."
   ]
  },
  {
   "cell_type": "code",
   "execution_count": null,
   "metadata": {
    "deletable": false,
    "nbgrader": {
     "cell_type": "code",
     "checksum": "d889ebfeac1af0781dde45b7e84a4c0d",
     "grade": true,
     "grade_id": "cell-afea4cc93bf320a2",
     "locked": false,
     "points": 2,
     "schema_version": 3,
     "solution": true,
     "task": false
    }
   },
   "outputs": [],
   "source": [
    "fig, axs = plt.subplots(ncols=2, figsize=(13,4), sharey=True)\n",
    "\n",
    "subts = ts[:120]\n",
    "subys = ys[:120]\n",
    "\n",
    "# YOUR CODE HERE\n",
    "raise NotImplementedError()"
   ]
  },
  {
   "cell_type": "markdown",
   "metadata": {},
   "source": [
    "- Quais são os grupos que você escolheu?\n",
    "- Porquê?"
   ]
  },
  {
   "cell_type": "markdown",
   "metadata": {
    "deletable": false,
    "nbgrader": {
     "cell_type": "markdown",
     "checksum": "6a228531adbae10efc6dac3183526353",
     "grade": true,
     "grade_id": "cell-b7f608fd47648c78",
     "locked": false,
     "points": 1,
     "schema_version": 3,
     "solution": true,
     "task": false
    }
   },
   "source": [
    "YOUR ANSWER HERE"
   ]
  }
 ],
 "metadata": {
  "kernelspec": {
   "display_name": "Python 3 (ipykernel)",
   "language": "python",
   "name": "python3"
  },
  "language_info": {
   "codemirror_mode": {
    "name": "ipython",
    "version": 3
   },
   "file_extension": ".py",
   "mimetype": "text/x-python",
   "name": "python",
   "nbconvert_exporter": "python",
   "pygments_lexer": "ipython3",
   "version": "3.10.6"
  }
 },
 "nbformat": 4,
 "nbformat_minor": 2
}
