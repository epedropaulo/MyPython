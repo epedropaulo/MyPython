{
 "cells": [
  {
   "cell_type": "markdown",
   "metadata": {},
   "source": [
    "![CC-BY-SA](https://mirrors.creativecommons.org/presskit/buttons/88x31/svg/by-sa.svg)\n",
    "This notebook was created by [Bernardo Freitas Paulo da Costa](http://www.im.ufrj.br/bernardofpc),\n",
    "and is licensed under Creative Commons BY-SA"
   ]
  },
  {
   "cell_type": "markdown",
   "metadata": {},
   "source": [
    "# Implementando a 2ª parte da Lista 2"
   ]
  },
  {
   "cell_type": "code",
   "execution_count": 1,
   "metadata": {
    "collapsed": true
   },
   "outputs": [],
   "source": [
    "import numpy as np\n",
    "import matplotlib.pyplot as plt"
   ]
  },
  {
   "cell_type": "markdown",
   "metadata": {},
   "source": [
    "## Primeiro, uma função para calcular o vetor $w$ de pesos\n",
    "\n",
    "Em função dos nós $xs \\subset [-1,1]$."
   ]
  },
  {
   "cell_type": "code",
   "execution_count": 2,
   "metadata": {
    "collapsed": true
   },
   "outputs": [],
   "source": [
    "def build_M(xs):\n",
    "    \"\"\"Matriz com as equações, como para interpolação de Lagrange.\"\"\"\n",
    "    ### Resposta aqui\n"
   ]
  },
  {
   "cell_type": "code",
   "execution_count": 3,
   "metadata": {},
   "outputs": [
    {
     "data": {
      "text/plain": [
       "[array([ 1.,  1.,  1.,  1.]),\n",
       " array([-0.7, -0.3,  0.3,  0.7]),\n",
       " array([ 0.49,  0.09,  0.09,  0.49]),\n",
       " array([-0.343, -0.027,  0.027,  0.343])]"
      ]
     },
     "execution_count": 3,
     "metadata": {},
     "output_type": "execute_result"
    }
   ],
   "source": [
    "my_xs = [-0.7,-0.3, 0.3, 0.7]\n",
    "build_M(my_xs)"
   ]
  },
  {
   "cell_type": "code",
   "execution_count": 4,
   "metadata": {
    "collapsed": true
   },
   "outputs": [],
   "source": [
    "def find_w(xs):\n",
    "    \"\"\"E a função que calcula os pesos w\"\"\"\n",
    "    ### Resposta aqui\n"
   ]
  },
  {
   "cell_type": "code",
   "execution_count": 5,
   "metadata": {},
   "outputs": [
    {
     "data": {
      "text/plain": [
       "array([ 0.60833333,  0.39166667,  0.39166667,  0.60833333])"
      ]
     },
     "execution_count": 5,
     "metadata": {},
     "output_type": "execute_result"
    }
   ],
   "source": [
    "find_w(my_xs)"
   ]
  },
  {
   "cell_type": "code",
   "execution_count": 6,
   "metadata": {
    "collapsed": true
   },
   "outputs": [],
   "source": [
    "def integrator(f,a,b,n,xs,w):\n",
    "    \"\"\"Calcula a integral de f, no intervalo [a,b]:\n",
    "    - dividindo em n sub-intervalos\n",
    "    - em cada um, aplicando uma regra vinda dos pontos xs.\n",
    "\n",
    "    O vetor de pesos w evita calcular todas as vezes que o método for aplicado.\"\"\"\n",
    "    ts, h = np.linspace(a,b,num=n, endpoint=False, retstep=True)\n",
    "    ### Resposta aqui\n"
   ]
  },
  {
   "cell_type": "markdown",
   "metadata": {},
   "source": [
    "Um teste..."
   ]
  },
  {
   "cell_type": "code",
   "execution_count": 7,
   "metadata": {},
   "outputs": [
    {
     "data": {
      "text/plain": [
       "0.45969769375199265"
      ]
     },
     "execution_count": 7,
     "metadata": {},
     "output_type": "execute_result"
    }
   ],
   "source": [
    "integrator(np.sin, 0,1, 20, my_xs, find_w(my_xs))"
   ]
  },
  {
   "cell_type": "code",
   "execution_count": 8,
   "metadata": {
    "collapsed": true
   },
   "outputs": [],
   "source": [
    "def make_int_int(xs):\n",
    "    \"\"\"Retorna uma \"função integradora\" com os pontos xs. \"\"\"\n",
    "    w = find_w(xs)\n",
    "    def int_int(f,a,b,n):\n",
    "        return integrator(f,a,b,n,xs,w)\n",
    "    return int_int"
   ]
  },
  {
   "cell_type": "code",
   "execution_count": 9,
   "metadata": {
    "collapsed": true
   },
   "outputs": [],
   "source": [
    "def cheby_nodes(n):\n",
    "    \"\"\"n pontos de Chebychev\"\"\"\n",
    "    ### Resposta aqui\n"
   ]
  },
  {
   "cell_type": "code",
   "execution_count": 10,
   "metadata": {},
   "outputs": [
    {
     "data": {
      "text/plain": [
       "array([ 0.96592583,  0.70710678,  0.25881905, -0.25881905, -0.70710678,\n",
       "       -0.96592583])"
      ]
     },
     "execution_count": 10,
     "metadata": {},
     "output_type": "execute_result"
    }
   ],
   "source": [
    "cheby_nodes(6)"
   ]
  },
  {
   "cell_type": "markdown",
   "metadata": {},
   "source": [
    "## Testes e gráficos"
   ]
  },
  {
   "cell_type": "code",
   "execution_count": 11,
   "metadata": {
    "collapsed": true
   },
   "outputs": [],
   "source": [
    "f4 = make_int_int(my_xs)\n",
    "f6 = make_int_int([-0.8, -0.5, -0.2, 0.2, 0.5, 0.8])\n",
    "f6c = make_int_int(cheby_nodes(6))\n",
    "f10 = make_int_int(cheby_nodes(10))"
   ]
  },
  {
   "cell_type": "code",
   "execution_count": 12,
   "metadata": {},
   "outputs": [
    {
     "data": {
      "text/plain": [
       "-6.0792512135421362e-09"
      ]
     },
     "execution_count": 12,
     "metadata": {},
     "output_type": "execute_result"
    }
   ],
   "source": [
    "f4(np.sin, 0, 1, 10) - (1 - np.cos(1))"
   ]
  },
  {
   "cell_type": "code",
   "execution_count": 13,
   "metadata": {
    "collapsed": true
   },
   "outputs": [],
   "source": [
    "ns = np.arange(2,100,2, dtype=int)\n",
    "Is = {}\n",
    "funs, names = [f4,f6,f6c,f10], ['f4','f6','f6c','f10']\n",
    "for f, name in zip(funs, names):\n",
    "    Is[name] = np.array([f(np.sin, 0, 10, n) for n in ns])"
   ]
  },
  {
   "cell_type": "code",
   "execution_count": 14,
   "metadata": {},
   "outputs": [
    {
     "data": {
      "image/png": "[encoded data removed]",
      "text/plain": [
       "<matplotlib.figure.Figure at 0x7fb7c1b9a4a8>"
      ]
     },
     "metadata": {},
     "output_type": "display_data"
    }
   ],
   "source": [
    "ans = 1 - np.cos(10)\n",
    "for f, name in zip(funs, names):\n",
    "    plt.loglog(ns, np.abs(Is[name] - ans), '.-', label=name)\n",
    "plt.xlabel('Número de subintervalos')\n",
    "plt.title('Erro de integração')\n",
    "plt.legend()\n",
    "plt.show()"
   ]
  },
  {
   "cell_type": "code",
   "execution_count": 15,
   "metadata": {},
   "outputs": [
    {
     "data": {
      "image/png": "[encoded data removed]",
      "text/plain": [
       "<matplotlib.figure.Figure at 0x7fb7c1ad4358>"
      ]
     },
     "metadata": {},
     "output_type": "display_data"
    }
   ],
   "source": [
    "for f, name, order in zip(funs, names, [4,6,6,10]):\n",
    "    plt.loglog(order*ns, np.abs(Is[name] - ans), '.-', label=name)\n",
    "plt.xlabel('Número de vezes que $f$ será calculada.')\n",
    "plt.title('Erro de integração')\n",
    "plt.legend()\n",
    "plt.show()"
   ]
  }
 ],
 "metadata": {
  "kernelspec": {
   "display_name": "Python 3",
   "language": "python",
   "name": "python3"
  },
  "language_info": {
   "codemirror_mode": {
    "name": "ipython",
    "version": 3
   },
   "file_extension": ".py",
   "mimetype": "text/x-python",
   "name": "python",
   "nbconvert_exporter": "python",
   "pygments_lexer": "ipython3",
   "version": "3.11.1 (tags/v3.11.1:a7a450f, Dec  6 2022, 19:58:39) [MSC v.1934 64 bit (AMD64)]"
  },
  "vscode": {
   "interpreter": {
    "hash": "9d6b32d6802feadfc7b2884ae209e4f61f5356a9fc8071acad924e2215544356"
   }
  }
 },
 "nbformat": 4,
 "nbformat_minor": 2
}
