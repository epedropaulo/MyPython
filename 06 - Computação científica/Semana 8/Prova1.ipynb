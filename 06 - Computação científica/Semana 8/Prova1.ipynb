{
 "cells": [
  {
   "cell_type": "markdown",
   "id": "80589803",
   "metadata": {},
   "source": [
    "![CC-BY-SA](https://mirrors.creativecommons.org/presskit/buttons/88x31/svg/by-sa.svg)\n",
    "\n",
    "\n",
    "This notebook was created by [Bernardo Freitas Paulo da Costa](http://www.im.ufrj.br/bernardofpc),\n",
    "and is licensed under Creative Commons BY-SA."
   ]
  },
  {
   "cell_type": "markdown",
   "id": "7b8cbf0e",
   "metadata": {},
   "source": [
    "Antes de enviar este Teste, verifique que tudo está funcionando como esperado.\n",
    "Por exemplo, **rode o código inteiro, do zero**.\n",
    "Para isso, vá no menu, escolha _Kernel_, depois _Restart & Run All_.\n",
    "\n",
    "Verifique, também, que você respondeu todas as questões:\n",
    "* as questões de código têm `YOUR CODE HERE` (e você pode apagar o `raise NotImplemented` ao incluir sua resposta)\n",
    "* as questões discursivas têm \"YOUR ANSWER HERE\"."
   ]
  },
  {
   "cell_type": "markdown",
   "id": "97775992",
   "metadata": {},
   "source": [
    "---"
   ]
  },
  {
   "cell_type": "code",
   "execution_count": 2,
   "id": "4ffad228",
   "metadata": {
    "deletable": false,
    "editable": false,
    "nbgrader": {
     "cell_type": "code",
     "checksum": "49483293c32655f488ac31148ad2bce1",
     "grade": false,
     "grade_id": "cell-29960621eaa07728",
     "locked": true,
     "schema_version": 3,
     "solution": false,
     "task": false
    }
   },
   "outputs": [],
   "source": [
    "import numpy as np\n",
    "import matplotlib.pyplot as plt"
   ]
  },
  {
   "cell_type": "code",
   "execution_count": 3,
   "id": "e12eff39",
   "metadata": {
    "deletable": false,
    "editable": false,
    "nbgrader": {
     "cell_type": "code",
     "checksum": "33b9576a2e33dd46e3aec82294b42d38",
     "grade": false,
     "grade_id": "cell-5cba783ed357b369",
     "locked": true,
     "schema_version": 3,
     "solution": false,
     "task": false
    }
   },
   "outputs": [],
   "source": [
    "def veryclose(a, b):\n",
    "    return np.allclose(a, b, rtol=1e-12, atol=1e-12)"
   ]
  },
  {
   "cell_type": "markdown",
   "id": "f24433f9",
   "metadata": {},
   "source": [
    "# Parte 1: Calculando raízes com a segunda derivada\n",
    "\n",
    "Vimos, em aula, que o Método de Newton usa a primeira derivada da função $f$\n",
    "para calcular uma aproximação linear da função, e sucessivamente se aproximar do mínimo.\n",
    "\n",
    "Nesta parte, iremos usar a segunda derivada também."
   ]
  },
  {
   "cell_type": "markdown",
   "id": "bd67914d",
   "metadata": {},
   "source": [
    "## Questão 1: Fórmulas\n",
    "\n",
    "Sejam dados\n",
    "$$\\begin{align*}\n",
    "  f(x_0) & = v_0 \\\\\n",
    " f'(x_0) & = v_1 \\\\\n",
    "f''(x_0) & = v_2\n",
    "\\end{align*}$$\n",
    "\n",
    "Dê, em função de $x_0$, $v_0$, $v_1$ e $v_2$, as raizes da parábola correspondente.\n",
    "Em particular, mostre que as raízes (se existirem) são da forma $x_0 + \\text{passo}$."
   ]
  },
  {
   "cell_type": "markdown",
   "id": "7a325539",
   "metadata": {
    "deletable": false,
    "nbgrader": {
     "cell_type": "markdown",
     "checksum": "71b9e56134bc1554a8bb85079309a5f6",
     "grade": true,
     "grade_id": "cell-87a8bb4dfe0882ed",
     "locked": false,
     "points": 3,
     "schema_version": 3,
     "solution": true,
     "task": false
    }
   },
   "source": [
    "Integrando as relações, conseguimos achar a nossa f(x0) em função das derivadas. E achamos que $f(x_0)=V_2x_0^2 - V_1x_0 + v_0$.\n",
    "Logo conseguimos achar raízes por bhaskara."
   ]
  },
  {
   "cell_type": "markdown",
   "id": "1a3db4bf",
   "metadata": {},
   "source": [
    "Qual raiz você escolheria?  Porquê?"
   ]
  },
  {
   "cell_type": "markdown",
   "id": "c71fccc7",
   "metadata": {
    "deletable": false,
    "nbgrader": {
     "cell_type": "markdown",
     "checksum": "45f2ff29aa69ad0b460a04a34dbd0729",
     "grade": true,
     "grade_id": "cell-f04ee114cd36e059",
     "locked": false,
     "points": 2,
     "schema_version": 3,
     "solution": true,
     "task": false
    }
   },
   "source": [
    "Escolheria a raiz onde seria (V1 - (Raiz De V_1^2 - 4*V_2*V_))/4*V2\n",
    "Isto porque no newton também é menos algo "
   ]
  },
  {
   "cell_type": "markdown",
   "id": "ed1b4c5a",
   "metadata": {},
   "source": [
    "## Questão 2: O passo\n",
    "\n",
    "Escreva a função `step(v0, v1, v2)` que dá o passo a ser feito.\n",
    "\n",
    "Se a parábola não possuir raiz, use, simplesmente, a regra original do método de Newton."
   ]
  },
  {
   "cell_type": "code",
   "execution_count": null,
   "id": "93813550",
   "metadata": {},
   "outputs": [],
   "source": []
  },
  {
   "cell_type": "code",
   "execution_count": 12,
   "id": "c10cb493",
   "metadata": {
    "deletable": false,
    "nbgrader": {
     "cell_type": "code",
     "checksum": "8e836f18219682d88b1266f83e676739",
     "grade": false,
     "grade_id": "cell-f792e287790f83da",
     "locked": false,
     "schema_version": 3,
     "solution": true,
     "task": false
    }
   },
   "outputs": [
    {
     "name": "stderr",
     "output_type": "stream",
     "text": [
      "C:\\Users\\aluno\\AppData\\Local\\Temp/ipykernel_1876/1048185275.py:3: RuntimeWarning: invalid value encountered in sqrt\n",
      "  return np.sqrt(valor)\n"
     ]
    },
    {
     "data": {
      "text/plain": [
       "nan"
      ]
     },
     "execution_count": 12,
     "metadata": {},
     "output_type": "execute_result"
    }
   ],
   "source": [
    "def step2(v0, v1, v2):\n",
    "    valor = v1**2 - 4*v0*v2\n",
    "    return np.sqrt(valor)\n",
    "step2(1, 2, 2)"
   ]
  },
  {
   "cell_type": "code",
   "execution_count": 5,
   "id": "141e0d38",
   "metadata": {
    "deletable": false,
    "editable": false,
    "nbgrader": {
     "cell_type": "code",
     "checksum": "25d39313f49b457edf9b4970f2b7df6d",
     "grade": true,
     "grade_id": "cell-c966ddab80242c6e",
     "locked": true,
     "points": 1,
     "schema_version": 3,
     "solution": false,
     "task": false
    }
   },
   "outputs": [
    {
     "ename": "AssertionError",
     "evalue": "",
     "output_type": "error",
     "traceback": [
      "\u001b[1;31m---------------------------------------------------------------------------\u001b[0m",
      "\u001b[1;31mAssertionError\u001b[0m                            Traceback (most recent call last)",
      "\u001b[1;32m~\\AppData\\Local\\Temp/ipykernel_1876/375490916.py\u001b[0m in \u001b[0;36m<module>\u001b[1;34m\u001b[0m\n\u001b[1;32m----> 1\u001b[1;33m \u001b[1;32massert\u001b[0m \u001b[0mstep2\u001b[0m\u001b[1;33m(\u001b[0m\u001b[1;36m1\u001b[0m\u001b[1;33m,\u001b[0m \u001b[1;36m2\u001b[0m\u001b[1;33m,\u001b[0m \u001b[1;36m2\u001b[0m\u001b[1;33m)\u001b[0m \u001b[1;33m==\u001b[0m \u001b[1;33m-\u001b[0m\u001b[1;36m1\u001b[0m\u001b[1;33m\u001b[0m\u001b[1;33m\u001b[0m\u001b[0m\n\u001b[0m",
      "\u001b[1;31mAssertionError\u001b[0m: "
     ]
    }
   ],
   "source": [
    "assert step2(1, 2, 2) == -1"
   ]
  },
  {
   "cell_type": "code",
   "execution_count": null,
   "id": "eb2e9407",
   "metadata": {
    "deletable": false,
    "editable": false,
    "nbgrader": {
     "cell_type": "code",
     "checksum": "3d72d28f67e2610ef510dd7f64dde5dd",
     "grade": true,
     "grade_id": "cell-b2302a1039a126d1",
     "locked": true,
     "points": 1,
     "schema_version": 3,
     "solution": false,
     "task": false
    }
   },
   "outputs": [],
   "source": [
    "assert step2(1, 1, 1) == -1"
   ]
  },
  {
   "cell_type": "code",
   "execution_count": null,
   "id": "c40af192",
   "metadata": {
    "deletable": false,
    "editable": false,
    "nbgrader": {
     "cell_type": "code",
     "checksum": "b0b0e925e5cd962c339a3db9f811216f",
     "grade": true,
     "grade_id": "cell-69ffab8c4172b28f",
     "locked": true,
     "points": 1,
     "schema_version": 3,
     "solution": false,
     "task": false
    }
   },
   "outputs": [],
   "source": [
    "assert np.isclose(step2(-1, 1, 0.2), 0.9160797831)"
   ]
  },
  {
   "cell_type": "code",
   "execution_count": null,
   "id": "ae3789dc",
   "metadata": {
    "deletable": false,
    "editable": false,
    "nbgrader": {
     "cell_type": "code",
     "checksum": "6445a4319d7c3a03f40a114d959e24cc",
     "grade": true,
     "grade_id": "cell-fc293f38621a5d12",
     "locked": true,
     "points": 2,
     "schema_version": 3,
     "solution": false,
     "task": false
    }
   },
   "outputs": [],
   "source": [
    "# Um teste mais difícil, não se preocupe muito se não passar\n",
    "assert np.isclose(step2(-1,  1, -0.2), 1.1270166538)\n",
    "assert np.isclose(step2( 1, -1,  0.2), 1.1270166538)"
   ]
  },
  {
   "cell_type": "markdown",
   "id": "4f6836f4",
   "metadata": {},
   "source": [
    "Explique porque os passos dos dois `assert`s da última caixa devem ser iguais."
   ]
  },
  {
   "cell_type": "markdown",
   "id": "64c1ddd7",
   "metadata": {
    "deletable": false,
    "nbgrader": {
     "cell_type": "markdown",
     "checksum": "97b58cb65d5457f6222c156258334819",
     "grade": true,
     "grade_id": "cell-fb2903f8d26c749a",
     "locked": false,
     "points": 2,
     "schema_version": 3,
     "solution": true,
     "task": false
    }
   },
   "source": [
    "Pois, os dados oferecidos são os mesmo em módulo. Logo quando aplicamos o método um sinal contrapõe o outro"
   ]
  },
  {
   "cell_type": "markdown",
   "id": "24c77963",
   "metadata": {},
   "source": [
    "## Questão 3: Newton\n",
    "\n",
    "Dê, abaixo, o método de Newton, e também o método de \"Newton com segunda derivada\",\n",
    "retornando a lista de todos os pontos visitados a partir de `x0`, inclusive.\n",
    "\n",
    "O critério de parada será, para os dois, quando o tamanho do passo, _relativo ao ponto atual_,\n",
    "for menor do que a precisão indicada por `reltol`.\n",
    "(mas agora que você já calculou o passo, use-o, não custa quase nada!)"
   ]
  },
  {
   "cell_type": "code",
   "execution_count": 24,
   "id": "d2083ce0",
   "metadata": {
    "deletable": false,
    "nbgrader": {
     "cell_type": "code",
     "checksum": "3b6b3e59db6694f6d07e8b3a6cbb7052",
     "grade": false,
     "grade_id": "cell-264ce61ca8c80f59",
     "locked": false,
     "schema_version": 3,
     "solution": true,
     "task": false
    }
   },
   "outputs": [],
   "source": [
    "def newton(f, df, x0, maxsteps=100, reltol=1e-12):\n",
    "    pontos = [x0]\n",
    "    \n",
    "    for i in range(maxsteps):\n",
    "        passo = f(x0)/df(x0)\n",
    "        x = x0 - f(x0)/df(x0)\n",
    "        pontos.append(x)\n",
    "        x0 = x\n",
    "        if abs(passo) < reltol:\n",
    "            return pontos\n",
    "        \n",
    "    return pontos\n",
    "\n",
    "def newton2(f, df, ddf, x0, maxsteps=100, reltol=1e-12):\n",
    "    # YOUR CODE HERE\n",
    "    raise NotImplementedError()"
   ]
  },
  {
   "cell_type": "code",
   "execution_count": 26,
   "id": "b88fd4fd",
   "metadata": {
    "deletable": false,
    "editable": false,
    "nbgrader": {
     "cell_type": "code",
     "checksum": "9eff0073d8cbd5e730f853ca465f28c4",
     "grade": true,
     "grade_id": "cell-9327782a544e9d2d",
     "locked": true,
     "points": 1,
     "schema_version": 3,
     "solution": false,
     "task": false
    }
   },
   "outputs": [],
   "source": [
    "xs_newton = newton(lambda x: np.exp(x) - 10, np.exp, 1)\n",
    "\n",
    "assert len(xs_newton) == 9\n",
    "assert veryclose(np.exp(xs_newton[-1]), 10)"
   ]
  },
  {
   "cell_type": "code",
   "execution_count": 27,
   "id": "f4e561ba",
   "metadata": {
    "deletable": false,
    "editable": false,
    "nbgrader": {
     "cell_type": "code",
     "checksum": "48cc1ed65b387c58e43953f51e03ffc1",
     "grade": true,
     "grade_id": "cell-949cf7f0fae1c508",
     "locked": true,
     "points": 2,
     "schema_version": 3,
     "solution": false,
     "task": false
    }
   },
   "outputs": [
    {
     "ename": "NotImplementedError",
     "evalue": "",
     "output_type": "error",
     "traceback": [
      "\u001b[1;31m---------------------------------------------------------------------------\u001b[0m",
      "\u001b[1;31mNotImplementedError\u001b[0m                       Traceback (most recent call last)",
      "\u001b[1;32m~\\AppData\\Local\\Temp/ipykernel_1876/1036072633.py\u001b[0m in \u001b[0;36m<module>\u001b[1;34m\u001b[0m\n\u001b[1;32m----> 1\u001b[1;33m \u001b[0mxs_newton2\u001b[0m \u001b[1;33m=\u001b[0m \u001b[0mnewton2\u001b[0m\u001b[1;33m(\u001b[0m\u001b[1;32mlambda\u001b[0m \u001b[0mx\u001b[0m\u001b[1;33m:\u001b[0m \u001b[0mnp\u001b[0m\u001b[1;33m.\u001b[0m\u001b[0mexp\u001b[0m\u001b[1;33m(\u001b[0m\u001b[0mx\u001b[0m\u001b[1;33m)\u001b[0m \u001b[1;33m-\u001b[0m \u001b[1;36m10\u001b[0m\u001b[1;33m,\u001b[0m \u001b[0mnp\u001b[0m\u001b[1;33m.\u001b[0m\u001b[0mexp\u001b[0m\u001b[1;33m,\u001b[0m \u001b[0mnp\u001b[0m\u001b[1;33m.\u001b[0m\u001b[0mexp\u001b[0m\u001b[1;33m,\u001b[0m \u001b[1;36m1\u001b[0m\u001b[1;33m,\u001b[0m \u001b[0mmaxsteps\u001b[0m\u001b[1;33m=\u001b[0m\u001b[1;36m10\u001b[0m\u001b[1;33m)\u001b[0m\u001b[1;33m\u001b[0m\u001b[1;33m\u001b[0m\u001b[0m\n\u001b[0m\u001b[0;32m      2\u001b[0m \u001b[1;33m\u001b[0m\u001b[0m\n\u001b[0;32m      3\u001b[0m \u001b[1;32massert\u001b[0m \u001b[0mlen\u001b[0m\u001b[1;33m(\u001b[0m\u001b[0mxs_newton2\u001b[0m\u001b[1;33m)\u001b[0m \u001b[1;33m==\u001b[0m \u001b[1;36m6\u001b[0m\u001b[1;33m\u001b[0m\u001b[1;33m\u001b[0m\u001b[0m\n\u001b[0;32m      4\u001b[0m \u001b[1;32massert\u001b[0m \u001b[0mveryclose\u001b[0m\u001b[1;33m(\u001b[0m\u001b[0mnp\u001b[0m\u001b[1;33m.\u001b[0m\u001b[0mexp\u001b[0m\u001b[1;33m(\u001b[0m\u001b[0mxs_newton2\u001b[0m\u001b[1;33m[\u001b[0m\u001b[1;33m-\u001b[0m\u001b[1;36m1\u001b[0m\u001b[1;33m]\u001b[0m\u001b[1;33m)\u001b[0m\u001b[1;33m,\u001b[0m \u001b[1;36m10\u001b[0m\u001b[1;33m)\u001b[0m\u001b[1;33m\u001b[0m\u001b[1;33m\u001b[0m\u001b[0m\n",
      "\u001b[1;32m~\\AppData\\Local\\Temp/ipykernel_1876/1106589122.py\u001b[0m in \u001b[0;36mnewton2\u001b[1;34m(f, df, ddf, x0, maxsteps, reltol)\u001b[0m\n\u001b[0;32m     14\u001b[0m \u001b[1;32mdef\u001b[0m \u001b[0mnewton2\u001b[0m\u001b[1;33m(\u001b[0m\u001b[0mf\u001b[0m\u001b[1;33m,\u001b[0m \u001b[0mdf\u001b[0m\u001b[1;33m,\u001b[0m \u001b[0mddf\u001b[0m\u001b[1;33m,\u001b[0m \u001b[0mx0\u001b[0m\u001b[1;33m,\u001b[0m \u001b[0mmaxsteps\u001b[0m\u001b[1;33m=\u001b[0m\u001b[1;36m100\u001b[0m\u001b[1;33m,\u001b[0m \u001b[0mreltol\u001b[0m\u001b[1;33m=\u001b[0m\u001b[1;36m1e-12\u001b[0m\u001b[1;33m)\u001b[0m\u001b[1;33m:\u001b[0m\u001b[1;33m\u001b[0m\u001b[1;33m\u001b[0m\u001b[0m\n\u001b[0;32m     15\u001b[0m     \u001b[1;31m# YOUR CODE HERE\u001b[0m\u001b[1;33m\u001b[0m\u001b[1;33m\u001b[0m\u001b[0m\n\u001b[1;32m---> 16\u001b[1;33m     \u001b[1;32mraise\u001b[0m \u001b[0mNotImplementedError\u001b[0m\u001b[1;33m(\u001b[0m\u001b[1;33m)\u001b[0m\u001b[1;33m\u001b[0m\u001b[1;33m\u001b[0m\u001b[0m\n\u001b[0m",
      "\u001b[1;31mNotImplementedError\u001b[0m: "
     ]
    }
   ],
   "source": [
    "xs_newton2 = newton2(lambda x: np.exp(x) - 10, np.exp, np.exp, 1, maxsteps=10)\n",
    "\n",
    "assert len(xs_newton2) == 6\n",
    "assert veryclose(np.exp(xs_newton2[-1]), 10)"
   ]
  },
  {
   "cell_type": "markdown",
   "id": "dbf0b794",
   "metadata": {},
   "source": [
    "Faça, agora, o gráfico do erro para cada um dos métodos ao calcular uma raiz de $e^x = 10$:"
   ]
  },
  {
   "cell_type": "code",
   "execution_count": null,
   "id": "20e83af9",
   "metadata": {
    "deletable": false,
    "nbgrader": {
     "cell_type": "code",
     "checksum": "e08a7f32d8380ed354fb49d542962832",
     "grade": true,
     "grade_id": "cell-6d7cc8754f880790",
     "locked": false,
     "points": 1,
     "schema_version": 3,
     "solution": true,
     "task": false
    }
   },
   "outputs": [],
   "source": [
    "# YOUR CODE HERE\n",
    "raise NotImplementedError()\n",
    "\n",
    "ax = plt.gca()"
   ]
  },
  {
   "cell_type": "code",
   "execution_count": null,
   "id": "1e6ee0e4",
   "metadata": {
    "deletable": false,
    "editable": false,
    "nbgrader": {
     "cell_type": "code",
     "checksum": "65375a035ec9003ffb025cc3f74f7a43",
     "grade": true,
     "grade_id": "cell-2b52386f58872ca9",
     "locked": true,
     "points": 2,
     "schema_version": 3,
     "solution": false,
     "task": false
    }
   },
   "outputs": [],
   "source": [
    "assert len(ax.lines) == 2\n",
    "assert len(ax.get_legend().texts) == 2\n",
    "assert len(ax.get_title()) >= 10"
   ]
  },
  {
   "cell_type": "markdown",
   "id": "c0f16fc1",
   "metadata": {},
   "source": [
    "Este resultado é esperado? Comente"
   ]
  },
  {
   "cell_type": "markdown",
   "id": "104a9089",
   "metadata": {
    "deletable": false,
    "nbgrader": {
     "cell_type": "markdown",
     "checksum": "f877c69cc91b968480368baf827aba62",
     "grade": true,
     "grade_id": "cell-4fd0e8f2ccb2e43c",
     "locked": false,
     "points": 2,
     "schema_version": 3,
     "solution": true,
     "task": false
    }
   },
   "source": [
    "YOUR ANSWER HERE"
   ]
  },
  {
   "cell_type": "markdown",
   "id": "c6aa4432",
   "metadata": {},
   "source": [
    "Ambos os métodos fizeram uma iteração que \"não saiu do lugar\".\n",
    "Explique porque eles não pararam na iteração anterior."
   ]
  },
  {
   "cell_type": "markdown",
   "id": "cf0aa795",
   "metadata": {
    "deletable": false,
    "nbgrader": {
     "cell_type": "markdown",
     "checksum": "0ee7dd54589cffb32b8a6bade352a615",
     "grade": true,
     "grade_id": "cell-316e64d6bc0f25de",
     "locked": false,
     "points": 2,
     "schema_version": 3,
     "solution": true,
     "task": false
    }
   },
   "source": [
    "YOUR ANSWER HERE"
   ]
  },
  {
   "cell_type": "markdown",
   "id": "a3fc9664",
   "metadata": {},
   "source": [
    "## Questão 4: Uma outra função\n",
    "\n",
    "Use ambos os métodos para encontrar uma raiz de $xe^x = 10$."
   ]
  },
  {
   "cell_type": "markdown",
   "id": "d8d65fce",
   "metadata": {},
   "source": [
    "Dê, abaixo, as funções auxiliares:"
   ]
  },
  {
   "cell_type": "code",
   "execution_count": null,
   "id": "5b75c7fa",
   "metadata": {
    "deletable": false,
    "nbgrader": {
     "cell_type": "code",
     "checksum": "317ea465fcde13eb68b7174ae59da533",
     "grade": true,
     "grade_id": "cell-65a42b59031ca11f",
     "locked": false,
     "points": 2,
     "schema_version": 3,
     "solution": true,
     "task": false
    }
   },
   "outputs": [],
   "source": [
    "# YOUR CODE HERE\n",
    "raise NotImplementedError()"
   ]
  },
  {
   "cell_type": "markdown",
   "id": "329a06af",
   "metadata": {},
   "source": [
    "Agora, calcule os pontos gerados por ambos os métodos, começando a partir de $x_0 = 1$:"
   ]
  },
  {
   "cell_type": "code",
   "execution_count": null,
   "id": "e6eec184",
   "metadata": {
    "deletable": false,
    "nbgrader": {
     "cell_type": "code",
     "checksum": "b30495ba1ed87b69d2b82937fb4d4115",
     "grade": true,
     "grade_id": "cell-c4a3ec88a088c959",
     "locked": false,
     "points": 1,
     "schema_version": 3,
     "solution": true,
     "task": false
    }
   },
   "outputs": [],
   "source": [
    "# YOUR CODE HERE\n",
    "raise NotImplementedError()"
   ]
  },
  {
   "cell_type": "markdown",
   "id": "d745f6a5",
   "metadata": {},
   "source": [
    "Faça o gráfico do erro \"em $y$\", ou seja, o quanto a equação está errada (já que não temos a solução analítica)."
   ]
  },
  {
   "cell_type": "code",
   "execution_count": null,
   "id": "b98725f1",
   "metadata": {
    "deletable": false,
    "nbgrader": {
     "cell_type": "code",
     "checksum": "2dd0b3d2e991b5a1c14d83717ce5d57f",
     "grade": true,
     "grade_id": "cell-118462d327941696",
     "locked": false,
     "points": 1,
     "schema_version": 3,
     "solution": true,
     "task": false
    }
   },
   "outputs": [],
   "source": [
    "# YOUR CODE HERE\n",
    "raise NotImplementedError()\n",
    "\n",
    "ax = plt.gca()"
   ]
  },
  {
   "cell_type": "code",
   "execution_count": null,
   "id": "6fd68786",
   "metadata": {
    "deletable": false,
    "editable": false,
    "nbgrader": {
     "cell_type": "code",
     "checksum": "2c29d1462e194f5639cb4c3f600b6d05",
     "grade": true,
     "grade_id": "cell-63f0f83ba7ab13ad",
     "locked": true,
     "points": 2,
     "schema_version": 3,
     "solution": false,
     "task": false
    }
   },
   "outputs": [],
   "source": [
    "assert len(ax.lines) == 2\n",
    "assert len(ax.get_legend().texts) == 2\n",
    "assert len(ax.get_title()) >= 10"
   ]
  },
  {
   "cell_type": "markdown",
   "id": "b6cdf2d1",
   "metadata": {},
   "source": [
    "Comente, novamente, os resultados, indicando eventuais semelhanças e diferenças com o caso anterior."
   ]
  },
  {
   "cell_type": "markdown",
   "id": "cd5eb9f8",
   "metadata": {
    "deletable": false,
    "nbgrader": {
     "cell_type": "markdown",
     "checksum": "cd069e46692cdf95ee5b0e03b25f118d",
     "grade": true,
     "grade_id": "cell-30ab5b3b33bf5794",
     "locked": false,
     "points": 2,
     "schema_version": 3,
     "solution": true,
     "task": false
    }
   },
   "source": [
    "YOUR ANSWER HERE"
   ]
  },
  {
   "cell_type": "markdown",
   "id": "ee690f2d",
   "metadata": {},
   "source": [
    "# Parte 2: Calculando integrais\n",
    "\n",
    "Dê, abaixo, os métodos do retângulo, trapézio e ponto médio."
   ]
  },
  {
   "cell_type": "code",
   "execution_count": 103,
   "id": "a2a57ef2",
   "metadata": {
    "deletable": false,
    "nbgrader": {
     "cell_type": "code",
     "checksum": "79ad0690fbf4c594bd69e78238b3a099",
     "grade": false,
     "grade_id": "cell-6646cdaab8c2a5db",
     "locked": false,
     "schema_version": 3,
     "solution": true,
     "task": false
    }
   },
   "outputs": [],
   "source": [
    "def rectangle(f, a, b, n=100):\n",
    "    pontos, h = np.linspace(a, b, n, retstep=True, endpoint=False)\n",
    "    area = np.sum(f(pontos))*h\n",
    "    \n",
    "    return area\n",
    "    \n",
    "def trap(f, a, b, n=100):\n",
    "    pontos, h = np.linspace(a, b, n, retstep=True, endpoint=False)\n",
    "    area = np.sum(f(pontos) + f(pontos+h)) * h/2\n",
    "    \n",
    "    return area\n",
    "\n",
    "def midpoint(f, a, b, n=100):\n",
    "    pontos, h = np.linspace(a, b, n, retstep=True, endpoint=False)\n",
    "    area = np.sum(f(pontos+h/2))*h\n",
    "    \n",
    "    return area\n",
    "    \n",
    "methods = [rectangle, trap, midpoint]"
   ]
  },
  {
   "cell_type": "code",
   "execution_count": 33,
   "id": "261f2728",
   "metadata": {
    "deletable": false,
    "editable": false,
    "nbgrader": {
     "cell_type": "code",
     "checksum": "8b3cc2139caafc65b1d3918af79dd953",
     "grade": true,
     "grade_id": "cell-41405d9df59e0bb4",
     "locked": true,
     "points": 1,
     "schema_version": 3,
     "solution": false,
     "task": false
    }
   },
   "outputs": [],
   "source": [
    "assert not np.isclose(rectangle(np.sin, 0, 1), 1 - np.cos(1))"
   ]
  },
  {
   "cell_type": "code",
   "execution_count": 32,
   "id": "9b29c28d",
   "metadata": {
    "deletable": false,
    "editable": false,
    "nbgrader": {
     "cell_type": "code",
     "checksum": "18d90554561f57e90235ded379654d4f",
     "grade": true,
     "grade_id": "cell-5c0c17d184701790",
     "locked": true,
     "points": 1,
     "schema_version": 3,
     "solution": false,
     "task": false
    }
   },
   "outputs": [],
   "source": [
    "assert np.isclose(trap(np.sin, 0, 1), 1 - np.cos(1))"
   ]
  },
  {
   "cell_type": "code",
   "execution_count": 34,
   "id": "056e2281",
   "metadata": {
    "deletable": false,
    "editable": false,
    "nbgrader": {
     "cell_type": "code",
     "checksum": "f45d7a0674088012bdc68277d16d5922",
     "grade": true,
     "grade_id": "cell-c47c5abdc253b47f",
     "locked": true,
     "points": 1,
     "schema_version": 3,
     "solution": false,
     "task": false
    }
   },
   "outputs": [],
   "source": [
    "assert np.isclose(midpoint(np.sin, 0, 1), 1 - np.cos(1))"
   ]
  },
  {
   "cell_type": "markdown",
   "id": "589d6cce",
   "metadata": {},
   "source": [
    "## Questão 5: Integrando o cosseno\n",
    "\n",
    "Faça o gráfico do erro de integração da função cosseno, no intervalo $[0, 2\\pi]$,\n",
    "para $n$ indo de $1$ até $30$,\n",
    "para cada um dos métodos."
   ]
  },
  {
   "cell_type": "code",
   "execution_count": 43,
   "id": "eea06b9b",
   "metadata": {},
   "outputs": [
    {
     "data": {
      "text/plain": [
       "array([1.        , 1.58702059, 2.17404118, 2.76106177, 3.34808236,\n",
       "       3.93510295, 4.52212354, 5.10914413, 5.69616472, 6.28318531])"
      ]
     },
     "execution_count": 43,
     "metadata": {},
     "output_type": "execute_result"
    }
   ],
   "source": [
    "np.linspace(1, 2*np.pi, 10)"
   ]
  },
  {
   "cell_type": "code",
   "execution_count": 75,
   "id": "7bacc570",
   "metadata": {
    "deletable": false,
    "nbgrader": {
     "cell_type": "code",
     "checksum": "73bc54602b9f541e043a473774ec57f8",
     "grade": true,
     "grade_id": "cell-b7c228dcf602cf4c",
     "locked": false,
     "points": 1,
     "schema_version": 3,
     "solution": true,
     "task": false
    }
   },
   "outputs": [
    {
     "data": {
      "image/png": "[encoded data removed]",
      "text/plain": [
       "<Figure size 432x288 with 1 Axes>"
      ]
     },
     "metadata": {
      "needs_background": "light"
     },
     "output_type": "display_data"
    }
   ],
   "source": [
    "ns = range(1,30+1)\n",
    "\n",
    "analitica = 0\n",
    "for m in methods:\n",
    "    erros = []\n",
    "    for n in ns:\n",
    "        numerica = m(np.cos, 0, 2*np.pi, n)\n",
    "        erro = abs(analitica - numerica)\n",
    "        erros.append(erro)\n",
    "    plt.semilogy(ns, erros, label=m.__name__)\n",
    "plt.legend()\n",
    "plt.title('Erros de diferentes métodos.')\n",
    "plt.xlabel('Valores de N')\n",
    "ax = plt.gca()"
   ]
  },
  {
   "cell_type": "code",
   "execution_count": 59,
   "id": "60db4da4",
   "metadata": {
    "deletable": false,
    "editable": false,
    "nbgrader": {
     "cell_type": "code",
     "checksum": "fbfa4ce5924a34026d1dcf41fd59daa1",
     "grade": true,
     "grade_id": "cell-8ddf9cb69ab238cd",
     "locked": true,
     "points": 2,
     "schema_version": 3,
     "solution": false,
     "task": false
    }
   },
   "outputs": [],
   "source": [
    "assert len(ax.lines) == 3\n",
    "assert len(ax.get_legend().texts) == 3\n",
    "assert len(ax.get_title()) >= 10\n",
    "assert len(ax.get_xlabel()) > 5"
   ]
  },
  {
   "cell_type": "markdown",
   "id": "4acf5b1f",
   "metadata": {},
   "source": [
    "O que você percebe neste gráfico?  Como você explica?"
   ]
  },
  {
   "cell_type": "markdown",
   "id": "d3c79afb",
   "metadata": {
    "deletable": false,
    "nbgrader": {
     "cell_type": "markdown",
     "checksum": "2ffa96d83a3309297169eff5686f1948",
     "grade": true,
     "grade_id": "cell-75138020e41412f4",
     "locked": false,
     "points": 2,
     "schema_version": 3,
     "solution": true,
     "task": false
    }
   },
   "source": [
    "Que devido a ser uma integral simétrica, todos os erros são praticamente impercetíveis. Entretanto, tanto o retângulo quanto o trapézio apresentam um acerto 'perfeito' mesmo com um N muito baixo. E é possível perceber que existe um certo limite até onde vai a melhora da precisão, não podemos apenas sair aumentando o N achando que melhorará sempre a precisão."
   ]
  },
  {
   "cell_type": "markdown",
   "id": "95c141ed",
   "metadata": {},
   "source": [
    "Repita para o intervalo $[0, \\pi]$.\n",
    "Agora, faça cada método em uma figura separada:"
   ]
  },
  {
   "cell_type": "code",
   "execution_count": 101,
   "id": "2ebb383e",
   "metadata": {
    "deletable": false,
    "nbgrader": {
     "cell_type": "code",
     "checksum": "a004261fa47a657c7c84a6fbb8ab98ab",
     "grade": true,
     "grade_id": "cell-d394353c80c0ec61",
     "locked": false,
     "points": 1,
     "schema_version": 3,
     "solution": true,
     "task": false
    }
   },
   "outputs": [
    {
     "data": {
      "image/png": "[encoded data removed]",
      "text/plain": [
       "<Figure size 1008x288 with 3 Axes>"
      ]
     },
     "metadata": {
      "needs_background": "light"
     },
     "output_type": "display_data"
    }
   ],
   "source": [
    "fig, axs = plt.subplots(ncols=3, figsize=(14,4))\n",
    "ns = range(1,30+1)\n",
    "\n",
    "analitica = 0\n",
    "for m, ax in zip(methods,axs):\n",
    "    erros = []\n",
    "    for n in ns:\n",
    "        numerica = m(np.cos, 0, np.pi, n)\n",
    "        erro = abs(analitica - numerica)\n",
    "        erros.append(erro)\n",
    "    ax.loglog(ns, erros, label=m.__name__)\n",
    "    ax.legend()\n",
    "    ax.set_title(f'Erro do {m.__name__}')\n",
    "ax = plt.gca()"
   ]
  },
  {
   "cell_type": "code",
   "execution_count": 102,
   "id": "f5170012",
   "metadata": {
    "deletable": false,
    "editable": false,
    "nbgrader": {
     "cell_type": "code",
     "checksum": "6d0416ba0ef94247a462f46ee620a076",
     "grade": true,
     "grade_id": "cell-3c16f3e64c8e6bd8",
     "locked": true,
     "points": 1,
     "schema_version": 3,
     "solution": false,
     "task": false
    }
   },
   "outputs": [],
   "source": [
    "for ax in axs:\n",
    "    assert len(ax.lines) == 1\n",
    "    assert len(ax.get_title()) >= 1"
   ]
  },
  {
   "cell_type": "markdown",
   "id": "9c44504d",
   "metadata": {},
   "source": [
    "Comente as semelhanças e diferenças do caso anterior."
   ]
  },
  {
   "cell_type": "markdown",
   "id": "eb0a07af",
   "metadata": {
    "deletable": false,
    "nbgrader": {
     "cell_type": "markdown",
     "checksum": "d602b3dd74e899baf89a82e0b57983b6",
     "grade": true,
     "grade_id": "cell-0f5150ad9c4996d5",
     "locked": false,
     "points": 2,
     "schema_version": 3,
     "solution": true,
     "task": false
    }
   },
   "source": [
    "A principal diferença se dá no método do retângulo, pois nesse intervalo não há simetria. Logo ele volta a apresentar erros altissímos comparado aos outros métodos."
   ]
  },
  {
   "cell_type": "markdown",
   "id": "86a49598",
   "metadata": {},
   "source": [
    "Qual a velocidade de convergência de cada um dos métodos para a integral no intervalo $[0, \\pi]$?"
   ]
  },
  {
   "cell_type": "markdown",
   "id": "389e31da",
   "metadata": {
    "deletable": false,
    "nbgrader": {
     "cell_type": "markdown",
     "checksum": "44d4d3dc82e4eedb083a449a9f5c9b11",
     "grade": true,
     "grade_id": "cell-8f6d79fe95d1aee6",
     "locked": false,
     "points": 2,
     "schema_version": 3,
     "solution": true,
     "task": false
    }
   },
   "source": [
    "Como não há simetria para o retângulo se aproveitar, ele possui ordem de convergência 1.\n",
    "Ambos os outros apresentam um erro quase 0."
   ]
  },
  {
   "cell_type": "markdown",
   "id": "e365f5fb",
   "metadata": {},
   "source": [
    "## Questão 6: Uma outra função\n",
    "\n",
    "Calcule a integral de $\\frac{1}{2 + \\cos(x)}$ no intervalo $[0, 2\\pi]$, com cada um dos métodos,\n",
    "e faça novamente o gráfico do erro em função do número de subdivisões."
   ]
  },
  {
   "cell_type": "code",
   "execution_count": 117,
   "id": "d203dfe3",
   "metadata": {
    "deletable": false,
    "nbgrader": {
     "cell_type": "code",
     "checksum": "3250782f580d825ee3d44212a95d8261",
     "grade": true,
     "grade_id": "cell-6aa25fcc7c4c73db",
     "locked": false,
     "points": 1,
     "schema_version": 3,
     "solution": true,
     "task": false
    }
   },
   "outputs": [
    {
     "data": {
      "image/png": "[encoded data removed]",
      "text/plain": [
       "<Figure size 432x288 with 1 Axes>"
      ]
     },
     "metadata": {
      "needs_background": "light"
     },
     "output_type": "display_data"
    }
   ],
   "source": [
    "ns = range(1,30+1)\n",
    "\n",
    "def f(x):\n",
    "    return 1/(2+np.cos(x))\n",
    "\n",
    "analitica = 3.62759876\n",
    "\n",
    "for m in methods:\n",
    "    erros = []\n",
    "    for n in ns:\n",
    "        numerica = m(f, 0, 2*np.pi, n)\n",
    "        erro = abs(analitica - numerica)\n",
    "        erros.append(erro)\n",
    "    plt.loglog(ns, erros, label=m.__name__)\n",
    "plt.legend()\n",
    "plt.title(f'Erro do métodos')\n",
    "plt.xlabel('Número de Intervalos')\n",
    "ax = plt.gca()"
   ]
  },
  {
   "cell_type": "code",
   "execution_count": 116,
   "id": "f6f6d13c",
   "metadata": {
    "deletable": false,
    "editable": false,
    "nbgrader": {
     "cell_type": "code",
     "checksum": "c01110a23beeab3c4fc2ce41c49e464e",
     "grade": true,
     "grade_id": "cell-c995335cfa51fa83",
     "locked": true,
     "points": 1,
     "schema_version": 3,
     "solution": false,
     "task": false
    }
   },
   "outputs": [],
   "source": [
    "assert len(ax.lines) == 3\n",
    "assert len(ax.get_legend().texts) == 3\n",
    "assert len(ax.get_title()) >= 10\n",
    "assert len(ax.get_xlabel()) > 5"
   ]
  },
  {
   "cell_type": "markdown",
   "id": "1f4aa9e2",
   "metadata": {},
   "source": [
    "* Qual a velocidade de convergência de cada um dos métodos?\n",
    "* Qual método parece ser mais rápido?"
   ]
  },
  {
   "cell_type": "markdown",
   "id": "b0b96d6e",
   "metadata": {
    "deletable": false,
    "nbgrader": {
     "cell_type": "markdown",
     "checksum": "8c16d6798b4789590bbbc2ba85327ff2",
     "grade": true,
     "grade_id": "cell-4406dd63ef32d681",
     "locked": false,
     "points": 2,
     "schema_version": 3,
     "solution": true,
     "task": false
    }
   },
   "source": [
    "Estranhamente, todos os métodos parecem ter uma mesma ordem de convergência. Ordem 2."
   ]
  },
  {
   "cell_type": "markdown",
   "id": "d67c357a",
   "metadata": {},
   "source": [
    "Agora, repita para o intervalo $[0, \\pi/2]$."
   ]
  },
  {
   "cell_type": "code",
   "execution_count": 119,
   "id": "4582c056",
   "metadata": {
    "deletable": false,
    "nbgrader": {
     "cell_type": "code",
     "checksum": "d9aeb141eb48917d79e33fc4636dc22b",
     "grade": true,
     "grade_id": "cell-7763dd8ad52621f9",
     "locked": false,
     "points": 1,
     "schema_version": 3,
     "solution": true,
     "task": false
    }
   },
   "outputs": [
    {
     "data": {
      "image/png": "[encoded data removed]",
      "text/plain": [
       "<Figure size 432x288 with 1 Axes>"
      ]
     },
     "metadata": {
      "needs_background": "light"
     },
     "output_type": "display_data"
    }
   ],
   "source": [
    "ns = range(1,30+1)\n",
    "\n",
    "def f(x):\n",
    "    return 1/(2+np.cos(x))\n",
    "\n",
    "analitica = np.pi/(27**(1/2))\n",
    "\n",
    "for m in methods:\n",
    "    erros = []\n",
    "    for n in ns:\n",
    "        numerica = m(f, 0, np.pi/2, n)\n",
    "        erro = abs(analitica - numerica)\n",
    "        erros.append(erro)\n",
    "    plt.loglog(ns, erros, label=m.__name__)\n",
    "plt.legend()\n",
    "plt.title(f'Erro do métodos')\n",
    "plt.xlabel('Número de Intervalos')\n",
    "ax = plt.gca()"
   ]
  },
  {
   "cell_type": "markdown",
   "id": "42a8b812",
   "metadata": {},
   "source": [
    "Compare com os resultados para a integral no intervalo $[0, 2\\pi]$."
   ]
  },
  {
   "cell_type": "markdown",
   "id": "5f219b15",
   "metadata": {
    "deletable": false,
    "nbgrader": {
     "cell_type": "markdown",
     "checksum": "f9108eee5aa8ccfa453798b6a87f9afb",
     "grade": true,
     "grade_id": "cell-ed7fb2fc425e1d54",
     "locked": false,
     "points": 2,
     "schema_version": 3,
     "solution": true,
     "task": false
    }
   },
   "source": [
    "Me parece que neste intervalo, os métodos utilizados não são bons o suficiente. Todos possuem erros da escala de 1e-4. E parece que a ordem de convergência deles é 1."
   ]
  },
  {
   "cell_type": "markdown",
   "id": "eba494cb",
   "metadata": {},
   "source": [
    "## Questão 7: E mais uma\n",
    "\n",
    "$$\\int_0^{2\\pi} \\frac{dx}{1 + 2\\cos^2(x)}$$"
   ]
  },
  {
   "cell_type": "code",
   "execution_count": 122,
   "id": "84a46d71",
   "metadata": {
    "deletable": false,
    "nbgrader": {
     "cell_type": "code",
     "checksum": "39781e44d76b38ee84b31b49520b1fd5",
     "grade": true,
     "grade_id": "cell-8d533039531afa6c",
     "locked": false,
     "points": 1,
     "schema_version": 3,
     "solution": true,
     "task": false
    }
   },
   "outputs": [
    {
     "data": {
      "image/png": "[encoded data removed]",
      "text/plain": [
       "<Figure size 432x288 with 1 Axes>"
      ]
     },
     "metadata": {
      "needs_background": "light"
     },
     "output_type": "display_data"
    }
   ],
   "source": [
    "ns = range(1,30+1)\n",
    "\n",
    "def f(x):\n",
    "    return 1/(1+2*np.cos(x)**2)\n",
    "\n",
    "analitica = 3.6275987656\n",
    "\n",
    "for m in methods:\n",
    "    erros = []\n",
    "    for n in ns:\n",
    "        numerica = m(f, 0, 2*np.pi, n)\n",
    "        erro = abs(analitica - numerica)\n",
    "        erros.append(erro)\n",
    "    plt.loglog(ns, erros, label=m.__name__)\n",
    "plt.legend()\n",
    "plt.title(f'Erro do métodos')\n",
    "plt.xlabel('Número de Intervalos')\n",
    "ax = plt.gca()"
   ]
  },
  {
   "cell_type": "code",
   "execution_count": 121,
   "id": "c55f179f",
   "metadata": {
    "deletable": false,
    "editable": false,
    "nbgrader": {
     "cell_type": "code",
     "checksum": "c4e9743c656d508919dd173c3e46239b",
     "grade": true,
     "grade_id": "cell-1b1fa16a62733446",
     "locked": true,
     "points": 1,
     "schema_version": 3,
     "solution": false,
     "task": false
    }
   },
   "outputs": [],
   "source": [
    "assert len(ax.lines) == 3\n",
    "assert len(ax.get_legend().texts) == 3\n",
    "assert len(ax.get_title()) >= 10\n",
    "assert len(ax.get_xlabel()) > 5"
   ]
  },
  {
   "cell_type": "markdown",
   "id": "c6d5abdc",
   "metadata": {},
   "source": [
    "Compare com o que você obteve para a função $\\frac{1}{1 + 2 \\cos(x)}$:\n",
    "- O que você percebe de semelhante?\n",
    "- O que há de diferente?\n",
    "- Como você explica as diferenças e similaridades?"
   ]
  },
  {
   "cell_type": "markdown",
   "id": "f179242d",
   "metadata": {
    "deletable": false,
    "nbgrader": {
     "cell_type": "markdown",
     "checksum": "89a3f4a5f95f5f4ed3c0d8237cf8ff1e",
     "grade": true,
     "grade_id": "cell-7fabf2aaecbd305c",
     "locked": false,
     "points": 2,
     "schema_version": 3,
     "solution": true,
     "task": false
    }
   },
   "source": [
    "A semelhança é que converge pro mesmo ponto.\n",
    "A diferença é na estabilidade da convergência.\n",
    "A grande diferença provavelmente se dá pois esta função representa um algoritmo muito instável, logo apresenta essas grandes oscilações. Mas é possível perceber ele ainda assim diminui com o aumentar dos N."
   ]
  },
  {
   "cell_type": "markdown",
   "id": "0781e1c1",
   "metadata": {},
   "source": [
    "## Questão 8: A última\n",
    "\n",
    "Calcule\n",
    "\n",
    "$$\\int_0^{2\\pi} \\frac{\\sin(1999x)}{\\sin(x)}$$\n",
    "\n",
    "pelo método do ponto médio, variando o número de subdivisões entre $2$ e $2000$ como abaixo,\n",
    "e faça o gráfico do **valor da integral** ao variar $n$."
   ]
  },
  {
   "cell_type": "code",
   "execution_count": 131,
   "id": "697c9c8e",
   "metadata": {
    "deletable": false,
    "nbgrader": {
     "cell_type": "code",
     "checksum": "94bc79c38871628e1054312c0c6e14e6",
     "grade": true,
     "grade_id": "cell-ca6ef8a2e7713c54",
     "locked": false,
     "points": 1,
     "schema_version": 3,
     "solution": true,
     "task": false
    }
   },
   "outputs": [
    {
     "data": {
      "image/png": "[encoded data removed]",
      "text/plain": [
       "<Figure size 432x288 with 1 Axes>"
      ]
     },
     "metadata": {
      "needs_background": "light"
     },
     "output_type": "display_data"
    }
   ],
   "source": [
    "ns = range(2,2000,2)\n",
    "\n",
    "def f(x):\n",
    "    return np.sin(1999*x)/np.sin(x)\n",
    "\n",
    "analitica = 6.28319\n",
    "erros = []\n",
    "\n",
    "for n in ns:\n",
    "    numerica = midpoint(f, 0, 2*np.pi, n)\n",
    "    erro = abs(analitica - numerica)\n",
    "    erros.append(erro)\n",
    "\n",
    "plt.loglog(ns, erros, label=m.__name__)\n",
    "plt.legend()\n",
    "plt.title(f'Erro do métodos')\n",
    "plt.xlabel('Número de Intervalos')\n",
    "ax = plt.gca()"
   ]
  },
  {
   "cell_type": "markdown",
   "id": "24e23459",
   "metadata": {},
   "source": [
    "O que você vê no gráfico?"
   ]
  },
  {
   "cell_type": "markdown",
   "id": "d0cdc438",
   "metadata": {
    "deletable": false,
    "nbgrader": {
     "cell_type": "markdown",
     "checksum": "74cca2d78f68614b1d61410d9acfd279",
     "grade": true,
     "grade_id": "cell-3451bc4cd11eea06",
     "locked": false,
     "points": 2,
     "schema_version": 3,
     "solution": true,
     "task": false
    }
   },
   "source": [
    "Uma gigantesca oscilação, por conta de algoritmo instável."
   ]
  },
  {
   "cell_type": "markdown",
   "id": "f72edc35",
   "metadata": {},
   "source": [
    "Explique porque usar o método do ponto médio, e porque usar um número par de subdivisões."
   ]
  },
  {
   "cell_type": "markdown",
   "id": "b9e6644e",
   "metadata": {
    "deletable": false,
    "nbgrader": {
     "cell_type": "markdown",
     "checksum": "f5a2e20cedc7228a8a46b4f25671215e",
     "grade": true,
     "grade_id": "cell-2e80fa897cedc724",
     "locked": false,
     "points": 2,
     "schema_version": 3,
     "solution": true,
     "task": false
    }
   },
   "source": [
    "Usando um número par de subdivisões temos que conseguimos "
   ]
  },
  {
   "cell_type": "markdown",
   "id": "a7dec193",
   "metadata": {},
   "source": [
    "### Bônus\n",
    "\n",
    "Como você faria para ter certeza do valor correto da integral?\n",
    "Explique suas ideias abaixo, e faça contas, se desejar, na caixa seguinte."
   ]
  },
  {
   "cell_type": "markdown",
   "id": "e6ac630b",
   "metadata": {
    "deletable": false,
    "nbgrader": {
     "cell_type": "markdown",
     "checksum": "8aa8ce2ab61e625cbb481eab6a587200",
     "grade": true,
     "grade_id": "cell-da1f14da005b0ca7",
     "locked": false,
     "points": 2,
     "schema_version": 3,
     "solution": true,
     "task": false
    }
   },
   "source": [
    "Creio que usaria o método de simpson. talvez não na regra 1/3, e sim na mais avançado regra 3/8 de simpson."
   ]
  },
  {
   "cell_type": "code",
   "execution_count": null,
   "id": "62147775",
   "metadata": {
    "deletable": false,
    "nbgrader": {
     "cell_type": "code",
     "checksum": "f65b7c3074f70a8f5cc68db64b2e5340",
     "grade": true,
     "grade_id": "cell-c7f2efffbad52e81",
     "locked": false,
     "points": 1,
     "schema_version": 3,
     "solution": true,
     "task": false
    }
   },
   "outputs": [],
   "source": [
    "# YOUR CODE HERE\n",
    "raise NotImplementedError()"
   ]
  }
 ],
 "metadata": {
  "kernelspec": {
   "display_name": "Python 3 (ipykernel)",
   "language": "python",
   "name": "python3"
  },
  "language_info": {
   "codemirror_mode": {
    "name": "ipython",
    "version": 3
   },
   "file_extension": ".py",
   "mimetype": "text/x-python",
   "name": "python",
   "nbconvert_exporter": "python",
   "pygments_lexer": "ipython3",
   "version": "3.9.7"
  }
 },
 "nbformat": 4,
 "nbformat_minor": 5
}
