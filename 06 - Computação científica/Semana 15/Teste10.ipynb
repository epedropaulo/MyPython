{
 "cells": [
  {
   "cell_type": "markdown",
   "metadata": {},
   "source": [
    "![CC-BY-SA](https://mirrors.creativecommons.org/presskit/buttons/88x31/svg/by-sa.svg)\n",
    "\n",
    "\n",
    "This notebook was created by [Bernardo Freitas Paulo da Costa](http://www.im.ufrj.br/bernardofpc),\n",
    "and is licensed under Creative Commons BY-SA."
   ]
  },
  {
   "cell_type": "markdown",
   "metadata": {},
   "source": [
    "Antes de enviar este Teste, verifique que tudo está funcionando como esperado.\n",
    "Por exemplo, **rode o código inteiro, do zero**.\n",
    "Para isso, vá no menu, escolha _Kernel_, depois _Restart & Run All_.\n",
    "\n",
    "Verifique, também, que você respondeu todas as questões:\n",
    "* as questões de código têm `YOUR CODE HERE` (e você pode apagar o `raise NotImplemented` ao incluir sua resposta)\n",
    "* as questões discursivas têm \"YOUR ANSWER HERE\"."
   ]
  },
  {
   "cell_type": "markdown",
   "metadata": {},
   "source": [
    "---"
   ]
  },
  {
   "cell_type": "code",
   "execution_count": 227,
   "metadata": {},
   "outputs": [],
   "source": [
    "import numpy as np\n",
    "import matplotlib.pyplot as plt"
   ]
  },
  {
   "attachments": {},
   "cell_type": "markdown",
   "metadata": {},
   "source": [
    "# Convergência de vetores na iteração QR\n",
    "\n",
    "Vamos ver como os vetores das matrizes $Q$ do algoritmo QR iterativo convergem para os autovetores de $A = QDQ^T$."
   ]
  },
  {
   "cell_type": "markdown",
   "metadata": {},
   "source": [
    "## Gerando matrizes diagonalizáveis aleatórias\n",
    "\n",
    "Para inclusive poder verificar sem problemas a qualidade da diagonalização,\n",
    "vamos gerar matrizes ortogonais aleatórias $Q$ e matrizes diagonais aleatórias $D$.\n",
    "\n",
    "Uma forma muito simples de gerar matrizes ortogonais aleatórias é fazer a fatoração QR de uma matriz $A$ qualquer\n",
    "(veja a função `np.linalg.qr`)."
   ]
  },
  {
   "cell_type": "markdown",
   "metadata": {},
   "source": [
    "### Questão 1. Parte ortogonal\n",
    "\n",
    "Escreva uma função que, dado $n$, retorne uma matriz aleatória $n \\times n$ ortogonal."
   ]
  },
  {
   "cell_type": "code",
   "execution_count": 228,
   "metadata": {
    "deletable": false,
    "nbgrader": {
     "cell_type": "code",
     "checksum": "11796723588169dfe07948fbb31de2cd",
     "grade": false,
     "grade_id": "randq",
     "locked": false,
     "schema_version": 3,
     "solution": true
    }
   },
   "outputs": [],
   "source": [
    "def randq(n):\n",
    "    # YOUR CODE HERE\n",
    "    A = np.random.rand(n, n)   # Cria uma matriz aleatória\n",
    "    Q = np.linalg.qr(A)[0]  # Pega a parte ortogonal da decomposição QR\n",
    "    \n",
    "    return Q"
   ]
  },
  {
   "cell_type": "markdown",
   "metadata": {},
   "source": [
    "Verificando que ela é ortogonal:"
   ]
  },
  {
   "cell_type": "code",
   "execution_count": 229,
   "metadata": {
    "deletable": false,
    "editable": false,
    "nbgrader": {
     "cell_type": "code",
     "checksum": "67a291b0152dccad652e5e867296caf7",
     "grade": true,
     "grade_id": "randq_test",
     "locked": true,
     "points": 2,
     "schema_version": 3,
     "solution": false
    }
   },
   "outputs": [],
   "source": [
    "i = np.identity(20)\n",
    "for _ in range(10):\n",
    "    Q = randq(20)\n",
    "    assert np.allclose(Q.T @ Q, i)"
   ]
  },
  {
   "cell_type": "markdown",
   "metadata": {},
   "source": [
    "Verificando que é aleatória"
   ]
  },
  {
   "cell_type": "code",
   "execution_count": 230,
   "metadata": {
    "deletable": false,
    "editable": false,
    "nbgrader": {
     "cell_type": "code",
     "checksum": "1c56ffaa781e555ee2d0ae2834bdde81",
     "grade": true,
     "grade_id": "cell-d5b3d96e6f403e3a",
     "locked": true,
     "points": 1,
     "schema_version": 3,
     "solution": false,
     "task": false
    }
   },
   "outputs": [],
   "source": [
    "np.random.seed(1)\n",
    "for _ in range(10):\n",
    "    n = np.random.randint(30,100)\n",
    "    prev = randq(n)\n",
    "    for _ in range(3):\n",
    "        nova = randq(n)\n",
    "        assert np.linalg.norm(prev - nova)**2 >= n/2"
   ]
  },
  {
   "cell_type": "markdown",
   "metadata": {},
   "source": [
    "### Questão 2. Matriz diagonalizável\n",
    "\n",
    "Agora, escreva uma função que, dado $n$, retorna uma matriz diagonalizável aleatória $n \\times n$,\n",
    "cujos autovalores sejam reais aleatórios entre $-n$ e $n$.\n",
    "Retorne também os autovalores num vetor `a_val`\n",
    "e os autovetores correspondentes numa lista (de arrays `numpy`) `a_vet`."
   ]
  },
  {
   "cell_type": "code",
   "execution_count": 231,
   "metadata": {
    "deletable": false,
    "nbgrader": {
     "cell_type": "code",
     "checksum": "267c2ab2cdb7ebd6942bee75d23684b2",
     "grade": false,
     "grade_id": "rand_diag",
     "locked": false,
     "schema_version": 3,
     "solution": true
    }
   },
   "outputs": [],
   "source": [
    "import random\n",
    "\n",
    "\n",
    "def rand_diag(n):\n",
    "    \"\"\"Creio que seja interessante definirmos aleatoriamente os autovalores e os autovetores, e assim sim achar a matriz usando a decomposição espectral.\"\"\"\n",
    "    \n",
    "    a_val = [random.uniform(-n, n) for _ in range(n)]\n",
    "    D = np.diag(a_val)\n",
    "\n",
    "    P = randq(n)    # Criando uma matriz ortogonal nxn que usaremos como base de autovetores.\n",
    "    \n",
    "    A = np.matmul(np.matmul(P,D), P.T)\n",
    "    \n",
    "    return A, np.array(a_val), P.T"
   ]
  },
  {
   "cell_type": "markdown",
   "metadata": {},
   "source": [
    "Verificando que realmente vale $Av = \\lambda v$:"
   ]
  },
  {
   "cell_type": "code",
   "execution_count": 232,
   "metadata": {
    "deletable": false,
    "editable": false,
    "nbgrader": {
     "cell_type": "code",
     "checksum": "79297f0200996fa553effa08cf9ed4d5",
     "grade": true,
     "grade_id": "rand_diag_est",
     "locked": true,
     "points": 2,
     "schema_version": 3,
     "solution": false
    }
   },
   "outputs": [],
   "source": [
    "for _ in range(20):\n",
    "    A,ls,vs = rand_diag(30)\n",
    "    for l,v in zip(ls,vs):\n",
    "        assert np.allclose(A@v, l*v)"
   ]
  },
  {
   "cell_type": "code",
   "execution_count": 233,
   "metadata": {
    "deletable": false,
    "editable": false,
    "nbgrader": {
     "cell_type": "code",
     "checksum": "ccb7021274c1731e75f6b20fb005da25",
     "grade": true,
     "grade_id": "rand_diag_negvals",
     "locked": true,
     "points": 1,
     "schema_version": 3,
     "solution": false,
     "task": false
    }
   },
   "outputs": [],
   "source": [
    "np.random.seed(2)\n",
    "for _ in range(20):\n",
    "    A,ls,vs = rand_diag(35)\n",
    "    # Há (bastantes) autovalores positivos e negativos\n",
    "    assert sum(ls < 0) > 5\n",
    "    assert sum(ls > 0) > 5"
   ]
  },
  {
   "cell_type": "markdown",
   "metadata": {},
   "source": [
    "### Questão 3. Autovetores ordenados\n",
    "\n",
    "Modifique rand_diag para que os autovalores venham em ordem decrescente do módulo.\n",
    "A função `argsort` pode ser útil: não queremos mudar o sinal dos autovalores, mas precisamos ordenar `abs(a_val)`."
   ]
  },
  {
   "cell_type": "code",
   "execution_count": 234,
   "metadata": {
    "deletable": false,
    "nbgrader": {
     "cell_type": "code",
     "checksum": "2f0433db1c57d82319bd6430897a1979",
     "grade": false,
     "grade_id": "rand_diag_order",
     "locked": false,
     "schema_version": 3,
     "solution": true
    }
   },
   "outputs": [],
   "source": [
    "def rand_diag(n):\n",
    "    # YOUR CODE HERE\n",
    "    \n",
    "    a_val = np.array([random.uniform(-n, n) for _ in range(n)])\n",
    "\n",
    "    absoluto = abs(a_val)\n",
    "    ordem = reversed(np.argsort(absoluto))\n",
    "\n",
    "    a_val_sorted = []\n",
    "    for indice in ordem:\n",
    "        a_val_sorted.append(a_val[indice])\n",
    "    a_val_sorted = np.array(a_val_sorted)\n",
    "\n",
    "    D = np.diag(a_val_sorted)\n",
    "\n",
    "    P = randq(n)\n",
    "    \n",
    "    A = np.matmul(np.matmul(P,D), P.T)\n",
    "    \n",
    "    return A, a_val_sorted, P.T"
   ]
  },
  {
   "cell_type": "code",
   "execution_count": 235,
   "metadata": {
    "deletable": false,
    "editable": false,
    "nbgrader": {
     "cell_type": "code",
     "checksum": "1977f042397e7daf190ac67ec9d06fed",
     "grade": true,
     "grade_id": "order_av_tests",
     "locked": true,
     "points": 2,
     "schema_version": 3,
     "solution": false
    }
   },
   "outputs": [],
   "source": [
    "np.random.seed(2)\n",
    "for _ in range(20):\n",
    "    A,ls,vs = rand_diag(30)\n",
    "    for l1,l2 in zip(ls[:-1], ls[1:]):\n",
    "        assert abs(l1) > abs(l2)\n",
    "    for l,v in zip(ls,vs):\n",
    "        assert np.allclose(A@v, l*v)\n",
    "    # Há (bastantes) autovalores positivos e negativos\n",
    "    assert sum(ls < 0) > 5\n",
    "    assert sum(ls > 0) > 5"
   ]
  },
  {
   "cell_type": "markdown",
   "metadata": {},
   "source": [
    "## CVGA Projetivo\n",
    "\n",
    "Vamos usar o ângulo entre vetores para obter uma velocidade de convergência.\n",
    "Lembre que $\\cos \\theta = \\frac{u\\cdot v}{|u| \\cdot |v|}$.\n",
    "\n",
    "Se temos uma base ortogonal $e_i$, e uma base $u_i = \\pm e_i$,\n",
    "elas estão \"alinhadas\", por mais que os vetores possam estar com o sentido trocado.\n",
    "Por isso, não vamos usar o ângulo (\"orientado\") dado pela fórmula acima,\n",
    "mas o **menor** ângulo $\\hat\\theta$ entre as retas determinadas por $u$ e $v$.\n",
    "Este é bastante parecido:\n",
    "$$ \\cos \\hat\\theta = \\frac{|u\\cdot v|}{|u| \\cdot |v|}. $$\n",
    "\n",
    "Este ângulo é importante em geometria projetiva, porque apenas a direção das retas importa, não a sua orientação."
   ]
  },
  {
   "cell_type": "markdown",
   "metadata": {},
   "source": [
    "### Questão 4. Função ângulo\n",
    "\n",
    "Usando a fórmula anterior, escreva uma função que calcula o ângulo entre as retas de direção $u$ e $v$."
   ]
  },
  {
   "cell_type": "code",
   "execution_count": 236,
   "metadata": {
    "deletable": false,
    "nbgrader": {
     "cell_type": "code",
     "checksum": "8600995da2e2b608c8761ce078e2353b",
     "grade": false,
     "grade_id": "proj_angle",
     "locked": false,
     "schema_version": 3,
     "solution": true
    }
   },
   "outputs": [],
   "source": [
    "from numpy.linalg import norm as norma\n",
    "\n",
    "def proj_angle(u,v):\n",
    "    u = np.array(u)\n",
    "    v = np.array(v)\n",
    "    \n",
    "    numerador = norma(u@v)\n",
    "    denominador = norma(u)*norma(v)\n",
    "\n",
    "    angulo = np.arccos(numerador/denominador)\n",
    "\n",
    "    return angulo"
   ]
  },
  {
   "cell_type": "code",
   "execution_count": 237,
   "metadata": {
    "deletable": false,
    "editable": false,
    "nbgrader": {
     "cell_type": "code",
     "checksum": "861be88d7cb19eb4e621ad385f4e1425",
     "grade": true,
     "grade_id": "proj_angle_tests",
     "locked": true,
     "points": 2,
     "schema_version": 3,
     "solution": false
    }
   },
   "outputs": [],
   "source": [
    "assert(proj_angle([1,0], [0,1]) == np.pi/2)\n",
    "assert(proj_angle([1,0], [1,0]) == 0)"
   ]
  },
  {
   "cell_type": "markdown",
   "metadata": {},
   "source": [
    "## Algoritmo QR: iteração de bases\n",
    "\n",
    "O algoritmo QR iterado, dada uma matriz $A$,\n",
    "repetidamente usa a fatoração QR para diagonalizá-la.\n",
    "Começando com uma matriz $Q_0$ qualquer (em geral, a identidade), em cada etapa, o algoritmo\n",
    "\n",
    "1. Fatora a matriz $A Q_{n-1}$ como $Q_n R_n$\n",
    "2. Se $R_n$ for \"quase diagonal\" (use a função `np.allclose`), retorna\n",
    "3. Senão, itera\n",
    "\n",
    "Estas operações correspondem a aplicar a ideia da iteração direta não apenas em um vetor, mas em uma _base_."
   ]
  },
  {
   "cell_type": "markdown",
   "metadata": {},
   "source": [
    "### Questão 5. QR com bases\n",
    "\n",
    "Escreva a função `itera_qr` que retorna as matrizes $Q_n$ e $R_n$ em listas.\n",
    "A matriz $Q_n$ pode ser vista como tendo em suas colunas uma \"base\" de vetores\n",
    "que está \"convergindo\" para a base de autovetores de $A$."
   ]
  },
  {
   "cell_type": "code",
   "execution_count": 238,
   "metadata": {
    "deletable": false,
    "nbgrader": {
     "cell_type": "code",
     "checksum": "e27133f99cd401bcaf6644cd63afdc3e",
     "grade": false,
     "grade_id": "itera_qr",
     "locked": false,
     "schema_version": 3,
     "solution": true
    }
   },
   "outputs": [],
   "source": [
    "def itera_qr(A, maxiter=1000):\n",
    "    Q0 = np.identity(A.shape[0])\n",
    "    Qs = []\n",
    "    Rs = []\n",
    "    # YOUR CODE HERE\n",
    "    for _ in range(maxiter):\n",
    "        Q1, R1 = np.linalg.qr(np.matmul(A, Q0))  # Extraio a fatoração QR de A*Q0\n",
    "        Qs.append(Q1)\n",
    "        Rs.append(R1)\n",
    "\n",
    "        R1_diag = np.diag(R1)   # Extraio a diagonal de R1\n",
    "        Diag_matrix = np.diag(R1_diag)  # Crio uma matrix, com valores apenas na diagonal.\n",
    "\n",
    "        if np.allclose(R1, Diag_matrix, atol=1e-15, rtol=1e-15):\n",
    "            return Qs, Rs\n",
    "        \n",
    "        Q0 = Q1 # Transformo Q0 em Q1 e repito.\n",
    "    return Qs, Rs"
   ]
  },
  {
   "cell_type": "markdown",
   "metadata": {},
   "source": [
    "#### 5.1 Qn ortogonais\n",
    "\n",
    "Este é fácil."
   ]
  },
  {
   "cell_type": "code",
   "execution_count": 239,
   "metadata": {
    "deletable": false,
    "editable": false,
    "nbgrader": {
     "cell_type": "code",
     "checksum": "d3abd1dfac6acf77a679419428a74c37",
     "grade": true,
     "grade_id": "itera_qr_orth",
     "locked": true,
     "points": 2,
     "schema_version": 3,
     "solution": false
    }
   },
   "outputs": [],
   "source": [
    "np.random.seed(3)\n",
    "for n in np.random.randint(4,8, size=10):\n",
    "    A, _, _ = rand_diag(n)\n",
    "    i = np.identity(n)\n",
    "    Qs,_ = itera_qr(A)\n",
    "    for Qn in Qs:\n",
    "        assert np.allclose(i, Qn @ Qn.T)"
   ]
  },
  {
   "cell_type": "markdown",
   "metadata": {},
   "source": [
    "#### 5.2 $R_n$ quase diagonal.\n",
    "\n",
    "No fim do algoritmo, teremos em $R_n$ a candidata para a matriz dos autovalores de $A$.\n",
    "\n",
    "(Observação: dependendo da versão do numpy que você usar, pode ser que a diagonal de $R$ tenha apenas valores positivos.  Neste caso, insira um comentário abaixo, e troque o segundo `assert` para `abs(a_vals)`, para verificar no seu computador se o seu algoritmo está funcionando.)"
   ]
  },
  {
   "cell_type": "code",
   "execution_count": 240,
   "metadata": {
    "deletable": false,
    "editable": false,
    "nbgrader": {
     "cell_type": "code",
     "checksum": "62b16e5f691e321c55593ec45248e0f6",
     "grade": true,
     "grade_id": "itera_qr_diag",
     "locked": true,
     "points": 2,
     "schema_version": 3,
     "solution": false
    }
   },
   "outputs": [],
   "source": [
    "np.random.seed(32)\n",
    "for n in np.random.randint(4,8, size=10):\n",
    "    A, a_vals, _ = rand_diag(n)\n",
    "    _,Rs = itera_qr(A, maxiter=5000)\n",
    "    d_Rs = Rs[-1].diagonal()\n",
    "    assert np.allclose(Rs[-1], np.diag(d_Rs))\n",
    "    assert np.allclose(d_Rs, a_vals)"
   ]
  },
  {
   "cell_type": "markdown",
   "metadata": {},
   "source": [
    "### 6. Distância entre bases\n",
    "\n",
    "Escreva uma função que, dadas duas matrizes $B_1$ e $B_2$ (representando bases do $R^n$),\n",
    "calcula as distâncias entre os vetores **linhas** correspondentes, e as retona num array ou lista.\n",
    "(usaremos vetores linhas, e não colunas, porque são estes que vêm na lista `a_vec`;\n",
    "atenção, a matriz $Q$ tem a base nas colunas...)"
   ]
  },
  {
   "cell_type": "code",
   "execution_count": 241,
   "metadata": {
    "deletable": false,
    "nbgrader": {
     "cell_type": "code",
     "checksum": "69e59b4daa9677f054a27b3248799583",
     "grade": false,
     "grade_id": "base_dist",
     "locked": false,
     "schema_version": 3,
     "solution": true
    }
   },
   "outputs": [],
   "source": [
    "def base_distances(B1,B2):\n",
    "    # YOUR CODE HERE\n",
    "    B1t = np.array(B1).T\n",
    "    B2t = np.array(B2).T\n",
    "\n",
    "    distancias = []\n",
    "    for v1, v2 in zip(B1t, B2t):\n",
    "        distancia = norma(v2 - v1)\n",
    "        distancias.append(distancia)\n",
    "\n",
    "    return distancias[::-1]"
   ]
  },
  {
   "cell_type": "code",
   "execution_count": 242,
   "metadata": {
    "deletable": false,
    "editable": false,
    "nbgrader": {
     "cell_type": "code",
     "checksum": "d24d91f27e5ded5785d5099b44a63fe3",
     "grade": true,
     "grade_id": "base_dist_1",
     "locked": true,
     "points": 2,
     "schema_version": 3,
     "solution": false
    }
   },
   "outputs": [],
   "source": [
    "I3 = np.identity(3)\n",
    "assert all(base_distances(I3, I3) == np.array([0,0,0]))\n",
    "assert all(base_distances(I3, -I3) == np.array([2,2,2]))"
   ]
  },
  {
   "cell_type": "code",
   "execution_count": 243,
   "metadata": {
    "deletable": false,
    "editable": false,
    "nbgrader": {
     "cell_type": "code",
     "checksum": "4ca79121c2c072c582e2dcb729975d04",
     "grade": true,
     "grade_id": "base_dist_2",
     "locked": true,
     "points": 2,
     "schema_version": 3,
     "solution": false
    }
   },
   "outputs": [],
   "source": [
    "I3 = np.identity(3)\n",
    "assert all(base_distances(I3, [[0,1,0], [0,0,1],[1,0,0]]) == np.sqrt(np.array([2,2,2])))\n",
    "assert all(base_distances(I3, [[1,0,0], [0,1,0], [1,0,1]]) == np.array([0,0,1]))"
   ]
  },
  {
   "cell_type": "markdown",
   "metadata": {},
   "source": [
    "### 7. Autovetores\n",
    "\n",
    "Com ajuda função anterior, faça um gráfico da evolução da distância (euclidiana)\n",
    "entre os autovetores de uma matriz $3\\times 3$ (aleatória, diagonalizável)\n",
    "e os vetores correspondentes vindos da iteração QR."
   ]
  },
  {
   "cell_type": "code",
   "execution_count": 244,
   "metadata": {
    "deletable": false,
    "nbgrader": {
     "cell_type": "code",
     "checksum": "c1c58fd142932bce3255fda2fb9abc2e",
     "grade": true,
     "grade_id": "graf_dist",
     "locked": false,
     "points": 3,
     "schema_version": 3,
     "solution": true
    }
   },
   "outputs": [
    {
     "data": {
      "image/png": "[encoded data removed]",
      "text/plain": [
       "<Figure size 640x480 with 1 Axes>"
      ]
     },
     "metadata": {},
     "output_type": "display_data"
    }
   ],
   "source": [
    "np.random.seed(5)\n",
    "A, _, a_vec = rand_diag(3)\n",
    "Qs,_ = itera_qr(A)\n",
    "# YOUR CODE HERE\n",
    "distancias = []\n",
    "\n",
    "for Q in Qs:\n",
    "    QT = np.array(Q).T\n",
    "    distancia = (base_distances(a_vec, QT))\n",
    "    distancias.append(distancia)\n",
    "\n",
    "plt.semilogy(distancias)\n",
    "plt.title('Diferença entre os autovetores e o Q da fatoração QR')\n",
    "plt.grid()"
   ]
  },
  {
   "cell_type": "markdown",
   "metadata": {},
   "source": [
    "### 8. Ângulos\n",
    "\n",
    "Agora, em vez de calcular a distância entre os vetores,\n",
    "faça o gráfico do ângulo entre as retas respectivas,\n",
    "como já fizemos no início.\n",
    "\n",
    "Aproveite a ideia da função que calcula a distância entre bases para fazer uma `base_angles` análoga."
   ]
  },
  {
   "cell_type": "code",
   "execution_count": 245,
   "metadata": {
    "deletable": false,
    "nbgrader": {
     "cell_type": "code",
     "checksum": "81c8780627aafbbdc1d314953f8a6257",
     "grade": false,
     "grade_id": "base_angles",
     "locked": false,
     "schema_version": 3,
     "solution": true
    }
   },
   "outputs": [],
   "source": [
    "def base_angles(B1,B2):\n",
    "    B1t = np.array(B1).T\n",
    "    B2t = np.array(B2).T\n",
    "\n",
    "    angulos = []\n",
    "    for v1, v2 in zip(B1t, B2t):\n",
    "        angulo = proj_angle(v2, v1)\n",
    "        angulos.append(angulo)\n",
    "\n",
    "    return angulos[::-1]"
   ]
  },
  {
   "cell_type": "code",
   "execution_count": 246,
   "metadata": {
    "deletable": false,
    "nbgrader": {
     "cell_type": "code",
     "checksum": "c9444e8563650148162a46c9f92b8973",
     "grade": true,
     "grade_id": "graf_angulo",
     "locked": false,
     "points": 2,
     "schema_version": 3,
     "solution": true
    }
   },
   "outputs": [
    {
     "data": {
      "text/plain": [
       "<matplotlib.legend.Legend at 0x1b1b6f82750>"
      ]
     },
     "execution_count": 246,
     "metadata": {},
     "output_type": "execute_result"
    },
    {
     "data": {
      "image/png": "[encoded data removed]",
      "text/plain": [
       "<Figure size 640x480 with 1 Axes>"
      ]
     },
     "metadata": {},
     "output_type": "display_data"
    }
   ],
   "source": [
    "np.random.seed(6)\n",
    "A, _, a_vec = rand_diag(4)\n",
    "Qs,Rs = itera_qr(A)\n",
    "# YOUR CODE HERE\n",
    "angulos = []\n",
    "\n",
    "for Q in Qs:\n",
    "    QT = np.array(Q).T\n",
    "    angulo = base_angles(a_vec, QT)\n",
    "    angulos.append(angulo)\n",
    "\n",
    "plt.semilogy(angulos)\n",
    "plt.title('Ângulo entre os autovetores e o Q da fatoração QR')\n",
    "plt.grid()\n",
    "plt.legend(['$v_{}$'.format(i) for i in range(4)], loc=0)"
   ]
  },
  {
   "cell_type": "markdown",
   "metadata": {},
   "source": [
    "### 9. Velocidade de convergência\n",
    "\n",
    "Use os ângulos calculados para estimar a taxa de convergência de cada vetor para o autovetor correspondente.\n",
    "Como isso se relaciona com os autovalores calculados?"
   ]
  },
  {
   "cell_type": "code",
   "execution_count": 252,
   "metadata": {
    "deletable": false,
    "nbgrader": {
     "cell_type": "code",
     "checksum": "9a2235c3b0545f66d371f663257d1b00",
     "grade": true,
     "grade_id": "cvg_speed",
     "locked": false,
     "points": 2,
     "schema_version": 3,
     "solution": true
    }
   },
   "outputs": [],
   "source": [
    "### Contas aqui\n",
    "# YOUR CODE HERE"
   ]
  },
  {
   "cell_type": "markdown",
   "metadata": {
    "deletable": false,
    "nbgrader": {
     "cell_type": "markdown",
     "checksum": "f7a29b1fd73fe4b414a2d32272d3ad53",
     "grade": true,
     "grade_id": "cvg_comment",
     "locked": false,
     "points": 2,
     "schema_version": 3,
     "solution": true
    }
   },
   "source": [
    "YOUR ANSWER HERE"
   ]
  },
  {
   "cell_type": "markdown",
   "metadata": {},
   "source": [
    "### 10. Precisão para o ângulo projetivo\n",
    "\n",
    "Se você fez corretamente o gráfico anterior,\n",
    "algumas linhas pararam de aparecer por volta de $10^{-8} = \\sqrt{\\epsilon}$.\n",
    "Isso se deve à imprecisão do computador ao calcular $\\arccos(1 - x)$ com $x$ muito pequeno.\n",
    "Para contornar isso, vamos usar uma fórmula estável para o ângulo.\n",
    "\n",
    "Se temos dois vetores $u$ e $v$, podemos projetar (como fizemos) $v$ em $u$ e obter o cosseno do ângulo entre eles.\n",
    "Para contornar o problema de precisão quando $u$ e $v$ estão quase alinhados,\n",
    "vamos dar mais informação ao nosso programa: vamos calcular o **seno** do ângulo também.\n",
    "Para isso, \"Gram-Schmidt\": basta retirar de $v$ a componente na direção de $u$.\n",
    "O que restar será ortogonal a $u$, e será proporcional ao seno do ângulo entre $v$ e $u$.\n",
    "Faça um desenho para ver!\n",
    "\n",
    "Com todos os detalhes: dados $u$ e $v$,\n",
    "determine a projeção de $v$ em $u$ (com um produto interno) e o vetor restante por subtração.\n",
    "Agora, use a função `arctan2` que recebe dois comprimentos $y$ e $x$ (nesta ordem \"errada\")\n",
    "e dá o ângulo do ponto $(x,y)$ com relação ao eixo X.\n",
    "Como esta função usa ambas as coordenadas, ela não sofre os mesmos problemas de precisão que `arccos`."
   ]
  },
  {
   "cell_type": "code",
   "execution_count": 248,
   "metadata": {
    "deletable": false,
    "nbgrader": {
     "cell_type": "code",
     "checksum": "8ac06df30006525917ff14d93a82e0a9",
     "grade": false,
     "grade_id": "proj_angle_prec",
     "locked": false,
     "schema_version": 3,
     "solution": true
    }
   },
   "outputs": [],
   "source": [
    "def proj(v):\n",
    "    vv = np.asarray(v)\n",
    "    def aux(u):\n",
    "        u = np.asarray(u)\n",
    "        numerador = u.T@vv\n",
    "        denominador = vv.T@vv\n",
    "        \n",
    "        coeficiente = numerador/denominador\n",
    "        return coeficiente*vv\n",
    "    return aux\n",
    "\n",
    "def proj_angle_prec(v,u):\n",
    "    V_proj_U = proj(v)(u)\n",
    "    vetor_diferenca = u - V_proj_U\n",
    "\n",
    "    y = norma(vetor_diferenca)\n",
    "    x = norma(V_proj_U)\n",
    "\n",
    "    return np.arctan2(y, x)"
   ]
  },
  {
   "cell_type": "markdown",
   "metadata": {},
   "source": [
    "Testando ângulos \"normais\""
   ]
  },
  {
   "cell_type": "code",
   "execution_count": 249,
   "metadata": {
    "deletable": false,
    "editable": false,
    "nbgrader": {
     "cell_type": "code",
     "checksum": "79f144ff2e578665405c43f60c367955",
     "grade": true,
     "grade_id": "normal_angle",
     "locked": true,
     "points": 2,
     "schema_version": 3,
     "solution": false
    }
   },
   "outputs": [],
   "source": [
    "np.random.seed(98765)\n",
    "for n in np.random.randint(4,10,size=10):\n",
    "    u = np.random.rand(n)\n",
    "    v = np.random.rand(n)\n",
    "    assert proj_angle(u,v) - proj_angle_prec(u,v) < 1e-15"
   ]
  },
  {
   "cell_type": "markdown",
   "metadata": {},
   "source": [
    "Testando ângulos \"pequenos\""
   ]
  },
  {
   "cell_type": "code",
   "execution_count": 250,
   "metadata": {
    "deletable": false,
    "editable": false,
    "nbgrader": {
     "cell_type": "code",
     "checksum": "f16f33483f32e8656524ae549016e711",
     "grade": true,
     "grade_id": "small_angle",
     "locked": true,
     "points": 2,
     "schema_version": 3,
     "solution": false
    }
   },
   "outputs": [],
   "source": [
    "assert proj_angle_prec([1,0,0,0], [1,0,1e-15,1e-15]) == np.sqrt(2)*1e-15 - 2e-31"
   ]
  },
  {
   "cell_type": "markdown",
   "metadata": {},
   "source": [
    "### 11. Convergência das bases\n",
    "\n",
    "Faça agora o gráfico do ângulo entre as bases da iteração QR,\n",
    "e veja-os diminuirem até $10^{-16}$ como esperado."
   ]
  },
  {
   "cell_type": "code",
   "execution_count": 251,
   "metadata": {
    "deletable": false,
    "nbgrader": {
     "cell_type": "code",
     "checksum": "782d4b6b687605dbc906e7a46fa5e7d1",
     "grade": true,
     "grade_id": "convergencia",
     "locked": false,
     "points": 2,
     "schema_version": 3,
     "solution": true
    }
   },
   "outputs": [
    {
     "data": {
      "text/plain": [
       "<matplotlib.legend.Legend at 0x1b1b6ac8790>"
      ]
     },
     "execution_count": 251,
     "metadata": {},
     "output_type": "execute_result"
    },
    {
     "data": {
      "image/png": "[encoded data removed]",
      "text/plain": [
       "<Figure size 640x480 with 1 Axes>"
      ]
     },
     "metadata": {},
     "output_type": "display_data"
    }
   ],
   "source": [
    "np.random.seed(999)\n",
    "A, _, a_vec = rand_diag(5)\n",
    "Qs,_ = itera_qr(A, maxiter=2500)\n",
    "# YOUR CODE HERE\n",
    "angulos = []\n",
    "\n",
    "for Q in Qs:\n",
    "    QT = np.array(Q).T\n",
    "\n",
    "    diferentes_angulos = []\n",
    "    for qzinho, autovetor in zip(QT, a_vec):\n",
    "        angulo = proj_angle_prec(qzinho, autovetor)\n",
    "        diferentes_angulos.append(angulo)\n",
    "    angulos.append(diferentes_angulos)\n",
    " \n",
    "plt.semilogy(angulos)\n",
    "plt.title('Ângulo entre os autovetores e o Q da fatoração QR')\n",
    "plt.legend(['$v_{}$'.format(i) for i in range(5)], loc=0)"
   ]
  }
 ],
 "metadata": {
  "kernelspec": {
   "display_name": "Python 3",
   "language": "python",
   "name": "python3"
  },
  "language_info": {
   "codemirror_mode": {
    "name": "ipython",
    "version": 3
   },
   "file_extension": ".py",
   "mimetype": "text/x-python",
   "name": "python",
   "nbconvert_exporter": "python",
   "pygments_lexer": "ipython3",
   "version": "3.11.1"
  },
  "vscode": {
   "interpreter": {
    "hash": "9d6b32d6802feadfc7b2884ae209e4f61f5356a9fc8071acad924e2215544356"
   }
  }
 },
 "nbformat": 4,
 "nbformat_minor": 1
}
