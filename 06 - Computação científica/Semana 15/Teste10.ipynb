{
 "cells": [
  {
   "cell_type": "markdown",
   "metadata": {},
   "source": [
    "![CC-BY-SA](https://mirrors.creativecommons.org/presskit/buttons/88x31/svg/by-sa.svg)\n",
    "\n",
    "\n",
    "This notebook was created by [Bernardo Freitas Paulo da Costa](http://www.im.ufrj.br/bernardofpc),\n",
    "and is licensed under Creative Commons BY-SA."
   ]
  },
  {
   "cell_type": "markdown",
   "metadata": {},
   "source": [
    "Antes de enviar este Teste, verifique que tudo está funcionando como esperado.\n",
    "Por exemplo, **rode o código inteiro, do zero**.\n",
    "Para isso, vá no menu, escolha _Kernel_, depois _Restart & Run All_.\n",
    "\n",
    "Verifique, também, que você respondeu todas as questões:\n",
    "* as questões de código têm `YOUR CODE HERE` (e você pode apagar o `raise NotImplemented` ao incluir sua resposta)\n",
    "* as questões discursivas têm \"YOUR ANSWER HERE\"."
   ]
  },
  {
   "cell_type": "markdown",
   "metadata": {},
   "source": [
    "---"
   ]
  },
  {
   "cell_type": "code",
   "execution_count": 1,
   "metadata": {},
   "outputs": [],
   "source": [
    "import numpy as np\n",
    "import matplotlib.pyplot as plt"
   ]
  },
  {
   "attachments": {},
   "cell_type": "markdown",
   "metadata": {},
   "source": [
    "# Convergência de vetores na iteração QR\n",
    "\n",
    "Vamos ver como os vetores das matrizes $Q$ do algoritmo QR iterativo convergem para os autovetores de $A = QDQ^T$."
   ]
  },
  {
   "cell_type": "markdown",
   "metadata": {},
   "source": [
    "## Gerando matrizes diagonalizáveis aleatórias\n",
    "\n",
    "Para inclusive poder verificar sem problemas a qualidade da diagonalização,\n",
    "vamos gerar matrizes ortogonais aleatórias $Q$ e matrizes diagonais aleatórias $D$.\n",
    "\n",
    "Uma forma muito simples de gerar matrizes ortogonais aleatórias é fazer a fatoração QR de uma matriz $A$ qualquer\n",
    "(veja a função `np.linalg.qr`)."
   ]
  },
  {
   "cell_type": "markdown",
   "metadata": {},
   "source": [
    "### Questão 1. Parte ortogonal\n",
    "\n",
    "Escreva uma função que, dado $n$, retorne uma matriz aleatória $n \\times n$ ortogonal."
   ]
  },
  {
   "cell_type": "code",
   "execution_count": 7,
   "metadata": {
    "deletable": false,
    "nbgrader": {
     "cell_type": "code",
     "checksum": "11796723588169dfe07948fbb31de2cd",
     "grade": false,
     "grade_id": "randq",
     "locked": false,
     "schema_version": 3,
     "solution": true
    }
   },
   "outputs": [],
   "source": [
    "def randq(n):\n",
    "    # YOUR CODE HERE\n",
    "    A = np.random.rand(n, n)   # Cria uma matriz aleatória\n",
    "    Q = np.linalg.qr(A)[0]  # Pega a parte ortogonal da decomposição QR\n",
    "    \n",
    "    return Q"
   ]
  },
  {
   "cell_type": "markdown",
   "metadata": {},
   "source": [
    "Verificando que ela é ortogonal:"
   ]
  },
  {
   "cell_type": "code",
   "execution_count": 8,
   "metadata": {
    "deletable": false,
    "editable": false,
    "nbgrader": {
     "cell_type": "code",
     "checksum": "67a291b0152dccad652e5e867296caf7",
     "grade": true,
     "grade_id": "randq_test",
     "locked": true,
     "points": 2,
     "schema_version": 3,
     "solution": false
    }
   },
   "outputs": [],
   "source": [
    "i = np.identity(20)\n",
    "for _ in range(10):\n",
    "    Q = randq(20)\n",
    "    assert np.allclose(Q.T @ Q, i)"
   ]
  },
  {
   "cell_type": "markdown",
   "metadata": {},
   "source": [
    "Verificando que é aleatória"
   ]
  },
  {
   "cell_type": "code",
   "execution_count": 9,
   "metadata": {
    "deletable": false,
    "editable": false,
    "nbgrader": {
     "cell_type": "code",
     "checksum": "1c56ffaa781e555ee2d0ae2834bdde81",
     "grade": true,
     "grade_id": "cell-d5b3d96e6f403e3a",
     "locked": true,
     "points": 1,
     "schema_version": 3,
     "solution": false,
     "task": false
    }
   },
   "outputs": [],
   "source": [
    "np.random.seed(1)\n",
    "for _ in range(10):\n",
    "    n = np.random.randint(30,100)\n",
    "    prev = randq(n)\n",
    "    for _ in range(3):\n",
    "        nova = randq(n)\n",
    "        assert np.linalg.norm(prev - nova)**2 >= n/2"
   ]
  },
  {
   "cell_type": "markdown",
   "metadata": {},
   "source": [
    "### Questão 2. Matriz diagonalizável\n",
    "\n",
    "Agora, escreva uma função que, dado $n$, retorna uma matriz diagonalizável aleatória $n \\times n$,\n",
    "cujos autovalores sejam reais aleatórios entre $-n$ e $n$.\n",
    "Retorne também os autovalores num vetor `a_val`\n",
    "e os autovetores correspondentes numa lista (de arrays `numpy`) `a_vet`."
   ]
  },
  {
   "cell_type": "code",
   "execution_count": 53,
   "metadata": {
    "deletable": false,
    "nbgrader": {
     "cell_type": "code",
     "checksum": "267c2ab2cdb7ebd6942bee75d23684b2",
     "grade": false,
     "grade_id": "rand_diag",
     "locked": false,
     "schema_version": 3,
     "solution": true
    }
   },
   "outputs": [],
   "source": [
    "import random\n",
    "\n",
    "\n",
    "def rand_diag(n):\n",
    "    \"\"\"Creio que seja interessante definirmos aleatoriamente os autovalores e os autovetores, e assim sim achar a matriz usando a decomposição espectral.\"\"\"\n",
    "    \n",
    "    a_val = [random.uniform(-n, n) for _ in range(n)]\n",
    "    D = np.diag(a_val)\n",
    "\n",
    "    P = randq(n)\n",
    "\n",
    "    A = (P@D)@P.T\n",
    "    \n",
    "    print(A)\n",
    "    return A, a_val, P"
   ]
  },
  {
   "cell_type": "markdown",
   "metadata": {},
   "source": [
    "Verificando que realmente vale $Av = \\lambda v$:"
   ]
  },
  {
   "cell_type": "code",
   "execution_count": 54,
   "metadata": {},
   "outputs": [
    {
     "name": "stdout",
     "output_type": "stream",
     "text": [
      "[[ 1.46491714 -0.34558122 -0.7534855 ]\n",
      " [-0.34558122  1.17974     1.68054717]\n",
      " [-0.7534855   1.68054717 -2.23100668]]\n",
      "[-0.60789365  0.54766204  1.18138188]\n",
      "[1.03728973 0.41720764 0.90460974]\n",
      "[-1.13407142  0.08536901  0.19068601]\n",
      "[[-0.57560693 -1.27331157  0.37433593]\n",
      " [-1.27331157 -0.29618624  0.43508345]\n",
      " [ 0.37433593  0.43508345 -0.87559797]]\n",
      "[ 0.58378861 -0.01413642 -0.23575921]\n",
      "[ 0.66968447 -0.3663272   0.484527  ]\n",
      "[ 0.7127781   0.6391635  -0.21746141]\n",
      "[[-0.99532737  0.07779804 -1.02709811]\n",
      " [ 0.07779804 -1.97951586 -0.58449522]\n",
      " [-1.02709811 -0.58449522  0.92733023]]\n",
      "[ 0.29851413  0.33243384 -1.54609707]\n",
      "[-0.24212676  0.15102835  0.73928862]\n",
      "[-0.32706832 -1.73708711 -0.44954247]\n"
     ]
    }
   ],
   "source": [
    "for _ in range(3):\n",
    "    A,ls,vs = rand_diag(3)\n",
    "    for l,v in zip(ls,vs):\n",
    "        print(A@v - l*v)"
   ]
  },
  {
   "cell_type": "code",
   "execution_count": 55,
   "metadata": {
    "deletable": false,
    "editable": false,
    "nbgrader": {
     "cell_type": "code",
     "checksum": "79297f0200996fa553effa08cf9ed4d5",
     "grade": true,
     "grade_id": "rand_diag_est",
     "locked": true,
     "points": 2,
     "schema_version": 3,
     "solution": false
    }
   },
   "outputs": [
    {
     "name": "stdout",
     "output_type": "stream",
     "text": [
      "[[ 2.07949332e+00  1.13762453e+00 -3.73484211e-01  1.20924806e+00\n",
      "   3.57614188e+00 -3.64117714e+00  4.88349123e+00 -5.87319971e+00\n",
      "   4.20389548e+00  1.12222962e+00  8.30233152e+00 -7.57971740e-01\n",
      "   2.45387881e+00 -1.90261211e+00  2.40010901e+00 -3.47045563e+00\n",
      "  -4.96632997e-01 -3.19702634e-01  3.61916499e-01  3.00471509e-01\n",
      "   3.78325925e+00 -1.56346438e+00  2.85567888e+00  5.52871578e+00\n",
      "   1.30626475e+00 -3.56380877e+00 -4.52240070e-01  2.04884920e+00\n",
      "   1.32080632e-01 -4.50192703e+00]\n",
      " [ 1.13762453e+00  1.48317114e+00  6.25036987e+00  1.17625934e+00\n",
      "   3.60281199e+00 -6.78627272e-01  1.80151415e+00 -6.40140166e-01\n",
      "   5.80950737e-01 -2.45607069e+00  1.27980956e+00 -3.54582487e+00\n",
      "   2.15075156e-01 -1.54063023e+00 -9.01805273e-01 -1.30069856e+00\n",
      "   2.82654822e+00  1.19061675e+00  2.55430238e+00 -2.25984950e+00\n",
      "  -2.54811207e+00 -3.41714818e+00  1.37657434e+00 -6.56370479e-01\n",
      "   6.26811404e+00  1.85028907e+00 -1.19387170e+00 -4.80527686e-01\n",
      "   1.72343230e-01 -1.16036189e+00]\n",
      " [-3.73484211e-01  6.25036987e+00  3.99358544e+00  3.00434037e-01\n",
      "   2.98351541e+00 -1.24388384e+00 -2.69971215e-01  6.93398085e+00\n",
      "   2.46634333e+00 -5.70043575e+00 -1.38449628e+00 -2.54297508e+00\n",
      "   1.58433464e+00 -1.32943405e+00  3.24307547e+00  2.12322953e+00\n",
      "  -3.49231020e+00  1.23528167e-01  1.87602734e+00  1.76204469e+00\n",
      "   4.26160038e+00 -5.81967425e+00 -1.31399731e+00  4.95681292e-01\n",
      "  -3.03581966e+00 -8.02489200e-01  4.71864139e-01  6.93233769e-01\n",
      "   7.01679529e+00 -2.24411450e+00]\n",
      " [ 1.20924806e+00  1.17625934e+00  3.00434037e-01  2.12700373e-01\n",
      "  -2.01941129e+00 -5.71459136e-02  6.21283765e+00 -2.07893257e+00\n",
      "   7.62386410e-01  2.30610146e+00 -4.61759421e+00  2.74324087e+00\n",
      "  -5.63834091e-01  8.02360132e-01  3.28849023e+00 -1.51121777e-01\n",
      "  -4.78868326e+00  4.30520180e-01  2.40605043e+00  2.46213898e+00\n",
      "   1.77718736e+00  1.02087254e+00  3.93702576e+00  2.98730436e+00\n",
      "  -4.43385973e+00 -6.28305613e-01  6.45869076e+00 -2.45213901e+00\n",
      "  -2.75893439e+00 -6.58122026e+00]\n",
      " [ 3.57614188e+00  3.60281199e+00  2.98351541e+00 -2.01941129e+00\n",
      "   2.14243165e+00 -2.41973720e+00 -2.98144511e+00  2.09657186e+00\n",
      "   1.13525070e+00  3.12169475e+00 -4.22712610e+00  1.06042627e-01\n",
      "   1.48862779e+00  8.86613263e+00  2.42613295e+00  2.76967816e+00\n",
      "   2.86293201e+00  5.42277831e+00  1.94693370e+00  1.73521186e+00\n",
      "   8.12718241e-01 -1.38196730e+00 -3.12167250e+00 -3.08004080e-01\n",
      "   5.18435678e+00 -2.75483334e+00 -8.52020761e-01  3.13675850e+00\n",
      "  -6.24149294e-01 -1.83612623e-01]\n",
      " [-3.64117714e+00 -6.78627272e-01 -1.24388384e+00 -5.71459136e-02\n",
      "  -2.41973720e+00  4.90947445e+00  1.70364722e+00  7.60785223e+00\n",
      "   3.45231427e+00 -4.50471472e+00  4.70433059e+00 -1.83972208e+00\n",
      "   3.65106960e+00  1.06647035e+00  3.39215653e+00 -2.20580250e-01\n",
      "  -6.93549367e-01  1.42576693e+00 -1.30517710e+00 -7.02596485e-02\n",
      "   6.67129793e+00  1.52067597e+00  1.48839257e+00  1.86253975e+00\n",
      "  -2.11936702e+00 -9.20045546e-01 -3.88714073e+00 -2.29261903e+00\n",
      "  -1.25820157e+00 -2.33470075e+00]\n",
      " [ 4.88349123e+00  1.80151415e+00 -2.69971215e-01  6.21283765e+00\n",
      "  -2.98144511e+00  1.70364722e+00  8.62535936e-01  3.57725714e+00\n",
      "   1.71385957e+00  4.80430857e+00 -1.28429061e+00  4.17069381e-01\n",
      "   2.01909555e+00  3.03810691e+00  2.57834689e+00 -2.95070865e-01\n",
      "   1.30434859e+00 -9.47419442e-01 -2.09343079e+00  3.85516704e+00\n",
      "   1.56500345e-01  4.49852822e+00  3.66794858e-01  1.36026007e-01\n",
      "  -1.08894702e+00  1.56653964e+00  3.73348827e+00 -9.62952506e-01\n",
      "   2.17526071e+00  1.32147232e+00]\n",
      " [-5.87319971e+00 -6.40140166e-01  6.93398085e+00 -2.07893257e+00\n",
      "   2.09657186e+00  7.60785223e+00  3.57725714e+00  1.71259751e+00\n",
      "  -3.85808998e+00  2.90241774e+00 -3.33271966e-01 -1.51206246e+00\n",
      "  -7.24238483e-01  3.50291842e-01  1.00242638e+00  7.01318721e-01\n",
      "   2.06582719e+00  2.29266930e+00 -3.63047360e+00  4.16384318e+00\n",
      "  -6.75898778e-01 -3.36504503e+00 -1.45357597e+00 -1.57154967e+00\n",
      "   4.45312248e+00  6.53905629e-01  2.50291598e+00 -3.41471057e-01\n",
      "  -3.11448573e-01 -1.81697965e-01]\n",
      " [ 4.20389548e+00  5.80950737e-01  2.46634333e+00  7.62386410e-01\n",
      "   1.13525070e+00  3.45231427e+00  1.71385957e+00 -3.85808998e+00\n",
      "   1.25250022e+00 -1.56159973e+00  3.58359253e+00  1.10452954e+00\n",
      "   1.74791177e+00  1.19717179e+00  4.47055939e+00  1.33321786e+00\n",
      "   1.12498371e+00 -1.13080926e+00  3.45109457e+00 -1.74130994e+00\n",
      "   3.62013307e-01 -2.51314988e+00  1.91623135e+00  1.42254737e+00\n",
      "   3.12022945e+00  1.22280849e+00 -1.72013091e+00  2.81965487e+00\n",
      "  -1.96930160e+00  2.46793413e+00]\n",
      " [ 1.12222962e+00 -2.45607069e+00 -5.70043575e+00  2.30610146e+00\n",
      "   3.12169475e+00 -4.50471472e+00  4.80430857e+00  2.90241774e+00\n",
      "  -1.56159973e+00  3.84744820e+00  4.64652182e+00  9.91251026e-01\n",
      "  -2.30415192e+00  2.29936657e+00 -2.50483940e+00  1.23063275e+00\n",
      "   1.05019332e+00  1.79840770e+00  1.04386737e+01 -4.82044701e-01\n",
      "  -2.59212221e+00 -1.53768491e+00 -2.75357336e+00 -1.60162451e+00\n",
      "  -1.81950448e+00 -1.45424490e+00 -2.74048038e+00 -2.20028556e+00\n",
      "   1.19733813e+00  8.01118977e+00]\n",
      " [ 8.30233152e+00  1.27980956e+00 -1.38449628e+00 -4.61759421e+00\n",
      "  -4.22712610e+00  4.70433059e+00 -1.28429061e+00 -3.33271966e-01\n",
      "   3.58359253e+00  4.64652182e+00 -1.83355975e+00  3.83152143e-01\n",
      "  -1.30300524e-01  5.25040572e-01 -3.33317252e+00 -2.86364791e+00\n",
      "  -6.16669946e+00  6.24818272e-01  1.93611368e+00  7.64249045e+00\n",
      "  -5.06341911e+00 -2.21908277e-01  3.10356196e-01  1.29483834e+00\n",
      "  -1.98599109e+00 -1.11988681e+00  9.78913406e-02  1.08397743e+00\n",
      "   4.40798609e+00  4.24174026e-01]\n",
      " [-7.57971740e-01 -3.54582487e+00 -2.54297508e+00  2.74324087e+00\n",
      "   1.06042627e-01 -1.83972208e+00  4.17069381e-01 -1.51206246e+00\n",
      "   1.10452954e+00  9.91251026e-01  3.83152143e-01  1.21282180e+01\n",
      "  -5.07968447e+00 -6.92900584e+00  3.27641773e+00  2.18595278e+00\n",
      "  -1.44112888e+00  3.49214378e+00  4.25588064e+00  5.64543406e+00\n",
      "   5.18677027e+00 -1.32846397e+00  1.55650806e+00 -1.35076673e+00\n",
      "   3.90020118e-01 -1.00340811e-01 -2.16800379e+00 -1.65638140e-01\n",
      "  -9.67526307e-01 -3.39662749e+00]\n",
      " [ 2.45387881e+00  2.15075156e-01  1.58433464e+00 -5.63834091e-01\n",
      "   1.48862779e+00  3.65106960e+00  2.01909555e+00 -7.24238483e-01\n",
      "   1.74791177e+00 -2.30415192e+00 -1.30300524e-01 -5.07968447e+00\n",
      "   5.39344676e-01 -6.09040838e+00 -2.48474972e+00  5.10230129e+00\n",
      "  -4.03189729e+00  8.80640188e+00  5.24265186e+00 -3.11985898e+00\n",
      "   6.05427111e+00  3.68840965e+00  1.74950830e-01 -3.40381132e+00\n",
      "   2.65716083e-01  8.77659643e-01 -1.32114198e+00  4.97935217e+00\n",
      "   2.61036620e-01  5.54965223e-01]\n",
      " [-1.90261211e+00 -1.54063023e+00 -1.32943405e+00  8.02360132e-01\n",
      "   8.86613263e+00  1.06647035e+00  3.03810691e+00  3.50291842e-01\n",
      "   1.19717179e+00  2.29936657e+00  5.25040572e-01 -6.92900584e+00\n",
      "  -6.09040838e+00  1.00330118e+01 -1.67864612e+00 -2.90102202e-01\n",
      "  -2.06929227e+00 -2.04711636e+00 -3.13430477e-01  2.60165878e+00\n",
      "   5.02403213e+00  2.68221892e+00 -1.43286650e+00  5.55516922e+00\n",
      "  -1.72887625e+00  9.51415830e-01 -1.46608728e+00 -2.99378557e-01\n",
      "  -3.37301694e+00 -7.26400880e-01]\n",
      " [ 2.40010901e+00 -9.01805273e-01  3.24307547e+00  3.28849023e+00\n",
      "   2.42613295e+00  3.39215653e+00  2.57834689e+00  1.00242638e+00\n",
      "   4.47055939e+00 -2.50483940e+00 -3.33317252e+00  3.27641773e+00\n",
      "  -2.48474972e+00 -1.67864612e+00  1.51947994e+00 -4.02432160e+00\n",
      "  -2.25035350e+00  1.11871345e+00 -2.61482607e+00 -3.11215903e+00\n",
      "  -1.77482002e+00 -3.29389339e+00 -1.95470571e+00  1.07921000e+00\n",
      "   7.13214410e+00 -3.08392077e+00  4.27006311e+00  2.91581325e-01\n",
      "   1.85037582e+00  5.66132232e-02]\n",
      " [-3.47045563e+00 -1.30069856e+00  2.12322953e+00 -1.51121777e-01\n",
      "   2.76967816e+00 -2.20580250e-01 -2.95070865e-01  7.01318721e-01\n",
      "   1.33321786e+00  1.23063275e+00 -2.86364791e+00  2.18595278e+00\n",
      "   5.10230129e+00 -2.90102202e-01 -4.02432160e+00  2.10247061e+00\n",
      "   2.19750433e-04 -4.93709537e+00  1.61603794e+00  1.66970040e+00\n",
      "   1.95165157e-01 -3.74658984e+00  8.10396432e+00  4.14149507e+00\n",
      "  -9.59984034e-01  1.87567082e+00 -1.87501319e+00 -5.64794875e+00\n",
      "  -6.63626527e+00  3.39493335e+00]\n",
      " [-4.96632997e-01  2.82654822e+00 -3.49231020e+00 -4.78868326e+00\n",
      "   2.86293201e+00 -6.93549367e-01  1.30434859e+00  2.06582719e+00\n",
      "   1.12498371e+00  1.05019332e+00 -6.16669946e+00 -1.44112888e+00\n",
      "  -4.03189729e+00 -2.06929227e+00 -2.25035350e+00  2.19750433e-04\n",
      "  -3.83409743e+00 -9.08372609e-02  3.83010724e+00 -1.02978732e-01\n",
      "   4.33770797e+00  3.90800315e+00  1.78496660e+00 -7.40482779e-01\n",
      "   3.56556197e+00  3.43533222e+00  2.60286864e+00  8.33752062e+00\n",
      "   3.45866939e+00 -3.42766290e+00]\n",
      " [-3.19702634e-01  1.19061675e+00  1.23528167e-01  4.30520180e-01\n",
      "   5.42277831e+00  1.42576693e+00 -9.47419442e-01  2.29266930e+00\n",
      "  -1.13080926e+00  1.79840770e+00  6.24818272e-01  3.49214378e+00\n",
      "   8.80640188e+00 -2.04711636e+00  1.11871345e+00 -4.93709537e+00\n",
      "  -9.08372609e-02  5.46921946e+00 -1.56193060e+00  2.92416577e-01\n",
      "   2.34928459e+00  1.04573223e+00  3.88418220e+00  1.86797898e+00\n",
      "  -5.07087230e+00  2.40287879e+00  7.98149353e-01 -4.49091313e+00\n",
      "  -1.95244492e+00 -5.19161848e-01]\n",
      " [ 3.61916499e-01  2.55430238e+00  1.87602734e+00  2.40605043e+00\n",
      "   1.94693370e+00 -1.30517710e+00 -2.09343079e+00 -3.63047360e+00\n",
      "   3.45109457e+00  1.04386737e+01  1.93611368e+00  4.25588064e+00\n",
      "   5.24265186e+00 -3.13430477e-01 -2.61482607e+00  1.61603794e+00\n",
      "   3.83010724e+00 -1.56193060e+00  5.04264032e-01 -1.31423543e-01\n",
      "  -2.34487545e+00  2.20165898e+00  4.07590362e-02 -4.85286718e+00\n",
      "  -2.97344818e+00 -3.74985580e-01 -2.50636019e+00  1.53092648e+00\n",
      "  -6.17564025e+00 -1.14259897e+00]\n",
      " [ 3.00471509e-01 -2.25984950e+00  1.76204469e+00  2.46213898e+00\n",
      "   1.73521186e+00 -7.02596485e-02  3.85516704e+00  4.16384318e+00\n",
      "  -1.74130994e+00 -4.82044701e-01  7.64249045e+00  5.64543406e+00\n",
      "  -3.11985898e+00  2.60165878e+00 -3.11215903e+00  1.66970040e+00\n",
      "  -1.02978732e-01  2.92416577e-01 -1.31423543e-01  2.17161382e+00\n",
      "  -5.95884587e-01 -6.80467107e-01  1.33702509e+00 -1.82995819e+00\n",
      "   5.08579138e-01  5.14981671e+00  4.84394175e-01  3.96735262e-01\n",
      "   1.00618140e+00  1.49260707e+00]\n",
      " [ 3.78325925e+00 -2.54811207e+00  4.26160038e+00  1.77718736e+00\n",
      "   8.12718241e-01  6.67129793e+00  1.56500345e-01 -6.75898778e-01\n",
      "   3.62013307e-01 -2.59212221e+00 -5.06341911e+00  5.18677027e+00\n",
      "   6.05427111e+00  5.02403213e+00 -1.77482002e+00  1.95165157e-01\n",
      "   4.33770797e+00  2.34928459e+00 -2.34487545e+00 -5.95884587e-01\n",
      "  -5.00858344e+00 -1.93255105e+00 -2.67038750e+00  1.60563265e+00\n",
      "  -1.88268415e+00  8.43764408e-01  1.17596387e+00  1.82302316e+00\n",
      "  -3.59261388e+00 -2.99240403e+00]\n",
      " [-1.56346438e+00 -3.41714818e+00 -5.81967425e+00  1.02087254e+00\n",
      "  -1.38196730e+00  1.52067597e+00  4.49852822e+00 -3.36504503e+00\n",
      "  -2.51314988e+00 -1.53768491e+00 -2.21908277e-01 -1.32846397e+00\n",
      "   3.68840965e+00  2.68221892e+00 -3.29389339e+00 -3.74658984e+00\n",
      "   3.90800315e+00  1.04573223e+00  2.20165898e+00 -6.80467107e-01\n",
      "  -1.93255105e+00  8.10200845e+00 -4.41951916e-01 -2.86504808e+00\n",
      "   3.00837162e+00  2.26412496e+00  8.57053474e-01  5.05687315e+00\n",
      "   6.80100213e+00 -4.13203019e+00]\n",
      " [ 2.85567888e+00  1.37657434e+00 -1.31399731e+00  3.93702576e+00\n",
      "  -3.12167250e+00  1.48839257e+00  3.66794858e-01 -1.45357597e+00\n",
      "   1.91623135e+00 -2.75357336e+00  3.10356196e-01  1.55650806e+00\n",
      "   1.74950830e-01 -1.43286650e+00 -1.95470571e+00  8.10396432e+00\n",
      "   1.78496660e+00  3.88418220e+00  4.07590362e-02  1.33702509e+00\n",
      "  -2.67038750e+00 -4.41951916e-01  8.24283193e+00  2.96137506e+00\n",
      "   1.24900515e+00 -3.77760344e+00  1.94583888e+00 -1.82703958e+00\n",
      "   7.18133741e+00  1.72894120e+00]\n",
      " [ 5.52871578e+00 -6.56370479e-01  4.95681292e-01  2.98730436e+00\n",
      "  -3.08004080e-01  1.86253975e+00  1.36026007e-01 -1.57154967e+00\n",
      "   1.42254737e+00 -1.60162451e+00  1.29483834e+00 -1.35076673e+00\n",
      "  -3.40381132e+00  5.55516922e+00  1.07921000e+00  4.14149507e+00\n",
      "  -7.40482779e-01  1.86797898e+00 -4.85286718e+00 -1.82995819e+00\n",
      "   1.60563265e+00 -2.86504808e+00  2.96137506e+00 -2.70419107e-01\n",
      "  -2.55188699e+00 -1.79059719e+00 -5.13450844e+00 -5.12442427e-02\n",
      "   7.18820337e-01  5.37047865e+00]\n",
      " [ 1.30626475e+00  6.26811404e+00 -3.03581966e+00 -4.43385973e+00\n",
      "   5.18435678e+00 -2.11936702e+00 -1.08894702e+00  4.45312248e+00\n",
      "   3.12022945e+00 -1.81950448e+00 -1.98599109e+00  3.90020118e-01\n",
      "   2.65716083e-01 -1.72887625e+00  7.13214410e+00 -9.59984034e-01\n",
      "   3.56556197e+00 -5.07087230e+00 -2.97344818e+00  5.08579138e-01\n",
      "  -1.88268415e+00  3.00837162e+00  1.24900515e+00 -2.55188699e+00\n",
      "   4.87857095e+00  4.06937237e+00  2.12985514e+00 -5.67712362e+00\n",
      "   4.92233601e-01 -9.41269189e-01]\n",
      " [-3.56380877e+00  1.85028907e+00 -8.02489200e-01 -6.28305613e-01\n",
      "  -2.75483334e+00 -9.20045546e-01  1.56653964e+00  6.53905629e-01\n",
      "   1.22280849e+00 -1.45424490e+00 -1.11988681e+00 -1.00340811e-01\n",
      "   8.77659643e-01  9.51415830e-01 -3.08392077e+00  1.87567082e+00\n",
      "   3.43533222e+00  2.40287879e+00 -3.74985580e-01  5.14981671e+00\n",
      "   8.43764408e-01  2.26412496e+00 -3.77760344e+00 -1.79059719e+00\n",
      "   4.06937237e+00  8.35493636e+00  3.39128146e+00  1.19297689e+00\n",
      "  -1.40082158e+00  7.51634654e+00]\n",
      " [-4.52240070e-01 -1.19387170e+00  4.71864139e-01  6.45869076e+00\n",
      "  -8.52020761e-01 -3.88714073e+00  3.73348827e+00  2.50291598e+00\n",
      "  -1.72013091e+00 -2.74048038e+00  9.78913406e-02 -2.16800379e+00\n",
      "  -1.32114198e+00 -1.46608728e+00  4.27006311e+00 -1.87501319e+00\n",
      "   2.60286864e+00  7.98149353e-01 -2.50636019e+00  4.84394175e-01\n",
      "   1.17596387e+00  8.57053474e-01  1.94583888e+00 -5.13450844e+00\n",
      "   2.12985514e+00  3.39128146e+00  5.27378521e+00 -1.20761223e+00\n",
      "  -1.02955153e+00  3.40725939e+00]\n",
      " [ 2.04884920e+00 -4.80527686e-01  6.93233769e-01 -2.45213901e+00\n",
      "   3.13675850e+00 -2.29261903e+00 -9.62952506e-01 -3.41471057e-01\n",
      "   2.81965487e+00 -2.20028556e+00  1.08397743e+00 -1.65638140e-01\n",
      "   4.97935217e+00 -2.99378557e-01  2.91581325e-01 -5.64794875e+00\n",
      "   8.33752062e+00 -4.49091313e+00  1.53092648e+00  3.96735262e-01\n",
      "   1.82302316e+00  5.05687315e+00 -1.82703958e+00 -5.12442427e-02\n",
      "  -5.67712362e+00  1.19297689e+00 -1.20761223e+00 -2.93527337e+00\n",
      "   8.89300669e+00  3.90732519e+00]\n",
      " [ 1.32080632e-01  1.72343230e-01  7.01679529e+00 -2.75893439e+00\n",
      "  -6.24149294e-01 -1.25820157e+00  2.17526071e+00 -3.11448573e-01\n",
      "  -1.96930160e+00  1.19733813e+00  4.40798609e+00 -9.67526307e-01\n",
      "   2.61036620e-01 -3.37301694e+00  1.85037582e+00 -6.63626527e+00\n",
      "   3.45866939e+00 -1.95244492e+00 -6.17564025e+00  1.00618140e+00\n",
      "  -3.59261388e+00  6.80100213e+00  7.18133741e+00  7.18820337e-01\n",
      "   4.92233601e-01 -1.40082158e+00 -1.02955153e+00  8.89300669e+00\n",
      "  -6.24262464e+00 -2.60107698e-02]\n",
      " [-4.50192703e+00 -1.16036189e+00 -2.24411450e+00 -6.58122026e+00\n",
      "  -1.83612623e-01 -2.33470075e+00  1.32147232e+00 -1.81697965e-01\n",
      "   2.46793413e+00  8.01118977e+00  4.24174026e-01 -3.39662749e+00\n",
      "   5.54965223e-01 -7.26400880e-01  5.66132232e-02  3.39493335e+00\n",
      "  -3.42766290e+00 -5.19161848e-01 -1.14259897e+00  1.49260707e+00\n",
      "  -2.99240403e+00 -4.13203019e+00  1.72894120e+00  5.37047865e+00\n",
      "  -9.41269189e-01  7.51634654e+00  3.40725939e+00  3.90732519e+00\n",
      "  -2.60107698e-02  6.01528278e+00]]\n"
     ]
    },
    {
     "ename": "AssertionError",
     "evalue": "",
     "output_type": "error",
     "traceback": [
      "\u001b[1;31m---------------------------------------------------------------------------\u001b[0m",
      "\u001b[1;31mAssertionError\u001b[0m                            Traceback (most recent call last)",
      "Cell \u001b[1;32mIn[55], line 4\u001b[0m\n\u001b[0;32m      2\u001b[0m A,ls,vs \u001b[39m=\u001b[39m rand_diag(\u001b[39m30\u001b[39m)\n\u001b[0;32m      3\u001b[0m \u001b[39mfor\u001b[39;00m l,v \u001b[39min\u001b[39;00m \u001b[39mzip\u001b[39m(ls,vs):\n\u001b[1;32m----> 4\u001b[0m     \u001b[39massert\u001b[39;00m np\u001b[39m.\u001b[39mallclose(A\u001b[39m@v\u001b[39m, l\u001b[39m*\u001b[39mv)\n",
      "\u001b[1;31mAssertionError\u001b[0m: "
     ]
    }
   ],
   "source": [
    "for _ in range(20):\n",
    "    A,ls,vs = rand_diag(30)\n",
    "    for l,v in zip(ls,vs):\n",
    "        assert np.allclose(A@v, l*v)"
   ]
  },
  {
   "cell_type": "code",
   "execution_count": null,
   "metadata": {
    "deletable": false,
    "editable": false,
    "nbgrader": {
     "cell_type": "code",
     "checksum": "ccb7021274c1731e75f6b20fb005da25",
     "grade": true,
     "grade_id": "rand_diag_negvals",
     "locked": true,
     "points": 1,
     "schema_version": 3,
     "solution": false,
     "task": false
    }
   },
   "outputs": [],
   "source": [
    "np.random.seed(2)\n",
    "for _ in range(20):\n",
    "    A,ls,vs = rand_diag(35)\n",
    "    # Há (bastantes) autovalores positivos e negativos\n",
    "    assert sum(ls < 0) > 5\n",
    "    assert sum(ls > 0) > 5"
   ]
  },
  {
   "cell_type": "markdown",
   "metadata": {},
   "source": [
    "### Questão 3. Autovetores ordenados\n",
    "\n",
    "Modifique rand_diag para que os autovalores venham em ordem decrescente do módulo.\n",
    "A função `argsort` pode ser útil: não queremos mudar o sinal dos autovalores, mas precisamos ordenar `abs(a_val)`."
   ]
  },
  {
   "cell_type": "code",
   "execution_count": null,
   "metadata": {
    "deletable": false,
    "nbgrader": {
     "cell_type": "code",
     "checksum": "2f0433db1c57d82319bd6430897a1979",
     "grade": false,
     "grade_id": "rand_diag_order",
     "locked": false,
     "schema_version": 3,
     "solution": true
    }
   },
   "outputs": [],
   "source": [
    "def rand_diag(n):\n",
    "    # YOUR CODE HERE\n",
    "    raise NotImplementedError()"
   ]
  },
  {
   "cell_type": "code",
   "execution_count": null,
   "metadata": {
    "deletable": false,
    "editable": false,
    "nbgrader": {
     "cell_type": "code",
     "checksum": "1977f042397e7daf190ac67ec9d06fed",
     "grade": true,
     "grade_id": "order_av_tests",
     "locked": true,
     "points": 2,
     "schema_version": 3,
     "solution": false
    }
   },
   "outputs": [],
   "source": [
    "np.random.seed(2)\n",
    "for _ in range(20):\n",
    "    A,ls,vs = rand_diag(30)\n",
    "    for l1,l2 in zip(ls[:-1], ls[1:]):\n",
    "        assert abs(l1) > abs(l2)\n",
    "    for l,v in zip(ls,vs):\n",
    "        assert np.allclose(A@v, l*v)\n",
    "    # Há (bastantes) autovalores positivos e negativos\n",
    "    assert sum(ls < 0) > 5\n",
    "    assert sum(ls > 0) > 5"
   ]
  },
  {
   "cell_type": "markdown",
   "metadata": {},
   "source": [
    "## CVGA Projetivo\n",
    "\n",
    "Vamos usar o ângulo entre vetores para obter uma velocidade de convergência.\n",
    "Lembre que $\\cos \\theta = \\frac{u\\cdot v}{|u| \\cdot |v|}$.\n",
    "\n",
    "Se temos uma base ortogonal $e_i$, e uma base $u_i = \\pm e_i$,\n",
    "elas estão \"alinhadas\", por mais que os vetores possam estar com o sentido trocado.\n",
    "Por isso, não vamos usar o ângulo (\"orientado\") dado pela fórmula acima,\n",
    "mas o **menor** ângulo $\\hat\\theta$ entre as retas determinadas por $u$ e $v$.\n",
    "Este é bastante parecido:\n",
    "$$ \\cos \\hat\\theta = \\frac{|u\\cdot v|}{|u| \\cdot |v|}. $$\n",
    "\n",
    "Este ângulo é importante em geometria projetiva, porque apenas a direção das retas importa, não a sua orientação."
   ]
  },
  {
   "cell_type": "markdown",
   "metadata": {},
   "source": [
    "### Questão 4. Função ângulo\n",
    "\n",
    "Usando a fórmula anterior, escreva uma função que calcula o ângulo entre as retas de direção $u$ e $v$."
   ]
  },
  {
   "cell_type": "code",
   "execution_count": null,
   "metadata": {
    "deletable": false,
    "nbgrader": {
     "cell_type": "code",
     "checksum": "8600995da2e2b608c8761ce078e2353b",
     "grade": false,
     "grade_id": "proj_angle",
     "locked": false,
     "schema_version": 3,
     "solution": true
    }
   },
   "outputs": [],
   "source": [
    "def proj_angle(u,v):\n",
    "    # YOUR CODE HERE\n",
    "    raise NotImplementedError()"
   ]
  },
  {
   "cell_type": "code",
   "execution_count": null,
   "metadata": {
    "deletable": false,
    "editable": false,
    "nbgrader": {
     "cell_type": "code",
     "checksum": "861be88d7cb19eb4e621ad385f4e1425",
     "grade": true,
     "grade_id": "proj_angle_tests",
     "locked": true,
     "points": 2,
     "schema_version": 3,
     "solution": false
    }
   },
   "outputs": [],
   "source": [
    "assert(proj_angle([1,0], [0,1]) == np.pi/2)\n",
    "assert(proj_angle([1,0], [1,0]) == 0)"
   ]
  },
  {
   "cell_type": "markdown",
   "metadata": {},
   "source": [
    "## Algoritmo QR: iteração de bases\n",
    "\n",
    "O algoritmo QR iterado, dada uma matriz $A$,\n",
    "repetidamente usa a fatoração QR para diagonalizá-la.\n",
    "Começando com uma matriz $Q_0$ qualquer (em geral, a identidade), em cada etapa, o algoritmo\n",
    "\n",
    "1. Fatora a matriz $A Q_{n-1}$ como $Q_n R_n$\n",
    "2. Se $R_n$ for \"quase diagonal\" (use a função `np.allclose`), retorna\n",
    "3. Senão, itera\n",
    "\n",
    "Estas operações correspondem a aplicar a ideia da iteração direta não apenas em um vetor, mas em uma _base_."
   ]
  },
  {
   "cell_type": "markdown",
   "metadata": {},
   "source": [
    "### Questão 5. QR com bases\n",
    "\n",
    "Escreva a função `itera_qr` que retorna as matrizes $Q_n$ e $R_n$ em listas.\n",
    "A matriz $Q_n$ pode ser vista como tendo em suas colunas uma \"base\" de vetores\n",
    "que está \"convergindo\" para a base de autovetores de $A$."
   ]
  },
  {
   "cell_type": "code",
   "execution_count": null,
   "metadata": {
    "deletable": false,
    "nbgrader": {
     "cell_type": "code",
     "checksum": "e27133f99cd401bcaf6644cd63afdc3e",
     "grade": false,
     "grade_id": "itera_qr",
     "locked": false,
     "schema_version": 3,
     "solution": true
    }
   },
   "outputs": [],
   "source": [
    "def itera_qr(A, maxiter=1000):\n",
    "    Q0 = np.identity(A.shape[0])\n",
    "    Qs = []\n",
    "    Rs = []\n",
    "    # YOUR CODE HERE\n",
    "    raise NotImplementedError()"
   ]
  },
  {
   "cell_type": "markdown",
   "metadata": {},
   "source": [
    "#### 5.1 Qn ortogonais\n",
    "\n",
    "Este é fácil."
   ]
  },
  {
   "cell_type": "code",
   "execution_count": null,
   "metadata": {
    "deletable": false,
    "editable": false,
    "nbgrader": {
     "cell_type": "code",
     "checksum": "d3abd1dfac6acf77a679419428a74c37",
     "grade": true,
     "grade_id": "itera_qr_orth",
     "locked": true,
     "points": 2,
     "schema_version": 3,
     "solution": false
    }
   },
   "outputs": [],
   "source": [
    "np.random.seed(3)\n",
    "for n in np.random.randint(4,8, size=10):\n",
    "    A, _, _ = rand_diag(n)\n",
    "    i = np.identity(n)\n",
    "    Qs,_ = itera_qr(A)\n",
    "    for Qn in Qs:\n",
    "        assert np.allclose(i, Qn @ Qn.T)"
   ]
  },
  {
   "cell_type": "markdown",
   "metadata": {},
   "source": [
    "#### 5.2 $R_n$ quase diagonal.\n",
    "\n",
    "No fim do algoritmo, teremos em $R_n$ a candidata para a matriz dos autovalores de $A$.\n",
    "\n",
    "(Observação: dependendo da versão do numpy que você usar, pode ser que a diagonal de $R$ tenha apenas valores positivos.  Neste caso, insira um comentário abaixo, e troque o segundo `assert` para `abs(a_vals)`, para verificar no seu computador se o seu algoritmo está funcionando.)"
   ]
  },
  {
   "cell_type": "code",
   "execution_count": null,
   "metadata": {
    "deletable": false,
    "editable": false,
    "nbgrader": {
     "cell_type": "code",
     "checksum": "62b16e5f691e321c55593ec45248e0f6",
     "grade": true,
     "grade_id": "itera_qr_diag",
     "locked": true,
     "points": 2,
     "schema_version": 3,
     "solution": false
    }
   },
   "outputs": [],
   "source": [
    "np.random.seed(32)\n",
    "for n in np.random.randint(4,8, size=10):\n",
    "    A, a_vals, _ = rand_diag(n)\n",
    "    _,Rs = itera_qr(A, maxiter=5000)\n",
    "    d_Rs = Rs[-1].diagonal()\n",
    "    assert np.allclose(Rs[-1], np.diag(d_Rs))\n",
    "    assert np.allclose(d_Rs, a_vals)"
   ]
  },
  {
   "cell_type": "markdown",
   "metadata": {},
   "source": [
    "### 6. Distância entre bases\n",
    "\n",
    "Escreva uma função que, dadas duas matrizes $B_1$ e $B_2$ (representando bases do $R^n$),\n",
    "calcula as distâncias entre os vetores **linhas** correspondentes, e as retona num array ou lista.\n",
    "(usaremos vetores linhas, e não colunas, porque são estes que vêm na lista `a_vec`;\n",
    "atenção, a matriz $Q$ tem a base nas colunas...)"
   ]
  },
  {
   "cell_type": "code",
   "execution_count": null,
   "metadata": {
    "deletable": false,
    "nbgrader": {
     "cell_type": "code",
     "checksum": "69e59b4daa9677f054a27b3248799583",
     "grade": false,
     "grade_id": "base_dist",
     "locked": false,
     "schema_version": 3,
     "solution": true
    }
   },
   "outputs": [],
   "source": [
    "def base_distances(B1,B2):\n",
    "    # YOUR CODE HERE\n",
    "    raise NotImplementedError()"
   ]
  },
  {
   "cell_type": "code",
   "execution_count": null,
   "metadata": {
    "deletable": false,
    "editable": false,
    "nbgrader": {
     "cell_type": "code",
     "checksum": "d24d91f27e5ded5785d5099b44a63fe3",
     "grade": true,
     "grade_id": "base_dist_1",
     "locked": true,
     "points": 2,
     "schema_version": 3,
     "solution": false
    }
   },
   "outputs": [],
   "source": [
    "I3 = np.identity(3)\n",
    "assert all(base_distances(I3, I3) == np.array([0,0,0]))\n",
    "assert all(base_distances(I3, -I3) == np.array([2,2,2]))"
   ]
  },
  {
   "cell_type": "code",
   "execution_count": null,
   "metadata": {
    "deletable": false,
    "editable": false,
    "nbgrader": {
     "cell_type": "code",
     "checksum": "4ca79121c2c072c582e2dcb729975d04",
     "grade": true,
     "grade_id": "base_dist_2",
     "locked": true,
     "points": 2,
     "schema_version": 3,
     "solution": false
    }
   },
   "outputs": [],
   "source": [
    "I3 = np.identity(3)\n",
    "assert all(base_distances(I3, [[0,1,0], [0,0,1],[1,0,0]]) == np.sqrt(np.array([2,2,2])))\n",
    "assert all(base_distances(I3, [[1,0,0], [0,1,0], [1,0,1]]) == np.array([0,0,1]))"
   ]
  },
  {
   "cell_type": "markdown",
   "metadata": {},
   "source": [
    "### 7. Autovetores\n",
    "\n",
    "Com ajuda função anterior, faça um gráfico da evolução da distância (euclidiana)\n",
    "entre os autovetores de uma matriz $3\\times 3$ (aleatória, diagonalizável)\n",
    "e os vetores correspondentes vindos da iteração QR."
   ]
  },
  {
   "cell_type": "code",
   "execution_count": null,
   "metadata": {
    "deletable": false,
    "nbgrader": {
     "cell_type": "code",
     "checksum": "c1c58fd142932bce3255fda2fb9abc2e",
     "grade": true,
     "grade_id": "graf_dist",
     "locked": false,
     "points": 3,
     "schema_version": 3,
     "solution": true
    }
   },
   "outputs": [],
   "source": [
    "np.random.seed(5)\n",
    "A, _, a_vec = rand_diag(3)\n",
    "Qs,_ = itera_qr(A)\n",
    "# YOUR CODE HERE\n",
    "raise NotImplementedError()"
   ]
  },
  {
   "cell_type": "markdown",
   "metadata": {},
   "source": [
    "### 8. Ângulos\n",
    "\n",
    "Agora, em vez de calcular a distância entre os vetores,\n",
    "faça o gráfico do ângulo entre as retas respectivas,\n",
    "como já fizemos no início.\n",
    "\n",
    "Aproveite a ideia da função que calcula a distância entre bases para fazer uma `base_angles` análoga."
   ]
  },
  {
   "cell_type": "code",
   "execution_count": null,
   "metadata": {
    "deletable": false,
    "nbgrader": {
     "cell_type": "code",
     "checksum": "81c8780627aafbbdc1d314953f8a6257",
     "grade": false,
     "grade_id": "base_angles",
     "locked": false,
     "schema_version": 3,
     "solution": true
    }
   },
   "outputs": [],
   "source": [
    "def base_angles(B1,B2):\n",
    "    # YOUR CODE HERE\n",
    "    raise NotImplementedError()"
   ]
  },
  {
   "cell_type": "code",
   "execution_count": null,
   "metadata": {
    "deletable": false,
    "nbgrader": {
     "cell_type": "code",
     "checksum": "c9444e8563650148162a46c9f92b8973",
     "grade": true,
     "grade_id": "graf_angulo",
     "locked": false,
     "points": 2,
     "schema_version": 3,
     "solution": true
    }
   },
   "outputs": [],
   "source": [
    "np.random.seed(6)\n",
    "A, _, a_vec = rand_diag(4)\n",
    "Qs,Rs = itera_qr(A)\n",
    "# YOUR CODE HERE\n",
    "raise NotImplementedError()\n",
    "plt.legend(['$v_{}$'.format(i) for i in range(4)], loc=0);"
   ]
  },
  {
   "cell_type": "markdown",
   "metadata": {},
   "source": [
    "### 9. Velocidade de convergência\n",
    "\n",
    "Use os ângulos calculados para estimar a taxa de convergência de cada vetor para o autovetor correspondente.\n",
    "Como isso se relaciona com os autovalores calculados?"
   ]
  },
  {
   "cell_type": "code",
   "execution_count": null,
   "metadata": {
    "deletable": false,
    "nbgrader": {
     "cell_type": "code",
     "checksum": "9a2235c3b0545f66d371f663257d1b00",
     "grade": true,
     "grade_id": "cvg_speed",
     "locked": false,
     "points": 2,
     "schema_version": 3,
     "solution": true
    }
   },
   "outputs": [],
   "source": [
    "### Contas aqui\n",
    "# YOUR CODE HERE\n",
    "raise NotImplementedError()"
   ]
  },
  {
   "cell_type": "markdown",
   "metadata": {
    "deletable": false,
    "nbgrader": {
     "cell_type": "markdown",
     "checksum": "f7a29b1fd73fe4b414a2d32272d3ad53",
     "grade": true,
     "grade_id": "cvg_comment",
     "locked": false,
     "points": 2,
     "schema_version": 3,
     "solution": true
    }
   },
   "source": [
    "YOUR ANSWER HERE"
   ]
  },
  {
   "cell_type": "markdown",
   "metadata": {},
   "source": [
    "### 10. Precisão para o ângulo projetivo\n",
    "\n",
    "Se você fez corretamente o gráfico anterior,\n",
    "algumas linhas pararam de aparecer por volta de $10^{-8} = \\sqrt{\\epsilon}$.\n",
    "Isso se deve à imprecisão do computador ao calcular $\\arccos(1 - x)$ com $x$ muito pequeno.\n",
    "Para contornar isso, vamos usar uma fórmula estável para o ângulo.\n",
    "\n",
    "Se temos dois vetores $u$ e $v$, podemos projetar (como fizemos) $v$ em $u$ e obter o cosseno do ângulo entre eles.\n",
    "Para contornar o problema de precisão quando $u$ e $v$ estão quase alinhados,\n",
    "vamos dar mais informação ao nosso programa: vamos calcular o **seno** do ângulo também.\n",
    "Para isso, \"Gram-Schmidt\": basta retirar de $v$ a componente na direção de $u$.\n",
    "O que restar será ortogonal a $u$, e será proporcional ao seno do ângulo entre $v$ e $u$.\n",
    "Faça um desenho para ver!\n",
    "\n",
    "Com todos os detalhes: dados $u$ e $v$,\n",
    "determine a projeção de $v$ em $u$ (com um produto interno) e o vetor restante por subtração.\n",
    "Agora, use a função `arctan2` que recebe dois comprimentos $y$ e $x$ (nesta ordem \"errada\")\n",
    "e dá o ângulo do ponto $(x,y)$ com relação ao eixo X.\n",
    "Como esta função usa ambas as coordenadas, ela não sofre os mesmos problemas de precisão que `arccos`."
   ]
  },
  {
   "cell_type": "code",
   "execution_count": null,
   "metadata": {
    "deletable": false,
    "nbgrader": {
     "cell_type": "code",
     "checksum": "8ac06df30006525917ff14d93a82e0a9",
     "grade": false,
     "grade_id": "proj_angle_prec",
     "locked": false,
     "schema_version": 3,
     "solution": true
    }
   },
   "outputs": [],
   "source": [
    "def proj_angle_prec(u,v):\n",
    "    # YOUR CODE HERE\n",
    "    raise NotImplementedError()"
   ]
  },
  {
   "cell_type": "markdown",
   "metadata": {},
   "source": [
    "Testando ângulos \"normais\""
   ]
  },
  {
   "cell_type": "code",
   "execution_count": null,
   "metadata": {
    "deletable": false,
    "editable": false,
    "nbgrader": {
     "cell_type": "code",
     "checksum": "79f144ff2e578665405c43f60c367955",
     "grade": true,
     "grade_id": "normal_angle",
     "locked": true,
     "points": 2,
     "schema_version": 3,
     "solution": false
    }
   },
   "outputs": [],
   "source": [
    "np.random.seed(98765)\n",
    "for n in np.random.randint(4,10,size=10):\n",
    "    u = np.random.rand(n)\n",
    "    v = np.random.rand(n)\n",
    "    assert proj_angle(u,v) - proj_angle_prec(u,v) < 1e-15"
   ]
  },
  {
   "cell_type": "markdown",
   "metadata": {},
   "source": [
    "Testando ângulos \"pequenos\""
   ]
  },
  {
   "cell_type": "code",
   "execution_count": null,
   "metadata": {
    "deletable": false,
    "editable": false,
    "nbgrader": {
     "cell_type": "code",
     "checksum": "f16f33483f32e8656524ae549016e711",
     "grade": true,
     "grade_id": "small_angle",
     "locked": true,
     "points": 2,
     "schema_version": 3,
     "solution": false
    }
   },
   "outputs": [],
   "source": [
    "assert proj_angle_prec([1,0,0,0], [1,0,1e-15,1e-15]) == np.sqrt(2)*1e-15 - 2e-31"
   ]
  },
  {
   "cell_type": "markdown",
   "metadata": {},
   "source": [
    "### 11. Convergência das bases\n",
    "\n",
    "Faça agora o gráfico do ângulo entre as bases da iteração QR,\n",
    "e veja-os diminuirem até $10^{-16}$ como esperado."
   ]
  },
  {
   "cell_type": "code",
   "execution_count": null,
   "metadata": {
    "deletable": false,
    "nbgrader": {
     "cell_type": "code",
     "checksum": "782d4b6b687605dbc906e7a46fa5e7d1",
     "grade": true,
     "grade_id": "convergencia",
     "locked": false,
     "points": 2,
     "schema_version": 3,
     "solution": true
    }
   },
   "outputs": [],
   "source": [
    "np.random.seed(999)\n",
    "A, _, a_vec = rand_diag(5)\n",
    "Qs,_ = itera_qr(A)\n",
    "# YOUR CODE HERE\n",
    "raise NotImplementedError()"
   ]
  }
 ],
 "metadata": {
  "kernelspec": {
   "display_name": "Python 3",
   "language": "python",
   "name": "python3"
  },
  "language_info": {
   "codemirror_mode": {
    "name": "ipython",
    "version": 3
   },
   "file_extension": ".py",
   "mimetype": "text/x-python",
   "name": "python",
   "nbconvert_exporter": "python",
   "pygments_lexer": "ipython3",
   "version": "3.11.1"
  },
  "vscode": {
   "interpreter": {
    "hash": "9d6b32d6802feadfc7b2884ae209e4f61f5356a9fc8071acad924e2215544356"
   }
  }
 },
 "nbformat": 4,
 "nbformat_minor": 1
}
